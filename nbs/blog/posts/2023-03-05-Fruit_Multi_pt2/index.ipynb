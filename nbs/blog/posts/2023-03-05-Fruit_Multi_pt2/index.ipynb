{
 "cells": [
  {
   "cell_type": "raw",
   "id": "5812c7d8",
   "metadata": {},
   "source": [
    "---\n",
    "title: \"Fruit Multi-Classifier pt.2 Deployment\"\n",
    "author: \"galopy\"\n",
    "date: \"March 5, 2023\"\n",
    "toc: true\n",
    "skip_showdoc: true\n",
    "skip_exec: true\n",
    "comments:\n",
    "  utterances:\n",
    "    repo: galopyz/delicious-nbdev\n",
    "---"
   ]
  },
  {
   "cell_type": "markdown",
   "id": "7f6ac2f1",
   "metadata": {},
   "source": [
    "# Fruit Multi-Classifier pt. 2 Deployment"
   ]
  },
  {
   "cell_type": "markdown",
   "id": "93f0fd52",
   "metadata": {},
   "source": [
    "In this blog, we will deploy our model into Hugging Face Space using gradio. I have written a detailed [blog](https://galopyz.github.io/delicious-nbdev/blog/posts/2022-11-11-alien-vs.-ghost-pt2/) here on how to deploy. This blog omits some steps."
   ]
  },
  {
   "cell_type": "markdown",
   "id": "d83be7db",
   "metadata": {},
   "source": [
    "![Image of an apple, a pear, and an orange](apple_and_pear_and_orange.jpg \"Apple, Pear, and Orange\")"
   ]
  },
  {
   "cell_type": "markdown",
   "id": "ee6a6b50",
   "metadata": {},
   "source": [
    "So, we first need to install gradio. "
   ]
  },
  {
   "cell_type": "code",
   "execution_count": 1,
   "id": "5b3fef72",
   "metadata": {},
   "outputs": [
    {
     "name": "stdout",
     "output_type": "stream",
     "text": [
      "Requirement already satisfied: gradio in /usr/local/lib/python3.9/dist-packages (3.20.0)\n",
      "Requirement already satisfied: orjson in /usr/local/lib/python3.9/dist-packages (from gradio) (3.8.7)\n",
      "Requirement already satisfied: altair>=4.2.0 in /usr/local/lib/python3.9/dist-packages (from gradio) (4.2.2)\n",
      "Requirement already satisfied: pyyaml in /usr/lib/python3/dist-packages (from gradio) (5.3.1)\n",
      "Requirement already satisfied: pycryptodome in /usr/local/lib/python3.9/dist-packages (from gradio) (3.17)\n",
      "Requirement already satisfied: numpy in /usr/local/lib/python3.9/dist-packages (from gradio) (1.23.1)\n",
      "Requirement already satisfied: pydantic in /usr/local/lib/python3.9/dist-packages (from gradio) (1.9.1)\n",
      "Requirement already satisfied: ffmpy in /usr/local/lib/python3.9/dist-packages (from gradio) (0.3.0)\n",
      "Requirement already satisfied: aiohttp in /usr/local/lib/python3.9/dist-packages (from gradio) (3.8.1)\n",
      "Requirement already satisfied: pillow in /usr/local/lib/python3.9/dist-packages (from gradio) (9.2.0)\n",
      "Requirement already satisfied: markdown-it-py[linkify]>=2.0.0 in /usr/local/lib/python3.9/dist-packages (from gradio) (2.2.0)\n",
      "Requirement already satisfied: fastapi in /usr/local/lib/python3.9/dist-packages (from gradio) (0.92.0)\n",
      "Requirement already satisfied: typing-extensions in /usr/local/lib/python3.9/dist-packages (from gradio) (4.3.0)\n",
      "Requirement already satisfied: uvicorn in /usr/local/lib/python3.9/dist-packages (from gradio) (0.20.0)\n",
      "Requirement already satisfied: python-multipart in /usr/local/lib/python3.9/dist-packages (from gradio) (0.0.6)\n",
      "Requirement already satisfied: requests in /usr/local/lib/python3.9/dist-packages (from gradio) (2.28.1)\n",
      "Requirement already satisfied: fsspec in /usr/local/lib/python3.9/dist-packages (from gradio) (2022.5.0)\n",
      "Requirement already satisfied: matplotlib in /usr/local/lib/python3.9/dist-packages (from gradio) (3.5.2)\n",
      "Requirement already satisfied: pandas in /usr/local/lib/python3.9/dist-packages (from gradio) (1.4.3)\n",
      "Requirement already satisfied: jinja2 in /usr/local/lib/python3.9/dist-packages (from gradio) (3.1.2)\n",
      "Requirement already satisfied: mdit-py-plugins<=0.3.3 in /usr/local/lib/python3.9/dist-packages (from gradio) (0.3.3)\n",
      "Requirement already satisfied: httpx in /usr/local/lib/python3.9/dist-packages (from gradio) (0.23.3)\n",
      "Requirement already satisfied: markupsafe in /usr/local/lib/python3.9/dist-packages (from gradio) (2.1.1)\n",
      "Requirement already satisfied: websockets>=10.0 in /usr/local/lib/python3.9/dist-packages (from gradio) (10.4)\n",
      "Requirement already satisfied: aiofiles in /usr/local/lib/python3.9/dist-packages (from gradio) (23.1.0)\n",
      "Requirement already satisfied: pydub in /usr/local/lib/python3.9/dist-packages (from gradio) (0.25.1)\n",
      "Requirement already satisfied: toolz in /usr/local/lib/python3.9/dist-packages (from altair>=4.2.0->gradio) (0.12.0)\n",
      "Requirement already satisfied: entrypoints in /usr/local/lib/python3.9/dist-packages (from altair>=4.2.0->gradio) (0.4)\n",
      "Requirement already satisfied: jsonschema>=3.0 in /usr/local/lib/python3.9/dist-packages (from altair>=4.2.0->gradio) (4.7.2)\n",
      "Requirement already satisfied: mdurl~=0.1 in /usr/local/lib/python3.9/dist-packages (from markdown-it-py[linkify]>=2.0.0->gradio) (0.1.2)\n",
      "Requirement already satisfied: linkify-it-py<3,>=1 in /usr/local/lib/python3.9/dist-packages (from markdown-it-py[linkify]>=2.0.0->gradio) (2.0.0)\n",
      "Requirement already satisfied: python-dateutil>=2.8.1 in /usr/local/lib/python3.9/dist-packages (from pandas->gradio) (2.8.2)\n",
      "Requirement already satisfied: pytz>=2020.1 in /usr/local/lib/python3.9/dist-packages (from pandas->gradio) (2022.1)\n",
      "Requirement already satisfied: attrs>=17.3.0 in /usr/local/lib/python3.9/dist-packages (from aiohttp->gradio) (18.2.0)\n",
      "Requirement already satisfied: charset-normalizer<3.0,>=2.0 in /usr/local/lib/python3.9/dist-packages (from aiohttp->gradio) (2.1.0)\n",
      "Requirement already satisfied: multidict<7.0,>=4.5 in /usr/local/lib/python3.9/dist-packages (from aiohttp->gradio) (6.0.2)\n",
      "Requirement already satisfied: async-timeout<5.0,>=4.0.0a3 in /usr/local/lib/python3.9/dist-packages (from aiohttp->gradio) (4.0.2)\n",
      "Requirement already satisfied: frozenlist>=1.1.1 in /usr/local/lib/python3.9/dist-packages (from aiohttp->gradio) (1.3.0)\n",
      "Requirement already satisfied: aiosignal>=1.1.2 in /usr/local/lib/python3.9/dist-packages (from aiohttp->gradio) (1.2.0)\n",
      "Requirement already satisfied: yarl<2.0,>=1.0 in /usr/local/lib/python3.9/dist-packages (from aiohttp->gradio) (1.7.2)\n",
      "Requirement already satisfied: starlette<0.26.0,>=0.25.0 in /usr/local/lib/python3.9/dist-packages (from fastapi->gradio) (0.25.0)\n",
      "Requirement already satisfied: httpcore<0.17.0,>=0.15.0 in /usr/local/lib/python3.9/dist-packages (from httpx->gradio) (0.16.3)\n",
      "Requirement already satisfied: rfc3986[idna2008]<2,>=1.3 in /usr/local/lib/python3.9/dist-packages (from httpx->gradio) (1.5.0)\n",
      "Requirement already satisfied: certifi in /usr/lib/python3/dist-packages (from httpx->gradio) (2019.11.28)\n",
      "Requirement already satisfied: sniffio in /usr/local/lib/python3.9/dist-packages (from httpx->gradio) (1.2.0)\n",
      "Requirement already satisfied: pyparsing>=2.2.1 in /usr/local/lib/python3.9/dist-packages (from matplotlib->gradio) (3.0.9)\n",
      "Requirement already satisfied: kiwisolver>=1.0.1 in /usr/local/lib/python3.9/dist-packages (from matplotlib->gradio) (1.4.3)\n",
      "Requirement already satisfied: packaging>=20.0 in /usr/local/lib/python3.9/dist-packages (from matplotlib->gradio) (21.3)\n",
      "Requirement already satisfied: fonttools>=4.22.0 in /usr/local/lib/python3.9/dist-packages (from matplotlib->gradio) (4.34.4)\n",
      "Requirement already satisfied: cycler>=0.10 in /usr/local/lib/python3.9/dist-packages (from matplotlib->gradio) (0.11.0)\n",
      "Requirement already satisfied: idna<4,>=2.5 in /usr/lib/python3/dist-packages (from requests->gradio) (2.8)\n",
      "Requirement already satisfied: urllib3<1.27,>=1.21.1 in /usr/local/lib/python3.9/dist-packages (from requests->gradio) (1.26.10)\n",
      "Requirement already satisfied: click>=7.0 in /usr/local/lib/python3.9/dist-packages (from uvicorn->gradio) (8.1.3)\n",
      "Requirement already satisfied: h11>=0.8 in /usr/local/lib/python3.9/dist-packages (from uvicorn->gradio) (0.14.0)\n",
      "Requirement already satisfied: anyio<5.0,>=3.0 in /usr/local/lib/python3.9/dist-packages (from httpcore<0.17.0,>=0.15.0->httpx->gradio) (3.6.1)\n",
      "Requirement already satisfied: pyrsistent!=0.17.0,!=0.17.1,!=0.17.2,>=0.14.0 in /usr/local/lib/python3.9/dist-packages (from jsonschema>=3.0->altair>=4.2.0->gradio) (0.18.1)\n",
      "Requirement already satisfied: uc-micro-py in /usr/local/lib/python3.9/dist-packages (from linkify-it-py<3,>=1->markdown-it-py[linkify]>=2.0.0->gradio) (1.0.1)\n",
      "Requirement already satisfied: six>=1.5 in /usr/lib/python3/dist-packages (from python-dateutil>=2.8.1->pandas->gradio) (1.14.0)\n",
      "\u001b[33mWARNING: Running pip as the 'root' user can result in broken permissions and conflicting behaviour with the system package manager. It is recommended to use a virtual environment instead: https://pip.pypa.io/warnings/venv\u001b[0m\u001b[33m\n",
      "\u001b[0m"
     ]
    }
   ],
   "source": [
    "!pip install gradio"
   ]
  },
  {
   "cell_type": "markdown",
   "id": "13e0c0ae",
   "metadata": {},
   "source": [
    "We import fastai and gradio. We also need `get_y` function that we used for datablock to train our model."
   ]
  },
  {
   "cell_type": "code",
   "execution_count": 2,
   "id": "621dfeab",
   "metadata": {},
   "outputs": [],
   "source": [
    "#| export\n",
    "from fastai.vision.all import *\n",
    "import gradio as gr\n",
    "\n",
    "def get_y(path):\n",
    "    return parent_label(path).split(' and ')"
   ]
  },
  {
   "cell_type": "markdown",
   "id": "5d8e8baa",
   "metadata": {},
   "source": [
    "And we load our learner and check if everything works the same way as it did."
   ]
  },
  {
   "cell_type": "code",
   "execution_count": 3,
   "id": "280c6103",
   "metadata": {},
   "outputs": [],
   "source": [
    "#| export\n",
    "learn = load_learner('export.pkl')"
   ]
  },
  {
   "cell_type": "code",
   "execution_count": 4,
   "id": "3411ec8d",
   "metadata": {},
   "outputs": [
    {
     "data": {
      "text/plain": [
       "['apple', 'orange', 'pear', 'random images']"
      ]
     },
     "execution_count": 4,
     "metadata": {},
     "output_type": "execute_result"
    }
   ],
   "source": [
    "learn.dls.vocab"
   ]
  },
  {
   "cell_type": "code",
   "execution_count": 5,
   "id": "a79ca085",
   "metadata": {},
   "outputs": [
    {
     "data": {
      "text/plain": [
       "(#17) [Path('app.py'),Path('apple.jpg'),Path('random images.jpg'),Path('apple and orange.jpg'),Path('flagged'),Path('Deployment.ipynb'),Path('export.pkl'),Path('apple and pear.jpg'),Path('pear and orange.jpg'),Path('orange.jpg')...]"
      ]
     },
     "execution_count": 5,
     "metadata": {},
     "output_type": "execute_result"
    }
   ],
   "source": [
    "path = Path()\n",
    "path.ls()"
   ]
  },
  {
   "cell_type": "code",
   "execution_count": 6,
   "id": "3c7e6618",
   "metadata": {},
   "outputs": [
    {
     "data": {
      "image/png": "[encoded data removed]",
      "text/plain": [
       "<PIL.Image.Image image mode=RGB size=256x160>"
      ]
     },
     "execution_count": 6,
     "metadata": {},
     "output_type": "execute_result"
    }
   ],
   "source": [
    "im = PILImage.create(path/'apple and orange.jpg')\n",
    "im.to_thumb(256, 256)"
   ]
  },
  {
   "cell_type": "code",
   "execution_count": 7,
   "id": "c1436c7b",
   "metadata": {},
   "outputs": [
    {
     "data": {
      "text/html": [
       "\n",
       "<style>\n",
       "    /* Turns off some styling */\n",
       "    progress {\n",
       "        /* gets rid of default border in Firefox and Opera. */\n",
       "        border: none;\n",
       "        /* Needs to be in here for Safari polyfill so background images work as expected. */\n",
       "        background-size: auto;\n",
       "    }\n",
       "    progress:not([value]), progress:not([value])::-webkit-progress-bar {\n",
       "        background: repeating-linear-gradient(45deg, #7e7e7e, #7e7e7e 10px, #5c5c5c 10px, #5c5c5c 20px);\n",
       "    }\n",
       "    .progress-bar-interrupted, .progress-bar-interrupted::-webkit-progress-bar {\n",
       "        background: #F44336;\n",
       "    }\n",
       "</style>\n"
      ],
      "text/plain": [
       "<IPython.core.display.HTML object>"
      ]
     },
     "metadata": {},
     "output_type": "display_data"
    },
    {
     "data": {
      "text/html": [],
      "text/plain": [
       "<IPython.core.display.HTML object>"
      ]
     },
     "metadata": {},
     "output_type": "display_data"
    },
    {
     "data": {
      "text/plain": [
       "((#2) ['apple','orange'],\n",
       " TensorBase([ True,  True, False, False]),\n",
       " TensorBase([0.9994, 0.9993, 0.0043, 0.0011]))"
      ]
     },
     "execution_count": 7,
     "metadata": {},
     "output_type": "execute_result"
    }
   ],
   "source": [
    "learn.predict(im)"
   ]
  },
  {
   "cell_type": "markdown",
   "id": "71203498",
   "metadata": {},
   "source": [
    "Looks like it's doing good as we trained it.\n",
    "\n",
    "Next, we want to get the vocab as categories to predict and use our learner to predict based on an input image. "
   ]
  },
  {
   "cell_type": "code",
   "execution_count": 8,
   "id": "48ee2797",
   "metadata": {},
   "outputs": [],
   "source": [
    "#|export\n",
    "categories = learn.dls.vocab\n",
    "def classify_images(img):\n",
    "    \"\"\"classifies images and returns the probabilities on each categories.\"\"\"\n",
    "    pred, pred_idx, probs = learn.predict(img)\n",
    "    return dict(zip(categories, map(float, probs)))"
   ]
  },
  {
   "cell_type": "code",
   "execution_count": 9,
   "id": "05a40d43",
   "metadata": {},
   "outputs": [
    {
     "data": {
      "text/html": [
       "\n",
       "<style>\n",
       "    /* Turns off some styling */\n",
       "    progress {\n",
       "        /* gets rid of default border in Firefox and Opera. */\n",
       "        border: none;\n",
       "        /* Needs to be in here for Safari polyfill so background images work as expected. */\n",
       "        background-size: auto;\n",
       "    }\n",
       "    progress:not([value]), progress:not([value])::-webkit-progress-bar {\n",
       "        background: repeating-linear-gradient(45deg, #7e7e7e, #7e7e7e 10px, #5c5c5c 10px, #5c5c5c 20px);\n",
       "    }\n",
       "    .progress-bar-interrupted, .progress-bar-interrupted::-webkit-progress-bar {\n",
       "        background: #F44336;\n",
       "    }\n",
       "</style>\n"
      ],
      "text/plain": [
       "<IPython.core.display.HTML object>"
      ]
     },
     "metadata": {},
     "output_type": "display_data"
    },
    {
     "data": {
      "text/html": [],
      "text/plain": [
       "<IPython.core.display.HTML object>"
      ]
     },
     "metadata": {},
     "output_type": "display_data"
    },
    {
     "data": {
      "text/plain": [
       "{'apple': 0.9994100332260132,\n",
       " 'orange': 0.9992908239364624,\n",
       " 'pear': 0.004278946202248335,\n",
       " 'random images': 0.0011345148086547852}"
      ]
     },
     "execution_count": 9,
     "metadata": {},
     "output_type": "execute_result"
    }
   ],
   "source": [
    "classify_images(im)"
   ]
  },
  {
   "cell_type": "markdown",
   "id": "3ea4a5e8",
   "metadata": {},
   "source": [
    "This is how we create gradio interface and try it before deploying into Hugging Face Space. "
   ]
  },
  {
   "cell_type": "code",
   "execution_count": 10,
   "id": "ab9411df",
   "metadata": {},
   "outputs": [
    {
     "name": "stderr",
     "output_type": "stream",
     "text": [
      "/usr/local/lib/python3.9/dist-packages/gradio/inputs.py:257: UserWarning: Usage of gradio.inputs is deprecated, and will not be supported in the future, please import your component from gradio.components\n",
      "  warnings.warn(\n",
      "/usr/local/lib/python3.9/dist-packages/gradio/deprecation.py:40: UserWarning: `optional` parameter is deprecated, and it has no effect\n",
      "  warnings.warn(value)\n",
      "/usr/local/lib/python3.9/dist-packages/gradio/outputs.py:197: UserWarning: Usage of gradio.outputs is deprecated, and will not be supported in the future, please import your components from gradio.components\n",
      "  warnings.warn(\n",
      "/usr/local/lib/python3.9/dist-packages/gradio/deprecation.py:40: UserWarning: The 'type' parameter has been deprecated. Use the Number component instead.\n",
      "  warnings.warn(value)\n"
     ]
    },
    {
     "name": "stdout",
     "output_type": "stream",
     "text": [
      "Running on local URL:  http://127.0.0.1:7860\n",
      "\n",
      "To create a public link, set `share=True` in `launch()`.\n"
     ]
    },
    {
     "data": {
      "text/plain": []
     },
     "execution_count": 10,
     "metadata": {},
     "output_type": "execute_result"
    }
   ],
   "source": [
    "#|export\n",
    "image = gr.inputs.Image(shape=(192, 192))\n",
    "label = gr.outputs.Label()\n",
    "# If you have more or less examples, edit this list.\n",
    "examples = ['apple.jpg', 'orange.jpg', 'apple and orange.jpg', \n",
    "            'pear and orange.jpg', 'apple and pear.jpg', 'apple and pear and orange.jpg',\n",
    "            'random images.jpg']\n",
    "\n",
    "inf = gr.Interface(fn=classify_images, inputs=image, outputs=label, examples=examples)\n",
    "inf.launch(inline=False)"
   ]
  },
  {
   "cell_type": "markdown",
   "id": "0e2004e2",
   "metadata": {},
   "source": [
    "And we will use `nbdev` to turn our notebook into a python script. By using `nbdev`, we do not have to copy and paste each cell into a file."
   ]
  },
  {
   "cell_type": "code",
   "execution_count": 11,
   "id": "52ce9c94",
   "metadata": {},
   "outputs": [],
   "source": [
    "import nbdev"
   ]
  },
  {
   "cell_type": "code",
   "execution_count": 14,
   "id": "352dfcf1",
   "metadata": {},
   "outputs": [],
   "source": [
    "nbdev.export.nb_export('Deployment.ipynb', '.', name='app')"
   ]
  },
  {
   "cell_type": "code",
   "execution_count": 15,
   "id": "afb9fe66",
   "metadata": {},
   "outputs": [
    {
     "name": "stdout",
     "output_type": "stream",
     "text": [
      "# AUTOGENERATED! DO NOT EDIT! File to edit: Deployment.ipynb.\r\n",
      "\r\n",
      "# %% auto 0\r\n",
      "__all__ = ['learn', 'categories', 'image', 'label', 'examples', 'inf', 'get_y', 'classify_images']\r\n",
      "\r\n",
      "# %% Deployment.ipynb 2\r\n",
      "from fastai.vision.all import *\r\n",
      "import gradio as gr\r\n",
      "\r\n",
      "def get_y(path):\r\n",
      "    return parent_label(path).split(' and ')\r\n",
      "\r\n",
      "# %% Deployment.ipynb 3\r\n",
      "learn = load_learner('export.pkl')\r\n",
      "\r\n",
      "# %% Deployment.ipynb 8\r\n",
      "categories = learn.dls.vocab\r\n",
      "def classify_images(img):\r\n",
      "    \"\"\"classifies images and returns the probabilities on each categories.\"\"\"\r\n",
      "    pred, pred_idx, probs = learn.predict(img)\r\n",
      "    return dict(zip(categories, map(float, probs)))\r\n",
      "\r\n",
      "# %% Deployment.ipynb 10\r\n",
      "image = gr.inputs.Image(shape=(192, 192))\r\n",
      "label = gr.outputs.Label()\r\n",
      "# If you have more or less examples, edit this list.\r\n",
      "examples = ['apple.jpg', 'orange.jpg', 'apple and orange.jpg', \r\n",
      "            'pear and orange.jpg', 'apple and pear.jpg', 'apple and pear and orange.jpg',\r\n",
      "            'random images.jpg']\r\n",
      "\r\n",
      "inf = gr.Interface(fn=classify_images, inputs=image, outputs=label, examples=examples)\r\n",
      "inf.launch(inline=False)\r\n"
     ]
    }
   ],
   "source": [
    "!cat app.py"
   ]
  },
  {
   "cell_type": "markdown",
   "id": "02f7067b",
   "metadata": {},
   "source": [
    "That's it. To find out next steps, check out my detailed [blog](https://galopyz.github.io/delicious-nbdev/blog/posts/2022-11-11-alien-vs.-ghost-pt2/) after nbdev. It goes over creating a `requirements.txt` file and uploading files into Hugging Face Space using git."
   ]
  }
 ],
 "metadata": {
  "kernelspec": {
   "display_name": "Python 3 (ipykernel)",
   "language": "python",
   "name": "python3"
  },
  "language_info": {
   "codemirror_mode": {
    "name": "ipython",
    "version": 3
   },
   "file_extension": ".py",
   "mimetype": "text/x-python",
   "name": "python",
   "nbconvert_exporter": "python",
   "pygments_lexer": "ipython3",
   "version": "3.9.13"
  }
 },
 "nbformat": 4,
 "nbformat_minor": 5
}
