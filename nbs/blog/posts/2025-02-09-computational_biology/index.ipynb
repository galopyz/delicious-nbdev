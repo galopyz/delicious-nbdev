{
 "cells": [
  {
   "cell_type": "raw",
   "id": "1332cbb4",
   "metadata": {},
   "source": [
    "---\n",
    "title: \"A Student's Perspective on Computational Biology\"\n",
    "author: \"galopy\"\n",
    "date: \"February 9, 2025\"\n",
    "toc: true\n",
    "skip_showdoc: true\n",
    "skip_exec: true\n",
    "comments:\n",
    "  utterances:\n",
    "    repo: galopyz/delicious-nbdev\n",
    "---"
   ]
  },
  {
   "cell_type": "markdown",
   "id": "09381553",
   "metadata": {},
   "source": [
    "Computational biology is a very exciting field. As a student in college, I am still figuring out what it is and what it is capable of. This field moves quickly with an advancement of technology. In this blog, I talk about what computational biology is and what I have learned so far."
   ]
  },
  {
   "cell_type": "markdown",
   "id": "d922b371",
   "metadata": {},
   "source": [
    "<img src=\"broken_chromosomes.jpg\" alt=\"Broken chromosomes\" width=\"400\">\n",
    "Broken chromosomes. Image from https://en.wikipedia.org/wiki/DNA_repair"
   ]
  },
  {
   "cell_type": "markdown",
   "id": "62a50fc0",
   "metadata": {},
   "source": [
    "In high school, I used to hate biology class because it seemed boring. It was all about memorizing terms. Rather than memorizing, I liked solving problems like math and physics. But everything changed in college when I stumbled upon some fascinating YouTube videos about the immune system. It was very interesting to find out that our immune cells constantly fighting against pathogens to save us. I got curious. How can cells fight? How do they know what to attack? They don't have brain or eyes like us. Suddenly, biology wasn't just about memorizing facts: it was about understanding the incredible machinery inside our bodies. To answer my questions, I learned about biology, but as I learned more, more questions came up. Around the same time, I was getting excited about artificial intelligence and its ability to detect objects and generate code. That's when I wanted combine the power of AI with the mysteries of biology. This realization led me into the fascinating world of computational biology, where computers help us unlock the secrets of life itself."
   ]
  },
  {
   "cell_type": "markdown",
   "id": "c7167f4a",
   "metadata": {},
   "source": [
    "## What is computational biology?"
   ]
  },
  {
   "cell_type": "markdown",
   "id": "8825bd40",
   "metadata": {},
   "source": [
    "Computational biology is a interdisciplinary field that consists of statistics, computer science, and biology. What fascinated me most was how it helps us understand biology. Scientists use it to study DNA, which is basically an instruction manual for creating organisms like us. It's mind-blowing that all humans share 99.9% identical DNA, yet we look so different from each other. This happens because of things like RNA and transposable elements that control how our bodies work. RNAs can control how much proteins are made - proteins that make up everything from our hair to our eyes and skin. And transposable elements jump around in our DNA and change it. Beyond just understanding how we're built, computational biology is helping us develop new drugs and create personalized medical treatments. Since everyone's body is different, we all react to drugs differently. That's why we need computational methods to analyze massive amounts of biological data and make sense of it all. In this blog post, I want to share what I've learned as a student in this rapidly evolving field."
   ]
  },
  {
   "cell_type": "markdown",
   "id": "20d19626",
   "metadata": {},
   "source": [
    "## My journey"
   ]
  },
  {
   "cell_type": "markdown",
   "id": "a540e30d",
   "metadata": {},
   "source": [
    "Learning computational biology isn't straightforward because you need to understand three different fields: biology, statistics, and computer science. When I started, I wasn't sure how much I needed to know in each field. I thought it was better to know more than less, and believed I could learn all of them if I worked diligently. But it was impossible to know them all like a professional. I had to use my resources strategically.\n",
    "\n",
    "Last year, I focused on building my biology foundation. I took courses in genetics, organic chemistry, molecular biology, and molecular genetics. On my free time, I read books about genetics, immunology, and molecular biology. It was very fun to learn about remarkable scientists, their interesting lives and clever experiments. My favorite experiment is Meselson-Stahl experiment which supported that DNA replication was semiconservative (one strand of DNA as a template for creating another). I also learned that scientists worked very hard to make discoveries. When I read that Hermann Muller was shouting out on the window whenver he found a fruitfly mutant alone at night, I was inspired by his curiosity. As I learned deeper into biology and frontier research, I realized something interesting - there's still so much we don't know. For example, scientists are still figuring out what certain RNAs do or how histone modifications work. It can be disappointing to read about something and find out how much we don't know about it. But it is also an opportunity to explore. I learned that in biology, it's more important to understand things broadly rather than diving too deep into one specific area because diving deep is fairly easy when I had a solid foundation.\n",
    "\n",
    "Also, for statistics, I found that having a good foundation in probability, linear regression, and linear algebra was enough to get started. Once I had these basics down, picking up more advanced techniques like PCA and tSNE became easier. You can always learn more specific statistical methods when you need them.\n",
    "\n",
    "Right now, I'm focusing on deep learning because it's advancing so quickly and full of surprises. Large language models (LLMs) are already changing how we work - they help with coding, writing, and learning. It's amazing to see how much more powerful these models are compared to just ten years ago. Learning deep learning isn't easy though. You need to understand the data, hardware requirements, and software. When there's a bug in your code, it's not always obvious where the problem is. Also, you need to know practical skills like using git, shell commands, and different code editors.\n",
    "\n",
    "But here's what I've learned: you don't need to be an expert in everything. If you're more interested in biology or statistics, you can focus more on those areas. The key is finding the balance that works for you and your interests."
   ]
  },
  {
   "cell_type": "markdown",
   "id": "3d27290b",
   "metadata": {},
   "source": [
    "## Future perspectives"
   ]
  },
  {
   "cell_type": "markdown",
   "id": "255baa84",
   "metadata": {},
   "source": [
    "The future of computational biology is incredibly exciting, especially with the rapid advancement of AI technology. We're already seeing amazing breakthroughs. For example, in 2021, DeepMind's AlphaFold revolutionized how we predict protein structures - a problem that scientists struggled with for decades. This is just the beginning.\n",
    "\n",
    "With more powerful computers and better AI models, we might be able to understand things that seem impossible today. Scientists could potentially predict how different drugs will affect individual patients just by looking at their genetic makeup. We might be able to understand exactly how changes in DNA lead to different traits or diseases. AI could help us discover new patterns in biological data that humans never noticed before.\n",
    "\n",
    "What excites me most is how AI could help us make sense of the vast amount of biological data we're collecting. Every day, labs around the world generate huge amounts of genomic data, protein structures, and disease information. Traditional methods can't keep up with analyzing all this data, but AI might be able to help us see the bigger picture and make connections we never saw before.\n",
    "\n",
    "As a student in this field, I'm particularly interested in seeing how we can combine different types of biological data with AI to answer questions we couldn't before. Maybe we could predict life expectancy or disease risks more accurately, or understand why certain treatments work for some people but not others. Nobody can predict exactly what we'll be capable of even next year - and that's what makes this field so exciting to be in right now."
   ]
  },
  {
   "cell_type": "code",
   "execution_count": null,
   "id": "c9d80359",
   "metadata": {},
   "outputs": [],
   "source": []
  }
 ],
 "metadata": {
  "kernelspec": {
   "display_name": "Python 3 (ipykernel)",
   "language": "python",
   "name": "python3"
  },
  "language_info": {
   "codemirror_mode": {
    "name": "ipython",
    "version": 3
   },
   "file_extension": ".py",
   "mimetype": "text/x-python",
   "name": "python",
   "nbconvert_exporter": "python",
   "pygments_lexer": "ipython3",
   "version": "3.11.11"
  }
 },
 "nbformat": 4,
 "nbformat_minor": 5
}
