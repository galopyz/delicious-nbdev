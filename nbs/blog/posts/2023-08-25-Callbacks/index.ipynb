{
  "nbformat": 4,
  "nbformat_minor": 0,
  "metadata": {
    "colab": {
      "provenance": []
    },
    "kernelspec": {
      "name": "python3",
      "display_name": "Python 3"
    },
    "language_info": {
      "name": "python"
    }
  },
  "cells": [
    {
      "cell_type": "markdown",
      "source": [
        "# Callback"
      ],
      "metadata": {
        "id": "Q9-BWW987PP5"
      }
    },
    {
      "cell_type": "markdown",
      "source": [
        "![Callback image](callback.jpeg \"Callback\")"
      ],
      "metadata": {
        "id": "C6vAa2qkAq9M"
      }
    },
    {
      "cell_type": "markdown",
      "source": [
        "There are many callbacks used in deep learning. So, what is a callback? Simply, a callback is a function."
      ],
      "metadata": {
        "id": "ntw9E6Cw7dXy"
      }
    },
    {
      "cell_type": "markdown",
      "source": [
        "Here is an example. Let's say we have a fit function that takes a long time, like a neural net."
      ],
      "metadata": {
        "id": "v3RxhHMy7k1Q"
      }
    },
    {
      "cell_type": "code",
      "source": [
        "from time import sleep\n",
        "from functools import partial"
      ],
      "metadata": {
        "id": "ouhUC-RmwpcR"
      },
      "execution_count": 21,
      "outputs": []
    },
    {
      "cell_type": "code",
      "source": [
        "def fit(epochs):\n",
        "    res = []\n",
        "    for epoch in range(epochs):\n",
        "        sleep(0.5)\n",
        "        res.append(epoch)\n",
        "    return res"
      ],
      "metadata": {
        "id": "mlZh-7nV7k1R"
      },
      "execution_count": 8,
      "outputs": []
    },
    {
      "cell_type": "code",
      "source": [
        "fit(4)"
      ],
      "metadata": {
        "colab": {
          "base_uri": "https://localhost:8080/"
        },
        "id": "GX7_kaj7xo0m",
        "outputId": "99e24c09-dcb7-4149-df40-53cf47a93897"
      },
      "execution_count": 9,
      "outputs": [
        {
          "output_type": "execute_result",
          "data": {
            "text/plain": [
              "[0, 1, 2, 3]"
            ]
          },
          "metadata": {},
          "execution_count": 9
        }
      ]
    },
    {
      "cell_type": "markdown",
      "source": [
        "As the function runs, we want to know how it's doing. So, we use a callback to figure that out. Here is `fit` with callback."
      ],
      "metadata": {
        "id": "0N11mp_Mx491"
      }
    },
    {
      "cell_type": "code",
      "source": [
        "def fit(epochs, cb=None):\n",
        "    res = []\n",
        "    for epoch in range(epochs):\n",
        "        sleep(0.5)\n",
        "        res.append(epoch)\n",
        "        if cb: cb(epoch)\n",
        "    return res"
      ],
      "metadata": {
        "id": "Tniy_axlxqnu"
      },
      "execution_count": 12,
      "outputs": []
    },
    {
      "cell_type": "markdown",
      "source": [
        "And this is a callback to print current epoch."
      ],
      "metadata": {
        "id": "TYu4N9s1zqGq"
      }
    },
    {
      "cell_type": "code",
      "source": [
        "def print_status(epoch):\n",
        "    print(f'Currently on {epoch} epoch.')"
      ],
      "metadata": {
        "id": "E0AR9yu6zliL"
      },
      "execution_count": 15,
      "outputs": []
    },
    {
      "cell_type": "code",
      "source": [
        "fit(4, print_status)"
      ],
      "metadata": {
        "colab": {
          "base_uri": "https://localhost:8080/"
        },
        "id": "9A8KXHD-zhzj",
        "outputId": "bebcb4ce-428a-48d8-a960-77e60d16d224"
      },
      "execution_count": 16,
      "outputs": [
        {
          "output_type": "stream",
          "name": "stdout",
          "text": [
            "Currently on 0 epoch.\n",
            "Currently on 1 epoch.\n",
            "Currently on 2 epoch.\n",
            "Currently on 3 epoch.\n"
          ]
        },
        {
          "output_type": "execute_result",
          "data": {
            "text/plain": [
              "[0, 1, 2, 3]"
            ]
          },
          "metadata": {},
          "execution_count": 16
        }
      ]
    },
    {
      "cell_type": "markdown",
      "source": [
        "Okay that's better. We know where it is in the fitting progress as it trains. print_status is just a function."
      ],
      "metadata": {
        "id": "bgRHPzz33Jtk"
      }
    },
    {
      "cell_type": "markdown",
      "source": [
        "We can also customize `print_status` so that we can provide an expression. This provides more flexiblity and power. To use it, we can use a lambda, partial, or closure."
      ],
      "metadata": {
        "id": "F7zS_G892VRm"
      }
    },
    {
      "cell_type": "code",
      "source": [
        "def print_status(expression, epoch):\n",
        "    print(f'{expression} Currently on {epoch} epoch.')"
      ],
      "metadata": {
        "id": "4ZQmJ1j214fJ"
      },
      "execution_count": 18,
      "outputs": []
    },
    {
      "cell_type": "code",
      "source": [
        "fit(4, lambda epoch: print_status('Awesome!', epoch))"
      ],
      "metadata": {
        "colab": {
          "base_uri": "https://localhost:8080/"
        },
        "id": "5JDrkvj-1d9v",
        "outputId": "e42c8a84-82bd-478b-fe88-0a667c691163"
      },
      "execution_count": 20,
      "outputs": [
        {
          "output_type": "stream",
          "name": "stdout",
          "text": [
            "Awesome! Currently on 0 epoch.\n",
            "Awesome! Currently on 1 epoch.\n",
            "Awesome! Currently on 2 epoch.\n",
            "Awesome! Currently on 3 epoch.\n"
          ]
        },
        {
          "output_type": "execute_result",
          "data": {
            "text/plain": [
              "[0, 1, 2, 3]"
            ]
          },
          "metadata": {},
          "execution_count": 20
        }
      ]
    },
    {
      "cell_type": "code",
      "source": [
        "fit(4, partial(print_status, 'Awesome!'))"
      ],
      "metadata": {
        "colab": {
          "base_uri": "https://localhost:8080/"
        },
        "id": "K15l_wZE3lRl",
        "outputId": "f52abfa5-76d0-4631-cf47-ca3a3c687df7"
      },
      "execution_count": 22,
      "outputs": [
        {
          "output_type": "stream",
          "name": "stdout",
          "text": [
            "Awesome! Currently on 0 epoch.\n",
            "Awesome! Currently on 1 epoch.\n",
            "Awesome! Currently on 2 epoch.\n",
            "Awesome! Currently on 3 epoch.\n"
          ]
        },
        {
          "output_type": "execute_result",
          "data": {
            "text/plain": [
              "[0, 1, 2, 3]"
            ]
          },
          "metadata": {},
          "execution_count": 22
        }
      ]
    },
    {
      "cell_type": "code",
      "source": [
        "def make_print_status(expression):\n",
        "    def _fn(epoch):\n",
        "        print_status(expression, epoch)\n",
        "    return _fn"
      ],
      "metadata": {
        "id": "Ft075Icx3PtM"
      },
      "execution_count": 23,
      "outputs": []
    },
    {
      "cell_type": "code",
      "source": [
        "fit(4, make_print_status('Awesome!'))"
      ],
      "metadata": {
        "colab": {
          "base_uri": "https://localhost:8080/"
        },
        "id": "ze77Z_wO3PqZ",
        "outputId": "131cbada-462c-44a6-a5dd-e487b633930c"
      },
      "execution_count": 25,
      "outputs": [
        {
          "output_type": "stream",
          "name": "stdout",
          "text": [
            "Awesome! Currently on 0 epoch.\n",
            "Awesome! Currently on 1 epoch.\n",
            "Awesome! Currently on 2 epoch.\n",
            "Awesome! Currently on 3 epoch.\n"
          ]
        },
        {
          "output_type": "execute_result",
          "data": {
            "text/plain": [
              "[0, 1, 2, 3]"
            ]
          },
          "metadata": {},
          "execution_count": 25
        }
      ]
    },
    {
      "cell_type": "markdown",
      "source": [
        "So, there are many ways to create functions to be used as callbacks. Actually, callback does not even have to be a function. It can also be a callable class."
      ],
      "metadata": {
        "id": "0SFkVFuy7k4C"
      }
    },
    {
      "cell_type": "markdown",
      "source": [
        "## Class callback"
      ],
      "metadata": {
        "id": "OGPmNE-H7k6r"
      }
    },
    {
      "cell_type": "code",
      "source": [
        "class Callback:\n",
        "    def __init__(self, expression): self.expression = expression\n",
        "\n",
        "    def __call__(self, epoch): print_status(self.expression, epoch)"
      ],
      "metadata": {
        "id": "mSYqX-7m2Lyg"
      },
      "execution_count": 26,
      "outputs": []
    },
    {
      "cell_type": "code",
      "source": [
        "fit(4, Callback('Awesome!'))"
      ],
      "metadata": {
        "colab": {
          "base_uri": "https://localhost:8080/"
        },
        "id": "YrL3jvmq8a-Z",
        "outputId": "594bffc2-c338-4d5a-db1d-7c5aa29986c3"
      },
      "execution_count": 27,
      "outputs": [
        {
          "output_type": "stream",
          "name": "stdout",
          "text": [
            "Awesome! Currently on 0 epoch.\n",
            "Awesome! Currently on 1 epoch.\n",
            "Awesome! Currently on 2 epoch.\n",
            "Awesome! Currently on 3 epoch.\n"
          ]
        },
        {
          "output_type": "execute_result",
          "data": {
            "text/plain": [
              "[0, 1, 2, 3]"
            ]
          },
          "metadata": {},
          "execution_count": 27
        }
      ]
    },
    {
      "cell_type": "markdown",
      "source": [],
      "metadata": {
        "id": "Anv9r0kL7k6s"
      }
    },
    {
      "cell_type": "markdown",
      "source": [],
      "metadata": {
        "id": "kxJEAhBJ7k9S"
      }
    },
    {
      "cell_type": "markdown",
      "source": [],
      "metadata": {
        "id": "wXHvohdv7k9S"
      }
    },
    {
      "cell_type": "markdown",
      "source": [],
      "metadata": {
        "id": "tDqDwlGU7k_y"
      }
    },
    {
      "cell_type": "markdown",
      "source": [],
      "metadata": {
        "id": "lNNXb1QT7k_z"
      }
    },
    {
      "cell_type": "markdown",
      "source": [],
      "metadata": {
        "id": "rH1rgN6a7lB5"
      }
    },
    {
      "cell_type": "markdown",
      "source": [],
      "metadata": {
        "id": "5f9_2KWp7lB5"
      }
    },
    {
      "cell_type": "markdown",
      "source": [],
      "metadata": {
        "id": "hFsmK8eb7hk1"
      }
    },
    {
      "cell_type": "markdown",
      "source": [],
      "metadata": {
        "id": "zKY2FLCx7jcQ"
      }
    },
    {
      "cell_type": "markdown",
      "source": [],
      "metadata": {
        "id": "Zn8qC3xA7jcT"
      }
    },
    {
      "cell_type": "markdown",
      "source": [],
      "metadata": {
        "id": "YAQ-2iSq7jlA"
      }
    },
    {
      "cell_type": "markdown",
      "source": [],
      "metadata": {
        "id": "A_5IcMH87jlB"
      }
    },
    {
      "cell_type": "code",
      "source": [],
      "metadata": {
        "id": "pvLhTF7v7ej-"
      },
      "execution_count": null,
      "outputs": []
    }
  ]
}