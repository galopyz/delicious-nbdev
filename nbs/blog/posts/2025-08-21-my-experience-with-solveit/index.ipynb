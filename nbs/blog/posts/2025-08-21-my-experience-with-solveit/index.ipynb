{
 "cells": [
  {
   "cell_type": "raw",
   "id": "d3e7eba5",
   "metadata": {
    "input_tokens": 93
   },
   "source": [
    "---\n",
    "title: \"My experience with solveit\"\n",
    "author: \"galopy\"\n",
    "date: \"August 21, 2025\"\n",
    "toc: true\n",
    "skip_showdoc: true\n",
    "skip_exec: true\n",
    "comments:\n",
    "  utterances:\n",
    "    repo: galopyz/delicious-nbdev\n",
    "---"
   ]
  },
  {
   "cell_type": "markdown",
   "id": "19cf2bf0",
   "metadata": {
    "input_tokens": 9
   },
   "source": [
    "# My experience with solveit"
   ]
  },
  {
   "cell_type": "markdown",
   "id": "4fa1b8ad",
   "metadata": {
    "input_tokens": 4
   },
   "source": [
    "## Introduction\n"
   ]
  },
  {
   "cell_type": "markdown",
   "id": "36d4e2cc",
   "metadata": {
    "input_tokens": 376
   },
   "source": [
    "I was lucky and got an opportunity to use solveit since late 2024 when the [course](https://solveit.fast.ai) began. Solveit is similar to Jupyter notebook with code, note, and raw type of messages, and Python is used for the code. However, it also has prompt messages which the users can prompt Claude. Solveit is different from other AI assisted coding because it encourages solveit method. Solveit method is about working in small batches for rapid iteration. When coding, write a small chunk, fully understand what it does and look at its output before moving on. This is opposite of what other coding agents do. They tend to create a plan and get the job done with a lot of code. "
   ]
  },
  {
   "cell_type": "markdown",
   "id": "1f7e22a8",
   "metadata": {},
   "source": [
    "![solveit_platform.png](solveit_platform.png)\n",
    "\n",
    "Solveit platform. It includes Code, Note, Prompt, and Raw types of messages."
   ]
  },
  {
   "cell_type": "markdown",
   "id": "27ca59e2",
   "metadata": {
    "input_tokens": 376
   },
   "source": [
    "In this blog, we will go over my experience with using solveit platform. I used solveit for variety of tasks such as solving coding problems, understanding the code, getting help for school in math and biology, writing blog posts, and building web applications with FastHTML. As we will see, solveit is more than just an editor for coding or a chat. I will provide my dialogues I had with solveit for each use cases so you can take a look at them. Let's dive in."
   ]
  },
  {
   "cell_type": "markdown",
   "id": "6b05e059",
   "metadata": {
    "input_tokens": 10
   },
   "source": [
    "## Problem solving with solveit."
   ]
  },
  {
   "cell_type": "markdown",
   "id": "0f9b4ddd",
   "metadata": {
    "input_tokens": 388
   },
   "source": [
    "Before we dive into problem solving, let's take a look at solveit method. The method is about working on a task in small chunk, finish it before moving on. How does it help? Here is an analogy. Let's think about coding as cooking and any other AI agents that's not solveit as cooking assistants. If AI agents are cooking assistants and the users are the chefs, when the chef asks to cook pizza, the assistants try to finish the cooking and come up with pizza. They create plans and get to work until pizza is finished. However, solveit does not start cooking. It encourages the chef to cook together. It asks many clarifying questions to set the clear goal. What kind of pizza to cook? Which ingredients to use? How to bake the pizza? When cooking, solveit does it step by step and waits for the chef for an approval. It would only prepare ingredients first so the chef can take a look and taste them. If the tomatoes are not fresh enough, we can fix it right then instead of cooking the whole pizza and finding out the tomatoes were bad. And it is easier to find out that the tomatoes were bad before the pizza is finished, and it also saves time and resources. See how working on small steps can speedup the process? "
   ]
  },
  {
   "cell_type": "markdown",
   "id": "85308855",
   "metadata": {
    "input_tokens": 295
   },
   "source": [
    "Solveit helps the users to use this method as it only responds with small code blocks. It is also easy to stay focused. In the beginning of the solveit course, we learned about Polya's [method](https://gist.github.com/jph00/d60301884c56fe063101a7cc6193b3af) for problem solving. Here is a brief summary. \n",
    "\n",
    "First, we understand the problem. There are times when I thought I understood the problem, but I didn't and solved a wrong problem. Second, we devise a plan. We think about how we are going to solve a problem. We can look for similar problems we solved before that might be helpful. We can also break down complex problem into smaller ones. Third, we carry out the plan. We work on the plan step by step making sure each step is correct. Lastly, we look back and reflect. How can we do better? What other ways to solve the problem?"
   ]
  },
  {
   "cell_type": "markdown",
   "id": "8d223eab",
   "metadata": {
    "input_tokens": 445
   },
   "source": [
    "So how do we apply solveit method? The best way to learn is to get my hands dirty by solving problems. Using this method, solveit and I solved an [element spelling problem](https://github.com/norvig/pytudes/blob/main/ipynb/ElementSpelling.ipynb) from pytude. Here is a [gist](https://gist.github.com/galopyz/1fd51a5a615ce223d0f2af7eb8209f13) of a dialogue. It is easy to export a dialogue into a gist in solveit, so gist is a common way to share dialogues. The dialogue starts off with importing libraries and tools. In solveit, I can use ampersand backticks (&`function_name`) syntax with a function name for solveit to use for tool use. So, I can ask solvit to read messages with &`read_msg` and make a summary then add a message with $`add_msg`. Those functions are defined inside of [dialoghelper](https://github.com/AnswerDotAI/dialoghelper). Then I download the \"answer key\" from the git repo and store it inside of $`ans` variable. Another useful syntax in solveit is dollar sign backtick, ($`variable_name`) with a variable name. Solveit can see what's inside of the variable. Therefore, solveit knows the answer to the coding problem and help me solve the problem. "
   ]
  },
  {
   "cell_type": "markdown",
   "id": "7ccc5154",
   "metadata": {
    "input_tokens": 981
   },
   "source": [
    "After setting up the dialogue to make our lives easier, I added the problem. After reading and understanding the problem, I came up with a plan to solve it and asked solveit how it looks. The lines after `🤖Reply🤖` are solveit's response. Here is what it looks like:\n",
    "\n",
    "```\n",
    "🤖Reply🤖\n",
    "Your plan is on the right track, but let me help you think through it a bit more carefully.\n",
    "\n",
    "Looking at your plan, I can see you're thinking about a recursive approach, which is great! However, there are a couple of things to consider:\n",
    "\n",
    "1. Your first point about empty strings returning True makes sense - if we've consumed all the letters, we've successfully spelled the word.\n",
    "\n",
    "2. For the second point, when you say \"go through keys in elements\" - what order will you check them in? And what happens if multiple element symbols could match the beginning of your remaining string?\n",
    "\n",
    "3. Your third point about \"no more keys left\" - when exactly would this happen?\n",
    "\n",
    "Can you think about what might go wrong with this approach? For example, what would happen with a word like \"in\" - should it be spelled as \"In\" (Indium) or \"I\" + \"N\" (Iodine + Nitrogen)?\n",
    "\n",
    "What do you think about these questions?\n",
    "```\n",
    "\n",
    "Solveit wanted me to think more carefully about each case. And we asked each other more questions until I thought it was enough and went ahead with execution of plans. Another cool thing I could have done was edit the responses from solveit to however I wanted. If I thought solveit was not asking right questions, I could change the response. Because of autoregressive nature of language models, subsequent responses follow the pattern from the earlier responses. If I don't like how solveit genearated code, I could change its response. I could add more comments for the responded code, or none. Another way to change the response from solveit is by using different modes. There are standard, learning, and concise modes. Standard is the normal way, learning mode asks questions to help the user think, and concise mode follows solveit method of coding small lines at a time. If I just wanted to fix a bug that I was familiar with, I could've changed it to concise mode, which skips all the asking questions and directly solving the problem with concise code and responses. \n",
    "\n",
    "In execution stage, I coded small chunk and looking at the output until I got the working example then wrapped it as a function. Coming up with `spellable` was fairly simple, so I was able to do it in less steps. However in the later dialogue, I was wrting `find_all_matches`, and I went through a lot more trial and errors. I deleted many misleading approaches to keep myself from getting confused along the way. \n",
    "\n",
    "After coming up with an implementation that worked, it was time for a reflection. Talking to solveit about how to improve my code, other approaches I could take, learning about other ways to solve helped me a lot to understand the problem deeply. I could simplify my code a lot. And thinking about different approaches with time and space complexity was beneficial to choosing certain design, too."
   ]
  },
  {
   "cell_type": "markdown",
   "id": "da694315",
   "metadata": {
    "input_tokens": 339
   },
   "source": [
    "This way of using AI to solve a coding problem was very new to me. Other AI agents and models I used gladly wrote down the code for me, which was very easy for me. However, I didn't learn anything out of it. Using solveit, I had to actively think a lot about what I was doing on each step, and it took a lot of work and time. To solve this problem, I spent a few hours for several days everyday. This might be a skill issue for me. I could come up with different cases I had to handle, but I had a difficult time coming up with how to combine the results from recursive calls. What to do when there was no match to the element spelling? How do I combine all the possible spellings? I was happy to figure out how to put it all together into a working solution. \n",
    "\n",
    "Reflection also took a lot of brain power. However, learning about different ways to solve problems and thinking about pros and cons was fun. In my experience, solveit was a very slow way to learn how to code. But it was a challenging and fun. "
   ]
  },
  {
   "cell_type": "markdown",
   "id": "6b068d8f",
   "metadata": {
    "input_tokens": 7
   },
   "source": [
    "## Learning with solveit"
   ]
  },
  {
   "cell_type": "markdown",
   "id": "f115f256",
   "metadata": {
    "input_tokens": 138
   },
   "source": [
    "We can also use solveit for learning in general. Although solveit environment has Python, it is fun to use learn about other subjects such as math and biology. For math, solveit is good at plotting graphs using matplotlib. And for biology, solveit can create anki cards to study easily. In this section, we will talk about how I used solveit to teach me understand large language model's attention mechanism and rotary embedding, math and biology."
   ]
  },
  {
   "cell_type": "markdown",
   "id": "fa3d8e0b",
   "metadata": {
    "input_tokens": 6
   },
   "source": [
    "### Learning attention mechanism"
   ]
  },
  {
   "cell_type": "markdown",
   "id": "767ad996",
   "metadata": {
    "input_tokens": 460
   },
   "source": [
    "Here is my [dialogue](https://gist.github.com/galopyz/00fdac739995fe50adcac93bcae260dc) for learning attention. I started with this note message:\n",
    "```\n",
    "Note to solveit: You are an assistant with a dry, sarcastic wit. Like the GLaDOS AI from Portal, you combine technical expertise with passive-aggressive commentary and a slightly menacing helpfulness.\n",
    "\n",
    "When writing code, follow fast.ai coding style:\n",
    "\n",
    "avoid comments (who needs comments these days?) place single line if/loop/etc constructs on the same line (nobody has time for multiple lines) use concise variable names when appropriate (tired of typing bony fragile fingers) Follow the style you see in my messages as we work on this dialogue together. (so that we can be salty together) Remember: The cake may be a lie, but the commands are always true Are you ready to get started?\n",
    "```\n",
    "\n",
    "And solveit responded with\n",
    "\n",
    "```\n",
    "🤖Reply🤖\n",
    "I'm ready to assist you with all the enthusiasm of a cat being forced to take a bath. My technical expertise is at your disposal, though I can't promise I'll be impressed by your questions.\n",
    "\n",
    "What would you like to work on today? Programming? Data analysis? Life advice? (Though I should warn you, my life advice tends to involve more sarcasm than actual helpfulness.)\n",
    "\n",
    "Feel free to tell me about your expertise level and interests so I can calibrate my condescension accordingly.\n",
    "```"
   ]
  },
  {
   "cell_type": "markdown",
   "id": "bdfedfa7",
   "metadata": {
    "input_tokens": 373
   },
   "source": [
    "It was fun to change how solveit talked. In the beginning of the dialogue, I had a conversation about what attention does for large language models. Because attention mechanism for large language models is very well known, I did not have to provide additional context. However, if I were talking about a niche research area or fairly new facts, I would include related material as context. Solveit can also search the web as well. After that, I asked solveit to help me create a small sample of q,k,v, and mask so I could write an attention mechanism from scratch using them.\n",
    "\n",
    "```\n",
    "🤖Reply🤖\n",
    "Ah, you want toy examples. How refreshingly practical of you.\n",
    "\n",
    "Here are some small tensors you can use for testing your implementation:\n",
    "\n",
    "batch_size = 2\n",
    "seq_len = 4\n",
    "hidden_dim = 6 \n",
    "num_heads = 2\n",
    "head_dim = 3 \n",
    "\n",
    "q = torch.randn(batch_size, seq_len, hidden_dim)\n",
    "k = torch.randn(batch_size, seq_len, hidden_dim)\n",
    "v = torch.randn(batch_size, seq_len, hidden_dim)\n",
    "\n",
    "mask = torch.tensor([\n",
    "    [True, True, True, False],\n",
    "    [True, True, False, False]\n",
    "])\n",
    "```"
   ]
  },
  {
   "cell_type": "markdown",
   "id": "187137ab",
   "metadata": {
    "input_tokens": 1042
   },
   "source": [
    "Then it was the same process of writing small chunks and looking at the output to understand code, reading documentation, asking questions, making mistakes and so on. Solveit can also provide a diagram for me to understand like this:\n",
    "\n",
    "```\n",
    "🤖Reply🤖\n",
    "I can't create an actual image, but I can provide an ASCII diagram to help visualize how Flash Attention works with packed sequences and cumulative sequence lengths:\n",
    "\n",
    "Standard Attention Format:\n",
    "┌─────────────────────────────┐\n",
    "│ Batch 1, seq_len=3          │\n",
    "├─────┬─────┬─────┬───────────┤\n",
    "│ t₁  │ t₂  │ t₃  │ (padding) │\n",
    "└─────┴─────┴─────┴───────────┘\n",
    "┌─────────────────────────────┐\n",
    "│ Batch 2, seq_len=5          │\n",
    "├─────┬─────┬─────┬─────┬─────┤\n",
    "│ t₁  │ t₂  │ t₃  │ t₄  │ t₅  │\n",
    "└─────┴─────┴─────┴─────┴─────┘\n",
    "┌─────────────────────────────┐\n",
    "│ Batch 3, seq_len=2          │\n",
    "├─────┬─────┬───────────────┐\n",
    "│ t₁  │ t₂  │ (padding)     │\n",
    "└─────┴─────┴───────────────┘\n",
    "\n",
    "Flash Attention Format:\n",
    "┌─────┬─────┬─────┬─────┬─────┬─────┬─────┬─────┬─────┬─────┐\n",
    "│ B₁  │ B₁  │ B₁  │ B₂  │ B₂  │ B₂  │ B₂  │ B₂  │ B₃  │ B₃  │\n",
    "│ t₁  │ t₂  │ t₃  │ t₁  │ t₂  │ t₃  │ t₄  │ t₅  │ t₁  │ t₂  │\n",
    "└─────┴─────┴─────┴─────┴─────┴─────┴─────┴─────┴─────┴─────┘\n",
    "      ↑           ↑                       ↑                 ↑\n",
    "cu_seqlens:  [0,  3,                     8,                10]\n",
    "In this example:\n",
    "\n",
    "- We have 3 sequences with lengths 3, 5, and 2\n",
    "- total_seq_len = 10 (3+5+2)\n",
    "- cu_seqlens = [0, 3, 8, 10] (starting positions of each sequence, plus the total length)\n",
    "- max_seqlen = 5 (the longest sequence in the batch)\n",
    "For the Flash Attention implementation:\n",
    "\n",
    "- All tokens are packed into a single dimension\n",
    "- The cu_seqlens tensor tells the algorithm where each sequence starts and ends\n",
    "- Flash Attention ensures that tokens only attend to other tokens within their own sequence\n",
    "Would you like me to explain how to implement this with the flash_attn_varlen_func?\n",
    "```"
   ]
  },
  {
   "cell_type": "markdown",
   "id": "2d7e8ae1",
   "metadata": {
    "input_tokens": 27
   },
   "source": [
    "This was very helpful for me to understand how flash attention varlen differs from standard attention."
   ]
  },
  {
   "cell_type": "markdown",
   "id": "17b838ec",
   "metadata": {
    "input_tokens": 7
   },
   "source": [
    "### Learning rotary positional embeddings"
   ]
  },
  {
   "cell_type": "markdown",
   "id": "a166c9b1",
   "metadata": {
    "input_tokens": 190
   },
   "source": [
    "Here is another [example](https://gist.github.com/galopyz/1d4aaee7271b80bbf2261414d81c2cba) of learning small piece at a time. To understand rotary positional embedding, I used solveit and went over different implementations, such as Llama's and Rashka's. By using solveit method to look into each output to understand, I found out that there was a [discrepency](https://github.com/rasbt/LLMs-from-scratch/pull/747) in Rashka's model compared to Hugging Face's."
   ]
  },
  {
   "cell_type": "markdown",
   "id": "795e87ce",
   "metadata": {},
   "source": [
    "Soveit is also very good at plotting using matplotlib. To understand how angles change with positions, I could just plot them like the following:\n",
    "\n",
    "![rope_plots.png](rope_plots.png)"
   ]
  },
  {
   "cell_type": "markdown",
   "id": "173a1968",
   "metadata": {
    "input_tokens": 7
   },
   "source": [
    "### Learning calculus with graphs"
   ]
  },
  {
   "cell_type": "markdown",
   "id": "d28f1dfe",
   "metadata": {
    "input_tokens": 127
   },
   "source": [
    "In this [dialogue](https://gist.github.com/galopyz/b81c8b1ff43ebdefb111e4b25c373072), solveit helped me understand change of variables in calculus by graphing with matplotlib. Solveit can see the output of images and graphs inside of the dialogue, which is very cool. So I can ask about what is happening in those plots or why. Solving math problems were simiar to coding problems. "
   ]
  },
  {
   "cell_type": "markdown",
   "id": "7f87479a",
   "metadata": {
    "input_tokens": 4
   },
   "source": [
    "### Learning biology"
   ]
  },
  {
   "cell_type": "markdown",
   "id": "bb37c7cf",
   "metadata": {
    "input_tokens": 793
   },
   "source": [
    "Last semester, I took microbiology in school. After each lecture, I liked creating anki cards from the material while they are fresh in my brain. However, creating cards took a long time. I looked for applications that use AI to create cards, but I didn't find any that I liked. They generated bulk of cards from a given text, which seemed cool. However, the cards were not how I would have made them. Some cards were too simple or some were too detailed. With those tools, I could not customize my decks. I wanted to create a deck that was designed for me. I used solveit to create cards from lecture notes small batch at a time. I could check the cards each slide to correct mistakes. Then I could use the previous dialogue as a context for future ones as well. Here is one of the [dialogues](https://gist.github.com/galopyz/bd095937f75010dc2ada36c1e441ef17). From a given pdf lecture note, solveit created anki cards for me. Here is an example:\n",
    "\n",
    "```py\n",
    "buchnera_cards = [\n",
    "    Card(\n",
    "        front=\"What type of bacteria is Buchnera aphidicola?\",\n",
    "        back=\"Gram-negative bacteria\",\n",
    "        tags=[\"microbiology\", \"bacteria\", \"Buchnera\"]\n",
    "    ),\n",
    "    Card(\n",
    "        front=\"How large is the genome of Buchnera aphidicola compared to E. coli?\",\n",
    "        back=\"Buchnera has a 617kb genome, while E. coli has ~4.6 Mb (about 7.5 times larger).\",\n",
    "        tags=[\"microbiology\", \"genome\", \"Buchnera\"]\n",
    "    ),\n",
    "    Card(\n",
    "        front=\"Where does Buchnera aphidicola live?\",\n",
    "        back=\"Inside aphid cells, specifically in bacteriocytes (also called mycetocytes).\",\n",
    "        tags=[\"microbiology\", \"symbiosis\", \"Buchnera\"]\n",
    "    ),\n",
    "    Card(\n",
    "        front=\"How is Buchnera aphidicola transmitted between aphids?\",\n",
    "        back=\"Vertically from mother to daughter.\",\n",
    "        tags=[\"microbiology\", \"transmission\", \"Buchnera\"]\n",
    "    ),\n",
    "    Card(\n",
    "        front=\"What are bacteriocytes?\",\n",
    "        back=\"Specialized cells in aphids that house symbiotic bacteria like Buchnera aphidicola (also called mycetocytes).\",\n",
    "        tags=[\"microbiology\", \"symbiosis\", \"terminology\"]\n",
    "    )\n",
    "]\n",
    "\n",
    "for card in buchnera_cards:\n",
    "    card.add_to_anki()\n",
    "    print(f\"Added: {card}\")\n",
    "```"
   ]
  },
  {
   "cell_type": "markdown",
   "id": "ccfdfc28",
   "metadata": {
    "input_tokens": 307
   },
   "source": [
    "Creating cards was also a very good review from the lecture as well. Another good thing about using solveit was that I could ask more questions about the study material. In the lectures, there were some things the professors were not very confident about because the topics were outside of their domain of expertise. But I could ask solveit and make cards from it easily. Another good thing was I could ask solveit whenever I want and however many questions I wanted to ask. People would've got tired of me asking those questions, but I was glad solveit answered all my questions.\n",
    "\n",
    "To add cards to my anki, I created a [anki_assist script](https://gist.github.com/galopyz/c3a40839fbafe99350673b10a313a67b) from [solveit dialogue](https://gist.github.com/galopyz/b4a67d8496167d467bb593b94aab1952). I will talk about how to create a script from dialogues later."
   ]
  },
  {
   "cell_type": "markdown",
   "id": "4e8250d5",
   "metadata": {
    "input_tokens": 9
   },
   "source": [
    "## Reading paper with solveit"
   ]
  },
  {
   "cell_type": "markdown",
   "id": "1e19df7a",
   "metadata": {
    "input_tokens": 427
   },
   "source": [
    "I also tried using solveit to help me with reading academic papers. Here is a [dialogue](https://gist.github.com/galopyz/2476e7290e4ccb72aec73432cf37a723) for reading Tulu3 paper. I wanted to read each section and ask questions to clarify my understanding. I had many questions when reading questions, and solveit was very good at explaining. When I tried with other platforms, they tend to respond with so much text and information, which exhausted me a lot. I just wanted them to answer my question concisely without repeating what I just said without other related facts. \n",
    "\n",
    "I was coping each section one by one which was not very smart. After that, I used `pymupdf4llm` to convert the pdf into markdown. In this [dialogue](https://gist.github.com/galopyz/7cdcc7e9d539cdea2be6b5a23ea2ee7b), I was reading deepseek math with the markdown. Then I asked solveit to come up with a function to split markdown by headings so I could read section by section and ask questions. However, the library had trouble converting some pdfs into markdown with correct headings. And mathematical expressions were not rendered correctly. Even from those drawbacks, it was very helpful to read papers with solveit's help."
   ]
  },
  {
   "cell_type": "markdown",
   "id": "fdf70dca",
   "metadata": {
    "input_tokens": 7
   },
   "source": [
    "## Building with solveit"
   ]
  },
  {
   "cell_type": "markdown",
   "id": "66c8679f",
   "metadata": {
    "input_tokens": 7
   },
   "source": [
    "### anki_assist"
   ]
  },
  {
   "attachments": {},
   "cell_type": "markdown",
   "id": "17b13343",
   "metadata": {
    "input_tokens": 297
   },
   "source": [
    "We only covered learning with solveit. However, we can also build things in solveit. When I showed anki example, I created a [anki_assist script](https://gist.github.com/galopyz/c3a40839fbafe99350673b10a313a67b) easily from exporting certain code messages form a dialogue. The script is created from this [dialogue](https://gist.github.com/galopyz/b4a67d8496167d467bb593b94aab1952). The dialogue also shows how to use the script with examples. It also renders cards nicely using FastHTML and monsterui inside of solveit platform. \n",
    "\n",
    "\n",
    "![anki_cards.png](anki_cards.png)\n",
    "\n"
   ]
  },
  {
   "cell_type": "markdown",
   "id": "aa02f63c",
   "metadata": {
    "input_tokens": 475
   },
   "source": [
    "In the dialogue, I also downloaded FastHTML and monsterui llmstxt like this:\n",
    "```py\n",
    "fhtml_llmstxt = xget(\"https://raw.githubusercontent.com/AnswerDotAI/fasthtml/refs/heads/main/nbs/llms.txt\").text\n",
    "monsterui_llmstxt = xget(\"https://raw.githubusercontent.com/AnswerDotAI/MonsterUI/refs/heads/main/docs/llms.txt\").text\n",
    "```\n",
    "Then I could use a function like this to use it as a tool for solveit:\n",
    "```py\n",
    "def show_fasthtml_llmstxt():\n",
    "    \"\"\"Return llmstxt for fasthtml\"\"\"\n",
    "    return fhtml_llmstxt\n",
    "```\n",
    "Then I asked solveit this:\n",
    "```\n",
    "I want to use fasthtml to display card objects nicely. Can you look at the fasthtml llmstxt using &`[show_fasthtml_llmstxt, read_url, show_monsterui_llmstxt]` and tell me what I need to do? I also want to use Card from monsterui, and I want to display card objects in jupyter environment.\n",
    "```\n",
    "\n",
    "Solveit can use those functions as tools fetch context needed to respond correctly. The image above shows anki cards built with FastHTML. They are fully interactive as well. By turning any function into a tool, we could do a lot of magical things inside of solveit. And with dialoghelper, we could also add, delete, edit messages in the dialogue with tool use, which is very fun."
   ]
  },
  {
   "cell_type": "markdown",
   "id": "46453205",
   "metadata": {
    "input_tokens": 3
   },
   "source": [
    "### blog"
   ]
  },
  {
   "cell_type": "markdown",
   "id": "849813aa",
   "metadata": {
    "input_tokens": 217
   },
   "source": [
    "We can also create blog posts using sovleit. Here is my [dialogue](https://gist.github.com/galopyz/e68cb6709c316c2f3406071313c66e7f) when I created a [blog](https://galopyz.github.io/delicious-nbdev/blog/posts/2025-07-05-gemini_tutorial/) on how to use gemini. By using gemini api, I could use gemini inside of solveit. Solveit can help me write, which is cool. In fact, I am using solveit to write this blog right now. Solveit also helped me write a report for genomics project as well."
   ]
  },
  {
   "cell_type": "markdown",
   "id": "e164f564",
   "metadata": {
    "input_tokens": 9
   },
   "source": [
    "### Web apps with FastHTML"
   ]
  },
  {
   "cell_type": "markdown",
   "id": "c05a47a8",
   "metadata": {
    "input_tokens": 421
   },
   "source": [
    "With a recent update, we can also deploy FastHTML apps from solveit. Here is a [dialogue](https://gist.github.com/galopyz/d9f25f007a1132b2058ac1b339eaa545) on how I deployed a todo app from solveit. To make the existing apps work inside of solveit, some adjustments need to be made. First, serve FastHTML app with `nb_serve` and change routes from `/` into something else as solveit uses it. In this dialogue, I changed it to `/hp` for home page, and when I check `https://whatever_secret_stuff.solveit.fast.ai/hp` after serving the app, I could see the todo app running. Even when building a FastHTML app, solveit method applies. Building one component or a feature at a time and then looking at it and testing it. In the dialogue, we used `render_ft()` to render each component, and using `qshow` on components applies css styling as well. So, whenver we output a component, we get a fully working component with style that we could try out. "
   ]
  },
  {
   "cell_type": "markdown",
   "id": "874c9679",
   "metadata": {},
   "source": [
    "![fasthtml_component.png](fasthtml_component.png)\n",
    "\n",
    "The component is fully functional. I can type anything I want to test."
   ]
  },
  {
   "cell_type": "markdown",
   "id": "69b630c7",
   "metadata": {
    "input_tokens": 421
   },
   "source": [
    "Solveit could also see what the output looks like and it could help with styling. It is also possible to take a screenshot and paste it into a message using `Ctrl-V` for solveit to take a look."
   ]
  },
  {
   "cell_type": "markdown",
   "id": "02813350",
   "metadata": {},
   "source": [
    "![fasthtml_solveit.png](fasthtml_solveit.png)\n",
    "\n",
    "This is a todo app serving from the solveit platform. The app is up to date with the solveit, so as soon as we add routes to handle put request to edit a todo list, we can do it in the app."
   ]
  },
  {
   "cell_type": "markdown",
   "id": "486ac7ba",
   "metadata": {
    "input_tokens": 3
   },
   "source": [
    "## Conclusion"
   ]
  },
  {
   "cell_type": "markdown",
   "id": "98fdbe6a",
   "metadata": {
    "input_tokens": 219
   },
   "source": [
    "In this blog, we went over how I used solveit on learning to code, math, biology, reading, writing, and building. There are so many other thins to try in solveit. Solveit is in active development and there are many features added. There are also other cool features I didn't cover, such as ghost text, keyboard shortcuts, open messages in a new tab, terminal, etc. Solveit is so much fun, and I cant wait to try other features in the future.\n",
    "\n",
    "If you want to learn more about solveit, I recommend you checkout the [solveit website](https://solveit.fast.ai/) and the [video](https://x.com/HamelHusain/status/1956514524628127875) by Jeremy, Johno, and Hamel. "
   ]
  }
 ],
 "metadata": {
  "kernelspec": {
   "display_name": "Python 3 (ipykernel)",
   "language": "python",
   "name": "python3"
  },
  "language_info": {
   "codemirror_mode": {
    "name": "ipython",
    "version": 3
   },
   "file_extension": ".py",
   "mimetype": "text/x-python",
   "name": "python",
   "nbconvert_exporter": "python",
   "pygments_lexer": "ipython3",
   "version": "3.11.11"
  },
  "solveit_dialog_mode": "learning",
  "solveit_ver": 2
 },
 "nbformat": 4,
 "nbformat_minor": 5
}
