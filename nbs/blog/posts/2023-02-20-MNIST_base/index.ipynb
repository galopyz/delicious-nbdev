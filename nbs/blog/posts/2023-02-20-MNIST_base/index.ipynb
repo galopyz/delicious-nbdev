{
 "cells": [
  {
   "cell_type": "raw",
   "id": "8088bd85",
   "metadata": {},
   "source": [
    "---\n",
    "title: \"MNIST base\"\n",
    "author: \"galopy\"\n",
    "date: \"February 20, 2023\"\n",
    "toc: true\n",
    "skip_showdoc: true\n",
    "skip_exec: true\n",
    "comments:\n",
    "  utterances:\n",
    "    repo: galopyz/delicious-nbdev\n",
    "---"
   ]
  },
  {
   "cell_type": "markdown",
   "id": "a65e320c",
   "metadata": {},
   "source": [
    "# MNIST Project"
   ]
  },
  {
   "cell_type": "markdown",
   "id": "f5adc723",
   "metadata": {},
   "source": [
    "In this blog, we will attempt to predict MNIST digits with very simple approach. Instead of using neural networks, we will find a mean of target images and compare an image with that. If the image is similar to one of our means, that's our prediction. "
   ]
  },
  {
   "cell_type": "markdown",
   "id": "1574de78",
   "metadata": {},
   "source": [
    "This is part of Further Research from fastbook [chapter 4](https://github.com/fastai/fastbook/blob/master/04_mnist_basics.ipynb)."
   ]
  },
  {
   "cell_type": "markdown",
   "id": "2eae6909",
   "metadata": {},
   "source": [
    "We import libraries. Even though we're not going to be using fastai's neural network, it's just easy to import everything rather than trying to figure out individual libraries and functions I need."
   ]
  },
  {
   "cell_type": "code",
   "execution_count": null,
   "id": "339ee13f",
   "metadata": {},
   "outputs": [],
   "source": [
    "from fastai.vision.all import *"
   ]
  },
  {
   "cell_type": "code",
   "execution_count": null,
   "id": "382fac27",
   "metadata": {},
   "outputs": [],
   "source": [
    "matplotlib.rc('image', cmap='Greys')"
   ]
  },
  {
   "cell_type": "code",
   "execution_count": null,
   "id": "16eb2f4c",
   "metadata": {},
   "outputs": [
    {
     "data": {
      "text/plain": [
       "(#2) [Path('training'),Path('testing')]"
      ]
     },
     "execution_count": null,
     "metadata": {},
     "output_type": "execute_result"
    }
   ],
   "source": [
    "path = untar_data(URLs.MNIST)\n",
    "Path.BASE_PATH = path\n",
    "path.ls()"
   ]
  },
  {
   "cell_type": "code",
   "execution_count": null,
   "id": "02ea0c24",
   "metadata": {},
   "outputs": [
    {
     "data": {
      "text/plain": [
       "(#10) [Path('training/7'),Path('training/8'),Path('training/5'),Path('training/6'),Path('training/9'),Path('training/3'),Path('training/2'),Path('training/0'),Path('training/4'),Path('training/1')]"
      ]
     },
     "execution_count": null,
     "metadata": {},
     "output_type": "execute_result"
    }
   ],
   "source": [
    "(path/'training').ls()"
   ]
  },
  {
   "cell_type": "markdown",
   "id": "8f35a183",
   "metadata": {},
   "source": [
    "I looked at the number of files for each number, and they are not the same."
   ]
  },
  {
   "cell_type": "code",
   "execution_count": null,
   "id": "c681a774",
   "metadata": {},
   "outputs": [
    {
     "data": {
      "text/plain": [
       "{0: 5923,\n",
       " 1: 6742,\n",
       " 2: 5958,\n",
       " 3: 6131,\n",
       " 4: 5842,\n",
       " 5: 5421,\n",
       " 6: 5918,\n",
       " 7: 6265,\n",
       " 8: 5851,\n",
       " 9: 5949}"
      ]
     },
     "execution_count": null,
     "metadata": {},
     "output_type": "execute_result"
    }
   ],
   "source": [
    "{n: len((path/'training'/str(n)).ls()) for n in range(10)}"
   ]
  },
  {
   "cell_type": "markdown",
   "id": "6af56b33",
   "metadata": {},
   "source": [
    "Since these are paths for images we have to convert them into pytorch tensors. We can use python list to calculate means and our predictions, but pytorch provides us with [broadcasting](https://numpy.org/doc/stable/user/basics.broadcasting.html) ability. This speeds up a lot. We could've used numpy as well here since we're not using GPU or calculating gradients."
   ]
  },
  {
   "cell_type": "markdown",
   "id": "45ead0fe",
   "metadata": {},
   "source": [
    "First, we turn image paths into numbers and return as L, which is an upgraded version of list. "
   ]
  },
  {
   "cell_type": "code",
   "execution_count": null,
   "id": "7a77738b",
   "metadata": {},
   "outputs": [],
   "source": [
    "def create_images(path):\n",
    "    return L(PILImage.create(x) for x in path.ls())"
   ]
  },
  {
   "cell_type": "code",
   "execution_count": null,
   "id": "f8f129ed",
   "metadata": {},
   "outputs": [
    {
     "data": {
      "image/png": "[encoded data removed]",
      "text/plain": [
       "PILImage mode=RGB size=28x28"
      ]
     },
     "execution_count": null,
     "metadata": {},
     "output_type": "execute_result"
    }
   ],
   "source": [
    "ones = create_images(path/'training'/'1')\n",
    "im1 = ones[0]\n",
    "im1"
   ]
  },
  {
   "cell_type": "markdown",
   "id": "ece46898",
   "metadata": {},
   "source": [
    "We need to turn them into tensors for speed. However, we have to check the shape of tensors to make sure they are broadcastable and the shape is one we're expecting."
   ]
  },
  {
   "cell_type": "code",
   "execution_count": null,
   "id": "49307413",
   "metadata": {},
   "outputs": [],
   "source": [
    "def create_tensor_imgs(imgs):\n",
    "    \"Convert a list of images into a tensor\"\n",
    "    return torch.stack([tensor(im) for im in imgs])"
   ]
  },
  {
   "cell_type": "code",
   "execution_count": null,
   "id": "096d3a64",
   "metadata": {},
   "outputs": [
    {
     "data": {
      "text/plain": [
       "torch.Size([28, 28, 3])"
      ]
     },
     "execution_count": null,
     "metadata": {},
     "output_type": "execute_result"
    }
   ],
   "source": [
    "stacked_ones = create_tensor_imgs(ones)\n",
    "stacked_ones[0].shape"
   ]
  },
  {
   "cell_type": "code",
   "execution_count": null,
   "id": "afbeb9ed",
   "metadata": {},
   "outputs": [
    {
     "data": {
      "text/plain": [
       "torch.Size([6742, 28, 28, 3])"
      ]
     },
     "execution_count": null,
     "metadata": {},
     "output_type": "execute_result"
    }
   ],
   "source": [
    "stacked_ones.shape"
   ]
  },
  {
   "cell_type": "markdown",
   "id": "ecc35cca",
   "metadata": {},
   "source": [
    "Looking at the shape of an image, it is interesting to find out that its shape is [28, 28, 3] (y, x, and color values). I was expecting to see [28, 28] (y and x values) because it is a black and white image. So, let's see what's going on here."
   ]
  },
  {
   "cell_type": "code",
   "execution_count": null,
   "id": "a6c97b04",
   "metadata": {},
   "outputs": [
    {
     "data": {
      "text/plain": [
       "array([[[  0,   0,   0],\n",
       "        [221, 221, 221],\n",
       "        [251, 251, 251]],\n",
       "\n",
       "       [[ 64,  64,  64],\n",
       "        [236, 236, 236],\n",
       "        [251, 251, 251]],\n",
       "\n",
       "       [[127, 127, 127],\n",
       "        [251, 251, 251],\n",
       "        [251, 251, 251]],\n",
       "\n",
       "       [[127, 127, 127],\n",
       "        [251, 251, 251],\n",
       "        [251, 251, 251]],\n",
       "\n",
       "       [[128, 128, 128],\n",
       "        [253, 253, 253],\n",
       "        [253, 253, 253]]], dtype=uint8)"
      ]
     },
     "execution_count": null,
     "metadata": {},
     "output_type": "execute_result"
    }
   ],
   "source": [
    "array(im1)[10:15, 12:15]"
   ]
  },
  {
   "cell_type": "markdown",
   "id": "b0f3d895",
   "metadata": {},
   "source": [
    "So, it is just filled with the same numbers per each row. We just need one column, so we can simply take a mean of last rank."
   ]
  },
  {
   "cell_type": "code",
   "execution_count": null,
   "id": "a1a33b8e",
   "metadata": {},
   "outputs": [
    {
     "data": {
      "text/plain": [
       "array([[  0., 221., 251.],\n",
       "       [ 64., 236., 251.],\n",
       "       [127., 251., 251.],\n",
       "       [127., 251., 251.],\n",
       "       [128., 253., 253.]])"
      ]
     },
     "execution_count": null,
     "metadata": {},
     "output_type": "execute_result"
    }
   ],
   "source": [
    "array(im1)[10:15, 12:15].mean(-1)"
   ]
  },
  {
   "cell_type": "markdown",
   "id": "54830d67",
   "metadata": {},
   "source": [
    "So, here is the updated version of `create_tensor_imgs` that calculates a mean so that we can get rid of the last rank of our tensors. "
   ]
  },
  {
   "cell_type": "code",
   "execution_count": null,
   "id": "34d201a5",
   "metadata": {},
   "outputs": [],
   "source": [
    "def create_tensor_imgs(imgs):\n",
    "    \"Convert a list of images into a tensor\"\n",
    "    return torch.stack([tensor(im) for im in imgs]).mean(-1, dtype=torch.float)"
   ]
  },
  {
   "cell_type": "code",
   "execution_count": null,
   "id": "a2d211f9",
   "metadata": {},
   "outputs": [
    {
     "data": {
      "text/plain": [
       "torch.Size([28, 28])"
      ]
     },
     "execution_count": null,
     "metadata": {},
     "output_type": "execute_result"
    }
   ],
   "source": [
    "stacked_ones = create_tensor_imgs(ones)\n",
    "stacked_ones[0].shape"
   ]
  },
  {
   "cell_type": "code",
   "execution_count": null,
   "id": "1448fcb6",
   "metadata": {},
   "outputs": [
    {
     "data": {
      "text/plain": [
       "array([[  0., 221., 251.],\n",
       "       [ 64., 236., 251.],\n",
       "       [127., 251., 251.],\n",
       "       [127., 251., 251.],\n",
       "       [128., 253., 253.]], dtype=float32)"
      ]
     },
     "execution_count": null,
     "metadata": {},
     "output_type": "execute_result"
    }
   ],
   "source": [
    "array(stacked_ones[0])[10:15, 12:15]"
   ]
  },
  {
   "cell_type": "markdown",
   "id": "8585f711",
   "metadata": {},
   "source": [
    "Looks good. Now, we want those pixel values to be between 0 and 1 so that it is easier to train neural networks. However, we do not need to do it here as we're simply finding a mean. It still gives the same result in the end, so we'll divide them by 255. "
   ]
  },
  {
   "cell_type": "code",
   "execution_count": null,
   "id": "9ac9036f",
   "metadata": {},
   "outputs": [],
   "source": [
    "def create_tensor_imgs(imgs):\n",
    "    \"Convert a list of images into a tensor\"\n",
    "    return torch.stack([tensor(im) for im in imgs]).mean(-1, dtype=torch.float)/255"
   ]
  },
  {
   "cell_type": "code",
   "execution_count": null,
   "id": "c8eb8a85",
   "metadata": {},
   "outputs": [
    {
     "data": {
      "text/plain": [
       "array([[0.        , 0.8666667 , 0.9843137 ],\n",
       "       [0.2509804 , 0.9254902 , 0.9843137 ],\n",
       "       [0.49803922, 0.9843137 , 0.9843137 ],\n",
       "       [0.49803922, 0.9843137 , 0.9843137 ],\n",
       "       [0.5019608 , 0.99215686, 0.99215686]], dtype=float32)"
      ]
     },
     "execution_count": null,
     "metadata": {},
     "output_type": "execute_result"
    }
   ],
   "source": [
    "stacked_ones = create_tensor_imgs(ones)\n",
    "array(stacked_ones[0])[10:15, 12:15]"
   ]
  },
  {
   "cell_type": "markdown",
   "id": "257c6bba",
   "metadata": {},
   "source": [
    "Let's take a look at its mean."
   ]
  },
  {
   "cell_type": "code",
   "execution_count": null,
   "id": "df89f9d3",
   "metadata": {},
   "outputs": [
    {
     "data": {
      "image/png": "[encoded data removed]",
      "text/plain": [
       "<Figure size 72x72 with 1 Axes>"
      ]
     },
     "metadata": {
      "needs_background": "light"
     },
     "output_type": "display_data"
    }
   ],
   "source": [
    "mean1 = stacked_ones.mean(0)\n",
    "show_image(mean1);"
   ]
  },
  {
   "cell_type": "markdown",
   "id": "f01cc0db",
   "metadata": {},
   "source": [
    "Well, that looks like 1. Now, we can use this to predict whether an image is 1 or not. This will give us a good baseline. If our deep learning model performs worse than this baseline, we know the model is not performing well. "
   ]
  },
  {
   "cell_type": "markdown",
   "id": "e878d227",
   "metadata": {},
   "source": [
    "Now we have a mean for all images of 1, we can do the same for other numbers as well. It would be easier to define a function that does all the steps."
   ]
  },
  {
   "cell_type": "code",
   "execution_count": null,
   "id": "4ad742cd",
   "metadata": {},
   "outputs": [],
   "source": [
    "def stacked_nums(path):\n",
    "    \"Converts path into stacked tensors.\"\n",
    "    imgs = create_images(path)\n",
    "    return create_tensor_imgs(imgs)"
   ]
  },
  {
   "cell_type": "code",
   "execution_count": null,
   "id": "00ea680d",
   "metadata": {},
   "outputs": [],
   "source": [
    "stacked_zeros = stacked_nums(path/'training'/'0')\n",
    "stacked_twos = stacked_nums(path/'training'/'2')\n",
    "stacked_threes = stacked_nums(path/'training'/'3')\n",
    "stacked_fours = stacked_nums(path/'training'/'4')\n",
    "stacked_fives = stacked_nums(path/'training'/'5')\n",
    "stacked_sixs = stacked_nums(path/'training'/'6')\n",
    "stacked_sevens = stacked_nums(path/'training'/'7')\n",
    "stacked_eights = stacked_nums(path/'training'/'8')\n",
    "stacked_nines = stacked_nums(path/'training'/'9')\n",
    "\n",
    "mean0 = stacked_zeros.mean(0)\n",
    "mean2 = stacked_twos.mean(0)\n",
    "mean3 = stacked_threes.mean(0)\n",
    "mean4 = stacked_fours.mean(0)\n",
    "mean5 = stacked_fives.mean(0)\n",
    "mean6 = stacked_sixs.mean(0)\n",
    "mean7 = stacked_sevens.mean(0)\n",
    "mean8 = stacked_eights.mean(0)\n",
    "mean9 = stacked_nines.mean(0)"
   ]
  },
  {
   "cell_type": "code",
   "execution_count": null,
   "id": "bd99d354",
   "metadata": {},
   "outputs": [],
   "source": [
    "all_means = torch.stack([mean0, mean1, mean2, mean3, mean4, mean5, mean6, mean7, mean8, mean9])"
   ]
  },
  {
   "cell_type": "code",
   "execution_count": null,
   "id": "c5115cca",
   "metadata": {},
   "outputs": [
    {
     "data": {
      "image/png": "[encoded data removed]",
      "text/plain": [
       "<Figure size 1080x432 with 10 Axes>"
      ]
     },
     "metadata": {
      "needs_background": "light"
     },
     "output_type": "display_data"
    }
   ],
   "source": [
    "show_images(all_means, \n",
    "            nrows=2,\n",
    "            titles=[0,1,2,3,4,5,6,7,8,9])"
   ]
  },
  {
   "cell_type": "markdown",
   "id": "c51b0853",
   "metadata": {},
   "source": [
    "There we go, we got all the means for each number. Let's do the same for testing data."
   ]
  },
  {
   "cell_type": "code",
   "execution_count": null,
   "id": "08185fde",
   "metadata": {},
   "outputs": [
    {
     "data": {
      "text/plain": [
       "(torch.Size([1135, 28, 28]), torch.Size([1009, 28, 28]))"
      ]
     },
     "execution_count": null,
     "metadata": {},
     "output_type": "execute_result"
    }
   ],
   "source": [
    "tst_0_tens = stacked_nums(path/'testing'/'0')\n",
    "tst_1_tens = stacked_nums(path/'testing'/'1')\n",
    "tst_2_tens = stacked_nums(path/'testing'/'2')\n",
    "tst_3_tens = stacked_nums(path/'testing'/'3')\n",
    "tst_4_tens = stacked_nums(path/'testing'/'4')\n",
    "tst_5_tens = stacked_nums(path/'testing'/'5')\n",
    "tst_6_tens = stacked_nums(path/'testing'/'6')\n",
    "tst_7_tens = stacked_nums(path/'testing'/'7')\n",
    "tst_8_tens = stacked_nums(path/'testing'/'8')\n",
    "tst_9_tens = stacked_nums(path/'testing'/'9')\n",
    "\n",
    "tst_tens = L([tst_0_tens, tst_1_tens, tst_2_tens, tst_3_tens, tst_4_tens, \n",
    "              tst_5_tens, tst_6_tens, tst_7_tens, tst_8_tens, tst_9_tens])\n",
    "tst_1_tens.shape, tst_9_tens.shape"
   ]
  },
  {
   "cell_type": "markdown",
   "id": "3d25af41",
   "metadata": {},
   "source": [
    "So, now that our data is ready, let's figure out how to make a prediction. One way to make a prediction is to calculate the difference between a given image and our means. For each mean, we will calculate the difference, which is a loss. Whatever has the minimum loss is our prediction. Let's use 4 as an example here."
   ]
  },
  {
   "cell_type": "code",
   "execution_count": null,
   "id": "4bddc30b",
   "metadata": {},
   "outputs": [
    {
     "data": {
      "image/png": "[encoded data removed]",
      "text/plain": [
       "<Figure size 72x72 with 1 Axes>"
      ]
     },
     "metadata": {
      "needs_background": "light"
     },
     "output_type": "display_data"
    }
   ],
   "source": [
    "four = tst_4_tens[0]\n",
    "show_image(four);"
   ]
  },
  {
   "cell_type": "markdown",
   "id": "97395957",
   "metadata": {},
   "source": [
    "We're calculating mean absolute error (MAE) to find the loss. We need to use absolute values because we do not want negative difference to cancel out with positive one."
   ]
  },
  {
   "cell_type": "code",
   "execution_count": null,
   "id": "8bcf771c",
   "metadata": {},
   "outputs": [
    {
     "data": {
      "text/plain": [
       "tensor(0.1861)"
      ]
     },
     "execution_count": null,
     "metadata": {},
     "output_type": "execute_result"
    }
   ],
   "source": [
    "(four - mean0).abs().mean((-1,-2))"
   ]
  },
  {
   "cell_type": "code",
   "execution_count": null,
   "id": "6c2463e6",
   "metadata": {},
   "outputs": [],
   "source": [
    "def mnist_distance(x):\n",
    "    \"Calculate Mean Absolute Error for each mean.\"\n",
    "    return (x - all_means).abs().mean((-1, -2))"
   ]
  },
  {
   "cell_type": "code",
   "execution_count": null,
   "id": "347d1cb5",
   "metadata": {},
   "outputs": [
    {
     "data": {
      "text/plain": [
       "tensor([0.1861, 0.1281, 0.1543, 0.1474, 0.1051, 0.1423, 0.1446, 0.1271, 0.1571,\n",
       "        0.1132])"
      ]
     },
     "execution_count": null,
     "metadata": {},
     "output_type": "execute_result"
    }
   ],
   "source": [
    "preds = mnist_distance(four)\n",
    "preds"
   ]
  },
  {
   "cell_type": "markdown",
   "id": "d68fc05e",
   "metadata": {},
   "source": [
    "From these numbers, we are looking for an index of the smallest one. The smallest distance means a given image is the closest to that mean."
   ]
  },
  {
   "cell_type": "code",
   "execution_count": null,
   "id": "f68e6b4f",
   "metadata": {},
   "outputs": [],
   "source": [
    "def mk_pred(x):\n",
    "    \"Make a prediction from a given image.\"\n",
    "    dist = mnist_distance(x)\n",
    "    return dist.argmin(0)"
   ]
  },
  {
   "cell_type": "code",
   "execution_count": null,
   "id": "3ed647b0",
   "metadata": {},
   "outputs": [
    {
     "data": {
      "text/plain": [
       "tensor(4)"
      ]
     },
     "execution_count": null,
     "metadata": {},
     "output_type": "execute_result"
    }
   ],
   "source": [
    "mk_pred(four)"
   ]
  },
  {
   "cell_type": "markdown",
   "id": "2bc51131",
   "metadata": {},
   "source": [
    "That's good. Let's try it on all the images and find out the accuracy of all of them. One problem is that we cannot simply use braodcasting because of their shapes. Let's take a look at their shapes."
   ]
  },
  {
   "cell_type": "code",
   "execution_count": null,
   "id": "6c969040",
   "metadata": {},
   "outputs": [
    {
     "data": {
      "text/plain": [
       "(torch.Size([982, 28, 28]), torch.Size([10, 28, 28]))"
      ]
     },
     "execution_count": null,
     "metadata": {},
     "output_type": "execute_result"
    }
   ],
   "source": [
    "tst_4_tens.shape, all_means.shape"
   ]
  },
  {
   "cell_type": "markdown",
   "id": "cc5645ac",
   "metadata": {},
   "source": [
    "First rank of `tst_4_tens` and `all_means` are different and neither is 1. That's a problem, so we can add a dimension over there. We can either use slice or `view`."
   ]
  },
  {
   "cell_type": "code",
   "execution_count": null,
   "id": "8c8ad3c0",
   "metadata": {},
   "outputs": [
    {
     "data": {
      "text/plain": [
       "tensor([0.1861, 0.1281, 0.1543, 0.1474, 0.1051, 0.1423, 0.1446, 0.1271, 0.1571,\n",
       "        0.1132])"
      ]
     },
     "execution_count": null,
     "metadata": {},
     "output_type": "execute_result"
    }
   ],
   "source": [
    "mnist_distance(tst_4_tens[0])"
   ]
  },
  {
   "cell_type": "code",
   "execution_count": null,
   "id": "a1791899",
   "metadata": {},
   "outputs": [
    {
     "data": {
      "text/plain": [
       "tensor([0.1861, 0.1281, 0.1543, 0.1474, 0.1051, 0.1423, 0.1446, 0.1271, 0.1571,\n",
       "        0.1132])"
      ]
     },
     "execution_count": null,
     "metadata": {},
     "output_type": "execute_result"
    }
   ],
   "source": [
    "mnist_distance(tst_4_tens[:,None,::])[0]"
   ]
  },
  {
   "cell_type": "code",
   "execution_count": null,
   "id": "8e08fe61",
   "metadata": {},
   "outputs": [
    {
     "data": {
      "text/plain": [
       "tensor([0.1861, 0.1281, 0.1543, 0.1474, 0.1051, 0.1423, 0.1446, 0.1271, 0.1571,\n",
       "        0.1132])"
      ]
     },
     "execution_count": null,
     "metadata": {},
     "output_type": "execute_result"
    }
   ],
   "source": [
    "mnist_distance(tst_4_tens.view(-1, 1, 28, 28))[0]"
   ]
  },
  {
   "cell_type": "markdown",
   "id": "23f879e2",
   "metadata": {},
   "source": [
    "Now we have a way of finding `mnist_distance` efficiently, we have to tweak `mk_pred` a bit to account for it."
   ]
  },
  {
   "cell_type": "code",
   "execution_count": null,
   "id": "1c0602a3",
   "metadata": {},
   "outputs": [],
   "source": [
    "def mk_pred(ts):\n",
    "    \"Make predictions from tensors.\"\n",
    "    ranks = len(ts.shape)\n",
    "    if ranks == 2:\n",
    "        dist = mnist_distance(ts)\n",
    "        return dist.argmin(0)\n",
    "    elif ranks == 3:\n",
    "        dist = mnist_distance(ts.view(-1, 1, 28, 28))\n",
    "        return dist.argmin(1)\n",
    "    else:\n",
    "        raise Exception(f'Invalid ranks of the tensor. Got {ranks} when 2 or 3 are needed.')"
   ]
  },
  {
   "cell_type": "code",
   "execution_count": null,
   "id": "3b3f16a2",
   "metadata": {},
   "outputs": [
    {
     "data": {
      "text/plain": [
       "tensor([True, True, True, True, True])"
      ]
     },
     "execution_count": null,
     "metadata": {},
     "output_type": "execute_result"
    }
   ],
   "source": [
    "(mk_pred(tst_4_tens) == 4)[:5]"
   ]
  },
  {
   "cell_type": "code",
   "execution_count": null,
   "id": "4515e44d",
   "metadata": {},
   "outputs": [
    {
     "data": {
      "text/plain": [
       "[tensor(True), tensor(True), tensor(True), tensor(True), tensor(True)]"
      ]
     },
     "execution_count": null,
     "metadata": {},
     "output_type": "execute_result"
    }
   ],
   "source": [
    "[mk_pred(x)==4 for x in tst_4_tens[:5]]"
   ]
  },
  {
   "cell_type": "markdown",
   "id": "aa06af50",
   "metadata": {},
   "source": [
    "With this new function, we can find the accuracy of the test set of numbers."
   ]
  },
  {
   "cell_type": "code",
   "execution_count": null,
   "id": "9561e39c",
   "metadata": {},
   "outputs": [
    {
     "data": {
      "text/plain": [
       "tensor(0.6680)"
      ]
     },
     "execution_count": null,
     "metadata": {},
     "output_type": "execute_result"
    }
   ],
   "source": [
    "(mk_pred(tst_4_tens) == 4).float().mean()"
   ]
  },
  {
   "cell_type": "code",
   "execution_count": null,
   "id": "424b1c16",
   "metadata": {},
   "outputs": [
    {
     "data": {
      "text/plain": [
       "tensor(0.8153)"
      ]
     },
     "execution_count": null,
     "metadata": {},
     "output_type": "execute_result"
    }
   ],
   "source": [
    "(mk_pred(tst_0_tens) == 0).float().mean()"
   ]
  },
  {
   "cell_type": "code",
   "execution_count": null,
   "id": "2329bfcc",
   "metadata": {},
   "outputs": [],
   "source": [
    "def get_acc(ts, targ):\n",
    "    \"Find an accuracy.\"\n",
    "    return (mk_pred(ts) == targ).float().mean() * 100"
   ]
  },
  {
   "cell_type": "code",
   "execution_count": null,
   "id": "9e7d4d28",
   "metadata": {},
   "outputs": [
    {
     "data": {
      "text/plain": [
       "tensor(81.5306)"
      ]
     },
     "execution_count": null,
     "metadata": {},
     "output_type": "execute_result"
    }
   ],
   "source": [
    "get_acc(tst_0_tens, 0)"
   ]
  },
  {
   "cell_type": "markdown",
   "id": "05dc5dc1",
   "metadata": {},
   "source": [
    "So, here is the accuracy of all the numbers."
   ]
  },
  {
   "cell_type": "code",
   "execution_count": null,
   "id": "1353b582",
   "metadata": {},
   "outputs": [
    {
     "data": {
      "text/plain": [
       "(#10) [tensor(81.5306),tensor(99.8238),tensor(42.3450),tensor(60.8911),tensor(66.8024),tensor(32.6233),tensor(78.7056),tensor(76.4591),tensor(44.2505),tensor(77.6016)]"
      ]
     },
     "execution_count": null,
     "metadata": {},
     "output_type": "execute_result"
    }
   ],
   "source": [
    "L(get_acc(ts, targ) for ts, targ in zip(tst_tens, range(10)))"
   ]
  },
  {
   "cell_type": "code",
   "execution_count": null,
   "id": "12799f14",
   "metadata": {},
   "outputs": [
    {
     "data": {
      "text/plain": [
       "{0: array(81.53061, dtype=float32),\n",
       " 1: array(99.82379, dtype=float32),\n",
       " 2: array(42.34496, dtype=float32),\n",
       " 3: array(60.89109, dtype=float32),\n",
       " 4: array(66.802444, dtype=float32),\n",
       " 5: array(32.623318, dtype=float32),\n",
       " 6: array(78.705635, dtype=float32),\n",
       " 7: array(76.459145, dtype=float32),\n",
       " 8: array(44.25051, dtype=float32),\n",
       " 9: array(77.601585, dtype=float32)}"
      ]
     },
     "execution_count": null,
     "metadata": {},
     "output_type": "execute_result"
    }
   ],
   "source": [
    "acc_dict = {targ:array(get_acc(ts, targ)) for ts, targ in zip(tst_tens, range(10))}\n",
    "acc_dict"
   ]
  },
  {
   "cell_type": "markdown",
   "id": "a6074c1f",
   "metadata": {},
   "source": [
    "We can create a graph and look at it visually."
   ]
  },
  {
   "cell_type": "code",
   "execution_count": null,
   "id": "1463617a",
   "metadata": {},
   "outputs": [
    {
     "data": {
      "text/html": [
       "<div>\n",
       "<style scoped>\n",
       "    .dataframe tbody tr th:only-of-type {\n",
       "        vertical-align: middle;\n",
       "    }\n",
       "\n",
       "    .dataframe tbody tr th {\n",
       "        vertical-align: top;\n",
       "    }\n",
       "\n",
       "    .dataframe thead th {\n",
       "        text-align: right;\n",
       "    }\n",
       "</style>\n",
       "<table border=\"1\" class=\"dataframe\">\n",
       "  <thead>\n",
       "    <tr style=\"text-align: right;\">\n",
       "      <th></th>\n",
       "      <th>0</th>\n",
       "      <th>1</th>\n",
       "      <th>2</th>\n",
       "      <th>3</th>\n",
       "      <th>4</th>\n",
       "      <th>5</th>\n",
       "      <th>6</th>\n",
       "      <th>7</th>\n",
       "      <th>8</th>\n",
       "      <th>9</th>\n",
       "    </tr>\n",
       "  </thead>\n",
       "  <tbody>\n",
       "    <tr>\n",
       "      <th>0</th>\n",
       "      <td>81.530609</td>\n",
       "      <td>99.823792</td>\n",
       "      <td>42.344959</td>\n",
       "      <td>60.89109</td>\n",
       "      <td>66.802444</td>\n",
       "      <td>32.623318</td>\n",
       "      <td>78.705635</td>\n",
       "      <td>76.459145</td>\n",
       "      <td>44.250511</td>\n",
       "      <td>77.601585</td>\n",
       "    </tr>\n",
       "  </tbody>\n",
       "</table>\n",
       "</div>"
      ],
      "text/plain": [
       "           0          1          2         3          4          5          6  \\\n",
       "0  81.530609  99.823792  42.344959  60.89109  66.802444  32.623318  78.705635   \n",
       "\n",
       "           7          8          9  \n",
       "0  76.459145  44.250511  77.601585  "
      ]
     },
     "execution_count": null,
     "metadata": {},
     "output_type": "execute_result"
    }
   ],
   "source": [
    "df = pd.DataFrame(acc_dict, index=range(1))\n",
    "df"
   ]
  },
  {
   "cell_type": "code",
   "execution_count": null,
   "id": "964da971",
   "metadata": {},
   "outputs": [
    {
     "data": {
      "image/png": "[encoded data removed]",
      "text/plain": [
       "<Figure size 432x288 with 1 Axes>"
      ]
     },
     "metadata": {
      "needs_background": "light"
     },
     "output_type": "display_data"
    }
   ],
   "source": [
    "df.plot.bar();"
   ]
  },
  {
   "cell_type": "markdown",
   "id": "6055a826",
   "metadata": {},
   "source": [
    "So, our model is very good at predicting 1, but not as good at predicting 5."
   ]
  },
  {
   "cell_type": "code",
   "execution_count": null,
   "id": "390dd34e",
   "metadata": {},
   "outputs": [
    {
     "data": {
      "text/plain": [
       "66.1033088684082"
      ]
     },
     "execution_count": null,
     "metadata": {},
     "output_type": "execute_result"
    }
   ],
   "source": [
    "sum(acc_dict.values())/10"
   ]
  },
  {
   "cell_type": "markdown",
   "id": "0a8ecc77",
   "metadata": {},
   "source": [
    "Overall, we have 66% accuracy. That's not bad for a starting point. Now, our next step is to build a better model using neural networks."
   ]
  }
 ],
 "metadata": {
  "kernelspec": {
   "display_name": "python3",
   "language": "python",
   "name": "python3"
  }
 },
 "nbformat": 4,
 "nbformat_minor": 5
}
