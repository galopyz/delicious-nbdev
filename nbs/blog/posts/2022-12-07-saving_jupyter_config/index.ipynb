{
 "cells": [
  {
   "cell_type": "raw",
   "id": "2c30dccc",
   "metadata": {},
   "source": [
    "---\n",
    "title: \"Saving Jupyter configuration on Paperspace.\"\n",
    "author: \"galopy\"\n",
    "date: \"December 07, 2022\"\n",
    "toc: true\n",
    "skip_showdoc: true\n",
    "skip_exec: true\n",
    "comments:\n",
    "  utterances:\n",
    "    repo: galopyz/delicious-nbdev\n",
    "---"
   ]
  },
  {
   "cell_type": "markdown",
   "id": "bed95a98",
   "metadata": {},
   "source": [
    "# Saving Jupyter configuration"
   ]
  },
  {
   "cell_type": "markdown",
   "id": "def21481",
   "metadata": {},
   "source": [
    "Today, I will go over how to save Jupyter configurations on Paperspace so that we can keep using the customized shortcuts we saved."
   ]
  },
  {
   "cell_type": "markdown",
   "id": "5ed0a40b",
   "metadata": {},
   "source": [
    "As I used more Jupyter notebook, I learned shortcuts to save mouse clicks and time. Instead of clicking `run` to run a cell, I use `Shift-Enter` to run and move to the next cell or `Ctrl-Enter` to run and stay at the cell. I also use `m` to convert a cell to markdown and `0,0` to restart kernel. However, there are more commands I assigned keyboard shortcuts for."
   ]
  },
  {
   "cell_type": "markdown",
   "id": "9559100f",
   "metadata": {},
   "source": [
    "On Jupyter notebook, some of my customized shortcuts are these:\n",
    "\n",
    "- `run all cells above`: `Ctrl-Shift-Enter`\n",
    "- `move selected cells up`: `Ctrl-K`\n",
    "- `move selected cells down`: `Ctrl-J`\n",
    "- `shutdown kernel and close window`: `9,1,1`\n",
    "- `switch between showing and hiding the header`: `Alt-Ctrl-H`\n"
   ]
  },
  {
   "cell_type": "markdown",
   "id": "73537ec7",
   "metadata": {},
   "source": [
    "One day, I got on Paperspace and opened classic Jupyter notebook. As Paperspace's notebook looked the same as my local computer's, I tried to use my shortcut thinking it was my local computer, but nothing happened. Then I thought, 'oh yeah, I'm on paperspace. I cannot use shortcuts.' After a moment, I also thought 'why not?' I started to look for a file in my home directory in Paperspace to find out where it's keeping track of all the configuration stuff, and put it in my persistent storage. If you wanted to save Jupyter configuration, but couldn't do it yet, here's how."
   ]
  },
  {
   "cell_type": "markdown",
   "id": "7aa45eb5",
   "metadata": {},
   "source": [
    "## Taking actions"
   ]
  },
  {
   "cell_type": "markdown",
   "id": "5a7fb5dc",
   "metadata": {},
   "source": [
    "This is on Paperspace's instance using fastai image. \n",
    "\n",
    "1. `cd`: go to home directory.\n",
    "2. `ls -al`: List (show) hidden directories and files. You can see that we have `.jupyter/`. This is where jupyter things are located.\n",
    "\n",
    "![`ls -al` output](ls.png)\n",
    "\n",
    "3. Open Jupyter notebook and save shortcuts. Personally, I opened classic notebook and saved mine, but jupyterlab settings should work, too. You can also save other settings on jupyterlab as well, such as terminal color, etc. These will be persistent as well.\n",
    "4. `vim ~/.jupyter/serverconfig/notebook.json`: No need to edit anything. We can just see that this is where all configurations are saved. This is how mine looks like:\n",
    "\n",
    "![`My jupyterlab configurations`](shortcuts.png)\n",
    "\n",
    "5. `mv ~/.jupyter /storage/`: Move `.jupyter/` directory into our persistent storage space. \n",
    "6. `ln -s /storage/.jupyter`: Create a symlink from our persistent storage's jupyter to home directory.\n",
    "7. `vim /storage/pre-run.sh`: To make these settings last next time the instance starts, we have to add some lines to `pre-run.sh`. Add following lines into the file if there's nothing in it:\n",
    "\n",
    "\n",
    "``` bash\n",
    "#!/usr/bin/env bash\n",
    "\n",
    "pushd ~\n",
    "cd\n",
    "\n",
    "rm -rf .jupyter/\n",
    "ln -s /storage/.jupyter/\n",
    "\n",
    "popd\n",
    "```"
   ]
  },
  {
   "cell_type": "markdown",
   "id": "77c79571",
   "metadata": {},
   "source": [
    "That's it. You can restart your instance to check."
   ]
  },
  {
   "cell_type": "markdown",
   "id": "3db9557b",
   "metadata": {},
   "source": [
    "## Conclusion"
   ]
  },
  {
   "cell_type": "markdown",
   "id": "c23d4ae4",
   "metadata": {},
   "source": [
    "We saved jupyter configurations on Paperspace today. We used some bash If you are not familiar with bash, scripts, and others covered here, check out [live coding vidoes](https://www.youtube.com/playlist?list=PLfYUBJiXbdtSLBPJ1GMx-sQWf6iNhb8mM) by Jeremy Howard. I have written blogs based on these videos, so you can read them as well. "
   ]
  }
 ],
 "metadata": {
  "kernelspec": {
   "display_name": "Python 3 (ipykernel)",
   "language": "python",
   "name": "python3"
  },
  "language_info": {
   "codemirror_mode": {
    "name": "ipython",
    "version": 3
   },
   "file_extension": ".py",
   "mimetype": "text/x-python",
   "name": "python",
   "nbconvert_exporter": "python",
   "pygments_lexer": "ipython3",
   "version": "3.10.6"
  }
 },
 "nbformat": 4,
 "nbformat_minor": 5
}
