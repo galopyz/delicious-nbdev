{
 "cells": [
  {
   "cell_type": "raw",
   "id": "d66dcd58",
   "metadata": {},
   "source": [
    "---\n",
    "title: \"Live coding 6\"\n",
    "author: \"galopy\"\n",
    "date: \"November 30, 2022\"\n",
    "toc: true\n",
    "skip_showdoc: true\n",
    "skip_exec: true\n",
    "comments:\n",
    "  utterances:\n",
    "    repo: galopyz/delicious-nbdev\n",
    "---"
   ]
  },
  {
   "cell_type": "markdown",
   "id": "ea28db5f",
   "metadata": {},
   "source": [
    "# Live coding 6"
   ]
  },
  {
   "cell_type": "markdown",
   "id": "48fabddd",
   "metadata": {},
   "source": [
    "In this blog, I will cover how to setup mamba and bash_history in Paperspace. We also will go over a bit of fastbook and some terminal commands."
   ]
  },
  {
   "cell_type": "markdown",
   "id": "0cc7266c",
   "metadata": {},
   "source": [
    "This blog is based on Live coding 6 [Youtube video](https://www.youtube.com/watch?v=V3cN-bqFUh4&list=PLfYUBJiXbdtSLBPJ1GMx-sQWf6iNhb8mM&index=6&t=3801s&ab_channel=JeremyHoward). There's been some changes to Paperspace since the video is recorded. For instance, `mamba` is available now, so it's easier to setup. Let's dive in."
   ]
  },
  {
   "cell_type": "markdown",
   "id": "1bbba30c",
   "metadata": {},
   "source": [
    "## Mamba"
   ]
  },
  {
   "cell_type": "markdown",
   "id": "7aa3c74e",
   "metadata": {},
   "source": [
    "So, we want to intall universal-ctags, but it's not available on pip because it's not really a python thing. We can install it with a package manager, but it won't be available after we restart Paperspace instance. Are we out of luck? No! Thankfully, we can use `mamba`! We can use `-p` to specify where to install [universal-ctags](https://anaconda.org/conda-forge/universal-ctags), and we can make it persistent."
   ]
  },
  {
   "cell_type": "markdown",
   "id": "ea86fbdf",
   "metadata": {},
   "source": [
    "These are the steps.\n",
    "\n",
    "(@) Open up terminal in Paperspace.\n",
    "(@) `cd`: Change directory to home directory (/root/)\n",
    "(@) `mkdir conda`: We create conda directory here so that we can install packages in this directory.\n",
    "(@) `mamba install -p ~/conda universal-ctags`: We are using `mamba` with `-p ~/conda`. With `-p`, we specify where to install the package and `~/conda` is same as `/root/conda` in this case. `~` is short for home directory, which is `/root/`.\n",
    "(@) Follow the prompt, and we have ctags installed."
   ]
  },
  {
   "cell_type": "markdown",
   "id": "2b92fedf",
   "metadata": {},
   "source": [
    "![Mamba install](conda1.png)"
   ]
  },
  {
   "cell_type": "markdown",
   "id": "bd95c2c5",
   "metadata": {},
   "source": [
    "Next thing is to add this to our `PATH` environment variable. We can check our environment variable with `echo` command. With `echo $PATH`, we can take a look. Then, type `export PATH=~/conda/bin:$PATH`. This updates our shell's `PATH` environment variable to include ~/conda/bin. If you are curious, take a look at what's inside of conda directory. "
   ]
  },
  {
   "cell_type": "markdown",
   "id": "4f3b6641",
   "metadata": {},
   "source": [
    "So, let's try if ctags is installed correctly. Try `ctags --version`.\n",
    "\n",
    "This is what it should look like:\n",
    "\n",
    "![Correct ctags version](ctags2.png)"
   ]
  },
  {
   "cell_type": "markdown",
   "id": "f96d5c2e",
   "metadata": {},
   "source": [
    "If your looks something like this, it's not installed correctly. This is from Emacs:\n",
    "\n",
    "![Wrong ctags version](ctags1.png)"
   ]
  },
  {
   "cell_type": "markdown",
   "id": "7dde92cb",
   "metadata": {},
   "source": [
    "If you forgot how to use ctags, check out [`Live coding 5`](/blog/posts/2022-11-27-live_coding5/#ctags)."
   ]
  },
  {
   "cell_type": "markdown",
   "id": "7eae69b3",
   "metadata": {},
   "source": [
    "Cool. This is working for now, but ctags will not be available if we restart our instance. To make this available persistently, we have to do some work. Let's take care of our environment variable first. Rather than typing `export PATH=~/conda/bin:$PATH` every single time we start our instance, we can create `.bash.local` file inside of `/storage/`. This file will be run when the instance starts. This is what mine look like:\n",
    "\n",
    "![My `/storage/.bash.local` file](bash.png)\n",
    "\n",
    "First line is for conda and second line is for pip. Last line creates an alias so that I can type `piu` instead of `pip install --user`."
   ]
  },
  {
   "cell_type": "markdown",
   "id": "ed19742e",
   "metadata": {},
   "source": [
    "::: {.callout-warning}\n",
    "\n",
    "Space is not allowed between = and words. This will not work. You have to type similar to mine.\n",
    "\n",
    ":::"
   ]
  },
  {
   "cell_type": "markdown",
   "id": "d344cfc3",
   "metadata": {},
   "source": [
    "Let's move on to the next steps:\n",
    "\n",
    "(@) `mv conda/ /storage/cfg/`: Move the conda directory into our permanent storage location. \n",
    "(@) `ln -s /storage/cfg/conda`: Create a symlink from the moved directory to here.\n",
    "(@) `ctags --version`: Test it again.\n",
    "(@) Now, add `ln -s /storage/cfg/conda` to `/storage/pre-run.sh` in order to make conda packages available even after restarting the instance."
   ]
  },
  {
   "cell_type": "markdown",
   "id": "b99e51ce",
   "metadata": {},
   "source": [
    "Now we are set with conda packages. But how big is the conda directory? How much disk space does it use? Because we have limited space, it's good to check this with `du -sh` command. This command roughly means disk usage (du) with summary (s) and human readable (h) options. Change directory to conda directory and try it. We can also do `du -sh *` to see list each directory with sizes.\n",
    "\n",
    "![`du -sh *`](du.png)"
   ]
  },
  {
   "cell_type": "markdown",
   "id": "a84d1dcb",
   "metadata": {},
   "source": [
    "## Bash history"
   ]
  },
  {
   "cell_type": "markdown",
   "id": "0ec449d0",
   "metadata": {},
   "source": [
    "Whenever we type command on terminal, it is saved. We can press up arrow and down arrow to refer back to our command history. We can type `history` to look at them. Basically, all the history is stored at `~/.bash_history` file. Take a look."
   ]
  },
  {
   "cell_type": "markdown",
   "id": "4facf0a7",
   "metadata": {},
   "source": [
    "To make our Paperspace instance feel more user friendly, we can save our bash command history so that we can refer back to our history before we closed the instance.\n",
    "\n",
    "1. `cd`: Move to home directory.\n",
    "2. `mv .bash_history /storage/cfg`: Move the .bash_history file into `/storage/cfg/` directory.\n",
    "3. `ln -s /storage/cfg/.bash_history`: Create a symlink.\n",
    "\n",
    "Now we just have to update our `pre-run.sh` file. Here's what mine looks like so far. Same thing here like we did before with .local/. We delete .bash_history if system generated one at this point. Then make the symlink."
   ]
  },
  {
   "cell_type": "markdown",
   "id": "8acad5ad",
   "metadata": {},
   "source": [
    "![pre-run.sh](bash2.png)"
   ]
  },
  {
   "cell_type": "markdown",
   "id": "52e6524c",
   "metadata": {},
   "source": [
    "Now, if you want the history to work, make sure to close the terminal with `Ctrl-d` before shutting down the instance. I noticed that history does not get saved if I just shut down the instance."
   ]
  },
  {
   "cell_type": "markdown",
   "id": "2248ca6e",
   "metadata": {},
   "source": [
    "## Fastbook setup"
   ]
  },
  {
   "cell_type": "markdown",
   "id": "577efb81",
   "metadata": {},
   "source": [
    "Next thing we will cover is setting up [fastbook](https://github.com/fastai/fastbook). We will add this into our `/notebooks/` so that we can have this permanently. Easy way to do it is simply go `/notebooks/` directory and type `git clone https://github.com/fastai/fastbook.git`. However, we can fork this repo first. On the fastbook github page, click *fork* to get a copy of the repo. It is located on the top right side of the page.\n",
    "\n",
    "![forking a repo](fork.png)"
   ]
  },
  {
   "cell_type": "markdown",
   "id": "d00282af",
   "metadata": {},
   "source": [
    "Then use `git clone` to clone it inside of Paperspace. In order to use git to actually commit to GitHub, we have to setup .gitconfig file. Type `git config --global user.name \"yourname\"` and `git config --global user.email \"youremail\"` to setup them. Now, the same thing. To make this persistent, we have to move this file to `/storage/cfg` and create a symlink. Here are the steps:\n",
    "\n",
    "- `git config --global user.name \"yourname\"`\n",
    "- `git config --global user.email \"youremail\"`\n",
    "- `mv ~/.gitconfig /storage/cfg/`\n",
    "- `ln -s /storage/cfg/.gitconfig`\n",
    "\n",
    "Now, our gitconfig is complete."
   ]
  },
  {
   "cell_type": "markdown",
   "id": "85ddc565",
   "metadata": {},
   "source": [
    "Let's go over some fastbook stuff now. We will see this code block when we look at the book:"
   ]
  },
  {
   "cell_type": "code",
   "execution_count": null,
   "id": "69ed6cd0",
   "metadata": {},
   "outputs": [],
   "source": [
    "from fastai.vision.all import *"
   ]
  },
  {
   "cell_type": "markdown",
   "id": "2ba9befe",
   "metadata": {},
   "source": [
    "This means we are importing everything (\\*) from *fastai/vision/all.py* module. See how **.** changes to **/**? We can take a look at this file if we want to. Now, we know where to look when we encounter this stuff in our book to dig deeper."
   ]
  },
  {
   "cell_type": "markdown",
   "id": "5993dfe8",
   "metadata": {},
   "source": [
    "::: {.callout-tip collapse=true}\n",
    "\n",
    "#### `vim` command tips\n",
    "\n",
    "In `vim`, we can type `*` on a word to move the cursor to next occurance of it. \n",
    "Typing `Ctrl-p` while typing a word can fill the rest of the word like auto completion. The word has to be used before.\n",
    "\n",
    ":::"
   ]
  },
  {
   "cell_type": "markdown",
   "id": "d4256f2e",
   "metadata": {},
   "source": [
    "Another thing we find a lot is `path`. It is made with [Pathlib](https://docs.python.org/3/library/pathlib.html) from python standard library. "
   ]
  },
  {
   "cell_type": "code",
   "execution_count": null,
   "id": "041bb2bb",
   "metadata": {},
   "outputs": [
    {
     "data": {
      "text/plain": [
       "Path('/home/kappa/.fastai/data/mnist_sample')"
      ]
     },
     "execution_count": null,
     "metadata": {},
     "output_type": "execute_result"
    }
   ],
   "source": [
    "path = untar_data(URLs.MNIST_SAMPLE)\n",
    "path"
   ]
  },
  {
   "cell_type": "markdown",
   "id": "9cd5c987",
   "metadata": {},
   "source": [
    "It is upgraded with fastai, so we can use `ls` method to look at files and directories within this path."
   ]
  },
  {
   "cell_type": "code",
   "execution_count": null,
   "id": "56f8f175",
   "metadata": {},
   "outputs": [
    {
     "data": {
      "text/plain": [
       "(#3) [Path('/home/kappa/.fastai/data/mnist_sample/labels.csv'),Path('/home/kappa/.fastai/data/mnist_sample/train'),Path('/home/kappa/.fastai/data/mnist_sample/valid')]"
      ]
     },
     "execution_count": null,
     "metadata": {},
     "output_type": "execute_result"
    }
   ],
   "source": [
    "path.ls()"
   ]
  },
  {
   "cell_type": "markdown",
   "id": "9f8abfb0",
   "metadata": {},
   "source": [
    "Another useful feature from `path` is `Path.BASE_PATH`. This can simplify our path by setting the base path."
   ]
  },
  {
   "cell_type": "code",
   "execution_count": null,
   "id": "1deaf83b",
   "metadata": {},
   "outputs": [],
   "source": [
    "Path.BASE_PATH = path"
   ]
  },
  {
   "cell_type": "code",
   "execution_count": null,
   "id": "8dac1163",
   "metadata": {},
   "outputs": [
    {
     "data": {
      "text/plain": [
       "(#3) [Path('labels.csv'),Path('train'),Path('valid')]"
      ]
     },
     "execution_count": null,
     "metadata": {},
     "output_type": "execute_result"
    }
   ],
   "source": [
    "path.ls()"
   ]
  },
  {
   "cell_type": "markdown",
   "id": "cf44282b",
   "metadata": {},
   "source": [
    "See how simple and readable it is now? "
   ]
  },
  {
   "cell_type": "markdown",
   "id": "6946b316",
   "metadata": {},
   "source": [
    "## Conclusion"
   ]
  },
  {
   "cell_type": "markdown",
   "id": "294dccb9",
   "metadata": {},
   "source": [
    "Now our environment is setup so that we can read fastbook and commit changes to our forked repo. Committing to a forked repo is optional because paperspace will keep the notebooks. However, I like backing up my work at GitHub just in case I want to work on my local computer. "
   ]
  },
  {
   "cell_type": "markdown",
   "id": "f4797054",
   "metadata": {},
   "source": [
    "If you want to dig deeper, you can watch the [video](https://www.youtube.com/watch?v=V3cN-bqFUh4&list=PLfYUBJiXbdtSLBPJ1GMx-sQWf6iNhb8mM&index=6&t=3801s&ab_channel=JeremyHoward) this blog is based on. "
   ]
  }
 ],
 "metadata": {
  "kernelspec": {
   "display_name": "python3",
   "language": "python",
   "name": "python3"
  }
 },
 "nbformat": 4,
 "nbformat_minor": 5
}
