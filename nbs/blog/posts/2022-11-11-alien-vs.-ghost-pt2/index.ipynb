{
 "cells": [
  {
   "cell_type": "raw",
   "id": "e9e1dd2a",
   "metadata": {},
   "source": [
    "---\n",
    "title: \"Alien vs. Ghost Pt.2 Deploying\"\n",
    "author: \"galopy\"\n",
    "date: \"November 11, 2022\"\n",
    "toc: true\n",
    "skip_showdoc: true\n",
    "skip_exec: true\n",
    "comments:\n",
    "  utterances:\n",
    "    repo: galopyz/delicious-nbdev\n",
    "---"
   ]
  },
  {
   "cell_type": "code",
   "execution_count": null,
   "id": "969bd6f7",
   "metadata": {},
   "outputs": [],
   "source": [
    "#|default_exp app"
   ]
  },
  {
   "cell_type": "markdown",
   "id": "472ab5fc",
   "metadata": {},
   "source": [
    "# Deploying Alient vs. Ghost"
   ]
  },
  {
   "cell_type": "markdown",
   "id": "4b16307d",
   "metadata": {},
   "source": [
    "In this article, we will deploy the model that we trained using [FastAI](https://www.fast.ai/) on part 1 on [Hugging Face Spaces](https://huggingface.co/spaces) with [Gradio](https://www.gradio.app/) and [nbdev](https://nbdev.fast.ai/)."
   ]
  },
  {
   "cell_type": "markdown",
   "id": "a3d2409c",
   "metadata": {},
   "source": [
    "![prediction page deployed on Hugging Face Spaces](AvG_on_HFS2.png \"App making prediction\")"
   ]
  },
  {
   "cell_type": "markdown",
   "id": "15cc540f",
   "metadata": {},
   "source": [
    "But why do we want to bother to deploy our model? We have a model that works! Well, because we cannot easily share our working model with others. We do not want our friends and family to run jupyter notebook or colab in order to try out what we created. We could make a website ourselves, but there is a better way: using Gradio. Gradio is an easy way to setup a web app for others. You can play with the [final product](https://huggingface.co/spaces/galopyz/Alien_vs_Ghost). It is deployed on Hugging Face Spaces because they take care of all the backend things. Once, deployed, we do not have to take care of scaling and other headaches."
   ]
  },
  {
   "cell_type": "markdown",
   "id": "3e5a7036",
   "metadata": {},
   "source": [
    "Another tool we are using today is nbdev. nbdev allows us to convert code in Jupyter notebook into modules so that we do not have to manually copy and paste code from Jupyter notebook into a file. So, while we are figuring out and experimenting with our code in Jupyter notebook, we are also writing finished product as well. "
   ]
  },
  {
   "cell_type": "markdown",
   "id": "82760126",
   "metadata": {},
   "source": [
    "::: {.callout-tip}\n",
    "\n",
    "Since we are creating a web app, we can run it on mobile devices as well. I shared this with my family through phones, and it was very fun.\n",
    "\n",
    ":::"
   ]
  },
  {
   "cell_type": "markdown",
   "id": "47d9039c",
   "metadata": {},
   "source": [
    "## Create Hugging Face Spaces"
   ]
  },
  {
   "cell_type": "markdown",
   "id": "937b35de",
   "metadata": {},
   "source": [
    "First thing we will do is create a Hugging Face Space. Let's head over to [Hugging Face Spaces](https://huggingface.co/spaces). Click Create new Space on the right. You will be directed to this page:"
   ]
  },
  {
   "cell_type": "markdown",
   "id": "0ac203c0",
   "metadata": {},
   "source": [
    "![Creating a new space](create_space.png \"Creating a new space\")"
   ]
  },
  {
   "cell_type": "markdown",
   "id": "b63cd034",
   "metadata": {},
   "source": [
    "Fill in Space name, choose a License and click Gradio. Then, scroll down to create space."
   ]
  },
  {
   "cell_type": "markdown",
   "id": "57070972",
   "metadata": {},
   "source": [
    "Now, we have a Github repository that we can start working on. We can clone the repository by typing `git clone https://huggingface.co/spaces/galopyz/Exciting_project` in the terminal. If you are not familiar with Github, here is a [tutorial](https://docs.github.com/en/get-started/quickstart/hello-world)."
   ]
  },
  {
   "cell_type": "markdown",
   "id": "349f7e7e",
   "metadata": {},
   "source": [
    "We will be working in this repository for the rest of this article. So, let's head there and open up a Jupyter notebook. "
   ]
  },
  {
   "cell_type": "markdown",
   "id": "889f683d",
   "metadata": {},
   "source": [
    "## Grab the model and get libraries"
   ]
  },
  {
   "cell_type": "markdown",
   "id": "f30db459",
   "metadata": {},
   "source": [
    "First, grab the model we trained from part 1 and import Gradio and FastAI. We need Gradio to create widgets and FastAI to make predictions."
   ]
  },
  {
   "cell_type": "markdown",
   "id": "ffc113ab",
   "metadata": {},
   "source": [
    "If you don't have Gradio installed on your computer, you can use `pip install gradio` to install it on the terminal or `!pip install gradio` in the Jupyter notebook cell like this:"
   ]
  },
  {
   "cell_type": "markdown",
   "id": "eed3bd7d",
   "metadata": {},
   "source": [
    "``` python\n",
    "!pip install gradio\n",
    "```\n",
    ":::{.cell-output}\n",
    "    bulla bulla (downloading stuff)\n",
    ":::"
   ]
  },
  {
   "cell_type": "markdown",
   "id": "09691bf4",
   "metadata": {},
   "source": [
    "Then, we import libraries. As we can see, we have `#| export` at the top of the cell. This is called a [directive](https://nbdev.fast.ai/explanations/directives.html). This simply lets nbdev know that we need this cell when we convert this Jupyter notebook into a module later. Without this, nbdev will skip this cell and move onto the next one with `#| export`. Because our module needs to import those libraries in order to make predictions and create widgets, we need this cell to be exported."
   ]
  },
  {
   "cell_type": "markdown",
   "id": "e79cccf4",
   "metadata": {},
   "source": [
    "``` python\n",
    "#| export\n",
    "from fastai.vision.all import *\n",
    "import gradio as gr\n",
    "```"
   ]
  },
  {
   "cell_type": "code",
   "execution_count": null,
   "id": "faa5d168",
   "metadata": {},
   "outputs": [],
   "source": [
    "#| export\n",
    "from fastai.vision.all import *\n",
    "import gradio as gr"
   ]
  },
  {
   "cell_type": "markdown",
   "id": "a84334c8",
   "metadata": {},
   "source": [
    "We assign `learn` using `load_learner` on the pickled model. This is same `learn` that we created in part 1, so we can also make predictions with it."
   ]
  },
  {
   "cell_type": "markdown",
   "id": "e03f19bc",
   "metadata": {},
   "source": [
    "``` python\n",
    "#| export\n",
    "learn = load_learner('alien_vs_ghost.pkl')\n",
    "```"
   ]
  },
  {
   "cell_type": "code",
   "execution_count": null,
   "id": "d0531a43",
   "metadata": {},
   "outputs": [],
   "source": [
    "#| export\n",
    "learn = load_learner('alien_vs_ghost.pkl')"
   ]
  },
  {
   "cell_type": "code",
   "execution_count": null,
   "id": "64239778",
   "metadata": {},
   "outputs": [
    {
     "data": {
      "text/plain": [
       "['alien', 'ghost']"
      ]
     },
     "execution_count": null,
     "metadata": {},
     "output_type": "execute_result"
    }
   ],
   "source": [
    "learn.dls.vocab"
   ]
  },
  {
   "cell_type": "markdown",
   "id": "42eabae8",
   "metadata": {},
   "source": [
    "Again, we are using `export` directive to load learner. However, we are not exporting the cell containing `learn.dls.vocab` because we are just checking vocab (categories or labels we trained the model with). So, cells that we are experimenting and checking values do not have to be exported."
   ]
  },
  {
   "cell_type": "markdown",
   "id": "811d86e6",
   "metadata": {},
   "source": [
    "Let's download a new image and test the model. You can go to a search engine and download an image and test it to see if it still works!"
   ]
  },
  {
   "cell_type": "code",
   "execution_count": null,
   "id": "b95eb370",
   "metadata": {},
   "outputs": [
    {
     "data": {
      "image/png": "[encoded data removed]",
      "text/plain": [
       "PILImage mode=RGB size=192x108"
      ]
     },
     "execution_count": null,
     "metadata": {},
     "output_type": "execute_result"
    }
   ],
   "source": [
    "path = Path('alien1.jpeg')\n",
    "alien1 = PILImage.create(path)\n",
    "alien1.thumbnail((192, 192))\n",
    "alien1"
   ]
  },
  {
   "cell_type": "code",
   "execution_count": null,
   "id": "6c7022b0",
   "metadata": {},
   "outputs": [
    {
     "data": {
      "text/html": [
       "\n",
       "<style>\n",
       "    /* Turns off some styling */\n",
       "    progress {\n",
       "        /* gets rid of default border in Firefox and Opera. */\n",
       "        border: none;\n",
       "        /* Needs to be in here for Safari polyfill so background images work as expected. */\n",
       "        background-size: auto;\n",
       "    }\n",
       "    progress:not([value]), progress:not([value])::-webkit-progress-bar {\n",
       "        background: repeating-linear-gradient(45deg, #7e7e7e, #7e7e7e 10px, #5c5c5c 10px, #5c5c5c 20px);\n",
       "    }\n",
       "    .progress-bar-interrupted, .progress-bar-interrupted::-webkit-progress-bar {\n",
       "        background: #F44336;\n",
       "    }\n",
       "</style>\n"
      ],
      "text/plain": [
       "<IPython.core.display.HTML object>"
      ]
     },
     "metadata": {},
     "output_type": "display_data"
    },
    {
     "data": {
      "text/html": [],
      "text/plain": [
       "<IPython.core.display.HTML object>"
      ]
     },
     "metadata": {},
     "output_type": "display_data"
    },
    {
     "data": {
      "text/plain": [
       "('alien', TensorBase(0), TensorBase([9.9972e-01, 2.7873e-04]))"
      ]
     },
     "execution_count": null,
     "metadata": {},
     "output_type": "execute_result"
    }
   ],
   "source": [
    "learn.predict(alien1)"
   ]
  },
  {
   "cell_type": "markdown",
   "id": "ae97b8a6",
   "metadata": {},
   "source": [
    "That worked! Now let's create a function that classifies images and returns the probabilities on each category. Then, we can use this for the widget."
   ]
  },
  {
   "cell_type": "markdown",
   "id": "c429f999",
   "metadata": {},
   "source": [
    "``` python\n",
    "#|export\n",
    "categories = learn.dls.vocab\n",
    "def classify_images(img):\n",
    "    \"\"\"classifies images and returns the probabilities on each categories.\"\"\"\n",
    "    pred, pred_idx, probs = learn.predict(img)\n",
    "    return dict(zip(categories, map(float, probs)))\n",
    "```"
   ]
  },
  {
   "cell_type": "code",
   "execution_count": null,
   "id": "e8e1bd2b",
   "metadata": {},
   "outputs": [],
   "source": [
    "#|export\n",
    "categories = learn.dls.vocab\n",
    "def classify_images(img):\n",
    "    \"\"\"classifies images and returns the probabilities on each categories.\"\"\"\n",
    "    pred, pred_idx, probs = learn.predict(img)\n",
    "    return dict(zip(categories, map(float, probs)))"
   ]
  },
  {
   "cell_type": "code",
   "execution_count": null,
   "id": "e280082a",
   "metadata": {},
   "outputs": [
    {
     "data": {
      "text/html": [
       "\n",
       "<style>\n",
       "    /* Turns off some styling */\n",
       "    progress {\n",
       "        /* gets rid of default border in Firefox and Opera. */\n",
       "        border: none;\n",
       "        /* Needs to be in here for Safari polyfill so background images work as expected. */\n",
       "        background-size: auto;\n",
       "    }\n",
       "    progress:not([value]), progress:not([value])::-webkit-progress-bar {\n",
       "        background: repeating-linear-gradient(45deg, #7e7e7e, #7e7e7e 10px, #5c5c5c 10px, #5c5c5c 20px);\n",
       "    }\n",
       "    .progress-bar-interrupted, .progress-bar-interrupted::-webkit-progress-bar {\n",
       "        background: #F44336;\n",
       "    }\n",
       "</style>\n"
      ],
      "text/plain": [
       "<IPython.core.display.HTML object>"
      ]
     },
     "metadata": {},
     "output_type": "display_data"
    },
    {
     "data": {
      "text/html": [],
      "text/plain": [
       "<IPython.core.display.HTML object>"
      ]
     },
     "metadata": {},
     "output_type": "display_data"
    },
    {
     "data": {
      "text/plain": [
       "{'alien': 0.9997212290763855, 'ghost': 0.00027872977079823613}"
      ]
     },
     "execution_count": null,
     "metadata": {},
     "output_type": "execute_result"
    }
   ],
   "source": [
    "classify_images(alien1)"
   ]
  },
  {
   "cell_type": "markdown",
   "id": "1199cc56",
   "metadata": {},
   "source": [
    "Wonderful! Now, we can use Gradio to try out different images. You can download more images and put them in examples list so that we can try different ones. Once we run this, we will get a link to a local URL so that we can try it out. You will have something similar to [this](https://huggingface.co/spaces/galopyz/Alien_vs_Ghost)."
   ]
  },
  {
   "cell_type": "markdown",
   "id": "34e54fea",
   "metadata": {},
   "source": [
    "``` python\n",
    "#|export\n",
    "image = gr.inputs.Image(shape=(192, 192))\n",
    "label = gr.outputs.Label()\n",
    "# If you have more or less examples, edit this list.\n",
    "examples = ['alien1.jpeg', 'alien2.jpeg', 'ghost1.jpeg', 'ghost2.jpeg', 'dunno1.jpeg', 'dunno2.jpeg']\n",
    "\n",
    "inf = gr.Interface(fn=classify_images, inputs=image, outputs=label, examples=examples)\n",
    "inf.launch(inline=False)\n",
    "```\n",
    "::: {.cell-output}\n",
    "    Running on local URL:  http://127.0.0.1:7860\n",
    "    To create a public link, set `share=True` in `launch()`.\n",
    "    (<gradio.routes.App>, 'http://127.0.0.1:7860/', None)\n",
    ":::"
   ]
  },
  {
   "cell_type": "code",
   "execution_count": null,
   "id": "37097934",
   "metadata": {},
   "outputs": [
    {
     "name": "stderr",
     "output_type": "stream",
     "text": [
      "/home/kappa/miniconda3/lib/python3.9/site-packages/gradio/inputs.py:256: UserWarning: Usage of gradio.inputs is deprecated, and will not be supported in the future, please import your component from gradio.components\n",
      "  warnings.warn(\n",
      "/home/kappa/miniconda3/lib/python3.9/site-packages/gradio/deprecation.py:40: UserWarning: `optional` parameter is deprecated, and it has no effect\n",
      "  warnings.warn(value)\n",
      "/home/kappa/miniconda3/lib/python3.9/site-packages/gradio/outputs.py:196: UserWarning: Usage of gradio.outputs is deprecated, and will not be supported in the future, please import your components from gradio.components\n",
      "  warnings.warn(\n",
      "/home/kappa/miniconda3/lib/python3.9/site-packages/gradio/deprecation.py:40: UserWarning: The 'type' parameter has been deprecated. Use the Number component instead.\n",
      "  warnings.warn(value)\n"
     ]
    },
    {
     "name": "stdout",
     "output_type": "stream",
     "text": [
      "Running on local URL:  http://127.0.0.1:7860\n",
      "\n",
      "To create a public link, set `share=True` in `launch()`.\n"
     ]
    },
    {
     "data": {
      "text/plain": [
       "(<gradio.routes.App>, 'http://127.0.0.1:7860/', None)"
      ]
     },
     "execution_count": null,
     "metadata": {},
     "output_type": "execute_result"
    }
   ],
   "source": [
    "#|export\n",
    "image = gr.inputs.Image(shape=(128, 128))\n",
    "label = gr.outputs.Label()\n",
    "# If you have more or less examples, edit this list.\n",
    "examples = ['alien1.jpeg', 'alien2.jpeg', 'ghost1.jpeg', 'ghost2.jpeg', 'dunno1.jpeg', 'dunno2.jpeg']\n",
    "\n",
    "inf = gr.Interface(fn=classify_images, inputs=image, outputs=label, examples=examples)\n",
    "inf.launch(inline=False)"
   ]
  },
  {
   "cell_type": "markdown",
   "id": "f9fcb640",
   "metadata": {},
   "source": [
    "."
   ]
  },
  {
   "cell_type": "markdown",
   "id": "b6172dde",
   "metadata": {},
   "source": [
    "That's cool! Let's deploy it to Hugging Face Spaces!"
   ]
  },
  {
   "cell_type": "markdown",
   "id": "90086ac5",
   "metadata": {},
   "source": [
    "## Export using nbdev"
   ]
  },
  {
   "cell_type": "markdown",
   "id": "79d7a428",
   "metadata": {},
   "source": [
    "This is the time nbdev will do the magic. Create a cell like this on the top of our Jupyter notebook:"
   ]
  },
  {
   "cell_type": "markdown",
   "id": "be70bde7",
   "metadata": {},
   "source": [
    "``` python\n",
    "#| default_exp app\n",
    "```"
   ]
  },
  {
   "cell_type": "markdown",
   "id": "870481c8",
   "metadata": {},
   "source": [
    "As you can see from `#|`, this is a directive. This simply sets a name of the module we are about to export. So, resulting python module will be called `app.py`. "
   ]
  },
  {
   "cell_type": "markdown",
   "id": "afcd195f",
   "metadata": {},
   "source": [
    "If nbdev is not installed yet, you can do `pip install nbdev` or `conda install -c fastai nbdev\n",
    "`. "
   ]
  },
  {
   "cell_type": "markdown",
   "id": "f6e8a3f7",
   "metadata": {},
   "source": [
    "Then, we simply import it, and export it. First argument for `nbdev.export.nb_export` is the name of the Jupyter notebook we are currently on right now, and second argument is a path where nbdev will create a new python module. So, in this example, nbdev will create a python module from the notebook called `index.ipynb` into the current directory."
   ]
  },
  {
   "cell_type": "code",
   "execution_count": null,
   "id": "20cde868",
   "metadata": {},
   "outputs": [],
   "source": [
    "import nbdev"
   ]
  },
  {
   "cell_type": "code",
   "execution_count": null,
   "id": "8749ee69",
   "metadata": {},
   "outputs": [],
   "source": [
    "nbdev.export.nb_export('index.ipynb', '.')"
   ]
  },
  {
   "cell_type": "markdown",
   "id": "2146fea2",
   "metadata": {},
   "source": [
    "Now, check out `app.py` that is generated automatically! How cool is this? "
   ]
  },
  {
   "cell_type": "code",
   "execution_count": null,
   "id": "f0655685",
   "metadata": {},
   "outputs": [
    {
     "name": "stdout",
     "output_type": "stream",
     "text": [
      "# AUTOGENERATED! DO NOT EDIT! File to edit: index.ipynb.\r\n",
      "\r\n",
      "# %% auto 0\r\n",
      "__all__ = ['learn', 'categories', 'image', 'label', 'examples', 'inf', 'classify_images']\r\n",
      "\r\n",
      "# %% index.ipynb 14\r\n",
      "from fastai.vision.all import *\r\n",
      "import gradio as gr\r\n",
      "\r\n",
      "# %% index.ipynb 17\r\n",
      "learn = load_learner('alien_vs_ghost.pkl')\r\n",
      "\r\n",
      "# %% index.ipynb 25\r\n",
      "categories = learn.dls.vocab\r\n",
      "def classify_images(img):\r\n",
      "    \"\"\"classifies images and returns the probabilities on each categories.\"\"\"\r\n",
      "    pred, pred_idx, probs = learn.predict(img)\r\n",
      "    return dict(zip(categories, map(float, probs)))\r\n",
      "\r\n",
      "# %% index.ipynb 29\r\n",
      "image = gr.inputs.Image(shape=(192, 192))\r\n",
      "label = gr.outputs.Label()\r\n",
      "# If you have more or less examples, edit this list.\r\n",
      "examples = ['alien1.jpeg', 'alien2.jpeg', 'ghost1.jpeg', 'ghost2.jpeg', 'dunno1.jpeg', 'dunno2.jpeg']\r\n",
      "\r\n",
      "inf = gr.Interface(fn=classify_images, inputs=image, outputs=label, examples=examples)\r\n",
      "inf.launch(inline=False)\r\n"
     ]
    }
   ],
   "source": [
    "!cat app.py"
   ]
  },
  {
   "cell_type": "markdown",
   "id": "f19f26d8",
   "metadata": {},
   "source": [
    "Imagine if we did not use nbdev. We would have to go back to the beginning of the notebook and try to find out which lines of code need to be copied into a python module. This is a small notebook, but imagine having a long notebook! nbdev takes care of all the headache."
   ]
  },
  {
   "cell_type": "markdown",
   "id": "144b3896",
   "metadata": {},
   "source": [
    "## Dependency requirement"
   ]
  },
  {
   "cell_type": "markdown",
   "id": "4612e583",
   "metadata": {},
   "source": [
    "In the deployment environment, there is no FastAI. So, we have to create a file called `requirements.txt`. Inside of the file, write \n",
    "\n",
    "| fastai\n",
    "| torch==1.12.1\n",
    "\n",
    "in there. You can take a peak [here](https://huggingface.co/spaces/galopyz/Alien_vs_Ghost/blob/main/requirements.txt)."
   ]
  },
  {
   "cell_type": "markdown",
   "id": "e1985077",
   "metadata": {},
   "source": [
    "## Upload files to Github"
   ]
  },
  {
   "cell_type": "markdown",
   "id": "55e36b4b",
   "metadata": {},
   "source": [
    "Finally, last step is uploading files to Github. We have to upload everything in this directory except for the Jupyter notebook we worked on. One problem with uploading is that our pickled model is too big to be uploaded into Github directly. So, we need [Git LFS](https://git-lfs.github.com/) (Git Large File Storage). "
   ]
  },
  {
   "cell_type": "markdown",
   "id": "f4d7caf7",
   "metadata": {},
   "source": [
    "(@) we install it with `git lfs install`\n",
    "\n",
    "(@) we track big files with `git lfs track \"*.pkl\"`\n",
    "\n",
    "(@) we save the settings with `git add .gitattributes`\n",
    "\n",
    "(@) we add everything in the directory to Github with `git add .`\n",
    "\n",
    "(@) Let's commit with `git commit -am \"Deploying to huggingface spaces\"`\n",
    "\n",
    "(@) Lastly, we push with `git push`"
   ]
  },
  {
   "cell_type": "markdown",
   "id": "dcfc75f0",
   "metadata": {},
   "source": [
    "That's it. It should now be running in your Hugging Spaces in a minute!"
   ]
  },
  {
   "cell_type": "markdown",
   "id": "a5fcf213",
   "metadata": {},
   "source": [
    "## Conclusion"
   ]
  },
  {
   "cell_type": "markdown",
   "id": "98050b30",
   "metadata": {},
   "source": [
    "As we have seen, training a model and deploying it does not cost any money. Also, it did not take a very long time to do it either. This is something anybody can do if they are willing to learn some tools, such as [Github](https://github.com/), [Jupyter notebook](https://jupyter.org/), [Python](https://www.python.org/), [nbdev](https://nbdev.fast.ai/), and [Hugging Face Spaces](https://huggingface.co/). "
   ]
  },
  {
   "cell_type": "markdown",
   "id": "f936e4dd",
   "metadata": {},
   "source": [
    "So, now that you have an amazing project, why don't you share it with others? You can share [here](https://forums.fast.ai/t/share-your-work-here/) as well."
   ]
  },
  {
   "cell_type": "markdown",
   "id": "8d0dccda",
   "metadata": {},
   "source": [
    "I hope you had a lot of fun and more in the future!"
   ]
  }
 ],
 "metadata": {
  "kernelspec": {
   "display_name": "Python 3",
   "language": "python",
   "name": "python3"
  }
 },
 "nbformat": 4,
 "nbformat_minor": 5
}
