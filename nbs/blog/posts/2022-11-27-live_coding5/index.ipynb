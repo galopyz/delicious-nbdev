{
 "cells": [
  {
   "cell_type": "raw",
   "id": "233261a1",
   "metadata": {},
   "source": [
    "---\n",
    "title: \"Live coding 5\"\n",
    "author: \"galopy\"\n",
    "date: \"November 27, 2022\"\n",
    "toc: true\n",
    "skip_showdoc: true\n",
    "skip_exec: true\n",
    "comments:\n",
    "  utterances:\n",
    "    repo: galopyz/delicious-nbdev\n",
    "---"
   ]
  },
  {
   "cell_type": "markdown",
   "id": "96661ab5",
   "metadata": {},
   "source": [
    "# Live coding 5"
   ]
  },
  {
   "cell_type": "markdown",
   "id": "eedcab2a",
   "metadata": {},
   "source": [
    "In this blog, I will cover [vim](https://en.wikipedia.org/wiki/Vim_(text_editor)) and [ctags](https://en.wikipedia.org/wiki/Ctags) based on the [Youtube video](https://www.youtube.com/watch?v=gdsa2VawOeM&list=PLfYUBJiXbdtSLBPJ1GMx-sQWf6iNhb8mM&index=5&ab_channel=JeremyHoward). "
   ]
  },
  {
   "cell_type": "markdown",
   "id": "40bd1520",
   "metadata": {},
   "source": [
    "`Vim` is a great tool because of availability on command line interface and its power. Some editors, such as VS code, do not run on terminal. Therefore, if we want to edit files in paperspace, we have to use something that runs in this environment. There are [nano](https://en.wikipedia.org/wiki/GNU_nano), [emacs](https://en.wikipedia.org/wiki/Emacs), `vim`, and more. `Nano` is good for starting out because it has commands on the bottom of the screen. However, it is not as powerful as `emacs` and `vim`. We will learn about `vim`. "
   ]
  },
  {
   "cell_type": "markdown",
   "id": "ba264deb",
   "metadata": {},
   "source": [
    "## Vim"
   ]
  },
  {
   "cell_type": "markdown",
   "id": "6c27c5d1",
   "metadata": {},
   "source": [
    "### Basic commands"
   ]
  },
  {
   "cell_type": "markdown",
   "id": "da0227c8",
   "metadata": {},
   "source": [
    "`Vim` should be installed, but if it is not, install it using `sudo apt install vim` on linux or `brew install vim` on mac. To execute vim, simply type `vim` on terminal. We will see this screen:"
   ]
  },
  {
   "cell_type": "markdown",
   "id": "9618a14b",
   "metadata": {},
   "source": [
    "![Vim welcoming screen](vim1.png)"
   ]
  },
  {
   "cell_type": "markdown",
   "id": "4d90d225",
   "metadata": {},
   "source": [
    "The main screen tells us about the version and author. It also says we can exit by typing `:q`. If we type `:`, vim displays it on the bottom left corner. So, if we type `:q`, it will be on the bottom left corner like this: \n",
    "\n",
    "![`:q` command](vim2.png)"
   ]
  },
  {
   "cell_type": "markdown",
   "id": "193468e4",
   "metadata": {},
   "source": [
    "If we press `Enter`, we quit vim. We can come back to vim by typing `vim` again in terminal. "
   ]
  },
  {
   "cell_type": "markdown",
   "id": "ad6e2bdf",
   "metadata": {},
   "source": [
    "So, there are two modes in `vim`. One is command mode, which we are on right now, and the other is insert mode. On command mode, we cannot type text we want to insert. To enter insert mode, we can type `i`. Now, we can start typing text we want to add. Rather than writing something from scratch, let's copy some text for practice. Here is a source code from [fastcore](https://github.com/fastai/fastcore/blob/master/fastcore/foundation.py). You can copy it and paste it in your file by typing `i` to get into insert mode and `Ctrl-Shift-v` to paste. "
   ]
  },
  {
   "cell_type": "markdown",
   "id": "c2172b0b",
   "metadata": {},
   "source": [
    "```\n",
    "# %% ../nbs/02_foundation.ipynb 1\n",
    "from .imports import *\n",
    "from .basics import *\n",
    "from functools import lru_cache\n",
    "from contextlib import contextmanager\n",
    "from copy import copy\n",
    "from configparser import ConfigParser\n",
    "import random,pickle,inspect\n",
    "\n",
    "# %% ../nbs/02_foundation.ipynb 5\n",
    "@contextmanager\n",
    "def working_directory(path):\n",
    "    \"Change working directory to `path` and return to previous on exit.\"\n",
    "    prev_cwd = Path.cwd()\n",
    "    os.chdir(path)\n",
    "    try: yield\n",
    "    finally: os.chdir(prev_cwd)\n",
    "```"
   ]
  },
  {
   "cell_type": "markdown",
   "id": "a29b23c7",
   "metadata": {},
   "source": [
    "After pasting the code, we can press `Esc` to get out of insert mode. "
   ]
  },
  {
   "cell_type": "markdown",
   "id": "4d2dc68a",
   "metadata": {},
   "source": [
    "::: {.callout-tip collapse=\"true\"}\n",
    "\n",
    "#### Command mode vs. Insert mode\n",
    "\n",
    "After finishing editing a file, press `Esc` to switch to command mode. It's good to get in the habbit of switching to command mode all the time because I know what mode it will be when I see my `vim`. \n",
    "\n",
    "When I was first learning vim, I didn't check what mode I was in. When I was in command mode, I thought I left my vim on insert mode. So, I started typing some code from the book I was reading, and I realized that I messed up my code by typing different commands. Thankfully, `vim` had `u` command to undo previous commands, but it was not very enjoyable. So, I always put my `vim` on command mode after editing, and I double check what mode I am in when I open up the terminal by typing `Esc`. Pressing `Esc` guarantees that `vim` will be on command mode because it stays on command mode even if it was on command mode.\n",
    "\n",
    ":::"
   ]
  },
  {
   "cell_type": "markdown",
   "id": "d521ab91",
   "metadata": {},
   "source": [
    "Then, we can save this file by typing `:w <filename>.py`. Replace `<filename>.py` with whatever name you want. As long as the filename ends with `.py`, we will get syntax highlighting. After saving the file with a name, we can type `:w` to save the file. The `:w` command can be combined with `:q` to save and quit at the same time by typing `:wq`. \n",
    "\n",
    "![syntax highlighting](vim3.png)"
   ]
  },
  {
   "cell_type": "markdown",
   "id": "1d60b13a",
   "metadata": {},
   "source": [
    "I saved it as `vim.py`, and it is more readable with colors. Here, we can move around the cursor by using either arrow keys or by using `h`, `j`, `k`, and `l`. It seems random that `hjkl` moves our cursor in certain way. However, after getting used to using these keys, it becomes more comfortable to use these keys than to use arrow keys. Here's what those keys do:\n",
    "\n",
    "- `h`: left\n",
    "- `j`: down\n",
    "- `k`: up\n",
    "- `l`: down"
   ]
  },
  {
   "cell_type": "markdown",
   "id": "a1b90983",
   "metadata": {},
   "source": [
    "So, there are other ways to enter edit mode. These commands are different from `i` because they move the cursor to different location and enters into the edit mode. Let's start by looking at `o` and `Shift-o`. `o` adds a line below and moves the cursor to the next line. `Shift-o` adds a line on the previous line and moves the cursor there as well. So, combining the command with `Shift` can be seen as an variation of a command for some commands. Another way to enter edit mode is `Shift-i`, which moves the cursor to the beginning of the text of a line. To start editing at the end of the line, `Shift-a` can be used.\n",
    "\n",
    "- `o`: next line\n",
    "- `Shift-o`: previous line\n",
    "- `Shift-i`: beginning of the line\n",
    "- `Shift-a`: end of line"
   ]
  },
  {
   "cell_type": "markdown",
   "id": "093ba918",
   "metadata": {},
   "source": [
    "::: {.callout-tip}\n",
    "\n",
    "### Undo with `u`\n",
    "\n",
    "When you editted something or used a command, but made a mistake and wanted to undo that, press `u` to undo. You can press `u` multiple times to go back further. However, if you pressed too many `u`s and wanted to undo the `u`, you can redo it with `Ctrl-r`. If you have no idea what's going on and file changes cannot be fixed with `u` and `Ctrl-r`, you can quit the file without saving by typing `:q!`. Then you can come back to the file by opening it again.\n",
    "\n",
    ":::"
   ]
  },
  {
   "cell_type": "markdown",
   "id": "3f1b2c26",
   "metadata": {},
   "source": [
    "Moving one character by character is time consuming, and there's a better way to move: move by words. We can use `w` to move forward or `b` to move backward. If that's still not enough movement, we can press `}` and `{` to move forward and backward by paragraphs."
   ]
  },
  {
   "cell_type": "markdown",
   "id": "ee9ffaa6",
   "metadata": {},
   "source": [
    "Sometimes, it is useful to just jump to last line of the file. We can press `G` for that, and to move to first line, `gg` can be used."
   ]
  },
  {
   "cell_type": "markdown",
   "id": "dc88e4ac",
   "metadata": {},
   "source": [
    "That's enough moving around for now. Let's move onto some editing.\n",
    "\n",
    "To delete a line, we can press `dd`. To change a line, it is `cc`. "
   ]
  },
  {
   "cell_type": "markdown",
   "id": "81f8b240",
   "metadata": {},
   "source": [
    "Another useful command is `.`. This command repeats the last command. If we deleted a line, we can just press `.` to do it again. "
   ]
  },
  {
   "cell_type": "markdown",
   "id": "b35c0cc4",
   "metadata": {},
   "source": [
    "### Combining commands"
   ]
  },
  {
   "cell_type": "markdown",
   "id": "ddcb85e2",
   "metadata": {},
   "source": [
    "We can combine commands we learned earlier with numbers. For instance, we can move down 5 times by pressing `5j` and move forward 3 words by `3w`. Try to practice and feel how it is."
   ]
  },
  {
   "cell_type": "markdown",
   "id": "2a11371a",
   "metadata": {},
   "source": [
    "Another way to combine commands is by combining editing commands with movement commands. For instance, we can delete next 5 lines by pressing `5dj` or `d5j` and change three words by `3cw` or `c3w`. Try to come up with different combinations with all the movement commands. Also, after changing words, it can be repeated using `.`.\n",
    "\n",
    "By combining commands, we can see how powerful these commands are. "
   ]
  },
  {
   "cell_type": "markdown",
   "id": "6acd52a3",
   "metadata": {},
   "source": [
    "### Pattern matching"
   ]
  },
  {
   "cell_type": "markdown",
   "id": "b9ed809c",
   "metadata": {},
   "source": [
    "We can start searching with `/`. If want to search import, we can type `/import` and press `Enter`. Then, we can move onto the next occurrence with `n` and back with `N`. Instead of plain text, regex can be used as well.\n",
    "\n",
    "![search](vim4.png)"
   ]
  },
  {
   "cell_type": "markdown",
   "id": "5875caeb",
   "metadata": {},
   "source": [
    "There's more we can do using patterns. Let's say we want to remove all lines starting with 'from' in this file. There are many ways to do this. We can do `dd` multiple times to delete those lines. We can also use `.` after using `dd` to save typing. Another way us typing `:g/^from/d`. Just like other commands starting with `:`, it will be displayed on the bottom left. So, this is a global command that finds a pattern and executes a command. It can also take range of lines before g to limit the effect. Try using different command or pattern and see what you can do."
   ]
  },
  {
   "cell_type": "markdown",
   "id": "75dc1faa",
   "metadata": {},
   "source": [
    "### Summary"
   ]
  },
  {
   "cell_type": "markdown",
   "id": "c1f1a1df",
   "metadata": {},
   "source": [
    "As we have seen, `vim` can be very powerful by combining commands. We can also use patterns to apply commands on certain lines. There are so much more in `vim` than this. If you are interested, you can use `vimtutor` to learn more about it. Make sure to practice to get better.\n",
    "\n",
    "![vimtutor](vim5.png)"
   ]
  },
  {
   "cell_type": "markdown",
   "id": "f42146b3",
   "metadata": {},
   "source": [
    "Here's a summary of commands we covered today:\n",
    "\n",
    "| Command | Meaning |\n",
    "|---------|------------|\n",
    "| `i`       | Enter insert mode |\n",
    "| `Esc` | Enter command mode |\n",
    "| `h` | Move the cursor left |\n",
    "| `j` | Move the cursor down |\n",
    "| `k` | Move the cursor up |\n",
    "| `l` | Move the cursor right |\n",
    "| `o` | Add a line before the cursor and enter insert mode |\n",
    "| `Shift-o` | Add a line after the cursor and enter insert mode |\n",
    "| `u` | Undo |\n",
    "| `Ctrl-r` | Redo |\n",
    "| `w` | Move forward by a word |\n",
    "| `b` | Move backward by a word |\n",
    "| `}` | Move to next paragraph |\n",
    "| `{` | Move to previous paragraph|\n",
    "| `dd` | Delete a line |\n",
    "| `cc` | Change a line |\n",
    "| `.` | Repeat last command|\n",
    "| `/pattern` | Search the 'pattern' |\n",
    "| `:g/pattern/command` | Execute command on all the lines matching the pattern. ex) `:g/import/d` |\n",
    "| `:w` | Save the file |\n",
    "| `:w <filename>` | Save a file to \\<filename> |\n",
    "| `:q` | Exit `vim` |\n",
    "| `:q!` | Exit `vim` while discarding all changes |\n",
    "| `:wq` | Save the file and exit |"
   ]
  },
  {
   "cell_type": "markdown",
   "id": "a490e6ee",
   "metadata": {},
   "source": [
    "## Ctags"
   ]
  },
  {
   "cell_type": "markdown",
   "id": "3cadf919",
   "metadata": {},
   "source": [
    "Next thing we will talk about is ctags. With ctags, we can jump around files to look for source code for a class or a function. When you encounter a class you are not familiar with, you can jump to its definition right away."
   ]
  },
  {
   "cell_type": "markdown",
   "id": "329a7052",
   "metadata": {},
   "source": [
    "Here are the steps to prepare ctags:\n",
    "\n",
    "- First, we install ctags using conda/mamba. `mamba install -c conda-forge ctags`\n",
    "\n",
    "- Then, we clone [fastai](https://github.com/fastai/fastai) libary from github. We can optionally use `--depth 1` at the end of the command and not grab all the history.\n",
    "\n",
    "- Now, change directory to fastai/fastai (fastai directory within fastai). \n",
    "\n",
    "- Type `ctags -R .`.\n",
    "\n",
    "- We have a file called `tags` in our directory. We are ready to use ctags."
   ]
  },
  {
   "cell_type": "markdown",
   "id": "b39daf19",
   "metadata": {},
   "source": [
    "![Creating ctags](ctags1.png)"
   ]
  },
  {
   "cell_type": "markdown",
   "id": "c4f2b068",
   "metadata": {},
   "source": [
    "Try typing `vim -t Arraymask`. It opens `vim` on the definition of `Arraymask`. In `vim`, you can press `Ctrl-]` on any word you want to find the definition of, and you can jump there. To come back to previous, you can type `Ctrl-t` to come back. It doesn't work on every word, it has to be a word defined in fastai library.\n",
    "\n",
    "We can also do `:tj Arraymask` to do the same thing within `vim`. "
   ]
  },
  {
   "cell_type": "markdown",
   "id": "3cea878f",
   "metadata": {},
   "source": [
    "![Jumping around with ctags](ctags2.png)"
   ]
  },
  {
   "cell_type": "markdown",
   "id": "bff6378c",
   "metadata": {},
   "source": [
    "Lastly, we can type `:stag Dataloaders` to split screen with the definition. You can search anything you want instead of Dataloaders, too. "
   ]
  },
  {
   "cell_type": "markdown",
   "id": "e137d262",
   "metadata": {},
   "source": [
    "## Conclusion"
   ]
  },
  {
   "cell_type": "markdown",
   "id": "aa20c6c0",
   "metadata": {},
   "source": [
    "So, we learned about `vim` and ctags. These tools are very useful. Once you get used to `vim` by playing around a little bit, you will find them quite comfortable. "
   ]
  }
 ],
 "metadata": {
  "kernelspec": {
   "display_name": "python3",
   "language": "python",
   "name": "python3"
  }
 },
 "nbformat": 4,
 "nbformat_minor": 5
}
