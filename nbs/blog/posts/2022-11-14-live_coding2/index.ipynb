{
 "cells": [
  {
   "cell_type": "raw",
   "id": "58356663",
   "metadata": {},
   "source": [
    "---\n",
    "title: \"Live coding 2\"\n",
    "author: \"galopy\"\n",
    "date: \"November 14, 2022\"\n",
    "toc: true\n",
    "skip_showdoc: true\n",
    "skip_exec: true\n",
    "comments:\n",
    "  utterances:\n",
    "    repo: galopyz/delicious-nbdev\n",
    "---"
   ]
  },
  {
   "cell_type": "markdown",
   "id": "34de6d08",
   "metadata": {},
   "source": [
    "# Live coding 2"
   ]
  },
  {
   "cell_type": "markdown",
   "id": "16744a2d",
   "metadata": {},
   "source": [
    "This is a blog based on Jeremy Howard's Youtube video on [Live coding 2](https://www.youtube.com/watch?v=0pWjZByJ3Lk&t=3s&ab_channel=JeremyHoward). Here, we will learn about [Git](https://git-scm.com/), [tmux](https://github.com/tmux/tmux/wiki), and [Jupyter notebook](https://jupyter.org/)."
   ]
  },
  {
   "cell_type": "markdown",
   "id": "c21c13ee",
   "metadata": {},
   "source": [
    "## Git"
   ]
  },
  {
   "cell_type": "markdown",
   "id": "d292b6af",
   "metadata": {},
   "source": [
    "What is Git? Git is a version control system. There are many ways of using Git, but we will use [GitHub](https://github.com/) because it is widely used. With GitHub, we can easily share our code with others."
   ]
  },
  {
   "cell_type": "markdown",
   "id": "b1adf511",
   "metadata": {},
   "source": [
    "Let's see how we can create a repository. Let's head over to GitHub profile and click on Repositories on the top of the page. On the right, there is a green button called 'New'. Click the button!"
   ]
  },
  {
   "cell_type": "markdown",
   "id": "39f08281",
   "metadata": {},
   "source": [
    "![Creating a GitHub repository](github1.png)"
   ]
  },
  {
   "cell_type": "markdown",
   "id": "d40493fd",
   "metadata": {},
   "source": [
    "You will see something like this:"
   ]
  },
  {
   "cell_type": "markdown",
   "id": "4d13c752",
   "metadata": {},
   "source": [
    "![Creating a GitHub repository empty](github2.png)"
   ]
  },
  {
   "cell_type": "markdown",
   "id": "eb0a8dad",
   "metadata": {},
   "source": [
    "Let's start filling in the form.\n",
    "\n",
    "1. Fill in the repository name of your choice. It can be anything you want.\n",
    "2. Optionally provide a description. \n",
    "3. We can choose our repository to be Public or Private, but it is good to make it Public for sharing. \n",
    "4. It's a good idea to adda a README file. This is where we introduce others about what this repository is about.\n",
    "5. We add a .gitignore template with Python. This is a file that we list certain files we do not want share with others. For example, it can be secret files containing API keys or cached files.\n",
    "6. We optionally choose a license. Without a license, other people cannot use our code. There are many licenses, but for sharing, it is good to have permissive license, such as MIT or Apache 2.0 or copyleft license, such as GPL. I used Apache 2.0 because it allows others to do whatever they want with my code, but also provides me with protection against patent law suits. On the other hand, copyleft license has more restrictions.\n",
    "7. Create Repository!"
   ]
  },
  {
   "cell_type": "markdown",
   "id": "3b34cea7",
   "metadata": {},
   "source": [
    "![Creating a GitHub repository filled up](github3.png)"
   ]
  },
  {
   "cell_type": "markdown",
   "id": "b89e4f84",
   "metadata": {},
   "source": [
    "We have a repository of our own."
   ]
  },
  {
   "cell_type": "markdown",
   "id": "f668c544",
   "metadata": {},
   "source": [
    "![our own GitHub repository](github4.png)"
   ]
  },
  {
   "cell_type": "markdown",
   "id": "979af74f",
   "metadata": {},
   "source": [
    "Although we can make changes using on the web app, it is easier to edit files locally in our computer using our favorite editors. There are multiple ways of cloning the repository into our local computers, but we will use SSH. To use SSH, we have to create keys. On our terminal, we type `ssh-keygen`. We can just press `Enter` for default options."
   ]
  },
  {
   "cell_type": "markdown",
   "id": "b02ab467",
   "metadata": {},
   "source": [
    "::: {.callout-note}\n",
    "\n",
    "ssh is very useful tool, so it is good to know how to use it and how it works. It is good to check the [wkipedia article](https://en.wikipedia.org/wiki/Secure_Shell). \n",
    "\n",
    ":::"
   ]
  },
  {
   "cell_type": "markdown",
   "id": "cfafc44c",
   "metadata": {},
   "source": [
    "![SSH keygen](github5.png)"
   ]
  },
  {
   "cell_type": "markdown",
   "id": "45ce3832",
   "metadata": {},
   "source": [
    "For me, it created a `~/.ssh` folder, and inside it, I have the keys. One with `.pub` is the public key. "
   ]
  },
  {
   "cell_type": "markdown",
   "id": "701804d7",
   "metadata": {},
   "source": [
    "::: {.callout-caution}\n",
    "\n",
    "Never share the private key with anyone. Only share the public key.\n",
    "\n",
    ":::"
   ]
  },
  {
   "cell_type": "markdown",
   "id": "f157982f",
   "metadata": {},
   "source": [
    "![SSH keys](github7.png)"
   ]
  },
  {
   "cell_type": "markdown",
   "id": "0b3af77b",
   "metadata": {},
   "source": [
    "We can look at the contents of the file by using `cat id_rsa.pub`. Now, copy everything from `ssh-rsa` to email. To copy, we can highlight over the whole thing, and press `Ctrl-Shift-C`."
   ]
  },
  {
   "cell_type": "markdown",
   "id": "ad768360",
   "metadata": {},
   "source": [
    "![Copyinb a SSH key](github8.png)"
   ]
  },
  {
   "cell_type": "markdown",
   "id": "7e1aa828",
   "metadata": {},
   "source": [
    "Let's head back to our repository on GitHub and click your profile picture on the top right corner. We see 'Settings' on the bottom."
   ]
  },
  {
   "cell_type": "markdown",
   "id": "7f34bb23",
   "metadata": {},
   "source": [
    "![Github Settings](github6.png)"
   ]
  },
  {
   "cell_type": "markdown",
   "id": "d16e758a",
   "metadata": {},
   "source": [
    "We are on the Settings page. On the left banner, we will see `SSH and GPG keys`. Click it."
   ]
  },
  {
   "cell_type": "markdown",
   "id": "62f5e5fb",
   "metadata": {},
   "source": [
    "![SSH key menu](github9.png)"
   ]
  },
  {
   "cell_type": "markdown",
   "id": "d62821bd",
   "metadata": {},
   "source": [
    "Click New SSH key on the right."
   ]
  },
  {
   "cell_type": "markdown",
   "id": "b0f3a211",
   "metadata": {},
   "source": [
    "![New SSH key button](github10.png)"
   ]
  },
  {
   "cell_type": "markdown",
   "id": "8047b680",
   "metadata": {},
   "source": [
    "Now, we add our Title and Key. Key is the one that we copied from our terminal."
   ]
  },
  {
   "cell_type": "markdown",
   "id": "0dda68af",
   "metadata": {},
   "source": [
    "![New SSH title and key](github11.png)"
   ]
  },
  {
   "cell_type": "markdown",
   "id": "0d8895f1",
   "metadata": {},
   "source": [
    "Our SSH key is added. Now, we go back to the repository page. Click the 'Code' button in the middle of the page and click `SSH`. Copy that URL."
   ]
  },
  {
   "cell_type": "markdown",
   "id": "812c8ff2",
   "metadata": {},
   "source": [
    "![Cloning repository](github17.png)"
   ]
  },
  {
   "cell_type": "markdown",
   "id": "4e4e0f4e",
   "metadata": {},
   "source": [
    "Let's head back to our terminal and type `git clone SSH_URL`."
   ]
  },
  {
   "cell_type": "markdown",
   "id": "9cd17db3",
   "metadata": {},
   "source": [
    "![Cloning repository on terminal](github12.png)"
   ]
  },
  {
   "cell_type": "markdown",
   "id": "a7bd12be",
   "metadata": {},
   "source": [
    "Now we have a repository. Let's use `cd` to change directory into the one we just cloned. Then, we can use vim to edit the readme. Type `vim README.md`. If you are not familiar with vim, you can use other editors. On the editor, edit the file however you want. I just added a heading called keekee."
   ]
  },
  {
   "cell_type": "markdown",
   "id": "cb8cf988",
   "metadata": {},
   "source": [
    "![Cloning repository](github14.png)"
   ]
  },
  {
   "cell_type": "markdown",
   "id": "2bdd36d5",
   "metadata": {},
   "source": [
    "When we do `git status`, we get this message back. Git is tracking we have modified README file. "
   ]
  },
  {
   "cell_type": "markdown",
   "id": "c92e68d3",
   "metadata": {},
   "source": [
    "![Cloning repository](github13.png)"
   ]
  },
  {
   "cell_type": "markdown",
   "id": "015669ef",
   "metadata": {},
   "source": [
    "Before we can send our changes to GitHub, we have to do some work. Here are some steps:\n",
    "\n",
    "1. `git add README.md` adds the file to be staged. It can be any file. \n",
    "2. Find out what's changed by typing `git status`.\n",
    "3. `git commit -m \"Add a heading to README\"` commits (saves) our changes to the file with a message. It can be any message, and it has to be in quotes.\n",
    "4. `git push` pushes our changes to GitHub. Now, local changes reflect the code on GitHub."
   ]
  },
  {
   "cell_type": "markdown",
   "id": "aabafbc9",
   "metadata": {},
   "source": [
    "![Cloning repository](github15.png)"
   ]
  },
  {
   "cell_type": "markdown",
   "id": "d40ac2f5",
   "metadata": {},
   "source": [
    "Let's head over to our repository page. We can see that the README is changed."
   ]
  },
  {
   "cell_type": "markdown",
   "id": "07fa0531",
   "metadata": {},
   "source": [
    "![Cloning repository](github16.png)"
   ]
  },
  {
   "cell_type": "markdown",
   "id": "a771a8d9",
   "metadata": {},
   "source": [
    "Cool! Now we can commit to GitHub from our local computers. "
   ]
  },
  {
   "cell_type": "markdown",
   "id": "eb3e1e34",
   "metadata": {},
   "source": [
    "## Tmux"
   ]
  },
  {
   "cell_type": "markdown",
   "id": "2e3bc75c",
   "metadata": {},
   "source": [
    "Let's learn about [Tmux](https://github.com/tmux/tmux/wiki)! With this amazing tool, we can split terminals, which boosts productivity. Install it with `sudo apt install tmux` on Linux or `brew install tmux` on Mac. Then, we can execute it by typing `tmux` on terminal."
   ]
  },
  {
   "cell_type": "markdown",
   "id": "08f978a2",
   "metadata": {},
   "source": [
    "![tmux screen](tmux1.png)"
   ]
  },
  {
   "cell_type": "markdown",
   "id": "5405d0b5",
   "metadata": {},
   "source": [
    "It looks the same as before except that it doesn't have any color. Type `Ctrl - B - %`."
   ]
  },
  {
   "cell_type": "markdown",
   "id": "633d5ade",
   "metadata": {},
   "source": [
    "![tmux screen split](tmux2.png)"
   ]
  },
  {
   "cell_type": "markdown",
   "id": "d873f63c",
   "metadata": {},
   "source": [
    "Now, we have two panels. In tmux, each of the terminal rectangle is called a panel. Now try `Ctrl - B - \"`. It splits on the bottom."
   ]
  },
  {
   "cell_type": "markdown",
   "id": "2daef330",
   "metadata": {},
   "source": [
    "![tmux screen split 2](tmux3.png)"
   ]
  },
  {
   "cell_type": "markdown",
   "id": "841af123",
   "metadata": {},
   "source": [
    "This time, let's try `Ctrl - B - Z`. It zooms into the current panel. We can have a full screen for us this way, and when we want to go back to multiple panels, we type `Ctrl - B - Z` again."
   ]
  },
  {
   "cell_type": "markdown",
   "id": "ed5d6654",
   "metadata": {},
   "source": [
    "![tmux screen split 2](tmux4.png)"
   ]
  },
  {
   "cell_type": "markdown",
   "id": "4daeb33a",
   "metadata": {},
   "source": [
    "We can move around with `Ctrl - B - Arrow_key`. Can you try to create four panels like this below? If you need to close a panel, you can do `Ctrl - D`."
   ]
  },
  {
   "cell_type": "markdown",
   "id": "0b7c9912",
   "metadata": {},
   "source": [
    "![tmux screen split into 4 panels](tmux5.png)"
   ]
  },
  {
   "cell_type": "markdown",
   "id": "04c925da",
   "metadata": {},
   "source": [
    "Here, we have nice four panels. If we close the tmux and terminal, we have to open everything up one by one again. Imagine each panel had a unique process running, then it takes a lot of work to restore the workspace. One easy way to solve this problem is `Ctrl - B - D` to deatch tmux. We can now close the terminal and reopen. Now, type `tmux a` to attach. It is just like how we left it. "
   ]
  },
  {
   "cell_type": "markdown",
   "id": "a5e4369b",
   "metadata": {},
   "source": [
    "If you would like to learn more about tmux commands, you can learn look at the [guide](https://github.com/tmux/tmux/wiki/Getting-Started) or a [cheatsheet](https://gist.github.com/MohamedAlaa/2961058)."
   ]
  },
  {
   "cell_type": "markdown",
   "id": "aa73e1e2",
   "metadata": {},
   "source": [
    "## Terminal tips"
   ]
  },
  {
   "cell_type": "markdown",
   "id": "c6766f18",
   "metadata": {},
   "source": [
    "Here are some tips for using the terminal. "
   ]
  },
  {
   "cell_type": "markdown",
   "id": "38e425ee",
   "metadata": {},
   "source": [
    "1. `cd -` : First one is `cd -`, which returns to a previous directory before you changed directory. It's useful when you move to home directory with `cd ~`, and wanted to go back to previous directory. Instead of typing directories one by one, we can do `cd -`.\n",
    "\n",
    "2. `pushd ~`: This is useful when we want to save where we are so that we can come back here later. \n",
    "\n",
    "3. `popd`: After using `pushd ~`, we can use `popd` to move to the saved directory. "
   ]
  },
  {
   "cell_type": "markdown",
   "id": "586b6ac0",
   "metadata": {},
   "source": [
    "## Jupyter notebook"
   ]
  },
  {
   "cell_type": "markdown",
   "id": "cc0277b7",
   "metadata": {},
   "source": [
    "There are Jupyter extensions that can provides useful features called [Jupyter Nbextensions_configurator](https://anaconda.org/conda-forge/jupyter_nbextensions_configurator). We can install it using `mamba install -c conda-forge jupyter_nbextensions_configurator`. In this command, `-c conda-forge` means use a channel called conda-forge. So, mamba will look for jupyter_nbextensions_configurator inside of conda-forge channel."
   ]
  },
  {
   "cell_type": "markdown",
   "id": "aee33562",
   "metadata": {},
   "source": [
    "Another thing we will install is [fastbook](https://github.com/fastai/fastbook), which includes [fastai](https://github.com/fastai/fastai). With `mamba install -c fastchan fastbook sentencepiece`, everything we need is installed."
   ]
  },
  {
   "cell_type": "markdown",
   "id": "a6679bd5",
   "metadata": {},
   "source": [
    "Let's open up Jupyter notebook inside of the new repository we created. If you pay attention to panels in the center of the screen, there are four panels now. Fourth one is Nbextensions! Click that one."
   ]
  },
  {
   "cell_type": "markdown",
   "id": "8e2da921",
   "metadata": {},
   "source": [
    "![jupyter main screen](jupyter1.png)"
   ]
  },
  {
   "cell_type": "markdown",
   "id": "00ca8357",
   "metadata": {},
   "source": [
    "There are many extensions to explore, but I recommend 'Collapsible Headings'. You can collapse headings with left arrow or right arrow."
   ]
  },
  {
   "cell_type": "markdown",
   "id": "e58eaa89",
   "metadata": {},
   "source": [
    "![jupyter nbextensions](jupyter2.png)"
   ]
  },
  {
   "cell_type": "markdown",
   "id": "c3dacd52",
   "metadata": {},
   "source": [
    "Now, create a notebook and try to import fastai. It should workwithout problem. Additionally, you can try importing fastbook and pytorch."
   ]
  },
  {
   "cell_type": "markdown",
   "id": "01ef60f0",
   "metadata": {},
   "source": [
    "![Running cells and importing libraries.](jupyter3.png)"
   ]
  },
  {
   "cell_type": "markdown",
   "id": "837d47bc",
   "metadata": {},
   "source": [
    "Let's try adding a heading. Add a cell on the top and change it to a markdown cell by pressing `m`. To change it back to code cell, press `y`. Change it back to markdown and type `# Heading1`. Then execute the cell. You can press left arrow and right arrow to close and open cells undermeath it."
   ]
  },
  {
   "cell_type": "markdown",
   "id": "ec3ab0cf",
   "metadata": {},
   "source": [
    "![Opened Collapsible heading](jupyter6.png)"
   ]
  },
  {
   "cell_type": "markdown",
   "id": "3f8942ac",
   "metadata": {},
   "source": [
    "![Collapsed heading](jupyter5.png)"
   ]
  },
  {
   "cell_type": "markdown",
   "id": "2fa6cb73",
   "metadata": {},
   "source": [
    "::: {.callout-tip}\n",
    "\n",
    "Markdown is very useful to know. If you want to know more about it, check out Quarto [documentation](https://quarto.org/docs/authoring/markdown-basics.html).\n",
    "\n",
    ":::"
   ]
  },
  {
   "cell_type": "markdown",
   "id": "3ca07e3c",
   "metadata": {},
   "source": [
    "On the top left, there is a File button. There are many thing we can do, such as rename the file. Most important options is 'Close and Halt', which is the last option. "
   ]
  },
  {
   "cell_type": "markdown",
   "id": "d7b79c84",
   "metadata": {},
   "source": [
    "![Options](jupyter4.png)"
   ]
  },
  {
   "cell_type": "markdown",
   "id": "a0f5b209",
   "metadata": {},
   "source": [
    "::: {.callout-important}\n",
    "\n",
    "If you just close the tab, the notebook is still running in the background. Make sure to close and halt the notebook to free up computing resources.\n",
    "\n",
    ":::"
   ]
  },
  {
   "cell_type": "markdown",
   "id": "25d85ced",
   "metadata": {},
   "source": [
    "Cool, now you can also push the change into the GitHub. Why don't you try it?"
   ]
  },
  {
   "cell_type": "markdown",
   "id": "9e3756ca",
   "metadata": {},
   "source": [
    "## Conclusion"
   ]
  },
  {
   "cell_type": "markdown",
   "id": "7f4f423e",
   "metadata": {},
   "source": [
    "In this blog, we covered how to use GitHub with ssh, tmux, and Jupyter notebook. Please watch the Youtube [video](https://www.youtube.com/watch?v=0pWjZByJ3Lk&t=3s&ab_channel=JeremyHoward) if you haven't. We haven't done deep learning, yet but it is very important to get these steps right. You can play around with fastai and fastbook on Jupyter notebook if you want and practice using GitHub and terminal."
   ]
  }
 ],
 "metadata": {
  "kernelspec": {
   "display_name": "Python 3 (ipykernel)",
   "language": "python",
   "name": "python3"
  }
 },
 "nbformat": 4,
 "nbformat_minor": 5
}
