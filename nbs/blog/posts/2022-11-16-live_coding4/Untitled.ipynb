{
 "cells": [
  {
   "cell_type": "code",
   "execution_count": null,
   "id": "d0bdcac3",
   "metadata": {},
   "outputs": [],
   "source": [
    "from fastai.vision.all import *"
   ]
  },
  {
   "cell_type": "code",
   "execution_count": null,
   "id": "4ab74035",
   "metadata": {},
   "outputs": [],
   "source": [
    "dict??"
   ]
  },
  {
   "cell_type": "code",
   "execution_count": null,
   "id": "3be8ca1a",
   "metadata": {},
   "outputs": [],
   "source": [
    "?L"
   ]
  }
 ],
 "metadata": {
  "kernelspec": {
   "display_name": "Python 3 (ipykernel)",
   "language": "python",
   "name": "python3"
  }
 },
 "nbformat": 4,
 "nbformat_minor": 5
}
