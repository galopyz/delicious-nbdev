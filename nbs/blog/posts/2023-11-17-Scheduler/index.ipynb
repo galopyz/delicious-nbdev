{
 "cells": [
  {
   "cell_type": "raw",
   "metadata": {},
   "source": [
    "---\n",
    "title: \"Scheduler\"\n",
    "author: \"galopy\"\n",
    "date: \"November 17, 2023\"\n",
    "toc: true\n",
    "skip_showdoc: true\n",
    "skip_exec: true\n",
    "comments:\n",
    "  utterances:\n",
    "    repo: galopyz/delicious-nbdev\n",
    "---"
   ]
  },
  {
   "cell_type": "markdown",
   "metadata": {
    "id": "bhMvne4y2oQb"
   },
   "source": [
    "## Learning rate schedulers"
   ]
  },
  {
   "cell_type": "markdown",
   "metadata": {},
   "source": [
    "<img src=\"image.png\" alt=\"Cool art\" width=\"250\">"
   ]
  },
  {
   "cell_type": "markdown",
   "metadata": {
    "id": "nlbkLw0MH5NC"
   },
   "source": [
    "In this blog, we will learn about Pytorch optimizers and learning rate schedulers. From all the learning rate schedulers, we will learn about `CosineAnnealingLR` and `OneCycleLR` by writing them from scratch."
   ]
  },
  {
   "cell_type": "markdown",
   "metadata": {
    "id": "fV9iBKeFAzui"
   },
   "source": [
    "We can use a learning rate scheduler to vary the learning rate while training. Why do we want to change the learning rate? Let's take a look at an example.\n",
    "\n",
    "So, let's assume we are stranded in the desert while traveling because our vehicle broke down. We are thirsty, so we want to find some water. We get out of the car to find a well. Thankfully, we have a device that beeps when close to a body of water. The more water, the louder the beep. So, we walk in different directions to figure out where to go. After figuring out the direction, we can run for fast travel. When we are close to water, we want to slow down to find exactly where to dig to find the water. We don't want to go past the water and come back.\n",
    "\n",
    "By changing learning rate, we can change the speed of the training of the model. With the scheduler, we want to start with a small learning rate. In the beginning, our model is trying to figure out which direction to travel to reduce the loss. After it knows where to step, we can increase the learning rate to take bigger steps. In the end of the training, it's so close to the ideal point, and we don't want to go past. Therefore, we lower the learning rate to fine tune.\n",
    "\n",
    "So, let's see this in action."
   ]
  },
  {
   "cell_type": "code",
   "execution_count": 1,
   "metadata": {
    "colab": {
     "base_uri": "https://localhost:8080/"
    },
    "id": "5fX-hxm92Day",
    "outputId": "14363643-077d-4fbd-8e71-3a763005389e"
   },
   "outputs": [
    {
     "name": "stdout",
     "output_type": "stream",
     "text": [
      "Mounted at /content/drive\n",
      "/content/drive/MyDrive/Colab Notebooks\n",
      "\u001b[2K     \u001b[90m━━━━━━━━━━━━━━━━━━━━━━━━━━━━━━━━━━━━━━━━\u001b[0m \u001b[32m179.2/179.2 kB\u001b[0m \u001b[31m3.3 MB/s\u001b[0m eta \u001b[36m0:00:00\u001b[0m\n",
      "\u001b[2K     \u001b[90m━━━━━━━━━━━━━━━━━━━━━━━━━━━━━━━━━━━━━━━━\u001b[0m \u001b[32m521.2/521.2 kB\u001b[0m \u001b[31m7.3 MB/s\u001b[0m eta \u001b[36m0:00:00\u001b[0m\n",
      "\u001b[2K     \u001b[90m━━━━━━━━━━━━━━━━━━━━━━━━━━━━━━━━━━━━━━━━\u001b[0m \u001b[32m115.3/115.3 kB\u001b[0m \u001b[31m13.1 MB/s\u001b[0m eta \u001b[36m0:00:00\u001b[0m\n",
      "\u001b[2K     \u001b[90m━━━━━━━━━━━━━━━━━━━━━━━━━━━━━━━━━━━━━━━━\u001b[0m \u001b[32m134.8/134.8 kB\u001b[0m \u001b[31m14.8 MB/s\u001b[0m eta \u001b[36m0:00:00\u001b[0m\n",
      "\u001b[?25h"
     ]
    }
   ],
   "source": [
    "from google.colab import drive\n",
    "drive.mount('/content/drive')\n",
    "%cd /content/drive/MyDrive/'Colab Notebooks'\n",
    "!pip -q install torcheval\n",
    "!pip -q install datasets"
   ]
  },
  {
   "cell_type": "code",
   "execution_count": 2,
   "metadata": {
    "id": "7orq0FdC2f1V"
   },
   "outputs": [],
   "source": [
    "import pickle,gzip,math,os,time,shutil,torch,matplotlib as mpl,numpy as np,matplotlib.pyplot as plt\n",
    "import fastcore.all as fc\n",
    "from collections.abc import Mapping\n",
    "from pathlib import Path\n",
    "from operator import attrgetter,itemgetter\n",
    "from functools import partial\n",
    "from copy import copy\n",
    "from contextlib import contextmanager\n",
    "\n",
    "import torchvision.transforms.functional as TF,torch.nn.functional as F\n",
    "from torch import tensor,nn,optim\n",
    "from torch.utils.data import DataLoader,default_collate\n",
    "from torch.nn import init\n",
    "from torch.optim import lr_scheduler\n",
    "from torcheval.metrics import MulticlassAccuracy\n",
    "from datasets import load_dataset,load_dataset_builder\n",
    "\n",
    "from miniai.datasets import *\n",
    "from miniai.conv import *\n",
    "from miniai.learner import *\n",
    "from miniai.activations import *\n",
    "from miniai.init import *\n",
    "from miniai.xtras import *"
   ]
  },
  {
   "cell_type": "code",
   "execution_count": 3,
   "metadata": {
    "id": "FI7y8Ezu2geR"
   },
   "outputs": [],
   "source": [
    "from fastcore.test import test_close\n",
    "\n",
    "torch.set_printoptions(precision=2, linewidth=140, sci_mode=False)\n",
    "torch.manual_seed(1)\n",
    "\n",
    "import logging\n",
    "logging.disable(logging.WARNING)\n",
    "\n",
    "set_seed(42)"
   ]
  },
  {
   "cell_type": "code",
   "execution_count": 4,
   "metadata": {
    "colab": {
     "base_uri": "https://localhost:8080/"
    },
    "id": "VO7mnXWh2l7x",
    "outputId": "839a7bb0-5aee-4fda-e43b-d8ffb4bdb8b8"
   },
   "outputs": [
    {
     "data": {
      "text/plain": [
       "(torch.Size([1024, 1, 28, 28]), tensor([5, 7, 4, 7, 3, 8, 9, 5, 3, 1]))"
      ]
     },
     "execution_count": 4,
     "metadata": {},
     "output_type": "execute_result"
    }
   ],
   "source": [
    "dls = get_dls()\n",
    "dt = dls.train\n",
    "xb,yb = next(iter(dt))\n",
    "xb.shape,yb[:10]"
   ]
  },
  {
   "cell_type": "markdown",
   "metadata": {
    "id": "-dnwrPucTITM"
   },
   "source": [
    "## Pytorch optimizers"
   ]
  },
  {
   "cell_type": "markdown",
   "metadata": {
    "id": "rn9JsqcLHmNX"
   },
   "source": [
    "Before we look into schedulers, we need to look at Pytorch optimizers. We know how optimizers work in general from last blog, but Pytorch optimizers are a little bit different. To initialize a Pytorch optimizer, we need parameters and a learning rate."
   ]
  },
  {
   "cell_type": "code",
   "execution_count": 5,
   "metadata": {
    "colab": {
     "base_uri": "https://localhost:8080/"
    },
    "id": "P5Nv7WzCOrO6",
    "outputId": "54acedcf-0920-45c1-c117-2c28239944ec"
   },
   "outputs": [
    {
     "data": {
      "text/plain": [
       "SGD (\n",
       "Parameter Group 0\n",
       "    dampening: 0\n",
       "    differentiable: False\n",
       "    foreach: None\n",
       "    lr: 0.1\n",
       "    maximize: False\n",
       "    momentum: 0\n",
       "    nesterov: False\n",
       "    weight_decay: 0\n",
       ")"
      ]
     },
     "execution_count": 5,
     "metadata": {},
     "output_type": "execute_result"
    }
   ],
   "source": [
    "model = get_model()\n",
    "opt = optim.SGD(model.parameters(), lr=0.1)\n",
    "opt"
   ]
  },
  {
   "cell_type": "markdown",
   "metadata": {
    "id": "0QpFxiZUP7uu"
   },
   "source": [
    "We can also grab an optimizer from the learner. With `SingleBatchCB`, we can stop the training after one batch. This way, every initialization step is run, and we know there is no error when the batch ran."
   ]
  },
  {
   "cell_type": "code",
   "execution_count": 6,
   "metadata": {
    "id": "qZ88IugM4M7z"
   },
   "outputs": [],
   "source": [
    "learn = TrainLearner(get_model(), dls, F.cross_entropy, cbs=[DeviceCB(), SingleBatchCB()])\n",
    "learn.fit()"
   ]
  },
  {
   "cell_type": "code",
   "execution_count": 7,
   "metadata": {
    "colab": {
     "base_uri": "https://localhost:8080/"
    },
    "id": "7yMUphGR5Nvk",
    "outputId": "ec434c58-8ede-4bda-85b1-2f5091e60a1a"
   },
   "outputs": [
    {
     "data": {
      "text/plain": [
       "SGD (\n",
       "Parameter Group 0\n",
       "    dampening: 0\n",
       "    differentiable: False\n",
       "    foreach: None\n",
       "    lr: 0.1\n",
       "    maximize: False\n",
       "    momentum: 0\n",
       "    nesterov: False\n",
       "    weight_decay: 0\n",
       ")"
      ]
     },
     "execution_count": 7,
     "metadata": {},
     "output_type": "execute_result"
    }
   ],
   "source": [
    "opt = learn.opt\n",
    "opt"
   ]
  },
  {
   "cell_type": "markdown",
   "metadata": {
    "id": "6Xs1089uR3Qs"
   },
   "source": [
    "Optimizers store states for updating the weights. To access the states, we have to use parameters as keys because they are dictionaries."
   ]
  },
  {
   "cell_type": "code",
   "execution_count": 8,
   "metadata": {
    "colab": {
     "base_uri": "https://localhost:8080/"
    },
    "id": "quLi0Wg4Az5i",
    "outputId": "bdc92b8a-3ddc-49d0-cafb-92e3e6662e21"
   },
   "outputs": [
    {
     "data": {
      "text/plain": [
       "{'momentum_buffer': None}"
      ]
     },
     "execution_count": 8,
     "metadata": {},
     "output_type": "execute_result"
    }
   ],
   "source": [
    "params = next(iter(learn.model.parameters()))\n",
    "opt.state[params]"
   ]
  },
  {
   "cell_type": "code",
   "execution_count": 9,
   "metadata": {
    "colab": {
     "base_uri": "https://localhost:8080/"
    },
    "id": "LeQ1y-FOBPH1",
    "outputId": "74e97e44-7ee1-494c-ac02-a2ce89b49d30"
   },
   "outputs": [
    {
     "data": {
      "text/plain": [
       "8"
      ]
     },
     "execution_count": 9,
     "metadata": {},
     "output_type": "execute_result"
    }
   ],
   "source": [
    "len(params)"
   ]
  },
  {
   "cell_type": "markdown",
   "metadata": {
    "id": "zkGtuWhcSUyd"
   },
   "source": [
    "Parameters are also divided into param_groups. This will be useful later when we want to apply different learning rates for each parameter group."
   ]
  },
  {
   "cell_type": "code",
   "execution_count": 10,
   "metadata": {
    "colab": {
     "base_uri": "https://localhost:8080/"
    },
    "id": "8fDkZdcBBdwl",
    "outputId": "2ea1d84d-d450-4cdb-acc9-12575d8c683a"
   },
   "outputs": [
    {
     "data": {
      "text/plain": [
       "1"
      ]
     },
     "execution_count": 10,
     "metadata": {},
     "output_type": "execute_result"
    }
   ],
   "source": [
    "len(opt.param_groups)"
   ]
  },
  {
   "cell_type": "code",
   "execution_count": 11,
   "metadata": {
    "colab": {
     "base_uri": "https://localhost:8080/"
    },
    "id": "dtxSrJXdBo2K",
    "outputId": "a9bfe28d-bf7e-4316-e5f2-563505b5e33d"
   },
   "outputs": [
    {
     "data": {
      "text/plain": [
       "['params',\n",
       " 'lr',\n",
       " 'momentum',\n",
       " 'dampening',\n",
       " 'weight_decay',\n",
       " 'nesterov',\n",
       " 'maximize',\n",
       " 'foreach',\n",
       " 'differentiable']"
      ]
     },
     "execution_count": 11,
     "metadata": {},
     "output_type": "execute_result"
    }
   ],
   "source": [
    "list(opt.param_groups[0])"
   ]
  },
  {
   "cell_type": "code",
   "execution_count": 12,
   "metadata": {
    "colab": {
     "base_uri": "https://localhost:8080/"
    },
    "id": "D6MvdfoiB0IF",
    "outputId": "5b7977bb-f7b4-40d4-d498-0d6501f1a971"
   },
   "outputs": [
    {
     "data": {
      "text/plain": [
       "dict"
      ]
     },
     "execution_count": 12,
     "metadata": {},
     "output_type": "execute_result"
    }
   ],
   "source": [
    "type(opt.param_groups[0])"
   ]
  },
  {
   "cell_type": "markdown",
   "metadata": {
    "id": "28CkDrCvSwiQ"
   },
   "source": [
    "We can also modify learning rates."
   ]
  },
  {
   "cell_type": "code",
   "execution_count": 13,
   "metadata": {
    "colab": {
     "base_uri": "https://localhost:8080/"
    },
    "id": "ak8nmXZR3cjS",
    "outputId": "3ddc628e-58ca-47fc-b440-698d423654db"
   },
   "outputs": [
    {
     "data": {
      "text/plain": [
       "1"
      ]
     },
     "execution_count": 13,
     "metadata": {},
     "output_type": "execute_result"
    }
   ],
   "source": [
    "opt.param_groups[0]['lr'] = 1\n",
    "opt.param_groups[0]['lr']"
   ]
  },
  {
   "cell_type": "markdown",
   "metadata": {
    "id": "q0oEcnz2TBts"
   },
   "source": [
    "## Scheduler"
   ]
  },
  {
   "cell_type": "markdown",
   "metadata": {
    "id": "jLjuAsrVnmG4"
   },
   "source": [
    "### CosignAnnealingLR"
   ]
  },
  {
   "cell_type": "markdown",
   "metadata": {
    "id": "2OdgBkaATEiJ"
   },
   "source": [
    "It's time to look at schedulers. Let's look at `CosineAnnealingLR` and see how the learning rate changes by plotting it. To create a scheduler, we have to pass in an optimizer and the number of total steps. The optimizer stores states such as learning rate, and total steps are used to determine how to change the learning rate."
   ]
  },
  {
   "cell_type": "code",
   "execution_count": 14,
   "metadata": {
    "colab": {
     "base_uri": "https://localhost:8080/"
    },
    "id": "8Yn0ouje6spL",
    "outputId": "190e4b5b-d4c2-446c-9511-8b99fe12d641"
   },
   "outputs": [
    {
     "data": {
      "text/plain": [
       "<torch.optim.lr_scheduler.CosineAnnealingLR at 0x7b2edadf46d0>"
      ]
     },
     "execution_count": 14,
     "metadata": {},
     "output_type": "execute_result"
    }
   ],
   "source": [
    "sched = lr_scheduler.CosineAnnealingLR(opt, 100)\n",
    "sched"
   ]
  },
  {
   "cell_type": "markdown",
   "metadata": {
    "id": "ZURSm8MDUjyd"
   },
   "source": [
    "We can use `step` and `get_last_lr` to update and get the learning rate."
   ]
  },
  {
   "cell_type": "code",
   "execution_count": 15,
   "metadata": {
    "colab": {
     "base_uri": "https://localhost:8080/"
    },
    "id": "K1b8_rWS89oX",
    "outputId": "731617e3-a754-4acb-cf8a-f3b6047615de"
   },
   "outputs": [
    {
     "data": {
      "text/plain": [
       "[1]"
      ]
     },
     "execution_count": 15,
     "metadata": {},
     "output_type": "execute_result"
    }
   ],
   "source": [
    "sched.get_last_lr()"
   ]
  },
  {
   "cell_type": "markdown",
   "metadata": {
    "id": "GVNP_QtpMfZt"
   },
   "source": [
    "Let's plot the function to see how the learning rate changes."
   ]
  },
  {
   "cell_type": "code",
   "execution_count": 16,
   "metadata": {
    "colab": {
     "base_uri": "https://localhost:8080/",
     "height": 430
    },
    "id": "eVs-yRgv8W8P",
    "outputId": "ffc4bc72-a8c8-42a8-d876-6af4f1a01595"
   },
   "outputs": [
    {
     "data": {
      "image/png": "[encoded data removed]",
      "text/plain": [
       "<Figure size 640x480 with 1 Axes>"
      ]
     },
     "metadata": {},
     "output_type": "display_data"
    }
   ],
   "source": [
    "lrs = []\n",
    "for i in range(100):\n",
    "    lrs.append(sched.get_last_lr())\n",
    "    opt.step()\n",
    "    sched.step()\n",
    "plt.plot(lrs);"
   ]
  },
  {
   "cell_type": "markdown",
   "metadata": {
    "id": "y9Z_QikHWehO"
   },
   "source": [
    "We can create a plotting function to explore more. If we step more than t_max, we can see the cosine curve coming up. We can also use `eta_min` to set the minimum of the learning rate."
   ]
  },
  {
   "cell_type": "code",
   "execution_count": 20,
   "metadata": {
    "id": "rbb6Oj1FOxcG"
   },
   "outputs": [],
   "source": [
    "def get_opt(lr=0.1): return optim.SGD(get_model().parameters(), lr=lr)"
   ]
  },
  {
   "cell_type": "code",
   "execution_count": 21,
   "metadata": {
    "id": "hkDZJkRA38Tt"
   },
   "outputs": [],
   "source": [
    "def plot_lrs(scheduler, opt, n_steps=None, **kwargs):\n",
    "    sched = scheduler(opt, **kwargs)\n",
    "    sched_lrs = []\n",
    "    for i in range(n_steps):\n",
    "        sched_lrs.append(sched.get_last_lr())\n",
    "        opt.step()\n",
    "        sched.step()\n",
    "\n",
    "    plt.plot(sched_lrs);"
   ]
  },
  {
   "cell_type": "code",
   "execution_count": 22,
   "metadata": {
    "colab": {
     "base_uri": "https://localhost:8080/",
     "height": 430
    },
    "id": "sED4r9Df6eXK",
    "outputId": "2e8003f1-8cf7-4bb3-c932-19ea06635196"
   },
   "outputs": [
    {
     "data": {
      "image/png": "[encoded data removed]",
      "text/plain": [
       "<Figure size 640x480 with 1 Axes>"
      ]
     },
     "metadata": {},
     "output_type": "display_data"
    }
   ],
   "source": [
    "plot_lrs(lr_scheduler.CosineAnnealingLR, get_opt(), T_max=100, n_steps=120, eta_min=.02)"
   ]
  },
  {
   "cell_type": "markdown",
   "metadata": {
    "id": "TAo5x0AQSG32"
   },
   "source": [
    "It's time to write it from scratch."
   ]
  },
  {
   "cell_type": "code",
   "execution_count": 51,
   "metadata": {
    "id": "72xtSA1n5Zqh"
   },
   "outputs": [],
   "source": [
    "class Scheduler:\n",
    "    def __init__(self, opt, T_max):\n",
    "        self.opt = opt\n",
    "        self.T_max = T_max\n",
    "        self.cur_T = 1\n",
    "        self.max_lr = opt.param_groups[0]['lr']"
   ]
  },
  {
   "cell_type": "code",
   "execution_count": 24,
   "metadata": {
    "id": "1HMFfyse1vjz"
   },
   "outputs": [],
   "source": [
    "class CosineAnnealing(Scheduler):\n",
    "    def __init__(self, opt, T_max):\n",
    "        super().__init__(opt, T_max)\n",
    "\n",
    "    def step(self):\n",
    "        new_lr = .5*(self.max_lr)*(1+torch.cos(tensor(self.cur_T/self.T_max*torch.pi)))\n",
    "        self.opt.param_groups[0]['lr'] = new_lr\n",
    "        self.cur_T += 1\n",
    "\n",
    "    def get_last_lr(self): return self.opt.param_groups[0]['lr']"
   ]
  },
  {
   "cell_type": "code",
   "execution_count": 26,
   "metadata": {
    "colab": {
     "base_uri": "https://localhost:8080/",
     "height": 430
    },
    "id": "fWPbuU6L_oeQ",
    "outputId": "2f90aba3-844a-4eb6-d99f-2173a9580e4f"
   },
   "outputs": [
    {
     "data": {
      "image/png": "[encoded data removed]",
      "text/plain": [
       "<Figure size 640x480 with 1 Axes>"
      ]
     },
     "metadata": {},
     "output_type": "display_data"
    }
   ],
   "source": [
    "plot_lrs(CosineAnnealing, get_opt(), T_max=100, n_steps=120)"
   ]
  },
  {
   "cell_type": "markdown",
   "metadata": {
    "id": "wbsWtn--Ya8t"
   },
   "source": [
    "Now, let's see how it performs in the model. We will update the learning rate each batch. We will also record the learning rates."
   ]
  },
  {
   "cell_type": "code",
   "execution_count": 27,
   "metadata": {
    "id": "S-S22IWAWCqJ"
   },
   "outputs": [],
   "source": [
    "class BaseSchedCB(Callback):\n",
    "    def __init__(self, sched): self.sched = sched\n",
    "    def before_fit(self, learn): self.schedo = self.sched(learn.opt)\n",
    "    def _step(self, learn):\n",
    "        if learn.training: self.schedo.step()"
   ]
  },
  {
   "cell_type": "code",
   "execution_count": 28,
   "metadata": {
    "id": "4aBIZYfdWF8D"
   },
   "outputs": [],
   "source": [
    "class BatchSchedCB(BaseSchedCB):\n",
    "    def after_batch(self, learn): self._step(learn)"
   ]
  },
  {
   "cell_type": "code",
   "execution_count": 29,
   "metadata": {
    "id": "VHub2LTpWGNp"
   },
   "outputs": [],
   "source": [
    "class RecorderCB(Callback):\n",
    "    def __init__(self, **d): self.d = d\n",
    "    def before_fit(self, learn):\n",
    "        self.recs = {k:[] for k in self.d}\n",
    "        self.pg = learn.opt.param_groups[0]\n",
    "\n",
    "    def after_batch(self, learn):\n",
    "        if not learn.training: return\n",
    "        for k,v in self.d.items():\n",
    "            self.recs[k].append(v(self))\n",
    "\n",
    "    def plot(self):\n",
    "        for k,v in self.recs.items():\n",
    "            plt.plot(v, label=k)\n",
    "            plt.legend()\n",
    "            plt.show()"
   ]
  },
  {
   "cell_type": "code",
   "execution_count": 31,
   "metadata": {
    "id": "vohsIWchWIHz"
   },
   "outputs": [],
   "source": [
    "def _lr(cb): return cb.pg['lr']"
   ]
  },
  {
   "cell_type": "code",
   "execution_count": null,
   "metadata": {
    "id": "V9pGcG04uDTZ"
   },
   "outputs": [],
   "source": [
    "metrics = MetricsCB(accuracy=MulticlassAccuracy())\n",
    "astats = ActivationStats(fc.risinstance(GeneralRelu))\n",
    "cbs = [DeviceCB(), metrics, ProgressCB(plot=True), astats]\n",
    "act_gr = partial(GeneralRelu, leak=0.1, sub=0.4)\n",
    "iw = partial(init_weights, leaky=0.1)\n",
    "lrf_cbs = [DeviceCB(), LRFinderCB()]"
   ]
  },
  {
   "cell_type": "code",
   "execution_count": 32,
   "metadata": {
    "id": "9n9e6nMpWQ41"
   },
   "outputs": [],
   "source": [
    "T_max = len(dls.train) * 3\n",
    "sched = partial(CosineAnnealing, T_max=T_max)\n",
    "\n",
    "act_gr = partial(GeneralRelu, leak=0.1, sub=0.4)\n",
    "iw = partial(init_weights, leaky=0.1)\n",
    "metrics = MetricsCB(accuracy=MulticlassAccuracy())\n",
    "astats = ActivationStats(fc.risinstance(GeneralRelu))\n",
    "cbs = [DeviceCB(), metrics, ProgressCB(plot=False), astats]"
   ]
  },
  {
   "cell_type": "code",
   "execution_count": 33,
   "metadata": {
    "colab": {
     "base_uri": "https://localhost:8080/",
     "height": 237
    },
    "id": "3iLRWoY8WJvX",
    "outputId": "2462771c-6d9b-45e2-b83a-72767acfa5d1"
   },
   "outputs": [
    {
     "data": {
      "text/html": [
       "\n",
       "<style>\n",
       "    /* Turns off some styling */\n",
       "    progress {\n",
       "        /* gets rid of default border in Firefox and Opera. */\n",
       "        border: none;\n",
       "        /* Needs to be in here for Safari polyfill so background images work as expected. */\n",
       "        background-size: auto;\n",
       "    }\n",
       "    progress:not([value]), progress:not([value])::-webkit-progress-bar {\n",
       "        background: repeating-linear-gradient(45deg, #7e7e7e, #7e7e7e 10px, #5c5c5c 10px, #5c5c5c 20px);\n",
       "    }\n",
       "    .progress-bar-interrupted, .progress-bar-interrupted::-webkit-progress-bar {\n",
       "        background: #F44336;\n",
       "    }\n",
       "</style>\n"
      ],
      "text/plain": [
       "<IPython.core.display.HTML object>"
      ]
     },
     "metadata": {},
     "output_type": "display_data"
    },
    {
     "data": {
      "text/html": [
       "<table border=\"1\" class=\"dataframe\">\n",
       "  <thead>\n",
       "    <tr style=\"text-align: left;\">\n",
       "      <th>accuracy</th>\n",
       "      <th>loss</th>\n",
       "      <th>epoch</th>\n",
       "      <th>train</th>\n",
       "      <th>time</th>\n",
       "    </tr>\n",
       "  </thead>\n",
       "  <tbody>\n",
       "    <tr>\n",
       "      <td>0.796</td>\n",
       "      <td>0.552</td>\n",
       "      <td>0</td>\n",
       "      <td>True</td>\n",
       "      <td>00:23</td>\n",
       "    </tr>\n",
       "    <tr>\n",
       "      <td>0.853</td>\n",
       "      <td>0.404</td>\n",
       "      <td>0</td>\n",
       "      <td>False</td>\n",
       "      <td>00:02</td>\n",
       "    </tr>\n",
       "    <tr>\n",
       "      <td>0.876</td>\n",
       "      <td>0.341</td>\n",
       "      <td>1</td>\n",
       "      <td>True</td>\n",
       "      <td>00:21</td>\n",
       "    </tr>\n",
       "    <tr>\n",
       "      <td>0.872</td>\n",
       "      <td>0.354</td>\n",
       "      <td>1</td>\n",
       "      <td>False</td>\n",
       "      <td>00:02</td>\n",
       "    </tr>\n",
       "    <tr>\n",
       "      <td>0.891</td>\n",
       "      <td>0.299</td>\n",
       "      <td>2</td>\n",
       "      <td>True</td>\n",
       "      <td>00:25</td>\n",
       "    </tr>\n",
       "    <tr>\n",
       "      <td>0.877</td>\n",
       "      <td>0.338</td>\n",
       "      <td>2</td>\n",
       "      <td>False</td>\n",
       "      <td>00:02</td>\n",
       "    </tr>\n",
       "  </tbody>\n",
       "</table>"
      ],
      "text/plain": [
       "<IPython.core.display.HTML object>"
      ]
     },
     "metadata": {},
     "output_type": "display_data"
    }
   ],
   "source": [
    "set_seed(42)\n",
    "model = get_model(act_gr, norm=nn.BatchNorm2d).apply(iw)\n",
    "rec = RecorderCB(lr=_lr)\n",
    "xtra = [BatchSchedCB(sched),rec]\n",
    "learn = TrainLearner(model, dls, F.cross_entropy, lr=2e-2, cbs=cbs+xtra, opt_func=optim.AdamW)\n",
    "learn.fit(3)"
   ]
  },
  {
   "cell_type": "code",
   "execution_count": 34,
   "metadata": {
    "colab": {
     "base_uri": "https://localhost:8080/",
     "height": 430
    },
    "id": "LN9qg_p0Xmk8",
    "outputId": "db81bfc6-b65c-4aaf-d830-5d71fcd9a645"
   },
   "outputs": [
    {
     "data": {
      "image/png": "[encoded data removed]",
      "text/plain": [
       "<Figure size 640x480 with 1 Axes>"
      ]
     },
     "metadata": {},
     "output_type": "display_data"
    }
   ],
   "source": [
    "rec.plot()"
   ]
  },
  {
   "cell_type": "markdown",
   "metadata": {
    "id": "aF5SHgLR2JMP"
   },
   "source": [
    "### OneCycleLR"
   ]
  },
  {
   "cell_type": "markdown",
   "metadata": {
    "id": "vbncJ6Br2RNw"
   },
   "source": [
    "Now, let's go over `OneCycleLR`. This technique came from [Cyclical Learning Rates for Training Neural Networks](https://arxiv.org/abs/1506.01186) by Leslie Smith. He experimented a lot with hyperparameters like learning rate, momentum, batch size, and weight decay. In the paper, he went over *triangular* learning rate policy. Let's see what it looks like from Pytorch's version."
   ]
  },
  {
   "cell_type": "code",
   "execution_count": 35,
   "metadata": {
    "colab": {
     "base_uri": "https://localhost:8080/",
     "height": 430
    },
    "id": "UJIeMYlINJRo",
    "outputId": "f4fbd432-d3f7-4193-b5a8-3892ace31f6d"
   },
   "outputs": [
    {
     "data": {
      "image/png": "[encoded data removed]",
      "text/plain": [
       "<Figure size 640x480 with 1 Axes>"
      ]
     },
     "metadata": {},
     "output_type": "display_data"
    }
   ],
   "source": [
    "plot_lrs(lr_scheduler.OneCycleLR, get_opt(), n_steps=100, max_lr=1, total_steps=100, anneal_strategy='linear', three_phase=False, pct_start=.5)"
   ]
  },
  {
   "cell_type": "markdown",
   "metadata": {
    "id": "1x_753j53X69"
   },
   "source": [
    "Why does our model starts from the lowest to maximum and back down to the lowest? As menteioned before, it starts with the lowest to warm up. As it trains, it finds where to step, so we can take bigger steps. Then, we slow down to fine tune.\n",
    "\n",
    "\n",
    "It's very simple to implement. We can easily write the program."
   ]
  },
  {
   "cell_type": "code",
   "execution_count": 56,
   "metadata": {
    "id": "guefmFys3e3s"
   },
   "outputs": [],
   "source": [
    "class OneCycle(Scheduler):\n",
    "    def __init__(self, opt, T_max, min_lr=0.):\n",
    "        super().__init__(opt, T_max)\n",
    "        self.min_lr = min_lr\n",
    "        self.opt.param_groups[0]['lr'] = self.min_lr\n",
    "\n",
    "    def step(self):\n",
    "        cycle = math.floor(1 + self.cur_T/(2* self.T_max/2))\n",
    "        x = abs(self.cur_T / (self.T_max/2) - 2*cycle + 1)\n",
    "        new_lr = self.min_lr + (self.max_lr - self.min_lr) * max(0, 1-x)\n",
    "        self.opt.param_groups[0]['lr'] = new_lr\n",
    "        self.cur_T += 1\n",
    "\n",
    "    def get_last_lr(self): return self.opt.param_groups[0]['lr']"
   ]
  },
  {
   "cell_type": "code",
   "execution_count": 57,
   "metadata": {
    "colab": {
     "base_uri": "https://localhost:8080/",
     "height": 430
    },
    "id": "bQTYaqaC7pHZ",
    "outputId": "61e2c6d8-0429-4806-c014-f97e247a3ee2"
   },
   "outputs": [
    {
     "data": {
      "image/png": "[encoded data removed]",
      "text/plain": [
       "<Figure size 640x480 with 1 Axes>"
      ]
     },
     "metadata": {},
     "output_type": "display_data"
    }
   ],
   "source": [
    "plot_lrs(OneCycle, get_opt(), n_steps=100, T_max=100)"
   ]
  },
  {
   "cell_type": "markdown",
   "metadata": {
    "id": "zqCCa1OLEmJO"
   },
   "source": [
    "That looks good. Let's try it out."
   ]
  },
  {
   "cell_type": "code",
   "execution_count": 58,
   "metadata": {
    "colab": {
     "base_uri": "https://localhost:8080/",
     "height": 237
    },
    "id": "fGm2eafbJkcq",
    "outputId": "6dab2d8d-dfd3-475b-d83d-24d76307a004"
   },
   "outputs": [
    {
     "data": {
      "text/html": [
       "\n",
       "<style>\n",
       "    /* Turns off some styling */\n",
       "    progress {\n",
       "        /* gets rid of default border in Firefox and Opera. */\n",
       "        border: none;\n",
       "        /* Needs to be in here for Safari polyfill so background images work as expected. */\n",
       "        background-size: auto;\n",
       "    }\n",
       "    progress:not([value]), progress:not([value])::-webkit-progress-bar {\n",
       "        background: repeating-linear-gradient(45deg, #7e7e7e, #7e7e7e 10px, #5c5c5c 10px, #5c5c5c 20px);\n",
       "    }\n",
       "    .progress-bar-interrupted, .progress-bar-interrupted::-webkit-progress-bar {\n",
       "        background: #F44336;\n",
       "    }\n",
       "</style>\n"
      ],
      "text/plain": [
       "<IPython.core.display.HTML object>"
      ]
     },
     "metadata": {},
     "output_type": "display_data"
    },
    {
     "data": {
      "text/html": [
       "<table border=\"1\" class=\"dataframe\">\n",
       "  <thead>\n",
       "    <tr style=\"text-align: left;\">\n",
       "      <th>accuracy</th>\n",
       "      <th>loss</th>\n",
       "      <th>epoch</th>\n",
       "      <th>train</th>\n",
       "      <th>time</th>\n",
       "    </tr>\n",
       "  </thead>\n",
       "  <tbody>\n",
       "    <tr>\n",
       "      <td>0.711</td>\n",
       "      <td>0.814</td>\n",
       "      <td>0</td>\n",
       "      <td>True</td>\n",
       "      <td>00:25</td>\n",
       "    </tr>\n",
       "    <tr>\n",
       "      <td>0.834</td>\n",
       "      <td>0.462</td>\n",
       "      <td>0</td>\n",
       "      <td>False</td>\n",
       "      <td>00:02</td>\n",
       "    </tr>\n",
       "    <tr>\n",
       "      <td>0.862</td>\n",
       "      <td>0.375</td>\n",
       "      <td>1</td>\n",
       "      <td>True</td>\n",
       "      <td>00:22</td>\n",
       "    </tr>\n",
       "    <tr>\n",
       "      <td>0.871</td>\n",
       "      <td>0.359</td>\n",
       "      <td>1</td>\n",
       "      <td>False</td>\n",
       "      <td>00:01</td>\n",
       "    </tr>\n",
       "    <tr>\n",
       "      <td>0.892</td>\n",
       "      <td>0.294</td>\n",
       "      <td>2</td>\n",
       "      <td>True</td>\n",
       "      <td>00:23</td>\n",
       "    </tr>\n",
       "    <tr>\n",
       "      <td>0.883</td>\n",
       "      <td>0.322</td>\n",
       "      <td>2</td>\n",
       "      <td>False</td>\n",
       "      <td>00:02</td>\n",
       "    </tr>\n",
       "  </tbody>\n",
       "</table>"
      ],
      "text/plain": [
       "<IPython.core.display.HTML object>"
      ]
     },
     "metadata": {},
     "output_type": "display_data"
    }
   ],
   "source": [
    "T_max = len(dls.train) * 3\n",
    "sched = partial(OneCycle, T_max=T_max)\n",
    "rec = RecorderCB(lr=_lr)\n",
    "\n",
    "set_seed(42)\n",
    "model = get_model(act_gr, norm=nn.BatchNorm2d).apply(iw)\n",
    "rec = RecorderCB(lr=_lr)\n",
    "xtra = [BatchSchedCB(sched),rec]\n",
    "learn = TrainLearner(model, dls, F.cross_entropy, lr=2e-2, cbs=cbs+xtra, opt_func=optim.AdamW)\n",
    "learn.fit(3)"
   ]
  },
  {
   "cell_type": "code",
   "execution_count": 59,
   "metadata": {
    "colab": {
     "base_uri": "https://localhost:8080/",
     "height": 430
    },
    "id": "_6f8NxWzB5WA",
    "outputId": "03b2c683-4714-49d3-846a-d0bc013b4240"
   },
   "outputs": [
    {
     "data": {
      "image/png": "[encoded data removed]",
      "text/plain": [
       "<Figure size 640x480 with 1 Axes>"
      ]
     },
     "metadata": {},
     "output_type": "display_data"
    }
   ],
   "source": [
    "rec.plot()"
   ]
  },
  {
   "cell_type": "markdown",
   "metadata": {
    "id": "9Q70wuDQEt_m"
   },
   "source": [
    "With `OneCycle`, we can increase the learning rate a bit more. Try it out and see how much you can increase.\n",
    "\n"
   ]
  },
  {
   "cell_type": "markdown",
   "metadata": {
    "id": "YqAsAXlfJvlb"
   },
   "source": [
    "By default, Pytorch's `OneCycleLR` uses cosine annealing to modify both learning rate and momentum for the batch norm. In [A disciplined approach to neural network hyper-parameters: Part 1](https://arxiv.org/abs/1803.09820), Leslie Smith talks about how there is a balance in regularization using learning rate, batch size, momentum, and weight decay. To summarize,\n",
    "- High batch size: high regularization\n",
    "- High weight decay: high regularization\n",
    "- High learning rate: high regularization\n",
    "- High momentum: high regularization\n",
    "\n",
    "Learning rate and momentum are more closely related. When using high regularization, learning rate has to be reduced, and vice versa. That's what the Pytroch's `OneCycleLR` takes advantage of.\n"
   ]
  },
  {
   "cell_type": "code",
   "execution_count": 66,
   "metadata": {
    "id": "3vL5lYzTsn-l"
   },
   "outputs": [],
   "source": [
    "def _beta1(cb): return cb.pg['betas'][0]\n",
    "rec = RecorderCB(lr=_lr, mom=_beta1)"
   ]
  },
  {
   "cell_type": "code",
   "execution_count": 67,
   "metadata": {
    "colab": {
     "base_uri": "https://localhost:8080/",
     "height": 363
    },
    "id": "YglbzxSCqMBM",
    "outputId": "3217fdb8-736e-4f67-b2b4-dd8ac96f133a"
   },
   "outputs": [
    {
     "data": {
      "text/html": [
       "\n",
       "<style>\n",
       "    /* Turns off some styling */\n",
       "    progress {\n",
       "        /* gets rid of default border in Firefox and Opera. */\n",
       "        border: none;\n",
       "        /* Needs to be in here for Safari polyfill so background images work as expected. */\n",
       "        background-size: auto;\n",
       "    }\n",
       "    progress:not([value]), progress:not([value])::-webkit-progress-bar {\n",
       "        background: repeating-linear-gradient(45deg, #7e7e7e, #7e7e7e 10px, #5c5c5c 10px, #5c5c5c 20px);\n",
       "    }\n",
       "    .progress-bar-interrupted, .progress-bar-interrupted::-webkit-progress-bar {\n",
       "        background: #F44336;\n",
       "    }\n",
       "</style>\n"
      ],
      "text/plain": [
       "<IPython.core.display.HTML object>"
      ]
     },
     "metadata": {},
     "output_type": "display_data"
    },
    {
     "data": {
      "text/html": [
       "<table border=\"1\" class=\"dataframe\">\n",
       "  <thead>\n",
       "    <tr style=\"text-align: left;\">\n",
       "      <th>accuracy</th>\n",
       "      <th>loss</th>\n",
       "      <th>epoch</th>\n",
       "      <th>train</th>\n",
       "      <th>time</th>\n",
       "    </tr>\n",
       "  </thead>\n",
       "  <tbody>\n",
       "    <tr>\n",
       "      <td>0.772</td>\n",
       "      <td>0.646</td>\n",
       "      <td>0</td>\n",
       "      <td>True</td>\n",
       "      <td>00:23</td>\n",
       "    </tr>\n",
       "    <tr>\n",
       "      <td>0.844</td>\n",
       "      <td>0.461</td>\n",
       "      <td>0</td>\n",
       "      <td>False</td>\n",
       "      <td>00:01</td>\n",
       "    </tr>\n",
       "    <tr>\n",
       "      <td>0.857</td>\n",
       "      <td>0.395</td>\n",
       "      <td>1</td>\n",
       "      <td>True</td>\n",
       "      <td>00:21</td>\n",
       "    </tr>\n",
       "    <tr>\n",
       "      <td>0.866</td>\n",
       "      <td>0.369</td>\n",
       "      <td>1</td>\n",
       "      <td>False</td>\n",
       "      <td>00:02</td>\n",
       "    </tr>\n",
       "    <tr>\n",
       "      <td>0.885</td>\n",
       "      <td>0.311</td>\n",
       "      <td>2</td>\n",
       "      <td>True</td>\n",
       "      <td>00:23</td>\n",
       "    </tr>\n",
       "    <tr>\n",
       "      <td>0.879</td>\n",
       "      <td>0.334</td>\n",
       "      <td>2</td>\n",
       "      <td>False</td>\n",
       "      <td>00:01</td>\n",
       "    </tr>\n",
       "    <tr>\n",
       "      <td>0.901</td>\n",
       "      <td>0.266</td>\n",
       "      <td>3</td>\n",
       "      <td>True</td>\n",
       "      <td>00:25</td>\n",
       "    </tr>\n",
       "    <tr>\n",
       "      <td>0.891</td>\n",
       "      <td>0.296</td>\n",
       "      <td>3</td>\n",
       "      <td>False</td>\n",
       "      <td>00:02</td>\n",
       "    </tr>\n",
       "    <tr>\n",
       "      <td>0.918</td>\n",
       "      <td>0.224</td>\n",
       "      <td>4</td>\n",
       "      <td>True</td>\n",
       "      <td>00:22</td>\n",
       "    </tr>\n",
       "    <tr>\n",
       "      <td>0.897</td>\n",
       "      <td>0.283</td>\n",
       "      <td>4</td>\n",
       "      <td>False</td>\n",
       "      <td>00:01</td>\n",
       "    </tr>\n",
       "  </tbody>\n",
       "</table>"
      ],
      "text/plain": [
       "<IPython.core.display.HTML object>"
      ]
     },
     "metadata": {},
     "output_type": "display_data"
    }
   ],
   "source": [
    "set_seed(42)\n",
    "lr,epochs = 6e-2,5\n",
    "model = get_model(act_gr, norm=nn.BatchNorm2d).apply(iw)\n",
    "tmax = epochs * len(dls.train)\n",
    "sched = partial(lr_scheduler.OneCycleLR, max_lr=lr, total_steps=tmax)\n",
    "xtra = [BatchSchedCB(sched), rec]\n",
    "learn = TrainLearner(model, dls, F.cross_entropy, lr=lr, cbs=cbs+xtra, opt_func=optim.AdamW)\n",
    "learn.fit(epochs)"
   ]
  },
  {
   "cell_type": "code",
   "execution_count": 68,
   "metadata": {
    "colab": {
     "base_uri": "https://localhost:8080/",
     "height": 843
    },
    "id": "UxxW4F0wq5Pe",
    "outputId": "5f37752b-ba2f-489c-dbad-feb3d6700dc9"
   },
   "outputs": [
    {
     "data": {
      "image/png": "[encoded data removed]",
      "text/plain": [
       "<Figure size 640x480 with 1 Axes>"
      ]
     },
     "metadata": {},
     "output_type": "display_data"
    },
    {
     "data": {
      "image/png": "[encoded data removed]",
      "text/plain": [
       "<Figure size 640x480 with 1 Axes>"
      ]
     },
     "metadata": {},
     "output_type": "display_data"
    }
   ],
   "source": [
    "rec.plot()"
   ]
  },
  {
   "cell_type": "markdown",
   "metadata": {
    "id": "Plxd8TQpq59C"
   },
   "source": [
    "## Conclusion"
   ]
  },
  {
   "cell_type": "markdown",
   "metadata": {
    "id": "fSnegr_kMFv1"
   },
   "source": [
    "In this blog, we learned about Pytorch optimizers and schedulers. We were already familiar with optimizers, but we learned how Pytorch optimizers store states. Then, we went over `CosignAnnealingLR` and `OneCycleLR` schedulers and wrote them from scratch. We also went over Leslie Smith's papers regarding balancing regularization and scheduling learning rates."
   ]
  }
 ],
 "metadata": {
  "colab": {
   "provenance": [],
   "toc_visible": true
  },
  "kernelspec": {
   "display_name": "Python 3 (ipykernel)",
   "language": "python",
   "name": "python3"
  },
  "language_info": {
   "codemirror_mode": {
    "name": "ipython",
    "version": 3
   },
   "file_extension": ".py",
   "mimetype": "text/x-python",
   "name": "python",
   "nbconvert_exporter": "python",
   "pygments_lexer": "ipython3",
   "version": "3.10.12"
  }
 },
 "nbformat": 4,
 "nbformat_minor": 4
}
