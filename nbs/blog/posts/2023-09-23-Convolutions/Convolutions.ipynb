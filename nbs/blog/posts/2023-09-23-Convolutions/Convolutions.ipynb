{
 "cells": [
  {
   "cell_type": "raw",
   "metadata": {},
   "source": [
    "---\n",
    "title: \"Convolutional Neural Networks\"\n",
    "author: \"galopy\"\n",
    "date: \"September 23, 2023\"\n",
    "toc: true\n",
    "skip_showdoc: true\n",
    "skip_exec: true\n",
    "comments:\n",
    "  utterances:\n",
    "    repo: galopyz/delicious-nbdev\n",
    "---"
   ]
  },
  {
   "cell_type": "markdown",
   "metadata": {
    "id": "Eetr5B_Ffy0o"
   },
   "source": [
    "# Convolutional Neural Networks"
   ]
  },
  {
   "cell_type": "markdown",
   "metadata": {},
   "source": [
    "<img src=\"digit.jpg\" alt=\"digit image\" width=\"230\"/>"
   ]
  },
  {
   "cell_type": "markdown",
   "metadata": {
    "id": "IxYNGyZnf0gE"
   },
   "source": [
    "Let's learn about convolutional neural networks (CNN). Rather than using linear layers, we mainly use CNN on images. Compared to using linear layers, we can get more accuracy faster because CNN has fewer parameters to train and can capture patterns easily.\n"
   ]
  },
  {
   "cell_type": "markdown",
   "metadata": {
    "id": "UVME0ZtngrAt"
   },
   "source": [
    "First, we setup environments. For data, we will use MNIST digits."
   ]
  },
  {
   "cell_type": "code",
   "execution_count": 19,
   "metadata": {
    "executionInfo": {
     "elapsed": 190,
     "status": "ok",
     "timestamp": 1695338897837,
     "user": {
      "displayName": "monsieur meursault",
      "userId": "08260058581658080801"
     },
     "user_tz": 300
    },
    "id": "E0wEcwHwwVFK"
   },
   "outputs": [],
   "source": [
    "from torch import tensor, nn\n",
    "import pickle, gzip, torch, matplotlib as mpl\n",
    "from pathlib import Path\n",
    "import matplotlib.pyplot as plt"
   ]
  },
  {
   "cell_type": "code",
   "execution_count": 12,
   "metadata": {
    "executionInfo": {
     "elapsed": 3,
     "status": "ok",
     "timestamp": 1695338797573,
     "user": {
      "displayName": "monsieur meursault",
      "userId": "08260058581658080801"
     },
     "user_tz": 300
    },
    "id": "oJ3eF0m-EIPQ"
   },
   "outputs": [],
   "source": [
    "MNIST_URL='https://github.com/mnielsen/neural-networks-and-deep-learning/blob/master/data/mnist.pkl.gz?raw=true'\n",
    "path_data = Path('data')\n",
    "path_data.mkdir(exist_ok=True)\n",
    "path_gz = path_data/'mnist.pkl.gz'"
   ]
  },
  {
   "cell_type": "code",
   "execution_count": 13,
   "metadata": {
    "executionInfo": {
     "elapsed": 414,
     "status": "ok",
     "timestamp": 1695338805876,
     "user": {
      "displayName": "monsieur meursault",
      "userId": "08260058581658080801"
     },
     "user_tz": 300
    },
    "id": "LdgT3KmLETFG"
   },
   "outputs": [],
   "source": [
    "from urllib.request import urlretrieve\n",
    "if not path_gz.exists(): urlretrieve(MNIST_URL, path_gz)"
   ]
  },
  {
   "cell_type": "code",
   "execution_count": 20,
   "metadata": {
    "executionInfo": {
     "elapsed": 2122,
     "status": "ok",
     "timestamp": 1695338901717,
     "user": {
      "displayName": "monsieur meursault",
      "userId": "08260058581658080801"
     },
     "user_tz": 300
    },
    "id": "6ydmKvupETfw"
   },
   "outputs": [],
   "source": [
    "torch.set_printoptions(precision=2, linewidth=140, sci_mode=False)\n",
    "torch.manual_seed(1)\n",
    "mpl.rcParams['image.cmap'] = 'gray'\n",
    "\n",
    "path_data = Path('data')\n",
    "path_gz = path_data/'mnist.pkl.gz'\n",
    "with gzip.open(path_gz, 'rb') as f: ((x_train, y_train), (x_valid, y_valid), _) = pickle.load(f, encoding='latin-1')\n",
    "x_train, y_train, x_valid, y_valid = map(tensor, [x_train, y_train, x_valid, y_valid])"
   ]
  },
  {
   "cell_type": "markdown",
   "metadata": {
    "id": "J_h2DA3EKfXM"
   },
   "source": [
    "## Conv1d"
   ]
  },
  {
   "cell_type": "markdown",
   "metadata": {
    "id": "yIlyefVhKduJ"
   },
   "source": [
    "Let's go over how Pytroch's convolutional neural networks work. We will start with a simple example, which is `Conv1d`. Let's say we have a vector with shape `(1, 2)`. We can think of this vector as a sentence with two words, like \"I sit,\" and converted numbers into numbers so that computers can understand."
   ]
  },
  {
   "cell_type": "code",
   "execution_count": 41,
   "metadata": {
    "colab": {
     "base_uri": "https://localhost:8080/"
    },
    "executionInfo": {
     "elapsed": 153,
     "status": "ok",
     "timestamp": 1695341484760,
     "user": {
      "displayName": "monsieur meursault",
      "userId": "08260058581658080801"
     },
     "user_tz": 300
    },
    "id": "UDClZX4nkMPf",
    "outputId": "e1d124dc-4e17-45a0-e640-4ff0286c3eb0"
   },
   "outputs": [
    {
     "data": {
      "text/plain": [
       "tensor([[0.66, 0.27]])"
      ]
     },
     "execution_count": 41,
     "metadata": {},
     "output_type": "execute_result"
    }
   ],
   "source": [
    "torch.manual_seed(1)\n",
    "sent1 = torch.randn((1, 2))\n",
    "sent1"
   ]
  },
  {
   "cell_type": "markdown",
   "metadata": {
    "id": "367pL-LzNRra"
   },
   "source": [
    "Here is a `Conv1d` layer with 1 input, 1 output, 2 kernel_size. When we look at the weight of this layer, it is the kernels. Its shape corresponds to `(output, input, kernel_size)`. In this simple case, we have one kernel with size 2 kernel. The shape of bias depends on the output of the layer."
   ]
  },
  {
   "cell_type": "code",
   "execution_count": 36,
   "metadata": {
    "colab": {
     "base_uri": "https://localhost:8080/"
    },
    "executionInfo": {
     "elapsed": 137,
     "status": "ok",
     "timestamp": 1695341361928,
     "user": {
      "displayName": "monsieur meursault",
      "userId": "08260058581658080801"
     },
     "user_tz": 300
    },
    "id": "clrDrTWKBf47",
    "outputId": "33457db7-0047-47df-9ec5-824586729bf7"
   },
   "outputs": [
    {
     "data": {
      "text/plain": [
       "Conv1d(1, 1, kernel_size=(2,), stride=(1,))"
      ]
     },
     "execution_count": 36,
     "metadata": {},
     "output_type": "execute_result"
    }
   ],
   "source": [
    "layer1 = nn.Conv1d(1, 1, kernel_size=2)\n",
    "layer1"
   ]
  },
  {
   "cell_type": "code",
   "execution_count": 37,
   "metadata": {
    "colab": {
     "base_uri": "https://localhost:8080/"
    },
    "executionInfo": {
     "elapsed": 136,
     "status": "ok",
     "timestamp": 1695341362723,
     "user": {
      "displayName": "monsieur meursault",
      "userId": "08260058581658080801"
     },
     "user_tz": 300
    },
    "id": "NXhejkZlB0cY",
    "outputId": "b9a5c846-97ba-4bdd-f6c7-1689b507a5cc"
   },
   "outputs": [
    {
     "data": {
      "text/plain": [
       "(Parameter containing:\n",
       " tensor([[[-0.28, -0.05]]], requires_grad=True),\n",
       " torch.Size([1, 1, 2]))"
      ]
     },
     "execution_count": 37,
     "metadata": {},
     "output_type": "execute_result"
    }
   ],
   "source": [
    "layer1.weight, layer1.weight.shape"
   ]
  },
  {
   "cell_type": "code",
   "execution_count": 38,
   "metadata": {
    "colab": {
     "base_uri": "https://localhost:8080/"
    },
    "executionInfo": {
     "elapsed": 162,
     "status": "ok",
     "timestamp": 1695341428876,
     "user": {
      "displayName": "monsieur meursault",
      "userId": "08260058581658080801"
     },
     "user_tz": 300
    },
    "id": "_e698rQAve-A",
    "outputId": "e51017e6-676a-4ad5-abb2-568934bf5eab"
   },
   "outputs": [
    {
     "data": {
      "text/plain": [
       "Parameter containing:\n",
       "tensor([-0.06], requires_grad=True)"
      ]
     },
     "execution_count": 38,
     "metadata": {},
     "output_type": "execute_result"
    }
   ],
   "source": [
    "layer1.bias"
   ]
  },
  {
   "cell_type": "markdown",
   "metadata": {
    "id": "0XJ-m0sEOVIf"
   },
   "source": [
    "When we apply this layer to our sentence, we get -0.26, which is the same as calculating a dot product of weight and the sentence added by bias."
   ]
  },
  {
   "cell_type": "code",
   "execution_count": 40,
   "metadata": {
    "colab": {
     "base_uri": "https://localhost:8080/"
    },
    "executionInfo": {
     "elapsed": 185,
     "status": "ok",
     "timestamp": 1695341445943,
     "user": {
      "displayName": "monsieur meursault",
      "userId": "08260058581658080801"
     },
     "user_tz": 300
    },
    "id": "Zh7ORDB-zhCN",
    "outputId": "051605dd-9911-45bd-dc42-4c99948b4587"
   },
   "outputs": [
    {
     "data": {
      "text/plain": [
       "tensor([[-0.26]], grad_fn=<SqueezeBackward1>)"
      ]
     },
     "execution_count": 40,
     "metadata": {},
     "output_type": "execute_result"
    }
   ],
   "source": [
    "layer1(sent1)"
   ]
  },
  {
   "cell_type": "code",
   "execution_count": 43,
   "metadata": {
    "colab": {
     "base_uri": "https://localhost:8080/"
    },
    "executionInfo": {
     "elapsed": 181,
     "status": "ok",
     "timestamp": 1695341994050,
     "user": {
      "displayName": "monsieur meursault",
      "userId": "08260058581658080801"
     },
     "user_tz": 300
    },
    "id": "eYs3nJVBsq5S",
    "outputId": "9c5f9f76-ebf8-4013-9260-a05185adfa55"
   },
   "outputs": [
    {
     "data": {
      "text/plain": [
       "tensor([-0.26], grad_fn=<AddBackward0>)"
      ]
     },
     "execution_count": 43,
     "metadata": {},
     "output_type": "execute_result"
    }
   ],
   "source": [
    "(layer1.weight * sent1).sum() + layer1.bias"
   ]
  },
  {
   "cell_type": "markdown",
   "metadata": {
    "id": "9qd86AQmQeM7"
   },
   "source": [
    "When we set the output to 2, that means there are two kernels: one for each output. We generally refer to output as a channel. So, when we increase the output, we say we grow the channel. We will talk about why it would be helpful later."
   ]
  },
  {
   "cell_type": "code",
   "execution_count": 44,
   "metadata": {
    "colab": {
     "base_uri": "https://localhost:8080/"
    },
    "executionInfo": {
     "elapsed": 184,
     "status": "ok",
     "timestamp": 1695342045940,
     "user": {
      "displayName": "monsieur meursault",
      "userId": "08260058581658080801"
     },
     "user_tz": 300
    },
    "id": "qKUia99-Qoh8",
    "outputId": "1f84e5fa-48c4-44a4-f8ff-7a7b9825a63f"
   },
   "outputs": [
    {
     "data": {
      "text/plain": [
       "Conv1d(1, 2, kernel_size=(2,), stride=(1,))"
      ]
     },
     "execution_count": 44,
     "metadata": {},
     "output_type": "execute_result"
    }
   ],
   "source": [
    "layer2 = nn.Conv1d(1, 2, kernel_size=2)\n",
    "layer2"
   ]
  },
  {
   "cell_type": "code",
   "execution_count": 45,
   "metadata": {
    "colab": {
     "base_uri": "https://localhost:8080/"
    },
    "executionInfo": {
     "elapsed": 258,
     "status": "ok",
     "timestamp": 1695342062076,
     "user": {
      "displayName": "monsieur meursault",
      "userId": "08260058581658080801"
     },
     "user_tz": 300
    },
    "id": "O803TaRZQqkf",
    "outputId": "5df87355-44bf-41e6-ea7d-ae3579e4d684"
   },
   "outputs": [
    {
     "data": {
      "text/plain": [
       "(Parameter containing:\n",
       " tensor([[[-0.67,  0.42]],\n",
       " \n",
       "         [[-0.15,  0.36]]], requires_grad=True),\n",
       " torch.Size([2, 1, 2]))"
      ]
     },
     "execution_count": 45,
     "metadata": {},
     "output_type": "execute_result"
    }
   ],
   "source": [
    "layer2.weight, layer2.weight.shape"
   ]
  },
  {
   "cell_type": "code",
   "execution_count": 46,
   "metadata": {
    "colab": {
     "base_uri": "https://localhost:8080/"
    },
    "executionInfo": {
     "elapsed": 161,
     "status": "ok",
     "timestamp": 1695342078069,
     "user": {
      "displayName": "monsieur meursault",
      "userId": "08260058581658080801"
     },
     "user_tz": 300
    },
    "id": "Uzur7q0EQuff",
    "outputId": "e7938258-8896-4afb-c396-ca6242cfd821"
   },
   "outputs": [
    {
     "data": {
      "text/plain": [
       "Parameter containing:\n",
       "tensor([ 0.10, -0.09], requires_grad=True)"
      ]
     },
     "execution_count": 46,
     "metadata": {},
     "output_type": "execute_result"
    }
   ],
   "source": [
    "layer2.bias"
   ]
  },
  {
   "cell_type": "code",
   "execution_count": 47,
   "metadata": {
    "colab": {
     "base_uri": "https://localhost:8080/"
    },
    "executionInfo": {
     "elapsed": 188,
     "status": "ok",
     "timestamp": 1695342094534,
     "user": {
      "displayName": "monsieur meursault",
      "userId": "08260058581658080801"
     },
     "user_tz": 300
    },
    "id": "QQt2XRpYQya_",
    "outputId": "81247ffc-2072-4fda-d743-89b5d94cfaec"
   },
   "outputs": [
    {
     "data": {
      "text/plain": [
       "tensor([[-0.23],\n",
       "        [-0.09]], grad_fn=<SqueezeBackward1>)"
      ]
     },
     "execution_count": 47,
     "metadata": {},
     "output_type": "execute_result"
    }
   ],
   "source": [
    "layer2(sent1)"
   ]
  },
  {
   "cell_type": "code",
   "execution_count": 50,
   "metadata": {
    "colab": {
     "base_uri": "https://localhost:8080/"
    },
    "executionInfo": {
     "elapsed": 154,
     "status": "ok",
     "timestamp": 1695342163276,
     "user": {
      "displayName": "monsieur meursault",
      "userId": "08260058581658080801"
     },
     "user_tz": 300
    },
    "id": "KYG8z2dKQ2bP",
    "outputId": "30c839db-c65f-41d8-8b02-cf011b201f23"
   },
   "outputs": [
    {
     "data": {
      "text/plain": [
       "tensor(-0.23, grad_fn=<AddBackward0>)"
      ]
     },
     "execution_count": 50,
     "metadata": {},
     "output_type": "execute_result"
    }
   ],
   "source": [
    "(layer2.weight[0] * sent1).sum() + layer2.bias[0]"
   ]
  },
  {
   "cell_type": "code",
   "execution_count": 51,
   "metadata": {
    "colab": {
     "base_uri": "https://localhost:8080/"
    },
    "executionInfo": {
     "elapsed": 163,
     "status": "ok",
     "timestamp": 1695342177535,
     "user": {
      "displayName": "monsieur meursault",
      "userId": "08260058581658080801"
     },
     "user_tz": 300
    },
    "id": "sn9WABDKRI7K",
    "outputId": "26f170b4-02e8-440f-8c66-687bc399556e"
   },
   "outputs": [
    {
     "data": {
      "text/plain": [
       "tensor(-0.09, grad_fn=<AddBackward0>)"
      ]
     },
     "execution_count": 51,
     "metadata": {},
     "output_type": "execute_result"
    }
   ],
   "source": [
    "(layer2.weight[1] * sent1).sum() + layer2.bias[1]"
   ]
  },
  {
   "cell_type": "markdown",
   "metadata": {
    "id": "cx7iHGFRnmaq"
   },
   "source": [
    "That was simple. What if the sentence is longer than 2 words? Let's say we have 4 words this time. When we apply `layer1` to it, we get 3 numbers."
   ]
  },
  {
   "cell_type": "code",
   "execution_count": 54,
   "metadata": {
    "colab": {
     "base_uri": "https://localhost:8080/"
    },
    "executionInfo": {
     "elapsed": 150,
     "status": "ok",
     "timestamp": 1695348143365,
     "user": {
      "displayName": "monsieur meursault",
      "userId": "08260058581658080801"
     },
     "user_tz": 300
    },
    "id": "X0beaxUonuMQ",
    "outputId": "dba7bbf9-7522-49ce-92fb-c7a2cdb02351"
   },
   "outputs": [
    {
     "data": {
      "text/plain": [
       "tensor([[ 0.86,  0.71, -0.34, -1.27]])"
      ]
     },
     "execution_count": 54,
     "metadata": {},
     "output_type": "execute_result"
    }
   ],
   "source": [
    "sent2 = torch.randn((1, 4))\n",
    "sent2"
   ]
  },
  {
   "cell_type": "code",
   "execution_count": 61,
   "metadata": {
    "colab": {
     "base_uri": "https://localhost:8080/"
    },
    "executionInfo": {
     "elapsed": 190,
     "status": "ok",
     "timestamp": 1695348669964,
     "user": {
      "displayName": "monsieur meursault",
      "userId": "08260058581658080801"
     },
     "user_tz": 300
    },
    "id": "Gx3BevB_n8Kd",
    "outputId": "a973deec-dad8-454d-955c-7464f835cd39"
   },
   "outputs": [
    {
     "data": {
      "text/plain": [
       "tensor([[-0.34, -0.24,  0.10]], grad_fn=<SqueezeBackward1>)"
      ]
     },
     "execution_count": 61,
     "metadata": {},
     "output_type": "execute_result"
    }
   ],
   "source": [
    "layer1(sent2)"
   ]
  },
  {
   "cell_type": "markdown",
   "metadata": {
    "id": "UccMGUv4oMzK"
   },
   "source": [
    "We can imagine our kernel as a sliding window moving from left to right. That's what `stride` is. By default, it is 1 and moves 1 step by step. This is how it is calculated:"
   ]
  },
  {
   "cell_type": "code",
   "execution_count": 64,
   "metadata": {
    "colab": {
     "base_uri": "https://localhost:8080/"
    },
    "executionInfo": {
     "elapsed": 184,
     "status": "ok",
     "timestamp": 1695348867497,
     "user": {
      "displayName": "monsieur meursault",
      "userId": "08260058581658080801"
     },
     "user_tz": 300
    },
    "id": "zStQ_KPYo9d-",
    "outputId": "c94b6ac8-1687-458b-80a5-6de9c9f3cc50"
   },
   "outputs": [
    {
     "name": "stdout",
     "output_type": "stream",
     "text": [
      "tensor([-0.34], grad_fn=<AddBackward0>)\n",
      "tensor([-0.24], grad_fn=<AddBackward0>)\n",
      "tensor([0.10], grad_fn=<AddBackward0>)\n"
     ]
    }
   ],
   "source": [
    "for words in [sent2[0][i:i+2] for i in range(len(sent2[0]) - 1)]:\n",
    "    print((layer1.weight * words).sum() + layer1.bias)"
   ]
  },
  {
   "cell_type": "markdown",
   "metadata": {
    "id": "1fel5PqYq1Ef"
   },
   "source": [
    "### Stride and Padding"
   ]
  },
  {
   "cell_type": "markdown",
   "metadata": {
    "id": "kKqWJ-Tqq9-f"
   },
   "source": [
    "So that's basically how convolution works. By setting different values to stride, we can change how many times the kernel moves each step. By setting stride to 2, we skip some computations."
   ]
  },
  {
   "cell_type": "code",
   "execution_count": 67,
   "metadata": {
    "colab": {
     "base_uri": "https://localhost:8080/"
    },
    "executionInfo": {
     "elapsed": 161,
     "status": "ok",
     "timestamp": 1695349438601,
     "user": {
      "displayName": "monsieur meursault",
      "userId": "08260058581658080801"
     },
     "user_tz": 300
    },
    "id": "aqkOIwe8srul",
    "outputId": "4fa1d3e8-55db-4f58-ebd2-ae141aa96e59"
   },
   "outputs": [
    {
     "data": {
      "text/plain": [
       "Conv1d(1, 1, kernel_size=(2,), stride=(2,))"
      ]
     },
     "execution_count": 67,
     "metadata": {},
     "output_type": "execute_result"
    }
   ],
   "source": [
    "layer3 = nn.Conv1d(1, 1, kernel_size=2, stride=2)\n",
    "layer3"
   ]
  },
  {
   "cell_type": "code",
   "execution_count": 68,
   "metadata": {
    "colab": {
     "base_uri": "https://localhost:8080/"
    },
    "executionInfo": {
     "elapsed": 8,
     "status": "ok",
     "timestamp": 1695349438787,
     "user": {
      "displayName": "monsieur meursault",
      "userId": "08260058581658080801"
     },
     "user_tz": 300
    },
    "id": "B87Q0mV1s0Fw",
    "outputId": "1109447d-55c5-460a-8638-2dfce9a9cdb5"
   },
   "outputs": [
    {
     "data": {
      "text/plain": [
       "tensor([[0.25, 0.46]], grad_fn=<SqueezeBackward1>)"
      ]
     },
     "execution_count": 68,
     "metadata": {},
     "output_type": "execute_result"
    }
   ],
   "source": [
    "layer3(sent2)"
   ]
  },
  {
   "cell_type": "markdown",
   "metadata": {
    "id": "90W6v_wos4Af"
   },
   "source": [
    "Because the kernel moved twice each step, it is now instead of 3 values, we have 2 values as an output. This way, we can reduce the number of input pixels, which means we can store information more compactly, like zipping a file. However, this might lose data if we shrink too much at once. Therefore, we increase the input channel by using stride to balance it.\n",
    "\n",
    "For instance, if we use stride 2, we half height and width, which results in 4 times less pixels. By adding a channel, we increase the output by 2 times. Therefore, we only divide the pixel by 2 for each layer, which is reasonable for the neural net to learn patterns."
   ]
  },
  {
   "cell_type": "markdown",
   "metadata": {
    "id": "jRdXDW4TtK8T"
   },
   "source": [
    "What is padding, then? It is a way to put zeroes in the corner. If padding is 2, we put 2 zeroes on the left and right of our sentence before applying kernels. Therefore, first and last values are equal to just biases in this example."
   ]
  },
  {
   "cell_type": "code",
   "execution_count": 71,
   "metadata": {
    "colab": {
     "base_uri": "https://localhost:8080/"
    },
    "executionInfo": {
     "elapsed": 192,
     "status": "ok",
     "timestamp": 1695349591668,
     "user": {
      "displayName": "monsieur meursault",
      "userId": "08260058581658080801"
     },
     "user_tz": 300
    },
    "id": "tZ9fU4OFtcSh",
    "outputId": "a81316c9-3f05-4640-ce68-e63894197c4e"
   },
   "outputs": [
    {
     "data": {
      "text/plain": [
       "tensor([[ 0.86,  0.71, -0.34, -1.27]])"
      ]
     },
     "execution_count": 71,
     "metadata": {},
     "output_type": "execute_result"
    }
   ],
   "source": [
    "sent2"
   ]
  },
  {
   "cell_type": "code",
   "execution_count": 69,
   "metadata": {
    "colab": {
     "base_uri": "https://localhost:8080/"
    },
    "executionInfo": {
     "elapsed": 189,
     "status": "ok",
     "timestamp": 1695349555634,
     "user": {
      "displayName": "monsieur meursault",
      "userId": "08260058581658080801"
     },
     "user_tz": 300
    },
    "id": "eBMH-PF5tRlg",
    "outputId": "c5965748-c805-48a5-e97b-776529fcb654"
   },
   "outputs": [
    {
     "data": {
      "text/plain": [
       "Conv1d(1, 1, kernel_size=(2,), stride=(2,), padding=(2,))"
      ]
     },
     "execution_count": 69,
     "metadata": {},
     "output_type": "execute_result"
    }
   ],
   "source": [
    "layer4 = nn.Conv1d(1, 1, kernel_size=2, stride=2, padding=2)\n",
    "layer4"
   ]
  },
  {
   "cell_type": "code",
   "execution_count": 70,
   "metadata": {
    "colab": {
     "base_uri": "https://localhost:8080/"
    },
    "executionInfo": {
     "elapsed": 176,
     "status": "ok",
     "timestamp": 1695349559109,
     "user": {
      "displayName": "monsieur meursault",
      "userId": "08260058581658080801"
     },
     "user_tz": 300
    },
    "id": "ICsmAfbjtT-3",
    "outputId": "002955a8-f35f-4c04-9f70-adf47d3fb48d"
   },
   "outputs": [
    {
     "data": {
      "text/plain": [
       "tensor([[0.44, 0.28, 1.19, 0.44]], grad_fn=<SqueezeBackward1>)"
      ]
     },
     "execution_count": 70,
     "metadata": {},
     "output_type": "execute_result"
    }
   ],
   "source": [
    "layer4(sent2)"
   ]
  },
  {
   "cell_type": "code",
   "execution_count": 80,
   "metadata": {
    "colab": {
     "base_uri": "https://localhost:8080/"
    },
    "executionInfo": {
     "elapsed": 180,
     "status": "ok",
     "timestamp": 1695349938887,
     "user": {
      "displayName": "monsieur meursault",
      "userId": "08260058581658080801"
     },
     "user_tz": 300
    },
    "id": "EN1YyyNBtjEC",
    "outputId": "1d9ee4e4-c800-4d8d-e756-5a4505106462"
   },
   "outputs": [
    {
     "data": {
      "text/plain": [
       "Parameter containing:\n",
       "tensor([0.44], requires_grad=True)"
      ]
     },
     "execution_count": 80,
     "metadata": {},
     "output_type": "execute_result"
    }
   ],
   "source": [
    "layer4.bias"
   ]
  },
  {
   "cell_type": "markdown",
   "metadata": {
    "id": "LeQx1AlaxiAH"
   },
   "source": [
    "## Conv2d"
   ]
  },
  {
   "cell_type": "markdown",
   "metadata": {
    "id": "pVslRJryvMq_"
   },
   "source": [
    "We've been using `conv1d`, but `conv2d` works the same way, except we have 2-dimensional kernels, which also move down."
   ]
  },
  {
   "cell_type": "code",
   "execution_count": 86,
   "metadata": {
    "colab": {
     "base_uri": "https://localhost:8080/"
    },
    "executionInfo": {
     "elapsed": 162,
     "status": "ok",
     "timestamp": 1695350766608,
     "user": {
      "displayName": "monsieur meursault",
      "userId": "08260058581658080801"
     },
     "user_tz": 300
    },
    "id": "2k-GSTY2jgq2",
    "outputId": "466e0562-2eaf-47d2-ee77-aa39961f8954"
   },
   "outputs": [
    {
     "data": {
      "text/plain": [
       "Conv2d(1, 1, kernel_size=(2, 2), stride=(1, 1))"
      ]
     },
     "execution_count": 86,
     "metadata": {},
     "output_type": "execute_result"
    }
   ],
   "source": [
    "layer5 = nn.Conv2d(1, 1, kernel_size=2, stride=1, padding=0)\n",
    "layer5"
   ]
  },
  {
   "cell_type": "code",
   "execution_count": 92,
   "metadata": {
    "colab": {
     "base_uri": "https://localhost:8080/"
    },
    "executionInfo": {
     "elapsed": 231,
     "status": "ok",
     "timestamp": 1695350823358,
     "user": {
      "displayName": "monsieur meursault",
      "userId": "08260058581658080801"
     },
     "user_tz": 300
    },
    "id": "hIyH9FL2yGKn",
    "outputId": "8e5469b1-908a-4842-b21d-4da43964eed6"
   },
   "outputs": [
    {
     "data": {
      "text/plain": [
       "(torch.Size([1, 1, 2, 2]), torch.Size([1]))"
      ]
     },
     "execution_count": 92,
     "metadata": {},
     "output_type": "execute_result"
    }
   ],
   "source": [
    "layer5.weight.shape, layer5.bias.shape"
   ]
  },
  {
   "cell_type": "markdown",
   "metadata": {
    "id": "TDm-wsDWtUz0"
   },
   "source": [
    "Shape of weight: (Outp, Inp, *Kernel_size)\n",
    "\n",
    "Shape of bias: Outp"
   ]
  },
  {
   "cell_type": "markdown",
   "metadata": {
    "id": "eG5CmastyTfp"
   },
   "source": [
    "Let's start with a simple example again. Here is a small image with 3 pixels high and 3 pixels wide."
   ]
  },
  {
   "cell_type": "code",
   "execution_count": 93,
   "metadata": {
    "colab": {
     "base_uri": "https://localhost:8080/"
    },
    "executionInfo": {
     "elapsed": 158,
     "status": "ok",
     "timestamp": 1695350907925,
     "user": {
      "displayName": "monsieur meursault",
      "userId": "08260058581658080801"
     },
     "user_tz": 300
    },
    "id": "43Qlv7r0lVt_",
    "outputId": "660ddf20-0388-4ca2-c11d-9f34282b98f7"
   },
   "outputs": [
    {
     "data": {
      "text/plain": [
       "tensor([[[ 0.20,  0.15, -0.25],\n",
       "         [ 2.01,  0.86,  0.61],\n",
       "         [-1.17,  1.11,  0.33]]])"
      ]
     },
     "execution_count": 93,
     "metadata": {},
     "output_type": "execute_result"
    }
   ],
   "source": [
    "im1 = torch.randn((1, 3, 3))\n",
    "im1"
   ]
  },
  {
   "cell_type": "code",
   "execution_count": 94,
   "metadata": {
    "colab": {
     "base_uri": "https://localhost:8080/"
    },
    "executionInfo": {
     "elapsed": 168,
     "status": "ok",
     "timestamp": 1695350908732,
     "user": {
      "displayName": "monsieur meursault",
      "userId": "08260058581658080801"
     },
     "user_tz": 300
    },
    "id": "Ni0wlCExt_TB",
    "outputId": "5f71126f-f395-4260-a65b-0edf3c8ab9a6"
   },
   "outputs": [
    {
     "data": {
      "text/plain": [
       "torch.Size([1, 3, 3])"
      ]
     },
     "execution_count": 94,
     "metadata": {},
     "output_type": "execute_result"
    }
   ],
   "source": [
    "im1.shape"
   ]
  },
  {
   "cell_type": "code",
   "execution_count": 95,
   "metadata": {
    "colab": {
     "base_uri": "https://localhost:8080/"
    },
    "executionInfo": {
     "elapsed": 134,
     "status": "ok",
     "timestamp": 1695350910267,
     "user": {
      "displayName": "monsieur meursault",
      "userId": "08260058581658080801"
     },
     "user_tz": 300
    },
    "id": "6GM8iQ40ug-i",
    "outputId": "bcd3605c-a2c4-4c48-cd73-8b7cbc51cc95"
   },
   "outputs": [
    {
     "data": {
      "text/plain": [
       "(tensor([[[0.10, 0.21],\n",
       "          [2.07, 0.65]]], grad_fn=<SqueezeBackward1>),\n",
       " torch.Size([1, 2, 2]))"
      ]
     },
     "execution_count": 95,
     "metadata": {},
     "output_type": "execute_result"
    }
   ],
   "source": [
    "layer5(im1), layer5(im1).shape"
   ]
  },
  {
   "cell_type": "markdown",
   "metadata": {
    "id": "A9CM_OEhzTtQ"
   },
   "source": [
    "So, now let's talk about different kernels. Why do we even use kernels? What do they do? So, let's say we have an image of digit 5 from MNIST."
   ]
  },
  {
   "cell_type": "code",
   "execution_count": 140,
   "metadata": {
    "executionInfo": {
     "elapsed": 176,
     "status": "ok",
     "timestamp": 1695352464507,
     "user": {
      "displayName": "monsieur meursault",
      "userId": "08260058581658080801"
     },
     "user_tz": 300
    },
    "id": "VYpY1kD50699"
   },
   "outputs": [],
   "source": [
    "def show_im(im, figsize=None):\n",
    "    fig, ax = plt.subplots(figsize=figsize)\n",
    "    if all(hasattr(im, x) for x in ('cpu','permute','detach')):\n",
    "        im = im.detach().cpu()\n",
    "        if len(im.shape)==3 and im.shape[0]<5: im=im.permute(1,2,0)\n",
    "    ax.set_xticks([])\n",
    "    ax.set_yticks([])\n",
    "    ax.imshow(im)"
   ]
  },
  {
   "cell_type": "code",
   "execution_count": 141,
   "metadata": {
    "colab": {
     "base_uri": "https://localhost:8080/",
     "height": 268
    },
    "executionInfo": {
     "elapsed": 154,
     "status": "ok",
     "timestamp": 1695352466381,
     "user": {
      "displayName": "monsieur meursault",
      "userId": "08260058581658080801"
     },
     "user_tz": 300
    },
    "id": "7x0TmgzGHg6F",
    "outputId": "f00b0336-c230-4825-b9fb-f9567d56d3f4"
   },
   "outputs": [
    {
     "data": {
      "image/png": "[encoded data removed]",
      "text/plain": [
       "<Figure size 300x300 with 1 Axes>"
      ]
     },
     "metadata": {},
     "output_type": "display_data"
    }
   ],
   "source": [
    "im2 = x_train[0].reshape((1, 28, 28))\n",
    "show_im(im2, figsize=(3,3))"
   ]
  },
  {
   "cell_type": "code",
   "execution_count": 132,
   "metadata": {
    "colab": {
     "base_uri": "https://localhost:8080/"
    },
    "executionInfo": {
     "elapsed": 163,
     "status": "ok",
     "timestamp": 1695352303512,
     "user": {
      "displayName": "monsieur meursault",
      "userId": "08260058581658080801"
     },
     "user_tz": 300
    },
    "id": "MmOOIz71j4-5",
    "outputId": "72f5c83c-f571-4b3d-badd-e39b83fd1da5"
   },
   "outputs": [
    {
     "data": {
      "text/plain": [
       "(Conv2d(1, 1, kernel_size=(3, 3), stride=(1, 1)), torch.Size([1, 1, 3, 3]))"
      ]
     },
     "execution_count": 132,
     "metadata": {},
     "output_type": "execute_result"
    }
   ],
   "source": [
    "layer6 = nn.Conv2d(1, 1, kernel_size=3, stride=1, padding=0)\n",
    "layer6, layer6.weight.shape"
   ]
  },
  {
   "cell_type": "markdown",
   "metadata": {
    "id": "J1VSDaYr1_xc"
   },
   "source": [
    "Here is a kernel that detects the top edge. We can apply this kernel to find the top edge of an image. Let's see what it looks like."
   ]
  },
  {
   "cell_type": "code",
   "execution_count": 133,
   "metadata": {
    "colab": {
     "base_uri": "https://localhost:8080/"
    },
    "executionInfo": {
     "elapsed": 303,
     "status": "ok",
     "timestamp": 1695352304302,
     "user": {
      "displayName": "monsieur meursault",
      "userId": "08260058581658080801"
     },
     "user_tz": 300
    },
    "id": "6xI9Y31cwcME",
    "outputId": "af1a79a9-39bb-4fce-9fff-b262bc859cc6"
   },
   "outputs": [
    {
     "data": {
      "text/plain": [
       "Parameter containing:\n",
       "tensor([[[[ 1.,  1.,  1.],\n",
       "          [ 0.,  0.,  0.],\n",
       "          [-1., -1., -1.]]]], requires_grad=True)"
      ]
     },
     "execution_count": 133,
     "metadata": {},
     "output_type": "execute_result"
    }
   ],
   "source": [
    "top_edge = torch.nn.Parameter(tensor([[1,1,1],[0,0,0],[-1,-1,-1]],\n",
    "                                     dtype=torch.float32).reshape((1, 1, 3, 3)))\n",
    "top_edge"
   ]
  },
  {
   "cell_type": "code",
   "execution_count": 134,
   "metadata": {
    "colab": {
     "base_uri": "https://localhost:8080/"
    },
    "executionInfo": {
     "elapsed": 4,
     "status": "ok",
     "timestamp": 1695352304468,
     "user": {
      "displayName": "monsieur meursault",
      "userId": "08260058581658080801"
     },
     "user_tz": 300
    },
    "id": "YZUHnTop2O8h",
    "outputId": "5fd5a90e-e412-4859-e42b-1dce987bbef8"
   },
   "outputs": [
    {
     "data": {
      "text/plain": [
       "torch.Size([1, 1, 3, 3])"
      ]
     },
     "execution_count": 134,
     "metadata": {},
     "output_type": "execute_result"
    }
   ],
   "source": [
    "top_edge.shape"
   ]
  },
  {
   "cell_type": "code",
   "execution_count": 135,
   "metadata": {
    "colab": {
     "base_uri": "https://localhost:8080/"
    },
    "executionInfo": {
     "elapsed": 5,
     "status": "ok",
     "timestamp": 1695352305232,
     "user": {
      "displayName": "monsieur meursault",
      "userId": "08260058581658080801"
     },
     "user_tz": 300
    },
    "id": "qJ_igv-9vxrh",
    "outputId": "78514d35-cc06-402b-92ec-7f410e1d04ae"
   },
   "outputs": [
    {
     "data": {
      "text/plain": [
       "Parameter containing:\n",
       "tensor([[[[ 1.,  1.,  1.],\n",
       "          [ 0.,  0.,  0.],\n",
       "          [-1., -1., -1.]]]], requires_grad=True)"
      ]
     },
     "execution_count": 135,
     "metadata": {},
     "output_type": "execute_result"
    }
   ],
   "source": [
    "layer6.weight = top_edge\n",
    "layer6.weight"
   ]
  },
  {
   "cell_type": "code",
   "execution_count": 142,
   "metadata": {
    "colab": {
     "base_uri": "https://localhost:8080/",
     "height": 268
    },
    "executionInfo": {
     "elapsed": 200,
     "status": "ok",
     "timestamp": 1695352490574,
     "user": {
      "displayName": "monsieur meursault",
      "userId": "08260058581658080801"
     },
     "user_tz": 300
    },
    "id": "G_htIJ6ev2jy",
    "outputId": "ea070073-c64c-4e53-d402-459041430bf9"
   },
   "outputs": [
    {
     "data": {
      "image/png": "[encoded data removed]",
      "text/plain": [
       "<Figure size 300x300 with 1 Axes>"
      ]
     },
     "metadata": {},
     "output_type": "display_data"
    }
   ],
   "source": [
    "show_im(layer6(im2), figsize=(3,3));"
   ]
  },
  {
   "cell_type": "markdown",
   "metadata": {
    "id": "T1q7vtM94ifG"
   },
   "source": [
    "We successfully detected top edge of the image! Let's try to get the right edge."
   ]
  },
  {
   "cell_type": "code",
   "execution_count": 145,
   "metadata": {
    "colab": {
     "base_uri": "https://localhost:8080/"
    },
    "executionInfo": {
     "elapsed": 179,
     "status": "ok",
     "timestamp": 1695352554987,
     "user": {
      "displayName": "monsieur meursault",
      "userId": "08260058581658080801"
     },
     "user_tz": 300
    },
    "id": "Senlg30jxS-b",
    "outputId": "e856af11-2262-471b-9d82-1db8af79edc3"
   },
   "outputs": [
    {
     "data": {
      "text/plain": [
       "Conv2d(1, 1, kernel_size=(3, 3), stride=(1, 1))"
      ]
     },
     "execution_count": 145,
     "metadata": {},
     "output_type": "execute_result"
    }
   ],
   "source": [
    "layer7 = nn.Conv2d(1, 1, kernel_size=3, stride=1, padding=0)\n",
    "layer7"
   ]
  },
  {
   "cell_type": "code",
   "execution_count": 146,
   "metadata": {
    "colab": {
     "base_uri": "https://localhost:8080/"
    },
    "executionInfo": {
     "elapsed": 170,
     "status": "ok",
     "timestamp": 1695352556977,
     "user": {
      "displayName": "monsieur meursault",
      "userId": "08260058581658080801"
     },
     "user_tz": 300
    },
    "id": "T9DMY66CxVIH",
    "outputId": "189959c6-df0d-4642-b786-bab3b6772a05"
   },
   "outputs": [
    {
     "data": {
      "text/plain": [
       "Parameter containing:\n",
       "tensor([[[[-1.,  0.,  1.],\n",
       "          [-1.,  0.,  1.],\n",
       "          [-1.,  0.,  1.]]]], requires_grad=True)"
      ]
     },
     "execution_count": 146,
     "metadata": {},
     "output_type": "execute_result"
    }
   ],
   "source": [
    "right_edge = torch.nn.Parameter(tensor([[-1,0,1],\n",
    "       [-1,0,1],\n",
    "       [-1,0,1]], dtype=torch.float32).unsqueeze(0).unsqueeze(0))\n",
    "right_edge"
   ]
  },
  {
   "cell_type": "code",
   "execution_count": 149,
   "metadata": {
    "colab": {
     "base_uri": "https://localhost:8080/",
     "height": 268
    },
    "executionInfo": {
     "elapsed": 162,
     "status": "ok",
     "timestamp": 1695352577042,
     "user": {
      "displayName": "monsieur meursault",
      "userId": "08260058581658080801"
     },
     "user_tz": 300
    },
    "id": "7vUDMarUvfAW",
    "outputId": "101d9399-e4b0-42a9-840c-55a67819945f"
   },
   "outputs": [
    {
     "data": {
      "image/png": "[encoded data removed]",
      "text/plain": [
       "<Figure size 300x300 with 1 Axes>"
      ]
     },
     "metadata": {},
     "output_type": "display_data"
    }
   ],
   "source": [
    "layer7.weight = right_edge\n",
    "show_im(layer7(im2), figsize=(3,3));"
   ]
  },
  {
   "cell_type": "markdown",
   "metadata": {
    "id": "ffozQMA542cm"
   },
   "source": [
    "That's cool. By using multiple kernels, we can combine those to detect more complicated shapes, such as waves and wheels."
   ]
  },
  {
   "cell_type": "markdown",
   "metadata": {
    "id": "OpvymxQJjwAl"
   },
   "source": [
    "## Conclusion"
   ]
  },
  {
   "cell_type": "markdown",
   "metadata": {
    "id": "0-jeIoIR8fid"
   },
   "source": [
    "In this blog, we learned how convolutional neural networks by using Pytorch. It is used mainly for images. If you want to learn more, look at FastAI [lesson 8](https://course.fast.ai/Lessons/lesson8.html). It might be easier to watch the video to understand, and you can come back to play around with the code."
   ]
  },
  {
   "cell_type": "markdown",
   "metadata": {
    "id": "eOY_VJhT95qU"
   },
   "source": [
    "For a challenge, you can try to train MNIST using linear layers and convolutional neural networks and find out which is better."
   ]
  },
  {
   "cell_type": "code",
   "execution_count": null,
   "metadata": {
    "id": "NOI4wt6n-RXq"
   },
   "outputs": [],
   "source": []
  }
 ],
 "metadata": {
  "colab": {
   "authorship_tag": "ABX9TyOGb+F5wZ6s9UKv6DuZaE5c",
   "provenance": [
    {
     "file_id": "1Zkw_5iCPV4ZO64hDPbUDaLydtobtOz59",
     "timestamp": 1695333493338
    }
   ]
  },
  "kernelspec": {
   "display_name": "Python 3 (ipykernel)",
   "language": "python",
   "name": "python3"
  },
  "language_info": {
   "codemirror_mode": {
    "name": "ipython",
    "version": 3
   },
   "file_extension": ".py",
   "mimetype": "text/x-python",
   "name": "python",
   "nbconvert_exporter": "python",
   "pygments_lexer": "ipython3",
   "version": "3.10.12"
  }
 },
 "nbformat": 4,
 "nbformat_minor": 4
}
