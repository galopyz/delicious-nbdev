{
 "cells": [
  {
   "cell_type": "raw",
   "metadata": {},
   "source": [
    "---\n",
    "title: \"Callback\"\n",
    "author: \"galopy\"\n",
    "date: \"August 25, 2023\"\n",
    "toc: true\n",
    "skip_showdoc: true\n",
    "skip_exec: true\n",
    "comments:\n",
    "  utterances:\n",
    "    repo: galopyz/delicious-nbdev\n",
    "---"
   ]
  },
  {
   "cell_type": "markdown",
   "metadata": {
    "id": "Q9-BWW987PP5"
   },
   "source": [
    "# Callback"
   ]
  },
  {
   "cell_type": "markdown",
   "metadata": {
    "id": "C6vAa2qkAq9M"
   },
   "source": [
    "![Callback image](callback.jpeg \"Callback\")"
   ]
  },
  {
   "cell_type": "markdown",
   "metadata": {
    "id": "ntw9E6Cw7dXy"
   },
   "source": [
    "There are many callbacks used in deep learning. So, what is a callback? Simply, a callback is a function."
   ]
  },
  {
   "cell_type": "markdown",
   "metadata": {
    "id": "v3RxhHMy7k1Q"
   },
   "source": [
    "Here is an example. Let's say we have a fit function that takes a long time, like a neural net."
   ]
  },
  {
   "cell_type": "code",
   "execution_count": 21,
   "metadata": {
    "id": "ouhUC-RmwpcR"
   },
   "outputs": [],
   "source": [
    "from time import sleep\n",
    "from functools import partial"
   ]
  },
  {
   "cell_type": "code",
   "execution_count": 8,
   "metadata": {
    "id": "mlZh-7nV7k1R"
   },
   "outputs": [],
   "source": [
    "def fit(epochs):\n",
    "    res = []\n",
    "    for epoch in range(epochs):\n",
    "        sleep(0.5)\n",
    "        res.append(epoch)\n",
    "    return res"
   ]
  },
  {
   "cell_type": "code",
   "execution_count": 9,
   "metadata": {
    "colab": {
     "base_uri": "https://localhost:8080/"
    },
    "id": "GX7_kaj7xo0m",
    "outputId": "99e24c09-dcb7-4149-df40-53cf47a93897"
   },
   "outputs": [
    {
     "data": {
      "text/plain": [
       "[0, 1, 2, 3]"
      ]
     },
     "execution_count": 9,
     "metadata": {},
     "output_type": "execute_result"
    }
   ],
   "source": [
    "fit(4)"
   ]
  },
  {
   "cell_type": "markdown",
   "metadata": {
    "id": "0N11mp_Mx491"
   },
   "source": [
    "As the function runs, we want to know how it's doing. So, we use a callback to figure that out. Here is `fit` with callback."
   ]
  },
  {
   "cell_type": "code",
   "execution_count": 12,
   "metadata": {
    "id": "Tniy_axlxqnu"
   },
   "outputs": [],
   "source": [
    "def fit(epochs, cb=None):\n",
    "    res = []\n",
    "    for epoch in range(epochs):\n",
    "        sleep(0.5)\n",
    "        res.append(epoch)\n",
    "        if cb: cb(epoch)\n",
    "    return res"
   ]
  },
  {
   "cell_type": "markdown",
   "metadata": {
    "id": "TYu4N9s1zqGq"
   },
   "source": [
    "And this is a callback to print current epoch."
   ]
  },
  {
   "cell_type": "code",
   "execution_count": 15,
   "metadata": {
    "id": "E0AR9yu6zliL"
   },
   "outputs": [],
   "source": [
    "def print_status(epoch):\n",
    "    print(f'Currently on {epoch} epoch.')"
   ]
  },
  {
   "cell_type": "code",
   "execution_count": 16,
   "metadata": {
    "colab": {
     "base_uri": "https://localhost:8080/"
    },
    "id": "9A8KXHD-zhzj",
    "outputId": "bebcb4ce-428a-48d8-a960-77e60d16d224"
   },
   "outputs": [
    {
     "name": "stdout",
     "output_type": "stream",
     "text": [
      "Currently on 0 epoch.\n",
      "Currently on 1 epoch.\n",
      "Currently on 2 epoch.\n",
      "Currently on 3 epoch.\n"
     ]
    },
    {
     "data": {
      "text/plain": [
       "[0, 1, 2, 3]"
      ]
     },
     "execution_count": 16,
     "metadata": {},
     "output_type": "execute_result"
    }
   ],
   "source": [
    "fit(4, print_status)"
   ]
  },
  {
   "cell_type": "markdown",
   "metadata": {
    "id": "bgRHPzz33Jtk"
   },
   "source": [
    "Okay that's better. We know where it is in the fitting progress as it trains. print_status is just a function."
   ]
  },
  {
   "cell_type": "markdown",
   "metadata": {
    "id": "F7zS_G892VRm"
   },
   "source": [
    "We can also customize `print_status` so that we can provide an expression. This provides more flexiblity and power. To use it, we can use a lambda, partial, or closure."
   ]
  },
  {
   "cell_type": "code",
   "execution_count": 18,
   "metadata": {
    "id": "4ZQmJ1j214fJ"
   },
   "outputs": [],
   "source": [
    "def print_status(expression, epoch):\n",
    "    print(f'{expression} Currently on {epoch} epoch.')"
   ]
  },
  {
   "cell_type": "code",
   "execution_count": 20,
   "metadata": {
    "colab": {
     "base_uri": "https://localhost:8080/"
    },
    "id": "5JDrkvj-1d9v",
    "outputId": "e42c8a84-82bd-478b-fe88-0a667c691163"
   },
   "outputs": [
    {
     "name": "stdout",
     "output_type": "stream",
     "text": [
      "Awesome! Currently on 0 epoch.\n",
      "Awesome! Currently on 1 epoch.\n",
      "Awesome! Currently on 2 epoch.\n",
      "Awesome! Currently on 3 epoch.\n"
     ]
    },
    {
     "data": {
      "text/plain": [
       "[0, 1, 2, 3]"
      ]
     },
     "execution_count": 20,
     "metadata": {},
     "output_type": "execute_result"
    }
   ],
   "source": [
    "fit(4, lambda epoch: print_status('Awesome!', epoch))"
   ]
  },
  {
   "cell_type": "code",
   "execution_count": 22,
   "metadata": {
    "colab": {
     "base_uri": "https://localhost:8080/"
    },
    "id": "K15l_wZE3lRl",
    "outputId": "f52abfa5-76d0-4631-cf47-ca3a3c687df7"
   },
   "outputs": [
    {
     "name": "stdout",
     "output_type": "stream",
     "text": [
      "Awesome! Currently on 0 epoch.\n",
      "Awesome! Currently on 1 epoch.\n",
      "Awesome! Currently on 2 epoch.\n",
      "Awesome! Currently on 3 epoch.\n"
     ]
    },
    {
     "data": {
      "text/plain": [
       "[0, 1, 2, 3]"
      ]
     },
     "execution_count": 22,
     "metadata": {},
     "output_type": "execute_result"
    }
   ],
   "source": [
    "fit(4, partial(print_status, 'Awesome!'))"
   ]
  },
  {
   "cell_type": "code",
   "execution_count": 23,
   "metadata": {
    "id": "Ft075Icx3PtM"
   },
   "outputs": [],
   "source": [
    "def make_print_status(expression):\n",
    "    def _fn(epoch):\n",
    "        print_status(expression, epoch)\n",
    "    return _fn"
   ]
  },
  {
   "cell_type": "code",
   "execution_count": 25,
   "metadata": {
    "colab": {
     "base_uri": "https://localhost:8080/"
    },
    "id": "ze77Z_wO3PqZ",
    "outputId": "131cbada-462c-44a6-a5dd-e487b633930c"
   },
   "outputs": [
    {
     "name": "stdout",
     "output_type": "stream",
     "text": [
      "Awesome! Currently on 0 epoch.\n",
      "Awesome! Currently on 1 epoch.\n",
      "Awesome! Currently on 2 epoch.\n",
      "Awesome! Currently on 3 epoch.\n"
     ]
    },
    {
     "data": {
      "text/plain": [
       "[0, 1, 2, 3]"
      ]
     },
     "execution_count": 25,
     "metadata": {},
     "output_type": "execute_result"
    }
   ],
   "source": [
    "fit(4, make_print_status('Awesome!'))"
   ]
  },
  {
   "cell_type": "markdown",
   "metadata": {
    "id": "0SFkVFuy7k4C"
   },
   "source": [
    "So, there are many ways to create functions to be used as callbacks. Actually, callback does not even have to be a function. It can also be a callable class."
   ]
  },
  {
   "cell_type": "markdown",
   "metadata": {
    "id": "OGPmNE-H7k6r"
   },
   "source": [
    "## Class callback"
   ]
  },
  {
   "cell_type": "code",
   "execution_count": 26,
   "metadata": {
    "id": "mSYqX-7m2Lyg"
   },
   "outputs": [],
   "source": [
    "class Callback:\n",
    "    def __init__(self, expression): self.expression = expression\n",
    "\n",
    "    def __call__(self, epoch): print_status(self.expression, epoch)"
   ]
  },
  {
   "cell_type": "code",
   "execution_count": 27,
   "metadata": {
    "colab": {
     "base_uri": "https://localhost:8080/"
    },
    "id": "YrL3jvmq8a-Z",
    "outputId": "594bffc2-c338-4d5a-db1d-7c5aa29986c3"
   },
   "outputs": [
    {
     "name": "stdout",
     "output_type": "stream",
     "text": [
      "Awesome! Currently on 0 epoch.\n",
      "Awesome! Currently on 1 epoch.\n",
      "Awesome! Currently on 2 epoch.\n",
      "Awesome! Currently on 3 epoch.\n"
     ]
    },
    {
     "data": {
      "text/plain": [
       "[0, 1, 2, 3]"
      ]
     },
     "execution_count": 27,
     "metadata": {},
     "output_type": "execute_result"
    }
   ],
   "source": [
    "fit(4, Callback('Awesome!'))"
   ]
  },
  {
   "cell_type": "markdown",
   "metadata": {
    "id": "Anv9r0kL7k6s"
   },
   "source": []
  },
  {
   "cell_type": "markdown",
   "metadata": {
    "id": "kxJEAhBJ7k9S"
   },
   "source": []
  },
  {
   "cell_type": "markdown",
   "metadata": {
    "id": "wXHvohdv7k9S"
   },
   "source": []
  },
  {
   "cell_type": "markdown",
   "metadata": {
    "id": "tDqDwlGU7k_y"
   },
   "source": []
  },
  {
   "cell_type": "markdown",
   "metadata": {
    "id": "lNNXb1QT7k_z"
   },
   "source": []
  },
  {
   "cell_type": "markdown",
   "metadata": {
    "id": "rH1rgN6a7lB5"
   },
   "source": []
  },
  {
   "cell_type": "markdown",
   "metadata": {
    "id": "5f9_2KWp7lB5"
   },
   "source": []
  },
  {
   "cell_type": "markdown",
   "metadata": {
    "id": "hFsmK8eb7hk1"
   },
   "source": []
  },
  {
   "cell_type": "markdown",
   "metadata": {
    "id": "zKY2FLCx7jcQ"
   },
   "source": []
  },
  {
   "cell_type": "markdown",
   "metadata": {
    "id": "Zn8qC3xA7jcT"
   },
   "source": []
  },
  {
   "cell_type": "markdown",
   "metadata": {
    "id": "YAQ-2iSq7jlA"
   },
   "source": []
  },
  {
   "cell_type": "markdown",
   "metadata": {
    "id": "A_5IcMH87jlB"
   },
   "source": []
  },
  {
   "cell_type": "code",
   "execution_count": null,
   "metadata": {
    "id": "pvLhTF7v7ej-"
   },
   "outputs": [],
   "source": []
  }
 ],
 "metadata": {
  "colab": {
   "provenance": []
  },
  "kernelspec": {
   "display_name": "Python 3 (ipykernel)",
   "language": "python",
   "name": "python3"
  },
  "language_info": {
   "codemirror_mode": {
    "name": "ipython",
    "version": 3
   },
   "file_extension": ".py",
   "mimetype": "text/x-python",
   "name": "python",
   "nbconvert_exporter": "python",
   "pygments_lexer": "ipython3",
   "version": "3.10.12"
  }
 },
 "nbformat": 4,
 "nbformat_minor": 4
}
