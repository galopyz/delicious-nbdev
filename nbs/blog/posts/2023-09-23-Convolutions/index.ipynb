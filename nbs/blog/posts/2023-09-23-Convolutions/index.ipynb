{
 "cells": [
  {
   "cell_type": "raw",
   "metadata": {},
   "source": [
    "---\n",
    "title: \"Convolutional Neural Networks\"\n",
    "author: \"galopy\"\n",
    "date: \"September 23, 2023\"\n",
    "toc: true\n",
    "skip_showdoc: true\n",
    "skip_exec: true\n",
    "comments:\n",
    "  utterances:\n",
    "    repo: galopyz/delicious-nbdev\n",
    "---"
   ]
  },
  {
   "cell_type": "markdown",
   "metadata": {
    "id": "Eetr5B_Ffy0o"
   },
   "source": [
    "# Convolutional Neural Networks"
   ]
  },
  {
   "cell_type": "markdown",
   "metadata": {
    "id": "IxYNGyZnf0gE"
   },
   "source": [
    "Let's learn about convolutional neural networks (CNN). Rather than using linear layers, we mostly use CNN on images. Compared to using linear layers, we can get more accuracy fast because CNN has less parameters to train and can capture patterns easily.\n"
   ]
  },
  {
   "cell_type": "markdown",
   "metadata": {
    "id": "UVME0ZtngrAt"
   },
   "source": [
    "First, we setup environments. For data, we will use MNIST digits."
   ]
  },
  {
   "cell_type": "code",
   "execution_count": 1,
   "metadata": {
    "id": "E0wEcwHwwVFK"
   },
   "outputs": [],
   "source": [
    "from torch import tensor, nn\n",
    "import pickle, gzip, torch, matplotlib as mpl\n",
    "from pathlib import Path\n",
    "import matplotlib.pyplot as plt"
   ]
  },
  {
   "cell_type": "code",
   "execution_count": 2,
   "metadata": {
    "id": "oJ3eF0m-EIPQ"
   },
   "outputs": [],
   "source": [
    "MNIST_URL='https://github.com/mnielsen/neural-networks-and-deep-learning/blob/master/data/mnist.pkl.gz?raw=true'\n",
    "path_data = Path('data')\n",
    "path_data.mkdir(exist_ok=True)\n",
    "path_gz = path_data/'mnist.pkl.gz'"
   ]
  },
  {
   "cell_type": "code",
   "execution_count": 3,
   "metadata": {
    "id": "LdgT3KmLETFG"
   },
   "outputs": [],
   "source": [
    "from urllib.request import urlretrieve\n",
    "if not path_gz.exists(): urlretrieve(MNIST_URL, path_gz)"
   ]
  },
  {
   "cell_type": "code",
   "execution_count": 4,
   "metadata": {
    "id": "6ydmKvupETfw"
   },
   "outputs": [],
   "source": [
    "torch.set_printoptions(precision=2, linewidth=140, sci_mode=False)\n",
    "torch.manual_seed(1)\n",
    "mpl.rcParams['image.cmap'] = 'gray'\n",
    "\n",
    "path_data = Path('data')\n",
    "path_gz = path_data/'mnist.pkl.gz'\n",
    "with gzip.open(path_gz, 'rb') as f: ((x_train, y_train), (x_valid, y_valid), _) = pickle.load(f, encoding='latin-1')\n",
    "x_train, y_train, x_valid, y_valid = map(tensor, [x_train, y_train, x_valid, y_valid])"
   ]
  },
  {
   "cell_type": "markdown",
   "metadata": {
    "id": "J_h2DA3EKfXM"
   },
   "source": [
    "## Conv1d"
   ]
  },
  {
   "cell_type": "markdown",
   "metadata": {
    "id": "yIlyefVhKduJ"
   },
   "source": [
    "Let's go over how Pytroch's convolutional neural networks work. We will start with a simple example, which is `Conv1d`. Let's say we have a vector with shape `(1, 2)`. We can think of this vector as a sentence with two words, like \"I sit,\" and converted numbers into numbers so that computers can understand."
   ]
  },
  {
   "cell_type": "code",
   "execution_count": 5,
   "metadata": {
    "colab": {
     "base_uri": "https://localhost:8080/"
    },
    "id": "UDClZX4nkMPf",
    "outputId": "40571206-306a-482f-b297-13a4b8ad0e44"
   },
   "outputs": [
    {
     "data": {
      "text/plain": [
       "tensor([[0.66, 0.27]])"
      ]
     },
     "execution_count": 5,
     "metadata": {},
     "output_type": "execute_result"
    }
   ],
   "source": [
    "torch.manual_seed(1)\n",
    "sent1 = torch.randn((1, 2))\n",
    "sent1"
   ]
  },
  {
   "cell_type": "markdown",
   "metadata": {
    "id": "367pL-LzNRra"
   },
   "source": [
    "Here is a `Conv1d` layer with 1 input, 1 output, 2 kernel_size. When we look at the weight of this layer, it is the kernels. Its shape corresponds to `(output, input, kernel_size)`. In this simple case, we have one kernel with size 2 kernel. The shape of bias depends on the output of the layer."
   ]
  },
  {
   "cell_type": "code",
   "execution_count": 6,
   "metadata": {
    "colab": {
     "base_uri": "https://localhost:8080/"
    },
    "id": "clrDrTWKBf47",
    "outputId": "f7f5f4a1-d2f6-4496-feff-51817569587f"
   },
   "outputs": [
    {
     "data": {
      "text/plain": [
       "Conv1d(1, 1, kernel_size=(2,), stride=(1,))"
      ]
     },
     "execution_count": 6,
     "metadata": {},
     "output_type": "execute_result"
    }
   ],
   "source": [
    "layer1 = nn.Conv1d(1, 1, kernel_size=2)\n",
    "layer1"
   ]
  },
  {
   "cell_type": "code",
   "execution_count": 7,
   "metadata": {
    "colab": {
     "base_uri": "https://localhost:8080/"
    },
    "id": "NXhejkZlB0cY",
    "outputId": "42ab6433-ac82-4234-a423-6cad87792b26"
   },
   "outputs": [
    {
     "data": {
      "text/plain": [
       "(Parameter containing:\n",
       " tensor([[[-0.67,  0.42]]], requires_grad=True),\n",
       " torch.Size([1, 1, 2]))"
      ]
     },
     "execution_count": 7,
     "metadata": {},
     "output_type": "execute_result"
    }
   ],
   "source": [
    "layer1.weight, layer1.weight.shape"
   ]
  },
  {
   "cell_type": "code",
   "execution_count": 8,
   "metadata": {
    "colab": {
     "base_uri": "https://localhost:8080/"
    },
    "id": "_e698rQAve-A",
    "outputId": "32e9694c-b856-4ef9-c3bf-85ee57054286"
   },
   "outputs": [
    {
     "data": {
      "text/plain": [
       "Parameter containing:\n",
       "tensor([-0.15], requires_grad=True)"
      ]
     },
     "execution_count": 8,
     "metadata": {},
     "output_type": "execute_result"
    }
   ],
   "source": [
    "layer1.bias"
   ]
  },
  {
   "cell_type": "markdown",
   "metadata": {
    "id": "0XJ-m0sEOVIf"
   },
   "source": [
    "When we apply this layer into our sentence, we get -0.26, which is the same as calculating a dot product of weight and the sentence added by bias."
   ]
  },
  {
   "cell_type": "code",
   "execution_count": 9,
   "metadata": {
    "colab": {
     "base_uri": "https://localhost:8080/"
    },
    "id": "Zh7ORDB-zhCN",
    "outputId": "c817ab99-550d-440e-e1e8-9c458eba2fb0"
   },
   "outputs": [
    {
     "data": {
      "text/plain": [
       "tensor([[-0.47]], grad_fn=<SqueezeBackward1>)"
      ]
     },
     "execution_count": 9,
     "metadata": {},
     "output_type": "execute_result"
    }
   ],
   "source": [
    "layer1(sent1)"
   ]
  },
  {
   "cell_type": "code",
   "execution_count": 10,
   "metadata": {
    "colab": {
     "base_uri": "https://localhost:8080/"
    },
    "id": "eYs3nJVBsq5S",
    "outputId": "1ce26319-7783-4b50-eab5-3f2cca3b9729"
   },
   "outputs": [
    {
     "data": {
      "text/plain": [
       "tensor([-0.47], grad_fn=<AddBackward0>)"
      ]
     },
     "execution_count": 10,
     "metadata": {},
     "output_type": "execute_result"
    }
   ],
   "source": [
    "(layer1.weight * sent1).sum() + layer1.bias"
   ]
  },
  {
   "cell_type": "markdown",
   "metadata": {
    "id": "9qd86AQmQeM7"
   },
   "source": [
    "When we set the output to 2, that means there are two kernels: one for each output. We generally refer to output as channel. So, when we increae the ouput, we say we increase the channel. We will talk about why it would be useful later."
   ]
  },
  {
   "cell_type": "code",
   "execution_count": 11,
   "metadata": {
    "colab": {
     "base_uri": "https://localhost:8080/"
    },
    "id": "qKUia99-Qoh8",
    "outputId": "c8c7f362-5986-4c01-e6e1-266e15342398"
   },
   "outputs": [
    {
     "data": {
      "text/plain": [
       "Conv1d(1, 2, kernel_size=(2,), stride=(1,))"
      ]
     },
     "execution_count": 11,
     "metadata": {},
     "output_type": "execute_result"
    }
   ],
   "source": [
    "layer2 = nn.Conv1d(1, 2, kernel_size=2)\n",
    "layer2"
   ]
  },
  {
   "cell_type": "code",
   "execution_count": 12,
   "metadata": {
    "colab": {
     "base_uri": "https://localhost:8080/"
    },
    "id": "O803TaRZQqkf",
    "outputId": "57e13f96-13eb-4925-8c45-b283e095bd29"
   },
   "outputs": [
    {
     "data": {
      "text/plain": [
       "(Parameter containing:\n",
       " tensor([[[ 0.36,  0.10]],\n",
       " \n",
       "         [[-0.09,  0.20]]], requires_grad=True),\n",
       " torch.Size([2, 1, 2]))"
      ]
     },
     "execution_count": 12,
     "metadata": {},
     "output_type": "execute_result"
    }
   ],
   "source": [
    "layer2.weight, layer2.weight.shape"
   ]
  },
  {
   "cell_type": "code",
   "execution_count": 13,
   "metadata": {
    "colab": {
     "base_uri": "https://localhost:8080/"
    },
    "id": "Uzur7q0EQuff",
    "outputId": "07724cde-0832-424b-f907-20f3ad2f4590"
   },
   "outputs": [
    {
     "data": {
      "text/plain": [
       "Parameter containing:\n",
       "tensor([0.03, 0.26], requires_grad=True)"
      ]
     },
     "execution_count": 13,
     "metadata": {},
     "output_type": "execute_result"
    }
   ],
   "source": [
    "layer2.bias"
   ]
  },
  {
   "cell_type": "code",
   "execution_count": 14,
   "metadata": {
    "colab": {
     "base_uri": "https://localhost:8080/"
    },
    "id": "QQt2XRpYQya_",
    "outputId": "9a66619c-545a-4301-8343-8aec848bbb40"
   },
   "outputs": [
    {
     "data": {
      "text/plain": [
       "tensor([[0.30],\n",
       "        [0.25]], grad_fn=<SqueezeBackward1>)"
      ]
     },
     "execution_count": 14,
     "metadata": {},
     "output_type": "execute_result"
    }
   ],
   "source": [
    "layer2(sent1)"
   ]
  },
  {
   "cell_type": "code",
   "execution_count": 15,
   "metadata": {
    "colab": {
     "base_uri": "https://localhost:8080/"
    },
    "id": "KYG8z2dKQ2bP",
    "outputId": "94dd1ca9-750a-47ef-eeb9-fa8dda7e1153"
   },
   "outputs": [
    {
     "data": {
      "text/plain": [
       "tensor(0.30, grad_fn=<AddBackward0>)"
      ]
     },
     "execution_count": 15,
     "metadata": {},
     "output_type": "execute_result"
    }
   ],
   "source": [
    "(layer2.weight[0] * sent1).sum() + layer2.bias[0]"
   ]
  },
  {
   "cell_type": "code",
   "execution_count": 16,
   "metadata": {
    "colab": {
     "base_uri": "https://localhost:8080/"
    },
    "id": "sn9WABDKRI7K",
    "outputId": "e2c1ff3c-8f2d-4ee1-fc81-a2076d9425bb"
   },
   "outputs": [
    {
     "data": {
      "text/plain": [
       "tensor(0.25, grad_fn=<AddBackward0>)"
      ]
     },
     "execution_count": 16,
     "metadata": {},
     "output_type": "execute_result"
    }
   ],
   "source": [
    "(layer2.weight[1] * sent1).sum() + layer2.bias[1]"
   ]
  },
  {
   "cell_type": "markdown",
   "metadata": {
    "id": "cx7iHGFRnmaq"
   },
   "source": [
    "That was simple. What if sentence is longer than 2 words? Let's say we have 4 words this time. When we apply `layer1` to it, we get 3 numbers."
   ]
  },
  {
   "cell_type": "code",
   "execution_count": 17,
   "metadata": {
    "colab": {
     "base_uri": "https://localhost:8080/"
    },
    "id": "X0beaxUonuMQ",
    "outputId": "83dbd420-850c-451a-c6b6-86267f3777a5"
   },
   "outputs": [
    {
     "data": {
      "text/plain": [
       "tensor([[-1.33,  0.52,  0.75, -0.08]])"
      ]
     },
     "execution_count": 17,
     "metadata": {},
     "output_type": "execute_result"
    }
   ],
   "source": [
    "sent2 = torch.randn((1, 4))\n",
    "sent2"
   ]
  },
  {
   "cell_type": "code",
   "execution_count": 18,
   "metadata": {
    "colab": {
     "base_uri": "https://localhost:8080/"
    },
    "id": "Gx3BevB_n8Kd",
    "outputId": "469d7b31-8d52-4426-96ea-3f011a0f0eab"
   },
   "outputs": [
    {
     "data": {
      "text/plain": [
       "tensor([[ 0.96, -0.17, -0.67]], grad_fn=<SqueezeBackward1>)"
      ]
     },
     "execution_count": 18,
     "metadata": {},
     "output_type": "execute_result"
    }
   ],
   "source": [
    "layer1(sent2)"
   ]
  },
  {
   "cell_type": "markdown",
   "metadata": {
    "id": "UccMGUv4oMzK"
   },
   "source": [
    "We can imagine our kernel as a sliding window moving from left to right. That's what `stride` is. By default it is 1, and it moves 1 step by step. This is how it is calculated:"
   ]
  },
  {
   "cell_type": "code",
   "execution_count": 19,
   "metadata": {
    "colab": {
     "base_uri": "https://localhost:8080/"
    },
    "id": "zStQ_KPYo9d-",
    "outputId": "038dace3-345d-41ea-c117-10d211350904"
   },
   "outputs": [
    {
     "name": "stdout",
     "output_type": "stream",
     "text": [
      "tensor([0.96], grad_fn=<AddBackward0>)\n",
      "tensor([-0.17], grad_fn=<AddBackward0>)\n",
      "tensor([-0.67], grad_fn=<AddBackward0>)\n"
     ]
    }
   ],
   "source": [
    "for words in [sent2[0][i:i+2] for i in range(len(sent2[0]) - 1)]:\n",
    "    print((layer1.weight * words).sum() + layer1.bias)"
   ]
  },
  {
   "cell_type": "markdown",
   "metadata": {
    "id": "1fel5PqYq1Ef"
   },
   "source": [
    "### Stride and Padding"
   ]
  },
  {
   "cell_type": "markdown",
   "metadata": {
    "id": "kKqWJ-Tqq9-f"
   },
   "source": [
    "So that's basically how convolution works. By setting different values to stride, we can change how many times the kernel moves each step. By setting stride to 2, we skip some computations."
   ]
  },
  {
   "cell_type": "code",
   "execution_count": 20,
   "metadata": {
    "colab": {
     "base_uri": "https://localhost:8080/"
    },
    "id": "aqkOIwe8srul",
    "outputId": "f82cb75f-e925-421c-ad96-c5cf76bcb98e"
   },
   "outputs": [
    {
     "data": {
      "text/plain": [
       "Conv1d(1, 1, kernel_size=(2,), stride=(2,))"
      ]
     },
     "execution_count": 20,
     "metadata": {},
     "output_type": "execute_result"
    }
   ],
   "source": [
    "layer3 = nn.Conv1d(1, 1, kernel_size=2, stride=2)\n",
    "layer3"
   ]
  },
  {
   "cell_type": "code",
   "execution_count": 21,
   "metadata": {
    "colab": {
     "base_uri": "https://localhost:8080/"
    },
    "id": "B87Q0mV1s0Fw",
    "outputId": "52ac31f1-7576-4c13-a78c-da12b29b0aa5"
   },
   "outputs": [
    {
     "data": {
      "text/plain": [
       "tensor([[ 0.20, -0.61]], grad_fn=<SqueezeBackward1>)"
      ]
     },
     "execution_count": 21,
     "metadata": {},
     "output_type": "execute_result"
    }
   ],
   "source": [
    "layer3(sent2)"
   ]
  },
  {
   "cell_type": "markdown",
   "metadata": {
    "id": "90W6v_wos4Af"
   },
   "source": [
    "Because the kernel moved twice each step, it is now instead of 3 values, we have 2 values as an output. This way, we can reduce the number of pixels of the input, which means we can store information more compactly like zipping a file. However, this might actually lose data if we shrink too much. Therefore, we increase the channel of the input when we use stride to balance it out.\n",
    "\n",
    "For instance, if we use stride 2, we half height and width, which results in 4 times less pixels. By adding a channel, we increase the output by 2 times. Therefore, we only divide the pixel by 2 each layer, which is reasonable for neural net to learn patterns."
   ]
  },
  {
   "cell_type": "markdown",
   "metadata": {
    "id": "jRdXDW4TtK8T"
   },
   "source": [
    "What is a padding then? It is a way to put zeroes in the corner. If we put padding as 2, we put 2 zeroes on the left and right of our sentence before applying kernels. Therefore, first and last values are equal to just biases in this example."
   ]
  },
  {
   "cell_type": "code",
   "execution_count": 22,
   "metadata": {
    "colab": {
     "base_uri": "https://localhost:8080/"
    },
    "id": "tZ9fU4OFtcSh",
    "outputId": "a0e86f9b-5558-4b26-afc9-5ad249c5fa70"
   },
   "outputs": [
    {
     "data": {
      "text/plain": [
       "tensor([[-1.33,  0.52,  0.75, -0.08]])"
      ]
     },
     "execution_count": 22,
     "metadata": {},
     "output_type": "execute_result"
    }
   ],
   "source": [
    "sent2"
   ]
  },
  {
   "cell_type": "code",
   "execution_count": 23,
   "metadata": {
    "colab": {
     "base_uri": "https://localhost:8080/"
    },
    "id": "eBMH-PF5tRlg",
    "outputId": "bfdffa9e-ddd3-4941-f4ff-67435cc86d7c"
   },
   "outputs": [
    {
     "data": {
      "text/plain": [
       "Conv1d(1, 1, kernel_size=(2,), stride=(2,), padding=(2,))"
      ]
     },
     "execution_count": 23,
     "metadata": {},
     "output_type": "execute_result"
    }
   ],
   "source": [
    "layer4 = nn.Conv1d(1, 1, kernel_size=2, stride=2, padding=2)\n",
    "layer4"
   ]
  },
  {
   "cell_type": "code",
   "execution_count": 24,
   "metadata": {
    "colab": {
     "base_uri": "https://localhost:8080/"
    },
    "id": "ICsmAfbjtT-3",
    "outputId": "25d79db0-28cb-4c57-a661-bd73865e1599"
   },
   "outputs": [
    {
     "data": {
      "text/plain": [
       "tensor([[0.42, 0.74, 0.25, 0.42]], grad_fn=<SqueezeBackward1>)"
      ]
     },
     "execution_count": 24,
     "metadata": {},
     "output_type": "execute_result"
    }
   ],
   "source": [
    "layer4(sent2)"
   ]
  },
  {
   "cell_type": "code",
   "execution_count": 25,
   "metadata": {
    "colab": {
     "base_uri": "https://localhost:8080/"
    },
    "id": "EN1YyyNBtjEC",
    "outputId": "605c63ea-ab9b-4455-b761-f0150438d564"
   },
   "outputs": [
    {
     "data": {
      "text/plain": [
       "Parameter containing:\n",
       "tensor([0.42], requires_grad=True)"
      ]
     },
     "execution_count": 25,
     "metadata": {},
     "output_type": "execute_result"
    }
   ],
   "source": [
    "layer4.bias"
   ]
  },
  {
   "cell_type": "markdown",
   "metadata": {
    "id": "LeQx1AlaxiAH"
   },
   "source": [
    "## Conv2d"
   ]
  },
  {
   "cell_type": "markdown",
   "metadata": {
    "id": "pVslRJryvMq_"
   },
   "source": [
    "We've been using `conv1d`, but conv2d works the same way except we have 2 dimensional kernels instead of 1d, and they also move down."
   ]
  },
  {
   "cell_type": "code",
   "execution_count": 26,
   "metadata": {
    "colab": {
     "base_uri": "https://localhost:8080/"
    },
    "id": "2k-GSTY2jgq2",
    "outputId": "f0d4ce15-57e4-4068-9a04-a75a66072d09"
   },
   "outputs": [
    {
     "data": {
      "text/plain": [
       "Conv2d(1, 1, kernel_size=(2, 2), stride=(1, 1))"
      ]
     },
     "execution_count": 26,
     "metadata": {},
     "output_type": "execute_result"
    }
   ],
   "source": [
    "layer5 = nn.Conv2d(1, 1, kernel_size=2, stride=1, padding=0)\n",
    "layer5"
   ]
  },
  {
   "cell_type": "code",
   "execution_count": 27,
   "metadata": {
    "colab": {
     "base_uri": "https://localhost:8080/"
    },
    "id": "hIyH9FL2yGKn",
    "outputId": "18eda700-1fed-4264-f052-1fc88d3780ef"
   },
   "outputs": [
    {
     "data": {
      "text/plain": [
       "(torch.Size([1, 1, 2, 2]), torch.Size([1]))"
      ]
     },
     "execution_count": 27,
     "metadata": {},
     "output_type": "execute_result"
    }
   ],
   "source": [
    "layer5.weight.shape, layer5.bias.shape"
   ]
  },
  {
   "cell_type": "markdown",
   "metadata": {
    "id": "TDm-wsDWtUz0"
   },
   "source": [
    "Shape of weight: (Outp, Inp, *Kernel_size)\n",
    "\n",
    "Shape of bias: Outp"
   ]
  },
  {
   "cell_type": "markdown",
   "metadata": {
    "id": "eG5CmastyTfp"
   },
   "source": [
    "Let's start with a simple example again. Here is a small image with 3 pixel high and 3 pixel wide."
   ]
  },
  {
   "cell_type": "code",
   "execution_count": 28,
   "metadata": {
    "colab": {
     "base_uri": "https://localhost:8080/"
    },
    "id": "43Qlv7r0lVt_",
    "outputId": "6bd28699-8ca0-4cd9-dcd5-7b0779f5e0c1"
   },
   "outputs": [
    {
     "data": {
      "text/plain": [
       "tensor([[[-0.42, -0.51, -1.57],\n",
       "         [-0.12,  3.59, -1.83],\n",
       "         [ 1.60, -1.28,  0.33]]])"
      ]
     },
     "execution_count": 28,
     "metadata": {},
     "output_type": "execute_result"
    }
   ],
   "source": [
    "im1 = torch.randn((1, 3, 3))\n",
    "im1"
   ]
  },
  {
   "cell_type": "code",
   "execution_count": 29,
   "metadata": {
    "colab": {
     "base_uri": "https://localhost:8080/"
    },
    "id": "Ni0wlCExt_TB",
    "outputId": "831d5071-da60-49cf-c122-14c7318cf4c5"
   },
   "outputs": [
    {
     "data": {
      "text/plain": [
       "torch.Size([1, 3, 3])"
      ]
     },
     "execution_count": 29,
     "metadata": {},
     "output_type": "execute_result"
    }
   ],
   "source": [
    "im1.shape"
   ]
  },
  {
   "cell_type": "code",
   "execution_count": 30,
   "metadata": {
    "colab": {
     "base_uri": "https://localhost:8080/"
    },
    "id": "6GM8iQ40ug-i",
    "outputId": "02b99565-b77a-4242-c1bf-1d7a0942631d"
   },
   "outputs": [
    {
     "data": {
      "text/plain": [
       "(tensor([[[ 1.07,  1.96],\n",
       "          [-1.00,  1.99]]], grad_fn=<SqueezeBackward1>),\n",
       " torch.Size([1, 2, 2]))"
      ]
     },
     "execution_count": 30,
     "metadata": {},
     "output_type": "execute_result"
    }
   ],
   "source": [
    "layer5(im1), layer5(im1).shape"
   ]
  },
  {
   "cell_type": "markdown",
   "metadata": {
    "id": "A9CM_OEhzTtQ"
   },
   "source": [
    "So, now let's talk about different kernels. Why do we even use kernels? What do they do? So, let's say we have an image of digit 5 from MNIST."
   ]
  },
  {
   "cell_type": "code",
   "execution_count": 31,
   "metadata": {
    "id": "VYpY1kD50699"
   },
   "outputs": [],
   "source": [
    "def show_im(im, figsize=None):\n",
    "    fig, ax = plt.subplots(figsize=figsize)\n",
    "    if all(hasattr(im, x) for x in ('cpu','permute','detach')):\n",
    "        im = im.detach().cpu()\n",
    "        if len(im.shape)==3 and im.shape[0]<5: im=im.permute(1,2,0)\n",
    "    ax.set_xticks([])\n",
    "    ax.set_yticks([])\n",
    "    ax.imshow(im)"
   ]
  },
  {
   "cell_type": "code",
   "execution_count": 32,
   "metadata": {
    "colab": {
     "base_uri": "https://localhost:8080/",
     "height": 268
    },
    "id": "7x0TmgzGHg6F",
    "outputId": "26c98aeb-2b4a-4a38-bd04-74afd03e8ad7"
   },
   "outputs": [
    {
     "data": {
      "image/png": "[encoded data removed]",
      "text/plain": [
       "<Figure size 300x300 with 1 Axes>"
      ]
     },
     "metadata": {},
     "output_type": "display_data"
    }
   ],
   "source": [
    "im2 = x_train[0].reshape((1, 28, 28))\n",
    "show_im(im2, figsize=(3,3))"
   ]
  },
  {
   "cell_type": "code",
   "execution_count": 33,
   "metadata": {
    "colab": {
     "base_uri": "https://localhost:8080/"
    },
    "id": "MmOOIz71j4-5",
    "outputId": "cb3bed8f-c65c-418a-8de2-d9a1fcba7d03"
   },
   "outputs": [
    {
     "data": {
      "text/plain": [
       "(Conv2d(1, 1, kernel_size=(3, 3), stride=(1, 1)), torch.Size([1, 1, 3, 3]))"
      ]
     },
     "execution_count": 33,
     "metadata": {},
     "output_type": "execute_result"
    }
   ],
   "source": [
    "layer6 = nn.Conv2d(1, 1, kernel_size=3, stride=1, padding=0)\n",
    "layer6, layer6.weight.shape"
   ]
  },
  {
   "cell_type": "markdown",
   "metadata": {
    "id": "J1VSDaYr1_xc"
   },
   "source": [
    "Here is a kernel that detects the top edge. We can apply this kernel to find top edge from an image. Let's see what it looks like."
   ]
  },
  {
   "cell_type": "code",
   "execution_count": 34,
   "metadata": {
    "colab": {
     "base_uri": "https://localhost:8080/"
    },
    "id": "6xI9Y31cwcME",
    "outputId": "e9db2004-1352-49a9-d22e-287be9af9cc9"
   },
   "outputs": [
    {
     "data": {
      "text/plain": [
       "Parameter containing:\n",
       "tensor([[[[ 1.,  1.,  1.],\n",
       "          [ 0.,  0.,  0.],\n",
       "          [-1., -1., -1.]]]], requires_grad=True)"
      ]
     },
     "execution_count": 34,
     "metadata": {},
     "output_type": "execute_result"
    }
   ],
   "source": [
    "top_edge = torch.nn.Parameter(tensor([[1,1,1],[0,0,0],[-1,-1,-1]],\n",
    "                                     dtype=torch.float32).reshape((1, 1, 3, 3)))\n",
    "top_edge"
   ]
  },
  {
   "cell_type": "code",
   "execution_count": 35,
   "metadata": {
    "colab": {
     "base_uri": "https://localhost:8080/"
    },
    "id": "YZUHnTop2O8h",
    "outputId": "74bc9156-1533-4364-adef-0cc9f5d3f740"
   },
   "outputs": [
    {
     "data": {
      "text/plain": [
       "torch.Size([1, 1, 3, 3])"
      ]
     },
     "execution_count": 35,
     "metadata": {},
     "output_type": "execute_result"
    }
   ],
   "source": [
    "top_edge.shape"
   ]
  },
  {
   "cell_type": "code",
   "execution_count": 36,
   "metadata": {
    "colab": {
     "base_uri": "https://localhost:8080/"
    },
    "id": "qJ_igv-9vxrh",
    "outputId": "b6c6ef7a-a50b-45a0-cee7-d2b3e4aee52b"
   },
   "outputs": [
    {
     "data": {
      "text/plain": [
       "Parameter containing:\n",
       "tensor([[[[ 1.,  1.,  1.],\n",
       "          [ 0.,  0.,  0.],\n",
       "          [-1., -1., -1.]]]], requires_grad=True)"
      ]
     },
     "execution_count": 36,
     "metadata": {},
     "output_type": "execute_result"
    }
   ],
   "source": [
    "layer6.weight = top_edge\n",
    "layer6.weight"
   ]
  },
  {
   "cell_type": "code",
   "execution_count": 37,
   "metadata": {
    "colab": {
     "base_uri": "https://localhost:8080/",
     "height": 268
    },
    "id": "G_htIJ6ev2jy",
    "outputId": "dfae7341-ab47-4778-8f4d-defce3acee35"
   },
   "outputs": [
    {
     "data": {
      "image/png": "[encoded data removed]",
      "text/plain": [
       "<Figure size 300x300 with 1 Axes>"
      ]
     },
     "metadata": {},
     "output_type": "display_data"
    }
   ],
   "source": [
    "show_im(layer6(im2), figsize=(3,3));"
   ]
  },
  {
   "cell_type": "markdown",
   "metadata": {
    "id": "T1q7vtM94ifG"
   },
   "source": [
    "We successfully detected top edge of the image! Let's try to get the right edge."
   ]
  },
  {
   "cell_type": "code",
   "execution_count": 38,
   "metadata": {
    "colab": {
     "base_uri": "https://localhost:8080/"
    },
    "id": "Senlg30jxS-b",
    "outputId": "12a9c57d-d4d8-4704-8975-9ab09ef211e4"
   },
   "outputs": [
    {
     "data": {
      "text/plain": [
       "Conv2d(1, 1, kernel_size=(3, 3), stride=(1, 1))"
      ]
     },
     "execution_count": 38,
     "metadata": {},
     "output_type": "execute_result"
    }
   ],
   "source": [
    "layer7 = nn.Conv2d(1, 1, kernel_size=3, stride=1, padding=0)\n",
    "layer7"
   ]
  },
  {
   "cell_type": "code",
   "execution_count": 39,
   "metadata": {
    "colab": {
     "base_uri": "https://localhost:8080/"
    },
    "id": "T9DMY66CxVIH",
    "outputId": "41f36ee9-54a8-4428-c2ff-9c668c34d6a0"
   },
   "outputs": [
    {
     "data": {
      "text/plain": [
       "Parameter containing:\n",
       "tensor([[[[-1.,  0.,  1.],\n",
       "          [-1.,  0.,  1.],\n",
       "          [-1.,  0.,  1.]]]], requires_grad=True)"
      ]
     },
     "execution_count": 39,
     "metadata": {},
     "output_type": "execute_result"
    }
   ],
   "source": [
    "right_edge = torch.nn.Parameter(tensor([[-1,0,1],\n",
    "       [-1,0,1],\n",
    "       [-1,0,1]], dtype=torch.float32).unsqueeze(0).unsqueeze(0))\n",
    "right_edge"
   ]
  },
  {
   "cell_type": "code",
   "execution_count": 40,
   "metadata": {
    "colab": {
     "base_uri": "https://localhost:8080/",
     "height": 268
    },
    "id": "7vUDMarUvfAW",
    "outputId": "8e05a841-a8c1-4d02-c212-ce187eaeda8c"
   },
   "outputs": [
    {
     "data": {
      "image/png": "[encoded data removed]",
      "text/plain": [
       "<Figure size 300x300 with 1 Axes>"
      ]
     },
     "metadata": {},
     "output_type": "display_data"
    }
   ],
   "source": [
    "layer7.weight = right_edge\n",
    "show_im(layer7(im2), figsize=(3,3));"
   ]
  },
  {
   "cell_type": "code",
   "execution_count": 68,
   "metadata": {
    "colab": {
     "base_uri": "https://localhost:8080/"
    },
    "id": "gPMJH0nRVY4J",
    "outputId": "b0bc2601-1a46-43c1-ffdb-9268a03ff294"
   },
   "outputs": [
    {
     "data": {
      "text/plain": [
       "Conv2d(1, 1, kernel_size=(3, 3), stride=(1, 1))"
      ]
     },
     "execution_count": 68,
     "metadata": {},
     "output_type": "execute_result"
    }
   ],
   "source": [
    "layer00 = nn.Conv2d(1, 1, kernel_size=3, stride=1, padding=0)\n",
    "layer00"
   ]
  },
  {
   "cell_type": "code",
   "execution_count": 67,
   "metadata": {
    "colab": {
     "base_uri": "https://localhost:8080/"
    },
    "id": "Jhny2oa6VSYU",
    "outputId": "3bba8c48-703a-4e62-943a-91ccdeecaec0"
   },
   "outputs": [
    {
     "data": {
      "text/plain": [
       "Parameter containing:\n",
       "tensor([[[[1., 1., 1.],\n",
       "          [1., 1., 1.],\n",
       "          [1., 1., 1.]]]], requires_grad=True)"
      ]
     },
     "execution_count": 67,
     "metadata": {},
     "output_type": "execute_result"
    }
   ],
   "source": [
    "no_op = torch.nn.Parameter(tensor([[1,1,1],[1,1,1],[1,1,1]],\n",
    "                                     dtype=torch.float32).reshape((1, 1, 3, 3)))\n",
    "no_op"
   ]
  },
  {
   "cell_type": "code",
   "execution_count": 71,
   "metadata": {
    "colab": {
     "base_uri": "https://localhost:8080/",
     "height": 268
    },
    "id": "kxdDUhY8Vqfh",
    "outputId": "4d4206f9-12cd-4226-e1bb-46b7dc6dda4d"
   },
   "outputs": [
    {
     "data": {
      "image/png": "[encoded data removed]",
      "text/plain": [
       "<Figure size 300x300 with 1 Axes>"
      ]
     },
     "metadata": {},
     "output_type": "display_data"
    }
   ],
   "source": [
    "show_im(im2, figsize=(3,3))"
   ]
  },
  {
   "cell_type": "code",
   "execution_count": 69,
   "metadata": {
    "colab": {
     "base_uri": "https://localhost:8080/",
     "height": 268
    },
    "id": "hN4IjqD6Ve6j",
    "outputId": "12112da9-1485-4d5f-e6da-8cf67c62a619"
   },
   "outputs": [
    {
     "data": {
      "image/png": "[encoded data removed]",
      "text/plain": [
       "<Figure size 300x300 with 1 Axes>"
      ]
     },
     "metadata": {},
     "output_type": "display_data"
    }
   ],
   "source": [
    "layer00.weight = no_op\n",
    "show_im(layer00(im2), figsize=(3,3));"
   ]
  },
  {
   "cell_type": "markdown",
   "metadata": {
    "id": "pOfXalCqTVv8"
   },
   "source": [
    "Instead of creating two layers, we usually create multiple kernels. `layer8` has two output channels, which means two kernels. We can set these two kernels into what we had, and we can check the output."
   ]
  },
  {
   "cell_type": "code",
   "execution_count": 41,
   "metadata": {
    "colab": {
     "base_uri": "https://localhost:8080/"
    },
    "id": "6KbDmQLSQBQD",
    "outputId": "44fbab55-9518-4e9e-bd80-59f086e944d4"
   },
   "outputs": [
    {
     "data": {
      "text/plain": [
       "Parameter containing:\n",
       "tensor([[[[ 0.16,  0.02,  0.11],\n",
       "          [ 0.07,  0.12,  0.17],\n",
       "          [-0.31,  0.17, -0.23]]],\n",
       "\n",
       "\n",
       "        [[[-0.25,  0.02, -0.06],\n",
       "          [ 0.20, -0.19, -0.30],\n",
       "          [ 0.24, -0.05,  0.19]]]], requires_grad=True)"
      ]
     },
     "execution_count": 41,
     "metadata": {},
     "output_type": "execute_result"
    }
   ],
   "source": [
    "layer8 = nn.Conv2d(1, 2, kernel_size=3, stride=1, padding=0)\n",
    "layer8.weight"
   ]
  },
  {
   "cell_type": "code",
   "execution_count": 42,
   "metadata": {
    "colab": {
     "base_uri": "https://localhost:8080/"
    },
    "id": "kaFSc9DEQmcR",
    "outputId": "45ce7bdf-d35c-4669-e73c-0606e9500e72"
   },
   "outputs": [
    {
     "data": {
      "text/plain": [
       "torch.Size([2, 1, 3, 3])"
      ]
     },
     "execution_count": 42,
     "metadata": {},
     "output_type": "execute_result"
    }
   ],
   "source": [
    "layer8.weight.shape"
   ]
  },
  {
   "cell_type": "code",
   "execution_count": 45,
   "metadata": {
    "colab": {
     "base_uri": "https://localhost:8080/"
    },
    "id": "fmE-Q60CRKsU",
    "outputId": "938adc41-cd24-4193-b36d-9c1d2f9dfda0"
   },
   "outputs": [
    {
     "data": {
      "text/plain": [
       "torch.Size([1, 1, 3, 3])"
      ]
     },
     "execution_count": 45,
     "metadata": {},
     "output_type": "execute_result"
    }
   ],
   "source": [
    "top_edge.shape"
   ]
  },
  {
   "cell_type": "code",
   "execution_count": 51,
   "metadata": {
    "colab": {
     "base_uri": "https://localhost:8080/"
    },
    "id": "X9KVW7PYQ5YI",
    "outputId": "ac1e5b30-5250-481c-9ad3-3ae332914526"
   },
   "outputs": [
    {
     "data": {
      "text/plain": [
       "Parameter containing:\n",
       "tensor([[[[ 1.,  1.,  1.],\n",
       "          [ 0.,  0.,  0.],\n",
       "          [-1., -1., -1.]]],\n",
       "\n",
       "\n",
       "        [[[-1.,  0.,  1.],\n",
       "          [-1.,  0.,  1.],\n",
       "          [-1.,  0.,  1.]]]], requires_grad=True)"
      ]
     },
     "execution_count": 51,
     "metadata": {},
     "output_type": "execute_result"
    }
   ],
   "source": [
    "layer8.weight = torch.nn.Parameter(torch.cat([top_edge, right_edge]))\n",
    "layer8.weight"
   ]
  },
  {
   "cell_type": "code",
   "execution_count": 62,
   "metadata": {
    "id": "rsp1FlMqSEwh"
   },
   "outputs": [],
   "source": [
    "def show_ims(ims, figsize=None):\n",
    "    fig, ax = plt.subplots(1, len(ims), figsize=figsize)\n",
    "    for i, im in enumerate(ims):\n",
    "        if all(hasattr(im, x) for x in ('cpu','permute','detach')):\n",
    "            im = im.detach().cpu()\n",
    "            if len(im.shape)==3 and im.shape[0]<5: im=im.permute(1,2,0)\n",
    "            ax[i].imshow(im)\n",
    "            ax[i].set_xticks([])\n",
    "            ax[i].set_yticks([])"
   ]
  },
  {
   "cell_type": "code",
   "execution_count": 63,
   "metadata": {
    "colab": {
     "base_uri": "https://localhost:8080/",
     "height": 262
    },
    "id": "Gcli241lSzVz",
    "outputId": "f24e4b3b-8567-4b05-cad4-a9e894bc614d"
   },
   "outputs": [
    {
     "data": {
      "image/png": "[encoded data removed]",
      "text/plain": [
       "<Figure size 640x480 with 2 Axes>"
      ]
     },
     "metadata": {},
     "output_type": "display_data"
    }
   ],
   "source": [
    "show_ims([im3, im4])"
   ]
  },
  {
   "cell_type": "markdown",
   "metadata": {
    "id": "ffozQMA542cm"
   },
   "source": [
    "Nice. We got the same output as before."
   ]
  },
  {
   "cell_type": "code",
   "execution_count": 64,
   "metadata": {
    "colab": {
     "base_uri": "https://localhost:8080/"
    },
    "id": "j5ZGG8I6UOeH",
    "outputId": "64425d67-d39f-44a6-a8e2-8b08ef000277"
   },
   "outputs": [
    {
     "data": {
      "text/plain": [
       "torch.Size([1, 2, 3, 3])"
      ]
     },
     "execution_count": 64,
     "metadata": {},
     "output_type": "execute_result"
    }
   ],
   "source": [
    "layer9 = nn.Conv2d(2, 1, kernel_size=3, stride=1, padding=0)\n",
    "layer9.weight.shape"
   ]
  },
  {
   "cell_type": "code",
   "execution_count": 66,
   "metadata": {
    "colab": {
     "base_uri": "https://localhost:8080/"
    },
    "id": "Z0tI6qRsU_oB",
    "outputId": "dc983fee-cf6d-42b2-e5bc-66189b1ba7c9"
   },
   "outputs": [
    {
     "data": {
      "text/plain": [
       "Parameter containing:\n",
       "tensor([[[[ 0.05,  0.06, -0.16],\n",
       "          [-0.11,  0.08,  0.04],\n",
       "          [-0.10, -0.07,  0.22]],\n",
       "\n",
       "         [[-0.04,  0.13,  0.10],\n",
       "          [-0.15, -0.20,  0.23],\n",
       "          [ 0.01,  0.16,  0.05]]]], requires_grad=True)"
      ]
     },
     "execution_count": 66,
     "metadata": {},
     "output_type": "execute_result"
    }
   ],
   "source": [
    "layer9.weight"
   ]
  },
  {
   "cell_type": "code",
   "execution_count": 72,
   "metadata": {
    "colab": {
     "base_uri": "https://localhost:8080/"
    },
    "id": "l5dGuyG7V4vp",
    "outputId": "e988707f-d54a-4040-c721-02ae7ffd0012"
   },
   "outputs": [
    {
     "data": {
      "text/plain": [
       "Parameter containing:\n",
       "tensor([[1., 1., 1.],\n",
       "        [1., 1., 1.],\n",
       "        [1., 1., 1.]], requires_grad=True)"
      ]
     },
     "execution_count": 72,
     "metadata": {},
     "output_type": "execute_result"
    }
   ],
   "source": [
    "no_op = torch.nn.Parameter(tensor([[1,1,1],[1,1,1],[1,1,1]],\n",
    "                                     dtype=torch.float32).reshape((3, 3)))\n",
    "no_op"
   ]
  },
  {
   "cell_type": "code",
   "execution_count": 77,
   "metadata": {
    "colab": {
     "base_uri": "https://localhost:8080/"
    },
    "id": "CN7d5mwyWTsq",
    "outputId": "1cd4fbe9-69ea-4d36-dd95-8eb1b8c6f6b3"
   },
   "outputs": [
    {
     "data": {
      "text/plain": [
       "torch.Size([1, 2, 3, 3])"
      ]
     },
     "execution_count": 77,
     "metadata": {},
     "output_type": "execute_result"
    }
   ],
   "source": [
    "torch.stack([no_op, no_op]).unsqueeze(0).shape"
   ]
  },
  {
   "cell_type": "code",
   "execution_count": 78,
   "metadata": {
    "colab": {
     "base_uri": "https://localhost:8080/"
    },
    "id": "TiGW_7pfWnvN",
    "outputId": "da5907fb-7156-40c9-d462-ae25ea8d47b2"
   },
   "outputs": [
    {
     "data": {
      "text/plain": [
       "Parameter containing:\n",
       "tensor([[[[1., 1., 1.],\n",
       "          [1., 1., 1.],\n",
       "          [1., 1., 1.]],\n",
       "\n",
       "         [[1., 1., 1.],\n",
       "          [1., 1., 1.],\n",
       "          [1., 1., 1.]]]], requires_grad=True)"
      ]
     },
     "execution_count": 78,
     "metadata": {},
     "output_type": "execute_result"
    }
   ],
   "source": [
    "no_ops = torch.nn.Parameter(torch.stack([no_op, no_op]).unsqueeze(0))\n",
    "no_ops"
   ]
  },
  {
   "cell_type": "code",
   "execution_count": 82,
   "metadata": {
    "colab": {
     "base_uri": "https://localhost:8080/"
    },
    "id": "Kzp8GjWLW2yn",
    "outputId": "1055a9e2-fffe-4e96-b2fc-efb008f6c2b0"
   },
   "outputs": [
    {
     "data": {
      "text/plain": [
       "torch.Size([2, 26, 26])"
      ]
     },
     "execution_count": 82,
     "metadata": {},
     "output_type": "execute_result"
    }
   ],
   "source": [
    "torch.stack([im3, im4]).shape"
   ]
  },
  {
   "cell_type": "code",
   "execution_count": 86,
   "metadata": {
    "colab": {
     "base_uri": "https://localhost:8080/",
     "height": 268
    },
    "id": "i7cby3OTWuB2",
    "outputId": "3b068d80-9faa-4e99-a4c3-fbd06d3d1c50"
   },
   "outputs": [
    {
     "data": {
      "image/png": "[encoded data removed]",
      "text/plain": [
       "<Figure size 300x300 with 1 Axes>"
      ]
     },
     "metadata": {},
     "output_type": "display_data"
    }
   ],
   "source": [
    "layer9.weight = no_ops\n",
    "show_im(layer9(torch.stack([im3, im4])), figsize=((3,3)))"
   ]
  },
  {
   "cell_type": "markdown",
   "metadata": {
    "id": "C3SmIofSXT84"
   },
   "source": [
    "So, we combined the output of two images and mixed them into one. In this image, the darkest spots are places where top corner and right corner both happen. This way, the convolutional neural network can combine different features into a more useful one."
   ]
  },
  {
   "cell_type": "markdown",
   "metadata": {
    "id": "OpvymxQJjwAl"
   },
   "source": [
    "## Conclusion"
   ]
  },
  {
   "cell_type": "markdown",
   "metadata": {
    "id": "0-jeIoIR8fid"
   },
   "source": [
    "In this blog, we learned how convolutional neural net works by using Pytorch. It is used mostly for images. If you want to learn more, take a look at FastAI [lesson 8](https://course.fast.ai/Lessons/lesson8.html). It might be easier to watch the video to undertstand, and you can come back to play around with the code."
   ]
  },
  {
   "cell_type": "markdown",
   "metadata": {
    "id": "eOY_VJhT95qU"
   },
   "source": [
    "For a challenge, you can try to train MNIST using both linear layers and convolutional neural networks, and try to find out which one is better."
   ]
  },
  {
   "cell_type": "code",
   "execution_count": null,
   "metadata": {
    "id": "NOI4wt6n-RXq"
   },
   "outputs": [],
   "source": []
  }
 ],
 "metadata": {
  "colab": {
   "provenance": []
  },
  "kernelspec": {
   "display_name": "Python 3 (ipykernel)",
   "language": "python",
   "name": "python3"
  },
  "language_info": {
   "codemirror_mode": {
    "name": "ipython",
    "version": 3
   },
   "file_extension": ".py",
   "mimetype": "text/x-python",
   "name": "python",
   "nbconvert_exporter": "python",
   "pygments_lexer": "ipython3",
   "version": "3.10.12"
  }
 },
 "nbformat": 4,
 "nbformat_minor": 4
}
