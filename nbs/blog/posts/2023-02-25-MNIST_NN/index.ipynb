{
 "cells": [
  {
   "cell_type": "raw",
   "id": "769bc6dd",
   "metadata": {},
   "source": [
    "---\n",
    "title: \"MNIST Neural Nets\"\n",
    "author: \"galopy\"\n",
    "date: \"February 25, 2023\"\n",
    "toc: true\n",
    "skip_showdoc: true\n",
    "skip_exec: true\n",
    "comments:\n",
    "  utterances:\n",
    "    repo: galopyz/delicious-nbdev\n",
    "---"
   ]
  },
  {
   "cell_type": "markdown",
   "id": "a65e320c",
   "metadata": {},
   "source": [
    "# MNIST Project"
   ]
  },
  {
   "cell_type": "markdown",
   "id": "f5adc723",
   "metadata": {},
   "source": [
    "In this blog, we will use neural networks to train MNIST dataset. We start with using pytorch and integrate fastai in the end."
   ]
  },
  {
   "cell_type": "markdown",
   "id": "1574de78",
   "metadata": {},
   "source": [
    "This is part of Further Research from fastbook [chapter 4](https://github.com/fastai/fastbook/blob/master/04_mnist_basics.ipynb)."
   ]
  },
  {
   "cell_type": "markdown",
   "id": "095738a3",
   "metadata": {},
   "source": [
    "## Preparing data"
   ]
  },
  {
   "cell_type": "markdown",
   "id": "67111309",
   "metadata": {},
   "source": [
    "This part is the same as last blog where we created a baseline by calculating means of images."
   ]
  },
  {
   "cell_type": "code",
   "execution_count": null,
   "id": "339ee13f",
   "metadata": {},
   "outputs": [],
   "source": [
    "from fastai.vision.all import *"
   ]
  },
  {
   "cell_type": "code",
   "execution_count": null,
   "id": "382fac27",
   "metadata": {},
   "outputs": [
    {
     "data": {
      "text/plain": [
       "<torch._C.Generator>"
      ]
     },
     "execution_count": null,
     "metadata": {},
     "output_type": "execute_result"
    }
   ],
   "source": [
    "matplotlib.rc('image', cmap='Greys')\n",
    "torch.manual_seed(42)"
   ]
  },
  {
   "cell_type": "code",
   "execution_count": null,
   "id": "16eb2f4c",
   "metadata": {},
   "outputs": [
    {
     "data": {
      "text/html": [
       "\n",
       "<style>\n",
       "    /* Turns off some styling */\n",
       "    progress {\n",
       "        /* gets rid of default border in Firefox and Opera. */\n",
       "        border: none;\n",
       "        /* Needs to be in here for Safari polyfill so background images work as expected. */\n",
       "        background-size: auto;\n",
       "    }\n",
       "    progress:not([value]), progress:not([value])::-webkit-progress-bar {\n",
       "        background: repeating-linear-gradient(45deg, #7e7e7e, #7e7e7e 10px, #5c5c5c 10px, #5c5c5c 20px);\n",
       "    }\n",
       "    .progress-bar-interrupted, .progress-bar-interrupted::-webkit-progress-bar {\n",
       "        background: #F44336;\n",
       "    }\n",
       "</style>\n"
      ],
      "text/plain": [
       "<IPython.core.display.HTML object>"
      ]
     },
     "metadata": {},
     "output_type": "display_data"
    },
    {
     "data": {
      "text/html": [
       "\n",
       "    <div>\n",
       "      <progress value='15687680' class='' max='15683414' style='width:300px; height:20px; vertical-align: middle;'></progress>\n",
       "      100.03% [15687680/15683414 00:00&lt;00:00]\n",
       "    </div>\n",
       "    "
      ],
      "text/plain": [
       "<IPython.core.display.HTML object>"
      ]
     },
     "metadata": {},
     "output_type": "display_data"
    },
    {
     "data": {
      "text/plain": [
       "(#2) [Path('training'),Path('testing')]"
      ]
     },
     "execution_count": null,
     "metadata": {},
     "output_type": "execute_result"
    }
   ],
   "source": [
    "path = untar_data(URLs.MNIST)\n",
    "Path.BASE_PATH = path\n",
    "path.ls()"
   ]
  },
  {
   "cell_type": "code",
   "execution_count": null,
   "id": "02ea0c24",
   "metadata": {},
   "outputs": [
    {
     "data": {
      "text/plain": [
       "(#10) [Path('training/7'),Path('training/8'),Path('training/5'),Path('training/6'),Path('training/9'),Path('training/3'),Path('training/2'),Path('training/0'),Path('training/4'),Path('training/1')]"
      ]
     },
     "execution_count": null,
     "metadata": {},
     "output_type": "execute_result"
    }
   ],
   "source": [
    "(path/'training').ls()"
   ]
  },
  {
   "cell_type": "markdown",
   "id": "8f35a183",
   "metadata": {},
   "source": [
    "I looked at the number of files for each number, and they are not the same."
   ]
  },
  {
   "cell_type": "code",
   "execution_count": null,
   "id": "c681a774",
   "metadata": {},
   "outputs": [
    {
     "data": {
      "text/plain": [
       "{0: 5923,\n",
       " 1: 6742,\n",
       " 2: 5958,\n",
       " 3: 6131,\n",
       " 4: 5842,\n",
       " 5: 5421,\n",
       " 6: 5918,\n",
       " 7: 6265,\n",
       " 8: 5851,\n",
       " 9: 5949}"
      ]
     },
     "execution_count": null,
     "metadata": {},
     "output_type": "execute_result"
    }
   ],
   "source": [
    "trn_counts = {n: len((path/'training'/str(n)).ls()) for n in range(10)}\n",
    "trn_counts"
   ]
  },
  {
   "cell_type": "markdown",
   "id": "6af56b33",
   "metadata": {},
   "source": [
    "Since these are paths for images we have to convert them into pytorch tensors. Pytorch provides us with [broadcasting](https://numpy.org/doc/stable/user/basics.broadcasting.html) ability, which is very fast."
   ]
  },
  {
   "cell_type": "markdown",
   "id": "45ead0fe",
   "metadata": {},
   "source": [
    "First, we turn image paths into numbers and return as L, which is an upgraded version of list. "
   ]
  },
  {
   "cell_type": "code",
   "execution_count": null,
   "id": "7a77738b",
   "metadata": {},
   "outputs": [],
   "source": [
    "def create_images(path):\n",
    "    return L(PILImage.create(x) for x in path.ls())"
   ]
  },
  {
   "cell_type": "code",
   "execution_count": null,
   "id": "f8f129ed",
   "metadata": {},
   "outputs": [
    {
     "data": {
      "image/png": "[encoded data removed]",
      "text/plain": [
       "PILImage mode=RGB size=28x28"
      ]
     },
     "execution_count": null,
     "metadata": {},
     "output_type": "execute_result"
    }
   ],
   "source": [
    "ones = create_images(path/'training'/'1')\n",
    "im1 = ones[0]\n",
    "im1"
   ]
  },
  {
   "cell_type": "markdown",
   "id": "ece46898",
   "metadata": {},
   "source": [
    "We need to turn them into tensors for speed. However, we have to check the shape of tensors to make sure they are broadcastable and the shape is one we're expecting."
   ]
  },
  {
   "cell_type": "code",
   "execution_count": null,
   "id": "49307413",
   "metadata": {},
   "outputs": [],
   "source": [
    "def create_tensor_imgs(imgs):\n",
    "    \"Convert a list of images into a tensor\"\n",
    "    return torch.stack([tensor(im) for im in imgs])"
   ]
  },
  {
   "cell_type": "code",
   "execution_count": null,
   "id": "096d3a64",
   "metadata": {},
   "outputs": [
    {
     "data": {
      "text/plain": [
       "torch.Size([28, 28, 3])"
      ]
     },
     "execution_count": null,
     "metadata": {},
     "output_type": "execute_result"
    }
   ],
   "source": [
    "stacked_ones = create_tensor_imgs(ones)\n",
    "stacked_ones[0].shape"
   ]
  },
  {
   "cell_type": "code",
   "execution_count": null,
   "id": "afbeb9ed",
   "metadata": {},
   "outputs": [
    {
     "data": {
      "text/plain": [
       "torch.Size([6742, 28, 28, 3])"
      ]
     },
     "execution_count": null,
     "metadata": {},
     "output_type": "execute_result"
    }
   ],
   "source": [
    "stacked_ones.shape"
   ]
  },
  {
   "cell_type": "markdown",
   "id": "ecc35cca",
   "metadata": {},
   "source": [
    "Looking at the shape of an image, it is interesting to find out that its shape is [28, 28, 3] (y, x, and color values). I was expecting to see [28, 28] (y and x values) because it is a black and white image. So, let's see what's going on here."
   ]
  },
  {
   "cell_type": "code",
   "execution_count": null,
   "id": "a6c97b04",
   "metadata": {},
   "outputs": [
    {
     "data": {
      "text/plain": [
       "array([[[  0,   0,   0],\n",
       "        [221, 221, 221],\n",
       "        [251, 251, 251]],\n",
       "\n",
       "       [[ 64,  64,  64],\n",
       "        [236, 236, 236],\n",
       "        [251, 251, 251]],\n",
       "\n",
       "       [[127, 127, 127],\n",
       "        [251, 251, 251],\n",
       "        [251, 251, 251]],\n",
       "\n",
       "       [[127, 127, 127],\n",
       "        [251, 251, 251],\n",
       "        [251, 251, 251]],\n",
       "\n",
       "       [[128, 128, 128],\n",
       "        [253, 253, 253],\n",
       "        [253, 253, 253]]], dtype=uint8)"
      ]
     },
     "execution_count": null,
     "metadata": {},
     "output_type": "execute_result"
    }
   ],
   "source": [
    "array(im1)[10:15, 12:15]"
   ]
  },
  {
   "cell_type": "markdown",
   "id": "b0f3d895",
   "metadata": {},
   "source": [
    "So, it is just filled with the same numbers per each row. We just need one column, so we can simply take a mean of last rank."
   ]
  },
  {
   "cell_type": "code",
   "execution_count": null,
   "id": "a1a33b8e",
   "metadata": {},
   "outputs": [
    {
     "data": {
      "text/plain": [
       "array([[  0., 221., 251.],\n",
       "       [ 64., 236., 251.],\n",
       "       [127., 251., 251.],\n",
       "       [127., 251., 251.],\n",
       "       [128., 253., 253.]])"
      ]
     },
     "execution_count": null,
     "metadata": {},
     "output_type": "execute_result"
    }
   ],
   "source": [
    "array(im1)[10:15, 12:15].mean(-1)"
   ]
  },
  {
   "cell_type": "markdown",
   "id": "54830d67",
   "metadata": {},
   "source": [
    "So, here is the updated version of `create_tensor_imgs` that calculates a mean so that we can get rid of the last rank of our tensors. "
   ]
  },
  {
   "cell_type": "code",
   "execution_count": null,
   "id": "34d201a5",
   "metadata": {},
   "outputs": [],
   "source": [
    "def create_tensor_imgs(imgs):\n",
    "    \"Convert a list of images into a tensor\"\n",
    "    return torch.stack([tensor(im) for im in imgs]).mean(-1, dtype=torch.float)"
   ]
  },
  {
   "cell_type": "code",
   "execution_count": null,
   "id": "a2d211f9",
   "metadata": {},
   "outputs": [
    {
     "data": {
      "text/plain": [
       "torch.Size([28, 28])"
      ]
     },
     "execution_count": null,
     "metadata": {},
     "output_type": "execute_result"
    }
   ],
   "source": [
    "stacked_ones = create_tensor_imgs(ones)\n",
    "stacked_ones[0].shape"
   ]
  },
  {
   "cell_type": "code",
   "execution_count": null,
   "id": "1448fcb6",
   "metadata": {},
   "outputs": [
    {
     "data": {
      "text/plain": [
       "array([[  0., 221., 251.],\n",
       "       [ 64., 236., 251.],\n",
       "       [127., 251., 251.],\n",
       "       [127., 251., 251.],\n",
       "       [128., 253., 253.]], dtype=float32)"
      ]
     },
     "execution_count": null,
     "metadata": {},
     "output_type": "execute_result"
    }
   ],
   "source": [
    "array(stacked_ones[0])[10:15, 12:15]"
   ]
  },
  {
   "cell_type": "markdown",
   "id": "8585f711",
   "metadata": {},
   "source": [
    "Looks good. Now, we want those pixel values to be between 0 and 1 so that it is easier to train neural networks. "
   ]
  },
  {
   "cell_type": "code",
   "execution_count": null,
   "id": "9ac9036f",
   "metadata": {},
   "outputs": [],
   "source": [
    "def create_tensor_imgs(imgs):\n",
    "    \"Convert a list of images into a tensor\"\n",
    "    return torch.stack([tensor(im) for im in imgs]).mean(-1, dtype=torch.float)/255"
   ]
  },
  {
   "cell_type": "code",
   "execution_count": null,
   "id": "c8eb8a85",
   "metadata": {},
   "outputs": [
    {
     "data": {
      "text/plain": [
       "array([[0.        , 0.8666667 , 0.9843137 ],\n",
       "       [0.2509804 , 0.9254902 , 0.9843137 ],\n",
       "       [0.49803922, 0.9843137 , 0.9843137 ],\n",
       "       [0.49803922, 0.9843137 , 0.9843137 ],\n",
       "       [0.5019608 , 0.99215686, 0.99215686]], dtype=float32)"
      ]
     },
     "execution_count": null,
     "metadata": {},
     "output_type": "execute_result"
    }
   ],
   "source": [
    "stacked_ones = create_tensor_imgs(ones)\n",
    "array(stacked_ones[0])[10:15, 12:15]"
   ]
  },
  {
   "cell_type": "code",
   "execution_count": null,
   "id": "4ad742cd",
   "metadata": {},
   "outputs": [],
   "source": [
    "def stacked_nums(path):\n",
    "    \"Converts path into stacked tensors.\"\n",
    "    imgs = create_images(path)\n",
    "    return create_tensor_imgs(imgs)"
   ]
  },
  {
   "cell_type": "code",
   "execution_count": null,
   "id": "00ea680d",
   "metadata": {},
   "outputs": [],
   "source": [
    "stacked_zeros = stacked_nums(path/'training'/'0')\n",
    "stacked_twos = stacked_nums(path/'training'/'2')\n",
    "stacked_threes = stacked_nums(path/'training'/'3')\n",
    "stacked_fours = stacked_nums(path/'training'/'4')\n",
    "stacked_fives = stacked_nums(path/'training'/'5')\n",
    "stacked_sixs = stacked_nums(path/'training'/'6')\n",
    "stacked_sevens = stacked_nums(path/'training'/'7')\n",
    "stacked_eights = stacked_nums(path/'training'/'8')\n",
    "stacked_nines = stacked_nums(path/'training'/'9')"
   ]
  },
  {
   "cell_type": "markdown",
   "id": "c51b0853",
   "metadata": {},
   "source": [
    "We also need test data to check how we're doing. Without test set, we don't know whether we are overfitting or not. So, we do the same process we did for test data."
   ]
  },
  {
   "cell_type": "code",
   "execution_count": null,
   "id": "08185fde",
   "metadata": {},
   "outputs": [
    {
     "data": {
      "text/plain": [
       "(torch.Size([1135, 28, 28]), torch.Size([1009, 28, 28]))"
      ]
     },
     "execution_count": null,
     "metadata": {},
     "output_type": "execute_result"
    }
   ],
   "source": [
    "tst_0_tens = stacked_nums(path/'testing'/'0')\n",
    "tst_1_tens = stacked_nums(path/'testing'/'1')\n",
    "tst_2_tens = stacked_nums(path/'testing'/'2')\n",
    "tst_3_tens = stacked_nums(path/'testing'/'3')\n",
    "tst_4_tens = stacked_nums(path/'testing'/'4')\n",
    "tst_5_tens = stacked_nums(path/'testing'/'5')\n",
    "tst_6_tens = stacked_nums(path/'testing'/'6')\n",
    "tst_7_tens = stacked_nums(path/'testing'/'7')\n",
    "tst_8_tens = stacked_nums(path/'testing'/'8')\n",
    "tst_9_tens = stacked_nums(path/'testing'/'9')\n",
    "\n",
    "tst_tens = L([tst_0_tens, tst_1_tens, tst_2_tens, tst_3_tens, tst_4_tens, \n",
    "              tst_5_tens, tst_6_tens, tst_7_tens, tst_8_tens, tst_9_tens])\n",
    "\n",
    "tst_counts = {n: len((path/'testing'/str(n)).ls()) for n in range(10)}\n",
    "\n",
    "tst_1_tens.shape, tst_9_tens.shape"
   ]
  },
  {
   "cell_type": "code",
   "execution_count": null,
   "id": "98ede1e6",
   "metadata": {},
   "outputs": [
    {
     "data": {
      "text/plain": [
       "{0: 980,\n",
       " 1: 1135,\n",
       " 2: 1032,\n",
       " 3: 1010,\n",
       " 4: 982,\n",
       " 5: 892,\n",
       " 6: 958,\n",
       " 7: 1028,\n",
       " 8: 974,\n",
       " 9: 1009}"
      ]
     },
     "execution_count": null,
     "metadata": {},
     "output_type": "execute_result"
    }
   ],
   "source": [
    "tst_counts"
   ]
  },
  {
   "cell_type": "markdown",
   "id": "dce8d896",
   "metadata": {},
   "source": [
    "Now, we stack all the training tensors together to create `trn_x`. And create `trn_y` with the counts. We zip those together to create a dataset. We also change the shape of tensors from [28, 28] to [784]. This shape is more useful for matrix multiplication we will do later."
   ]
  },
  {
   "cell_type": "code",
   "execution_count": null,
   "id": "60c94b63",
   "metadata": {},
   "outputs": [
    {
     "data": {
      "text/plain": [
       "(torch.Size([60000, 784]), torch.Size([60000]))"
      ]
     },
     "execution_count": null,
     "metadata": {},
     "output_type": "execute_result"
    }
   ],
   "source": [
    "trn_x = torch.cat([stacked_zeros, stacked_ones, stacked_twos, \n",
    "                   stacked_threes, stacked_fours, stacked_fives, \n",
    "                   stacked_sixs, stacked_sevens, stacked_eights, \n",
    "                   stacked_nines]).view(-1, 28*28)\n",
    "\n",
    "trn_y = tensor(list(flatten([[x] * y for x, y in trn_counts.items()])))\n",
    "trn_dset = list(zip(trn_x, trn_y))\n",
    "\n",
    "trn_x.shape, trn_y.shape"
   ]
  },
  {
   "cell_type": "code",
   "execution_count": null,
   "id": "33bac8b0",
   "metadata": {},
   "outputs": [
    {
     "data": {
      "text/plain": [
       "(<AxesSubplot:>, tensor(8))"
      ]
     },
     "execution_count": null,
     "metadata": {},
     "output_type": "execute_result"
    },
    {
     "data": {
      "image/png": "[encoded data removed]",
      "text/plain": [
       "<Figure size 72x72 with 1 Axes>"
      ]
     },
     "metadata": {
      "needs_background": "light"
     },
     "output_type": "display_data"
    }
   ],
   "source": [
    "show_image(trn_x[50000].view(28,28)), trn_y[50000]"
   ]
  },
  {
   "cell_type": "code",
   "execution_count": null,
   "id": "16e9f5d8",
   "metadata": {},
   "outputs": [
    {
     "data": {
      "text/plain": [
       "(torch.Size([784]), torch.Size([]))"
      ]
     },
     "execution_count": null,
     "metadata": {},
     "output_type": "execute_result"
    }
   ],
   "source": [
    "x, y = trn_dset[0]\n",
    "x.shape, y.shape"
   ]
  },
  {
   "cell_type": "markdown",
   "id": "04944efd",
   "metadata": {},
   "source": [
    "Training data looks good, so let's work on the test data."
   ]
  },
  {
   "cell_type": "code",
   "execution_count": null,
   "id": "cb86af4b",
   "metadata": {},
   "outputs": [
    {
     "data": {
      "text/plain": [
       "(torch.Size([10000, 784]), torch.Size([10000]))"
      ]
     },
     "execution_count": null,
     "metadata": {},
     "output_type": "execute_result"
    }
   ],
   "source": [
    "tst_x = torch.cat([tst_0_tens, tst_1_tens, tst_2_tens, \n",
    "                     tst_3_tens, tst_4_tens, tst_5_tens,\n",
    "                     tst_6_tens, tst_7_tens, tst_8_tens,\n",
    "                     tst_9_tens]).view(-1, 28*28)\n",
    "\n",
    "tst_y = tensor(list(flatten([[x] * y for x, y in tst_counts.items()])))\n",
    "tst_dset = list(zip(tst_x, tst_y))\n",
    "\n",
    "tst_x.shape, tst_y.shape"
   ]
  },
  {
   "cell_type": "markdown",
   "id": "abc48691",
   "metadata": {},
   "source": [
    "## Using neural network"
   ]
  },
  {
   "cell_type": "markdown",
   "id": "5bd1d23c",
   "metadata": {},
   "source": [
    "In order to use neural network, we need to initialize parameters, such as weights and bias."
   ]
  },
  {
   "cell_type": "code",
   "execution_count": null,
   "id": "8099aa93",
   "metadata": {},
   "outputs": [],
   "source": [
    "def init_params(size, std=1.0): return (torch.randn(size)*std).requires_grad_()"
   ]
  },
  {
   "cell_type": "code",
   "execution_count": null,
   "id": "55ebab5f",
   "metadata": {},
   "outputs": [],
   "source": [
    "weights = init_params((28*28, 10))\n",
    "bias = init_params(1)"
   ]
  },
  {
   "cell_type": "markdown",
   "id": "0839d522",
   "metadata": {},
   "source": [
    "We are initializing `weights` parameter with size (28\\*28, 10) because `28*28` is the size of our input (reshaped images) and `10` is the size of our output. Why do we return 10 numbers as an output for each image? Because we're making predictions on each category (from 0 to 9). Out of all those 10 numbers, the biggest number is the model's guess. "
   ]
  },
  {
   "cell_type": "markdown",
   "id": "cf19f12b",
   "metadata": {},
   "source": [
    "But couldn't we just output 1 number instead and pick a target based on the range of our output? For instance, we could use sigmoid function to get our output numbers to be between 0 and 1, and if it's between 0 and 0.1, it is 0, if it's between 0.1 and 0.2, it is 1, and so on. That's also a possible approach to this problem. "
   ]
  },
  {
   "cell_type": "markdown",
   "id": "b7db598f",
   "metadata": {},
   "source": [
    "With those parameters, we will perform matrix multiplications. There are multiple ways to calculate it. One way involves manually transposing a matrix and getting the sum over dimension 1, and another way involves using `@` operator, which does all of that for us. "
   ]
  },
  {
   "cell_type": "code",
   "execution_count": null,
   "id": "e688bcf8",
   "metadata": {},
   "outputs": [
    {
     "data": {
      "text/plain": [
       "tensor([-3.0786,  6.5823, 12.8080, 10.5792, -8.4876, 12.2374,  7.8472, -2.3099,\n",
       "         2.4677, 16.0547], grad_fn=<AddBackward0>)"
      ]
     },
     "execution_count": null,
     "metadata": {},
     "output_type": "execute_result"
    }
   ],
   "source": [
    "(x*weights.T).sum(dim=1) + bias"
   ]
  },
  {
   "cell_type": "code",
   "execution_count": null,
   "id": "8fcf95ec",
   "metadata": {},
   "outputs": [
    {
     "data": {
      "text/plain": [
       "tensor([-3.0786,  6.5823, 12.8080, 10.5792, -8.4876, 12.2374,  7.8472, -2.3099,\n",
       "         2.4677, 16.0547], grad_fn=<AddBackward0>)"
      ]
     },
     "execution_count": null,
     "metadata": {},
     "output_type": "execute_result"
    }
   ],
   "source": [
    "x@weights + bias"
   ]
  },
  {
   "cell_type": "code",
   "execution_count": null,
   "id": "aaf6a0f0",
   "metadata": {},
   "outputs": [],
   "source": [
    "def linear(xb): return xb@weights + bias"
   ]
  },
  {
   "cell_type": "code",
   "execution_count": null,
   "id": "3f94e31f",
   "metadata": {},
   "outputs": [
    {
     "data": {
      "text/plain": [
       "tensor([[ -3.0786,   6.5823,  12.8080,  ...,  -2.3099,   2.4677,  16.0547],\n",
       "        [ -4.0905,   1.3646,  -1.6264,  ...,  -5.0465,  -8.9219,   5.3742],\n",
       "        [ -4.6858,  -1.6842,   5.6141,  ...,  -7.0370,   7.6748,   1.3543],\n",
       "        ...,\n",
       "        [-15.4864,  -1.8742,  -6.2627,  ...,  -0.1359,  10.1261,  18.8826],\n",
       "        [-22.5967,   5.1747,  -6.5157,  ...,  -2.5263,  20.9854,  12.2597],\n",
       "        [-15.9537,  -2.7749,   3.1555,  ...,   5.3508,  11.7086,  13.8179]],\n",
       "       grad_fn=<AddBackward0>)"
      ]
     },
     "execution_count": null,
     "metadata": {},
     "output_type": "execute_result"
    }
   ],
   "source": [
    "preds = linear(trn_x)\n",
    "preds"
   ]
  },
  {
   "cell_type": "markdown",
   "id": "887612a4",
   "metadata": {},
   "source": [
    "So, we know that these numbers represent \"socres\" for each category. Let's look at the first prediction."
   ]
  },
  {
   "cell_type": "code",
   "execution_count": null,
   "id": "9897fc09",
   "metadata": {},
   "outputs": [
    {
     "data": {
      "text/plain": [
       "tensor([-3.0786,  6.5823, 12.8080, 10.5792, -8.4876, 12.2374,  7.8472, -2.3099,\n",
       "         2.4677, 16.0547], grad_fn=<SelectBackward0>)"
      ]
     },
     "execution_count": null,
     "metadata": {},
     "output_type": "execute_result"
    }
   ],
   "source": [
    "preds[0]"
   ]
  },
  {
   "cell_type": "markdown",
   "id": "2b628bc7",
   "metadata": {},
   "source": [
    "From these numbers, the biggest number is 16.0547, which is a prediction for 9. So, this predicted 9. We can use `torch.argmax` to calculate the maximum index easily."
   ]
  },
  {
   "cell_type": "code",
   "execution_count": null,
   "id": "b89a1a7f",
   "metadata": {},
   "outputs": [
    {
     "data": {
      "text/plain": [
       "tensor(9)"
      ]
     },
     "execution_count": null,
     "metadata": {},
     "output_type": "execute_result"
    }
   ],
   "source": [
    "preds[0].argmax()"
   ]
  },
  {
   "cell_type": "markdown",
   "id": "1bfc0ac0",
   "metadata": {},
   "source": [
    "For multiple predictions, we can specify the dimension to be 1."
   ]
  },
  {
   "cell_type": "code",
   "execution_count": null,
   "id": "114d5db7",
   "metadata": {},
   "outputs": [
    {
     "data": {
      "text/plain": [
       "tensor([9, 5, 5,  ..., 9, 8, 9])"
      ]
     },
     "execution_count": null,
     "metadata": {},
     "output_type": "execute_result"
    }
   ],
   "source": [
    "preds.argmax(dim=1)"
   ]
  },
  {
   "cell_type": "markdown",
   "id": "3de13d33",
   "metadata": {},
   "source": [
    "With predictions on categories, we can calculate accuracy by comparing it to the targets (`trn_y`)."
   ]
  },
  {
   "cell_type": "code",
   "execution_count": null,
   "id": "7e5eb805",
   "metadata": {},
   "outputs": [
    {
     "data": {
      "text/plain": [
       "tensor(12.0433)"
      ]
     },
     "execution_count": null,
     "metadata": {},
     "output_type": "execute_result"
    }
   ],
   "source": [
    "(preds.argmax(dim=1) == trn_y).float().mean() * 100"
   ]
  },
  {
   "cell_type": "markdown",
   "id": "1a0a8b69",
   "metadata": {},
   "source": [
    "We have about 10% accuracy since we are using randomly initialized parameters to predict. "
   ]
  },
  {
   "cell_type": "code",
   "execution_count": null,
   "id": "b10b13bb",
   "metadata": {},
   "outputs": [],
   "source": [
    "def acc(pred, targ):\n",
    "    return (pred.argmax(dim=1) == targ).float().mean() * 100"
   ]
  },
  {
   "cell_type": "code",
   "execution_count": null,
   "id": "48f1a8ab",
   "metadata": {},
   "outputs": [
    {
     "data": {
      "text/plain": [
       "tensor(12.0433)"
      ]
     },
     "execution_count": null,
     "metadata": {},
     "output_type": "execute_result"
    }
   ],
   "source": [
    "acc(preds, trn_y)"
   ]
  },
  {
   "cell_type": "markdown",
   "id": "bd9f6089",
   "metadata": {},
   "source": [
    "## Cross entropy loss"
   ]
  },
  {
   "cell_type": "markdown",
   "id": "71085456",
   "metadata": {},
   "source": [
    "In order to improve our accuracy, we have to tweak our weights and biases (parameters). To improve our parameters, we have to use a loss function. Then, we can calculate gradients and use them to update our parameters. Loss functions are just mathematical functions, but they have smooth shapes. This is important because gradients cannot be calculated on sharp edges. Let's take look at a sigmoid function."
   ]
  },
  {
   "cell_type": "code",
   "execution_count": null,
   "id": "0ab2ebc0",
   "metadata": {},
   "outputs": [],
   "source": [
    "def plot_function(fn, title=None, xmin=-4.1, xmax=4.1):\n",
    "    x = torch.linspace(xmin, xmax, 20)\n",
    "    plt.plot(x, fn(x))\n",
    "    if title: plt.title(title)"
   ]
  },
  {
   "cell_type": "code",
   "execution_count": null,
   "id": "06a257ae",
   "metadata": {},
   "outputs": [
    {
     "data": {
      "image/png": "[encoded data removed]",
      "text/plain": [
       "<Figure size 432x288 with 1 Axes>"
      ]
     },
     "metadata": {
      "needs_background": "light"
     },
     "output_type": "display_data"
    }
   ],
   "source": [
    "plot_function(torch.nn.Sigmoid(), title='Sigmoid function')"
   ]
  },
  {
   "cell_type": "markdown",
   "id": "da7b4ccd",
   "metadata": {},
   "source": [
    "Sigmoid function has no sharp edge, so gradients can be found anywhere. This will also ensure that predictions will be between 0 and 1. We typically use sigmoid function when we try to predict boolean values. For instance, we could use this function for problems like \"is it a cat or dog?\" "
   ]
  },
  {
   "cell_type": "markdown",
   "id": "1194018f",
   "metadata": {},
   "source": [
    "Because we have multiple categories to predict, we use cross entropy loss. Cross entropy loss can be thought of as sigmoid designed for multiple categories. Cross entropy loss is composed of multiple functions. First, we use a softmax function ensures that all numbers are positive and add up to 1. Also, this function takes exponential of all values, so even the slight difference will be magnified. This will result in choosing one class with more confidence. Second, we take the log of the activations we got from softmax. Let's look at a log function."
   ]
  },
  {
   "cell_type": "code",
   "execution_count": null,
   "id": "a35fb2df",
   "metadata": {},
   "outputs": [
    {
     "data": {
      "image/png": "[encoded data removed]",
      "text/plain": [
       "<Figure size 432x288 with 1 Axes>"
      ]
     },
     "metadata": {
      "needs_background": "light"
     },
     "output_type": "display_data"
    }
   ],
   "source": [
    "plot_function(torch.log, title=\"Log function\", xmin=-0.1, xmax=1)"
   ]
  },
  {
   "cell_type": "markdown",
   "id": "de2caf5c",
   "metadata": {},
   "source": [
    "In log function, we get a very big negative value if a number gets closer to 0, and reaches 0 when it gets 1. So, if our activation is close to 0 after softmax, it will be a big negative number after taking a log. This will result in a big gradient. However, if the number is close to 1, it is good enough. So, it will punish numbers that are far off, but forgiving for close numbers. But we still have problems. We still have 10 activation numbers and all of them are negative."
   ]
  },
  {
   "cell_type": "markdown",
   "id": "e8045415",
   "metadata": {},
   "source": [
    "The last function we will use is negative log likelihood, which picks one number from our 10 activations and multiply by -1 to make it a positive value. Although it has log in its name, it actually does not take the log function. We have to do it ourselves. Let's take a look at how it looks like."
   ]
  },
  {
   "cell_type": "code",
   "execution_count": null,
   "id": "200a9252",
   "metadata": {},
   "outputs": [
    {
     "data": {
      "text/plain": [
       "tensor([4.6022e-09, 7.2222e-05, 3.6513e-02, 3.9309e-03, 2.0602e-11, 2.0636e-02,\n",
       "        2.5585e-04, 9.9276e-09, 1.1795e-06, 9.3859e-01],\n",
       "       grad_fn=<SelectBackward0>)"
      ]
     },
     "execution_count": null,
     "metadata": {},
     "output_type": "execute_result"
    }
   ],
   "source": [
    "sm_acts = torch.nn.Softmax(dim=1)(preds)\n",
    "sm_acts[0]"
   ]
  },
  {
   "cell_type": "code",
   "execution_count": null,
   "id": "32454382",
   "metadata": {},
   "outputs": [
    {
     "data": {
      "text/plain": [
       "tensor([-19.1967,  -9.5358,  -3.3101,  -5.5389, -24.6057,  -3.8807,  -8.2709,\n",
       "        -18.4279, -13.6504,  -0.0634], grad_fn=<SelectBackward0>)"
      ]
     },
     "execution_count": null,
     "metadata": {},
     "output_type": "execute_result"
    }
   ],
   "source": [
    "log_acts = torch.log(sm_acts)\n",
    "log_acts[0]"
   ]
  },
  {
   "cell_type": "code",
   "execution_count": null,
   "id": "3514945d",
   "metadata": {},
   "outputs": [
    {
     "data": {
      "text/plain": [
       "tensor(0)"
      ]
     },
     "execution_count": null,
     "metadata": {},
     "output_type": "execute_result"
    }
   ],
   "source": [
    "trn_y[0]"
   ]
  },
  {
   "cell_type": "code",
   "execution_count": null,
   "id": "7657c1bd",
   "metadata": {},
   "outputs": [
    {
     "data": {
      "text/plain": [
       "tensor(19.1967, grad_fn=<NllLossBackward0>)"
      ]
     },
     "execution_count": null,
     "metadata": {},
     "output_type": "execute_result"
    }
   ],
   "source": [
    "torch.nn.NLLLoss()(log_acts[0], trn_y[0])"
   ]
  },
  {
   "cell_type": "markdown",
   "id": "06f3d5b6",
   "metadata": {},
   "source": [
    "Notice that we get the same values for the built in cross entropy loss function."
   ]
  },
  {
   "cell_type": "code",
   "execution_count": null,
   "id": "e6540b58",
   "metadata": {},
   "outputs": [
    {
     "data": {
      "text/plain": [
       "tensor(14.3907, grad_fn=<NllLossBackward0>)"
      ]
     },
     "execution_count": null,
     "metadata": {},
     "output_type": "execute_result"
    }
   ],
   "source": [
    "torch.nn.NLLLoss()(log_acts, trn_y)"
   ]
  },
  {
   "cell_type": "code",
   "execution_count": null,
   "id": "dad8390c",
   "metadata": {},
   "outputs": [
    {
     "data": {
      "text/plain": [
       "tensor(14.3907, grad_fn=<NllLossBackward0>)"
      ]
     },
     "execution_count": null,
     "metadata": {},
     "output_type": "execute_result"
    }
   ],
   "source": [
    "loss = torch.nn.CrossEntropyLoss()(preds, trn_y)\n",
    "loss"
   ]
  },
  {
   "cell_type": "markdown",
   "id": "f6adcc02",
   "metadata": {},
   "source": [
    "It's easier to use the built in function, and it's also faster."
   ]
  },
  {
   "cell_type": "code",
   "execution_count": null,
   "id": "193a508c",
   "metadata": {},
   "outputs": [
    {
     "name": "stdout",
     "output_type": "stream",
     "text": [
      "15.5 ms ± 627 µs per loop (mean ± std. dev. of 7 runs, 100 loops each)\n"
     ]
    }
   ],
   "source": [
    "%timeit torch.nn.CrossEntropyLoss()(preds, trn_y)"
   ]
  },
  {
   "cell_type": "code",
   "execution_count": null,
   "id": "5427a14e",
   "metadata": {},
   "outputs": [
    {
     "name": "stdout",
     "output_type": "stream",
     "text": [
      "21.7 ms ± 2.67 ms per loop (mean ± std. dev. of 7 runs, 10 loops each)\n"
     ]
    }
   ],
   "source": [
    "%timeit torch.nn.NLLLoss()(torch.log(torch.nn.Softmax(dim=1)(preds)), trn_y)"
   ]
  },
  {
   "cell_type": "markdown",
   "id": "9f1afc78",
   "metadata": {},
   "source": [
    "## Calculating gradients"
   ]
  },
  {
   "cell_type": "markdown",
   "id": "bd4757aa",
   "metadata": {},
   "source": [
    "So, we calculated the loss. With loss, we can calculate the gradients by calling `backward()`. Then, we can take a look at them."
   ]
  },
  {
   "cell_type": "code",
   "execution_count": null,
   "id": "a4e8327c",
   "metadata": {},
   "outputs": [],
   "source": [
    "loss.backward()"
   ]
  },
  {
   "cell_type": "code",
   "execution_count": null,
   "id": "c020f721",
   "metadata": {},
   "outputs": [
    {
     "data": {
      "text/plain": [
       "(tensor([-9.3132e-09]), tensor(-1.0490e-05))"
      ]
     },
     "execution_count": null,
     "metadata": {},
     "output_type": "execute_result"
    }
   ],
   "source": [
    "bias.grad, weights.grad.sum()"
   ]
  },
  {
   "cell_type": "markdown",
   "id": "188f5854",
   "metadata": {},
   "source": [
    "We can define a function it."
   ]
  },
  {
   "cell_type": "code",
   "execution_count": null,
   "id": "3f7439e9",
   "metadata": {},
   "outputs": [],
   "source": [
    "def calc_grad(xb, yb, model):\n",
    "    \"Calculate the gradients\"\n",
    "    preds = model(xb)\n",
    "    loss = torch.nn.CrossEntropyLoss()(preds, yb)\n",
    "    loss.backward()\n",
    "    return loss"
   ]
  },
  {
   "cell_type": "code",
   "execution_count": null,
   "id": "ca84a65a",
   "metadata": {},
   "outputs": [],
   "source": [
    "weights = init_params((28*28, 10))\n",
    "bias = init_params(1)"
   ]
  },
  {
   "cell_type": "code",
   "execution_count": null,
   "id": "d856ce3c",
   "metadata": {},
   "outputs": [
    {
     "data": {
      "text/plain": [
       "(tensor(-1.2164e-10), tensor(-9.3132e-09))"
      ]
     },
     "execution_count": null,
     "metadata": {},
     "output_type": "execute_result"
    }
   ],
   "source": [
    "calc_grad(trn_x, trn_y, linear)\n",
    "weights.grad.mean(), bias.grad.mean()"
   ]
  },
  {
   "cell_type": "markdown",
   "id": "57e988a0",
   "metadata": {},
   "source": [
    "After calculating the gradients, we can update our parameters using the gradients. We can multiply parameter's gradient by any number, which is referred to as a learning rate. If it's big, it will train faster, and if it's slow, it will train slower. However, if it's too big, it cannot train. So, we can try couple numbers and see what works and what doensn't. After updating, we have to reset the gradients. If we don't, gradients will keep growing. "
   ]
  },
  {
   "cell_type": "code",
   "execution_count": null,
   "id": "fd23be31",
   "metadata": {},
   "outputs": [
    {
     "data": {
      "text/plain": [
       "(tensor([-1.3039e-08]), tensor(-9.5367e-07))"
      ]
     },
     "execution_count": null,
     "metadata": {},
     "output_type": "execute_result"
    }
   ],
   "source": [
    "weights = init_params((28*28, 10))\n",
    "bias = init_params(1)\n",
    "calc_grad(trn_x, trn_y, linear)\n",
    "bias.grad, weights.grad.sum()"
   ]
  },
  {
   "cell_type": "code",
   "execution_count": null,
   "id": "1f10b072",
   "metadata": {},
   "outputs": [
    {
     "data": {
      "text/plain": [
       "(tensor([-2.6077e-08]), tensor(-1.9073e-06))"
      ]
     },
     "execution_count": null,
     "metadata": {},
     "output_type": "execute_result"
    }
   ],
   "source": [
    "calc_grad(trn_x, trn_y, linear)\n",
    "bias.grad, weights.grad.sum()"
   ]
  },
  {
   "cell_type": "markdown",
   "id": "01cdb521",
   "metadata": {},
   "source": [
    "See how it grew? we have to use `zero_()` on the gradients. Training _ on functions means in place function."
   ]
  },
  {
   "cell_type": "code",
   "execution_count": null,
   "id": "f6750c61",
   "metadata": {},
   "outputs": [
    {
     "data": {
      "text/plain": [
       "tensor([0.])"
      ]
     },
     "execution_count": null,
     "metadata": {},
     "output_type": "execute_result"
    }
   ],
   "source": [
    "weights.data -= weights.grad * 10\n",
    "bias.data -= bias.grad * 10\n",
    "weights.grad.zero_()\n",
    "bias.grad.zero_()"
   ]
  },
  {
   "cell_type": "markdown",
   "id": "d31ec1f3",
   "metadata": {},
   "source": [
    "## First training"
   ]
  },
  {
   "cell_type": "markdown",
   "id": "10c1b86f",
   "metadata": {},
   "source": [
    "If we put everything together, this is what it looks like. We will train with the whole data 20 times, which means we are using 20 epochs."
   ]
  },
  {
   "cell_type": "code",
   "execution_count": null,
   "id": "7420c162",
   "metadata": {},
   "outputs": [
    {
     "name": "stdout",
     "output_type": "stream",
     "text": [
      "tensor(20.9500)\n",
      "tensor(38.9100)\n",
      "tensor(40.2700)\n",
      "tensor(48.3800)\n",
      "tensor(42.6600)\n",
      "tensor(51.5200)\n",
      "tensor(45.4200)\n",
      "tensor(57.6000)\n",
      "tensor(60.3500)\n",
      "tensor(62.2100)\n",
      "tensor(67.2600)\n",
      "tensor(70.8800)\n",
      "tensor(75.0300)\n",
      "tensor(71.8100)\n",
      "tensor(76.1800)\n",
      "tensor(82.2500)\n",
      "tensor(85.1200)\n",
      "tensor(85.3800)\n",
      "tensor(85.1700)\n",
      "tensor(85.1200)\n"
     ]
    }
   ],
   "source": [
    "weights = init_params((28*28, 10))\n",
    "bias = init_params(1)\n",
    "for _ in range(20):\n",
    "    calc_grad(trn_x, trn_y, linear)\n",
    "    weights.data -= weights.grad * 10\n",
    "    weights.grad.zero_()\n",
    "    bias.data -= bias.grad * 10\n",
    "    bias.grad.zero_()\n",
    "    pred = linear(tst_x)\n",
    "    print(acc(pred, tst_y))"
   ]
  },
  {
   "cell_type": "markdown",
   "id": "ed01b067",
   "metadata": {},
   "source": [
    "We got over 80% accuracy, which is better tan our baseline using means of images from the last time, which had 66% accuracy. However, we can still make this better. "
   ]
  },
  {
   "cell_type": "markdown",
   "id": "aa2022e3",
   "metadata": {},
   "source": [
    "## Minibatches"
   ]
  },
  {
   "cell_type": "markdown",
   "id": "3148d78a",
   "metadata": {},
   "source": [
    "We updated our parameters after looking at the whole dataset. The MNIST dataset is very small, so it's not a problem, but dataset can get really big, and it would take a long time to train this way. Another approach to train is update parameters after each image. This is not a good idea either as our model learns about one image at a time, which can lead to overfitting. That's why we use small batches of data. "
   ]
  },
  {
   "cell_type": "code",
   "execution_count": null,
   "id": "76fdfad0",
   "metadata": {},
   "outputs": [
    {
     "data": {
      "text/plain": [
       "(torch.Size([256, 784]), torch.Size([256]))"
      ]
     },
     "execution_count": null,
     "metadata": {},
     "output_type": "execute_result"
    }
   ],
   "source": [
    "dl = DataLoader(trn_dset, bs=256)\n",
    "xb, yb = first(dl)\n",
    "xb.shape, yb.shape"
   ]
  },
  {
   "cell_type": "markdown",
   "id": "7e4065e3",
   "metadata": {},
   "source": [
    "With fastai's DataLoader, we will have 256 items per batch. And we will do the same thing for the test set."
   ]
  },
  {
   "cell_type": "code",
   "execution_count": null,
   "id": "98ada2ee",
   "metadata": {},
   "outputs": [],
   "source": [
    "tst_dl = DataLoader(tst_dset, bs=256)"
   ]
  },
  {
   "cell_type": "code",
   "execution_count": null,
   "id": "4f7f5f85",
   "metadata": {},
   "outputs": [],
   "source": [
    "def train(lr=1.):\n",
    "    params = weights, bias\n",
    "    for xb, yb in dl:\n",
    "        calc_grad(xb, yb, linear)\n",
    "        for p in params:\n",
    "            p.data -= p.grad * lr\n",
    "            p.grad.zero_()"
   ]
  },
  {
   "cell_type": "code",
   "execution_count": null,
   "id": "9784e7c0",
   "metadata": {},
   "outputs": [],
   "source": [
    "def validate_epoch(model):\n",
    "    accs = [acc(model(xb), yb) for xb, yb in tst_dl]\n",
    "    return round(tensor(accs).mean().item(), 4)"
   ]
  },
  {
   "cell_type": "code",
   "execution_count": null,
   "id": "3d46f8ff",
   "metadata": {},
   "outputs": [
    {
     "name": "stdout",
     "output_type": "stream",
     "text": [
      "15.9961; 27.8516; 39.1016; 46.3672; 51.3281; 54.8535; 57.2656; 59.4922; 61.1328; 62.5098; 63.6328; 64.5605; 65.2637; 65.9766; 66.6699; 67.2754; 67.9004; 68.418; 68.9355; 69.3164; 69.6777; 70.0586; 70.3809; 70.625; 70.8789; 71.1328; 71.3379; 71.5039; 71.6602; 71.8262; "
     ]
    }
   ],
   "source": [
    "weights = init_params((28*28, 10))\n",
    "bias = init_params(1)\n",
    "for _ in range(30):\n",
    "    train(0.1)\n",
    "    print(validate_epoch(linear), end='; ')"
   ]
  },
  {
   "cell_type": "markdown",
   "id": "993a078f",
   "metadata": {},
   "source": [
    "Accuracy is not as good as using the whole dataset, but let's keep trying more things."
   ]
  },
  {
   "cell_type": "markdown",
   "id": "e22a3efd",
   "metadata": {},
   "source": [
    "## Optimizer"
   ]
  },
  {
   "cell_type": "markdown",
   "id": "a9fd8045",
   "metadata": {},
   "source": [
    "We can use pytorch's `torch.nn.Linear` instead of our `linear`. Good thing about using this is that we can get grab parameters easily."
   ]
  },
  {
   "cell_type": "code",
   "execution_count": null,
   "id": "f3921421",
   "metadata": {},
   "outputs": [],
   "source": [
    "linear_model = torch.nn.Linear(28*28, 10)"
   ]
  },
  {
   "cell_type": "code",
   "execution_count": null,
   "id": "18fb4f9c",
   "metadata": {},
   "outputs": [
    {
     "data": {
      "text/plain": [
       "(torch.Size([10, 784]), torch.Size([10]))"
      ]
     },
     "execution_count": null,
     "metadata": {},
     "output_type": "execute_result"
    }
   ],
   "source": [
    "w, b = list(linear_model.parameters())\n",
    "w.shape, b.shape"
   ]
  },
  {
   "cell_type": "markdown",
   "id": "63e5ae18",
   "metadata": {},
   "source": [
    "We define a `BasicOptim` class that has `step` and `zero_grad` methods."
   ]
  },
  {
   "cell_type": "code",
   "execution_count": null,
   "id": "065cdb7d",
   "metadata": {},
   "outputs": [],
   "source": [
    "class BasicOptim:\n",
    "    def __init__(self, params, lr=0.01):\n",
    "        self.params = params\n",
    "        self.lr = lr\n",
    "    \n",
    "    def step(self):\n",
    "        for p in self.params:\n",
    "            p.data -= p.grad * self.lr\n",
    "    \n",
    "    def zero_grad(self):\n",
    "        for p in self.params:\n",
    "            p.grad.zero_()"
   ]
  },
  {
   "cell_type": "markdown",
   "id": "bb3451b2",
   "metadata": {},
   "source": [
    "Optimizer can be used this way. And we can update our train function to use the optimizer."
   ]
  },
  {
   "cell_type": "code",
   "execution_count": null,
   "id": "faf2a7b0",
   "metadata": {},
   "outputs": [],
   "source": [
    "opt = BasicOptim(list(linear_model.parameters()))"
   ]
  },
  {
   "cell_type": "code",
   "execution_count": null,
   "id": "f83bf0bf",
   "metadata": {},
   "outputs": [],
   "source": [
    "def train(model):\n",
    "    for xb, yb in dl:\n",
    "        calc_grad(xb, yb, model)\n",
    "        opt.step()\n",
    "        opt.zero_grad()"
   ]
  },
  {
   "cell_type": "markdown",
   "id": "4cb6a679",
   "metadata": {},
   "source": [
    "It's good to define a function to train a model."
   ]
  },
  {
   "cell_type": "code",
   "execution_count": null,
   "id": "5319ad4d",
   "metadata": {},
   "outputs": [],
   "source": [
    "def train_model(epochs, model):\n",
    "    for _ in range(epochs):\n",
    "        train(model)\n",
    "        print(validate_epoch(model))"
   ]
  },
  {
   "cell_type": "code",
   "execution_count": null,
   "id": "7557101f",
   "metadata": {},
   "outputs": [
    {
     "name": "stdout",
     "output_type": "stream",
     "text": [
      "12.2266\n",
      "31.3184\n",
      "46.7578\n",
      "55.4785\n",
      "61.2988\n",
      "65.1953\n",
      "68.4375\n",
      "70.9473\n",
      "72.9297\n",
      "74.8047\n",
      "76.25\n",
      "77.5391\n",
      "78.6035\n",
      "79.6094\n",
      "80.3027\n",
      "80.9473\n",
      "81.6016\n",
      "82.2754\n",
      "82.8027\n",
      "83.2031\n"
     ]
    }
   ],
   "source": [
    "train_model(20, linear_model)"
   ]
  },
  {
   "cell_type": "markdown",
   "id": "d4efc903",
   "metadata": {},
   "source": [
    "We can also use fastai's SGD."
   ]
  },
  {
   "cell_type": "code",
   "execution_count": null,
   "id": "8de3a9b9",
   "metadata": {},
   "outputs": [],
   "source": [
    "linear_model = nn.Linear(28*28, 10)\n",
    "opt = SGD(list(linear_model.parameters()), .01)"
   ]
  },
  {
   "cell_type": "code",
   "execution_count": null,
   "id": "7aff7e84",
   "metadata": {},
   "outputs": [
    {
     "name": "stdout",
     "output_type": "stream",
     "text": [
      "12.2461\n",
      "32.4121\n",
      "47.0117\n",
      "55.4004\n",
      "61.1621\n",
      "65.166\n",
      "68.418\n",
      "70.8398\n",
      "72.9297\n",
      "75.1172\n",
      "76.377\n",
      "77.5488\n",
      "78.623\n",
      "79.4922\n",
      "80.3809\n",
      "81.0547\n",
      "81.582\n",
      "82.2363\n",
      "82.7148\n",
      "83.0664\n"
     ]
    }
   ],
   "source": [
    "train_model(20, linear_model)"
   ]
  },
  {
   "cell_type": "markdown",
   "id": "71d68ead",
   "metadata": {},
   "source": [
    "Also, we can use fastai's learner. We just need `DataLoaders`, which combines training dataloaders with test dataloaders. By using `learn.fit`, we can train easily and get a nice output, too."
   ]
  },
  {
   "cell_type": "code",
   "execution_count": null,
   "id": "89bf718a",
   "metadata": {},
   "outputs": [],
   "source": [
    "dls = DataLoaders(dl, tst_dl)"
   ]
  },
  {
   "cell_type": "code",
   "execution_count": null,
   "id": "85191763",
   "metadata": {},
   "outputs": [],
   "source": [
    "learn = Learner(dls, nn.Linear(28*28, 10), loss_func=nn.CrossEntropyLoss(), opt_func=SGD, metrics=acc)"
   ]
  },
  {
   "cell_type": "code",
   "execution_count": null,
   "id": "f9af1715",
   "metadata": {},
   "outputs": [
    {
     "data": {
      "text/html": [
       "\n",
       "<style>\n",
       "    /* Turns off some styling */\n",
       "    progress {\n",
       "        /* gets rid of default border in Firefox and Opera. */\n",
       "        border: none;\n",
       "        /* Needs to be in here for Safari polyfill so background images work as expected. */\n",
       "        background-size: auto;\n",
       "    }\n",
       "    progress:not([value]), progress:not([value])::-webkit-progress-bar {\n",
       "        background: repeating-linear-gradient(45deg, #7e7e7e, #7e7e7e 10px, #5c5c5c 10px, #5c5c5c 20px);\n",
       "    }\n",
       "    .progress-bar-interrupted, .progress-bar-interrupted::-webkit-progress-bar {\n",
       "        background: #F44336;\n",
       "    }\n",
       "</style>\n"
      ],
      "text/plain": [
       "<IPython.core.display.HTML object>"
      ]
     },
     "metadata": {},
     "output_type": "display_data"
    },
    {
     "data": {
      "text/html": [
       "<table border=\"1\" class=\"dataframe\">\n",
       "  <thead>\n",
       "    <tr style=\"text-align: left;\">\n",
       "      <th>epoch</th>\n",
       "      <th>train_loss</th>\n",
       "      <th>valid_loss</th>\n",
       "      <th>acc</th>\n",
       "      <th>time</th>\n",
       "    </tr>\n",
       "  </thead>\n",
       "  <tbody>\n",
       "    <tr>\n",
       "      <td>0</td>\n",
       "      <td>1.030682</td>\n",
       "      <td>2.442845</td>\n",
       "      <td>10.260000</td>\n",
       "      <td>00:03</td>\n",
       "    </tr>\n",
       "    <tr>\n",
       "      <td>1</td>\n",
       "      <td>0.756178</td>\n",
       "      <td>1.755957</td>\n",
       "      <td>30.840000</td>\n",
       "      <td>00:04</td>\n",
       "    </tr>\n",
       "    <tr>\n",
       "      <td>2</td>\n",
       "      <td>0.652057</td>\n",
       "      <td>1.387471</td>\n",
       "      <td>45.750000</td>\n",
       "      <td>00:04</td>\n",
       "    </tr>\n",
       "    <tr>\n",
       "      <td>3</td>\n",
       "      <td>0.593682</td>\n",
       "      <td>1.172395</td>\n",
       "      <td>54.570000</td>\n",
       "      <td>00:03</td>\n",
       "    </tr>\n",
       "    <tr>\n",
       "      <td>4</td>\n",
       "      <td>0.555542</td>\n",
       "      <td>1.030824</td>\n",
       "      <td>60.259998</td>\n",
       "      <td>00:06</td>\n",
       "    </tr>\n",
       "    <tr>\n",
       "      <td>5</td>\n",
       "      <td>0.528407</td>\n",
       "      <td>0.930011</td>\n",
       "      <td>64.510002</td>\n",
       "      <td>00:05</td>\n",
       "    </tr>\n",
       "    <tr>\n",
       "      <td>6</td>\n",
       "      <td>0.507978</td>\n",
       "      <td>0.854310</td>\n",
       "      <td>67.820000</td>\n",
       "      <td>00:06</td>\n",
       "    </tr>\n",
       "    <tr>\n",
       "      <td>7</td>\n",
       "      <td>0.491943</td>\n",
       "      <td>0.795262</td>\n",
       "      <td>70.309998</td>\n",
       "      <td>00:03</td>\n",
       "    </tr>\n",
       "    <tr>\n",
       "      <td>8</td>\n",
       "      <td>0.478946</td>\n",
       "      <td>0.747864</td>\n",
       "      <td>72.440002</td>\n",
       "      <td>00:05</td>\n",
       "    </tr>\n",
       "    <tr>\n",
       "      <td>9</td>\n",
       "      <td>0.468138</td>\n",
       "      <td>0.708950</td>\n",
       "      <td>74.440002</td>\n",
       "      <td>00:03</td>\n",
       "    </tr>\n",
       "    <tr>\n",
       "      <td>10</td>\n",
       "      <td>0.458963</td>\n",
       "      <td>0.676414</td>\n",
       "      <td>75.860001</td>\n",
       "      <td>00:06</td>\n",
       "    </tr>\n",
       "    <tr>\n",
       "      <td>11</td>\n",
       "      <td>0.451041</td>\n",
       "      <td>0.648797</td>\n",
       "      <td>77.139999</td>\n",
       "      <td>00:03</td>\n",
       "    </tr>\n",
       "    <tr>\n",
       "      <td>12</td>\n",
       "      <td>0.444104</td>\n",
       "      <td>0.625053</td>\n",
       "      <td>78.199997</td>\n",
       "      <td>00:05</td>\n",
       "    </tr>\n",
       "    <tr>\n",
       "      <td>13</td>\n",
       "      <td>0.437957</td>\n",
       "      <td>0.604415</td>\n",
       "      <td>79.160004</td>\n",
       "      <td>00:06</td>\n",
       "    </tr>\n",
       "    <tr>\n",
       "      <td>14</td>\n",
       "      <td>0.432457</td>\n",
       "      <td>0.586306</td>\n",
       "      <td>80.010002</td>\n",
       "      <td>00:04</td>\n",
       "    </tr>\n",
       "    <tr>\n",
       "      <td>15</td>\n",
       "      <td>0.427493</td>\n",
       "      <td>0.570282</td>\n",
       "      <td>80.739998</td>\n",
       "      <td>00:05</td>\n",
       "    </tr>\n",
       "    <tr>\n",
       "      <td>16</td>\n",
       "      <td>0.422980</td>\n",
       "      <td>0.555999</td>\n",
       "      <td>81.290001</td>\n",
       "      <td>00:03</td>\n",
       "    </tr>\n",
       "    <tr>\n",
       "      <td>17</td>\n",
       "      <td>0.418851</td>\n",
       "      <td>0.543184</td>\n",
       "      <td>82.040001</td>\n",
       "      <td>00:05</td>\n",
       "    </tr>\n",
       "    <tr>\n",
       "      <td>18</td>\n",
       "      <td>0.415051</td>\n",
       "      <td>0.531618</td>\n",
       "      <td>82.360001</td>\n",
       "      <td>00:05</td>\n",
       "    </tr>\n",
       "    <tr>\n",
       "      <td>19</td>\n",
       "      <td>0.411538</td>\n",
       "      <td>0.521124</td>\n",
       "      <td>82.720001</td>\n",
       "      <td>00:04</td>\n",
       "    </tr>\n",
       "  </tbody>\n",
       "</table>"
      ],
      "text/plain": [
       "<IPython.core.display.HTML object>"
      ]
     },
     "metadata": {},
     "output_type": "display_data"
    }
   ],
   "source": [
    "learn.fit(20, 0.01)"
   ]
  },
  {
   "cell_type": "markdown",
   "id": "3ebdbe24",
   "metadata": {},
   "source": [
    "We can improve this accuracy with adding another linear layers and a relu layer. We create a deeper network as long as there's a relu layer in between each linear layer. Relu layer simply turns negative numbers to 0."
   ]
  },
  {
   "cell_type": "code",
   "execution_count": null,
   "id": "9970e63e",
   "metadata": {},
   "outputs": [],
   "source": [
    "net = nn.Sequential(\n",
    "    nn.Linear(28*28, 100),\n",
    "    nn.ReLU(),\n",
    "    nn.Linear(100, 10)\n",
    ")"
   ]
  },
  {
   "cell_type": "markdown",
   "id": "90b76a6b",
   "metadata": {},
   "source": [
    "We made a network of layers. Since it is deeper, we have to reduce the learning rate, which results in slower training speed. However, we can train for more epochs. Let's try training for 100 epochs."
   ]
  },
  {
   "cell_type": "code",
   "execution_count": null,
   "id": "a7b7a533",
   "metadata": {},
   "outputs": [
    {
     "data": {
      "text/html": [
       "\n",
       "<style>\n",
       "    /* Turns off some styling */\n",
       "    progress {\n",
       "        /* gets rid of default border in Firefox and Opera. */\n",
       "        border: none;\n",
       "        /* Needs to be in here for Safari polyfill so background images work as expected. */\n",
       "        background-size: auto;\n",
       "    }\n",
       "    progress:not([value]), progress:not([value])::-webkit-progress-bar {\n",
       "        background: repeating-linear-gradient(45deg, #7e7e7e, #7e7e7e 10px, #5c5c5c 10px, #5c5c5c 20px);\n",
       "    }\n",
       "    .progress-bar-interrupted, .progress-bar-interrupted::-webkit-progress-bar {\n",
       "        background: #F44336;\n",
       "    }\n",
       "</style>\n"
      ],
      "text/plain": [
       "<IPython.core.display.HTML object>"
      ]
     },
     "metadata": {},
     "output_type": "display_data"
    },
    {
     "data": {
      "text/html": [
       "<table border=\"1\" class=\"dataframe\">\n",
       "  <thead>\n",
       "    <tr style=\"text-align: left;\">\n",
       "      <th>epoch</th>\n",
       "      <th>train_loss</th>\n",
       "      <th>valid_loss</th>\n",
       "      <th>acc</th>\n",
       "      <th>time</th>\n",
       "    </tr>\n",
       "  </thead>\n",
       "  <tbody>\n",
       "    <tr>\n",
       "      <td>0</td>\n",
       "      <td>2.257359</td>\n",
       "      <td>2.186582</td>\n",
       "      <td>28.950001</td>\n",
       "      <td>00:04</td>\n",
       "    </tr>\n",
       "    <tr>\n",
       "      <td>1</td>\n",
       "      <td>1.927473</td>\n",
       "      <td>2.062460</td>\n",
       "      <td>16.990000</td>\n",
       "      <td>00:05</td>\n",
       "    </tr>\n",
       "    <tr>\n",
       "      <td>2</td>\n",
       "      <td>1.586289</td>\n",
       "      <td>1.925866</td>\n",
       "      <td>19.389999</td>\n",
       "      <td>00:07</td>\n",
       "    </tr>\n",
       "    <tr>\n",
       "      <td>3</td>\n",
       "      <td>1.296686</td>\n",
       "      <td>1.757989</td>\n",
       "      <td>29.430000</td>\n",
       "      <td>00:04</td>\n",
       "    </tr>\n",
       "    <tr>\n",
       "      <td>4</td>\n",
       "      <td>1.077161</td>\n",
       "      <td>1.585793</td>\n",
       "      <td>37.320000</td>\n",
       "      <td>00:06</td>\n",
       "    </tr>\n",
       "    <tr>\n",
       "      <td>5</td>\n",
       "      <td>0.920138</td>\n",
       "      <td>1.439800</td>\n",
       "      <td>42.250000</td>\n",
       "      <td>00:07</td>\n",
       "    </tr>\n",
       "    <tr>\n",
       "      <td>6</td>\n",
       "      <td>0.809401</td>\n",
       "      <td>1.322030</td>\n",
       "      <td>45.910000</td>\n",
       "      <td>00:08</td>\n",
       "    </tr>\n",
       "    <tr>\n",
       "      <td>7</td>\n",
       "      <td>0.729531</td>\n",
       "      <td>1.226982</td>\n",
       "      <td>48.950001</td>\n",
       "      <td>00:04</td>\n",
       "    </tr>\n",
       "    <tr>\n",
       "      <td>8</td>\n",
       "      <td>0.669996</td>\n",
       "      <td>1.148582</td>\n",
       "      <td>52.099998</td>\n",
       "      <td>00:06</td>\n",
       "    </tr>\n",
       "    <tr>\n",
       "      <td>9</td>\n",
       "      <td>0.624211</td>\n",
       "      <td>1.082637</td>\n",
       "      <td>54.900002</td>\n",
       "      <td>00:05</td>\n",
       "    </tr>\n",
       "    <tr>\n",
       "      <td>10</td>\n",
       "      <td>0.587927</td>\n",
       "      <td>1.026398</td>\n",
       "      <td>57.480000</td>\n",
       "      <td>00:05</td>\n",
       "    </tr>\n",
       "    <tr>\n",
       "      <td>11</td>\n",
       "      <td>0.558507</td>\n",
       "      <td>0.977675</td>\n",
       "      <td>59.820000</td>\n",
       "      <td>00:08</td>\n",
       "    </tr>\n",
       "    <tr>\n",
       "      <td>12</td>\n",
       "      <td>0.534146</td>\n",
       "      <td>0.934994</td>\n",
       "      <td>62.150002</td>\n",
       "      <td>00:07</td>\n",
       "    </tr>\n",
       "    <tr>\n",
       "      <td>13</td>\n",
       "      <td>0.513631</td>\n",
       "      <td>0.897281</td>\n",
       "      <td>63.990002</td>\n",
       "      <td>00:07</td>\n",
       "    </tr>\n",
       "    <tr>\n",
       "      <td>14</td>\n",
       "      <td>0.496094</td>\n",
       "      <td>0.863748</td>\n",
       "      <td>65.589996</td>\n",
       "      <td>00:07</td>\n",
       "    </tr>\n",
       "    <tr>\n",
       "      <td>15</td>\n",
       "      <td>0.480910</td>\n",
       "      <td>0.833677</td>\n",
       "      <td>66.970001</td>\n",
       "      <td>00:08</td>\n",
       "    </tr>\n",
       "    <tr>\n",
       "      <td>16</td>\n",
       "      <td>0.467640</td>\n",
       "      <td>0.806602</td>\n",
       "      <td>68.199997</td>\n",
       "      <td>00:11</td>\n",
       "    </tr>\n",
       "    <tr>\n",
       "      <td>17</td>\n",
       "      <td>0.455922</td>\n",
       "      <td>0.782081</td>\n",
       "      <td>69.519997</td>\n",
       "      <td>00:09</td>\n",
       "    </tr>\n",
       "    <tr>\n",
       "      <td>18</td>\n",
       "      <td>0.445503</td>\n",
       "      <td>0.759768</td>\n",
       "      <td>70.489998</td>\n",
       "      <td>00:07</td>\n",
       "    </tr>\n",
       "    <tr>\n",
       "      <td>19</td>\n",
       "      <td>0.436185</td>\n",
       "      <td>0.739375</td>\n",
       "      <td>71.389999</td>\n",
       "      <td>00:07</td>\n",
       "    </tr>\n",
       "    <tr>\n",
       "      <td>20</td>\n",
       "      <td>0.427801</td>\n",
       "      <td>0.720681</td>\n",
       "      <td>72.199997</td>\n",
       "      <td>00:05</td>\n",
       "    </tr>\n",
       "    <tr>\n",
       "      <td>21</td>\n",
       "      <td>0.420199</td>\n",
       "      <td>0.703508</td>\n",
       "      <td>73.080002</td>\n",
       "      <td>00:07</td>\n",
       "    </tr>\n",
       "    <tr>\n",
       "      <td>22</td>\n",
       "      <td>0.413270</td>\n",
       "      <td>0.687696</td>\n",
       "      <td>73.760002</td>\n",
       "      <td>00:06</td>\n",
       "    </tr>\n",
       "    <tr>\n",
       "      <td>23</td>\n",
       "      <td>0.406932</td>\n",
       "      <td>0.673062</td>\n",
       "      <td>74.489998</td>\n",
       "      <td>00:05</td>\n",
       "    </tr>\n",
       "    <tr>\n",
       "      <td>24</td>\n",
       "      <td>0.401142</td>\n",
       "      <td>0.659454</td>\n",
       "      <td>75.080002</td>\n",
       "      <td>00:05</td>\n",
       "    </tr>\n",
       "    <tr>\n",
       "      <td>25</td>\n",
       "      <td>0.395792</td>\n",
       "      <td>0.646811</td>\n",
       "      <td>75.730003</td>\n",
       "      <td>00:05</td>\n",
       "    </tr>\n",
       "    <tr>\n",
       "      <td>26</td>\n",
       "      <td>0.390829</td>\n",
       "      <td>0.635046</td>\n",
       "      <td>76.250000</td>\n",
       "      <td>00:05</td>\n",
       "    </tr>\n",
       "    <tr>\n",
       "      <td>27</td>\n",
       "      <td>0.386238</td>\n",
       "      <td>0.624030</td>\n",
       "      <td>76.760002</td>\n",
       "      <td>00:05</td>\n",
       "    </tr>\n",
       "    <tr>\n",
       "      <td>28</td>\n",
       "      <td>0.381959</td>\n",
       "      <td>0.613709</td>\n",
       "      <td>77.419998</td>\n",
       "      <td>00:05</td>\n",
       "    </tr>\n",
       "    <tr>\n",
       "      <td>29</td>\n",
       "      <td>0.377980</td>\n",
       "      <td>0.604007</td>\n",
       "      <td>77.910004</td>\n",
       "      <td>00:09</td>\n",
       "    </tr>\n",
       "    <tr>\n",
       "      <td>30</td>\n",
       "      <td>0.374245</td>\n",
       "      <td>0.594876</td>\n",
       "      <td>78.379997</td>\n",
       "      <td>00:07</td>\n",
       "    </tr>\n",
       "    <tr>\n",
       "      <td>31</td>\n",
       "      <td>0.370748</td>\n",
       "      <td>0.586283</td>\n",
       "      <td>78.849998</td>\n",
       "      <td>00:07</td>\n",
       "    </tr>\n",
       "    <tr>\n",
       "      <td>32</td>\n",
       "      <td>0.367451</td>\n",
       "      <td>0.578153</td>\n",
       "      <td>79.239998</td>\n",
       "      <td>00:05</td>\n",
       "    </tr>\n",
       "    <tr>\n",
       "      <td>33</td>\n",
       "      <td>0.364345</td>\n",
       "      <td>0.570461</td>\n",
       "      <td>79.610001</td>\n",
       "      <td>00:06</td>\n",
       "    </tr>\n",
       "    <tr>\n",
       "      <td>34</td>\n",
       "      <td>0.361401</td>\n",
       "      <td>0.563176</td>\n",
       "      <td>79.919998</td>\n",
       "      <td>00:05</td>\n",
       "    </tr>\n",
       "    <tr>\n",
       "      <td>35</td>\n",
       "      <td>0.358619</td>\n",
       "      <td>0.556240</td>\n",
       "      <td>80.260002</td>\n",
       "      <td>00:05</td>\n",
       "    </tr>\n",
       "    <tr>\n",
       "      <td>36</td>\n",
       "      <td>0.355972</td>\n",
       "      <td>0.549619</td>\n",
       "      <td>80.610001</td>\n",
       "      <td>00:05</td>\n",
       "    </tr>\n",
       "    <tr>\n",
       "      <td>37</td>\n",
       "      <td>0.353456</td>\n",
       "      <td>0.543326</td>\n",
       "      <td>80.839996</td>\n",
       "      <td>00:05</td>\n",
       "    </tr>\n",
       "    <tr>\n",
       "      <td>38</td>\n",
       "      <td>0.351051</td>\n",
       "      <td>0.537354</td>\n",
       "      <td>81.120003</td>\n",
       "      <td>00:05</td>\n",
       "    </tr>\n",
       "    <tr>\n",
       "      <td>39</td>\n",
       "      <td>0.348749</td>\n",
       "      <td>0.531646</td>\n",
       "      <td>81.330002</td>\n",
       "      <td>00:05</td>\n",
       "    </tr>\n",
       "    <tr>\n",
       "      <td>40</td>\n",
       "      <td>0.346539</td>\n",
       "      <td>0.526188</td>\n",
       "      <td>81.589996</td>\n",
       "      <td>00:05</td>\n",
       "    </tr>\n",
       "    <tr>\n",
       "      <td>41</td>\n",
       "      <td>0.344433</td>\n",
       "      <td>0.520945</td>\n",
       "      <td>81.839996</td>\n",
       "      <td>00:09</td>\n",
       "    </tr>\n",
       "    <tr>\n",
       "      <td>42</td>\n",
       "      <td>0.342406</td>\n",
       "      <td>0.515914</td>\n",
       "      <td>82.000000</td>\n",
       "      <td>00:04</td>\n",
       "    </tr>\n",
       "    <tr>\n",
       "      <td>43</td>\n",
       "      <td>0.340465</td>\n",
       "      <td>0.511089</td>\n",
       "      <td>82.190002</td>\n",
       "      <td>00:07</td>\n",
       "    </tr>\n",
       "    <tr>\n",
       "      <td>44</td>\n",
       "      <td>0.338599</td>\n",
       "      <td>0.506455</td>\n",
       "      <td>82.290001</td>\n",
       "      <td>00:06</td>\n",
       "    </tr>\n",
       "    <tr>\n",
       "      <td>45</td>\n",
       "      <td>0.336791</td>\n",
       "      <td>0.501979</td>\n",
       "      <td>82.480003</td>\n",
       "      <td>00:05</td>\n",
       "    </tr>\n",
       "    <tr>\n",
       "      <td>46</td>\n",
       "      <td>0.335052</td>\n",
       "      <td>0.497672</td>\n",
       "      <td>82.660004</td>\n",
       "      <td>00:05</td>\n",
       "    </tr>\n",
       "    <tr>\n",
       "      <td>47</td>\n",
       "      <td>0.333371</td>\n",
       "      <td>0.493508</td>\n",
       "      <td>82.809998</td>\n",
       "      <td>00:05</td>\n",
       "    </tr>\n",
       "    <tr>\n",
       "      <td>48</td>\n",
       "      <td>0.331753</td>\n",
       "      <td>0.489475</td>\n",
       "      <td>83.040001</td>\n",
       "      <td>00:06</td>\n",
       "    </tr>\n",
       "    <tr>\n",
       "      <td>49</td>\n",
       "      <td>0.330158</td>\n",
       "      <td>0.485592</td>\n",
       "      <td>83.220001</td>\n",
       "      <td>00:05</td>\n",
       "    </tr>\n",
       "    <tr>\n",
       "      <td>50</td>\n",
       "      <td>0.328622</td>\n",
       "      <td>0.481835</td>\n",
       "      <td>83.430000</td>\n",
       "      <td>00:06</td>\n",
       "    </tr>\n",
       "    <tr>\n",
       "      <td>51</td>\n",
       "      <td>0.327128</td>\n",
       "      <td>0.478212</td>\n",
       "      <td>83.589996</td>\n",
       "      <td>00:10</td>\n",
       "    </tr>\n",
       "    <tr>\n",
       "      <td>52</td>\n",
       "      <td>0.325685</td>\n",
       "      <td>0.474692</td>\n",
       "      <td>83.750000</td>\n",
       "      <td>00:08</td>\n",
       "    </tr>\n",
       "    <tr>\n",
       "      <td>53</td>\n",
       "      <td>0.324260</td>\n",
       "      <td>0.471305</td>\n",
       "      <td>83.959999</td>\n",
       "      <td>00:05</td>\n",
       "    </tr>\n",
       "    <tr>\n",
       "      <td>54</td>\n",
       "      <td>0.322876</td>\n",
       "      <td>0.467993</td>\n",
       "      <td>84.110001</td>\n",
       "      <td>00:04</td>\n",
       "    </tr>\n",
       "    <tr>\n",
       "      <td>55</td>\n",
       "      <td>0.321540</td>\n",
       "      <td>0.464754</td>\n",
       "      <td>84.239998</td>\n",
       "      <td>00:06</td>\n",
       "    </tr>\n",
       "    <tr>\n",
       "      <td>56</td>\n",
       "      <td>0.320235</td>\n",
       "      <td>0.461603</td>\n",
       "      <td>84.370003</td>\n",
       "      <td>00:07</td>\n",
       "    </tr>\n",
       "    <tr>\n",
       "      <td>57</td>\n",
       "      <td>0.318949</td>\n",
       "      <td>0.458543</td>\n",
       "      <td>84.449997</td>\n",
       "      <td>00:05</td>\n",
       "    </tr>\n",
       "    <tr>\n",
       "      <td>58</td>\n",
       "      <td>0.317698</td>\n",
       "      <td>0.455552</td>\n",
       "      <td>84.589996</td>\n",
       "      <td>00:07</td>\n",
       "    </tr>\n",
       "    <tr>\n",
       "      <td>59</td>\n",
       "      <td>0.316479</td>\n",
       "      <td>0.452645</td>\n",
       "      <td>84.690002</td>\n",
       "      <td>00:05</td>\n",
       "    </tr>\n",
       "    <tr>\n",
       "      <td>60</td>\n",
       "      <td>0.315262</td>\n",
       "      <td>0.449823</td>\n",
       "      <td>84.820000</td>\n",
       "      <td>00:07</td>\n",
       "    </tr>\n",
       "    <tr>\n",
       "      <td>61</td>\n",
       "      <td>0.314078</td>\n",
       "      <td>0.447053</td>\n",
       "      <td>84.949997</td>\n",
       "      <td>00:05</td>\n",
       "    </tr>\n",
       "    <tr>\n",
       "      <td>62</td>\n",
       "      <td>0.312930</td>\n",
       "      <td>0.444345</td>\n",
       "      <td>85.080002</td>\n",
       "      <td>00:10</td>\n",
       "    </tr>\n",
       "    <tr>\n",
       "      <td>63</td>\n",
       "      <td>0.311791</td>\n",
       "      <td>0.441711</td>\n",
       "      <td>85.230003</td>\n",
       "      <td>00:05</td>\n",
       "    </tr>\n",
       "    <tr>\n",
       "      <td>64</td>\n",
       "      <td>0.310679</td>\n",
       "      <td>0.439148</td>\n",
       "      <td>85.300003</td>\n",
       "      <td>00:05</td>\n",
       "    </tr>\n",
       "    <tr>\n",
       "      <td>65</td>\n",
       "      <td>0.309597</td>\n",
       "      <td>0.436635</td>\n",
       "      <td>85.400002</td>\n",
       "      <td>00:10</td>\n",
       "    </tr>\n",
       "    <tr>\n",
       "      <td>66</td>\n",
       "      <td>0.308528</td>\n",
       "      <td>0.434166</td>\n",
       "      <td>85.540001</td>\n",
       "      <td>00:08</td>\n",
       "    </tr>\n",
       "    <tr>\n",
       "      <td>67</td>\n",
       "      <td>0.307462</td>\n",
       "      <td>0.431768</td>\n",
       "      <td>85.599998</td>\n",
       "      <td>00:05</td>\n",
       "    </tr>\n",
       "    <tr>\n",
       "      <td>68</td>\n",
       "      <td>0.306423</td>\n",
       "      <td>0.429406</td>\n",
       "      <td>85.709999</td>\n",
       "      <td>00:07</td>\n",
       "    </tr>\n",
       "    <tr>\n",
       "      <td>69</td>\n",
       "      <td>0.305414</td>\n",
       "      <td>0.427090</td>\n",
       "      <td>85.900002</td>\n",
       "      <td>00:09</td>\n",
       "    </tr>\n",
       "    <tr>\n",
       "      <td>70</td>\n",
       "      <td>0.304411</td>\n",
       "      <td>0.424796</td>\n",
       "      <td>86.040001</td>\n",
       "      <td>00:08</td>\n",
       "    </tr>\n",
       "    <tr>\n",
       "      <td>71</td>\n",
       "      <td>0.303422</td>\n",
       "      <td>0.422561</td>\n",
       "      <td>86.129997</td>\n",
       "      <td>00:07</td>\n",
       "    </tr>\n",
       "    <tr>\n",
       "      <td>72</td>\n",
       "      <td>0.302441</td>\n",
       "      <td>0.420381</td>\n",
       "      <td>86.190002</td>\n",
       "      <td>00:05</td>\n",
       "    </tr>\n",
       "    <tr>\n",
       "      <td>73</td>\n",
       "      <td>0.301463</td>\n",
       "      <td>0.418240</td>\n",
       "      <td>86.239998</td>\n",
       "      <td>00:05</td>\n",
       "    </tr>\n",
       "    <tr>\n",
       "      <td>74</td>\n",
       "      <td>0.300526</td>\n",
       "      <td>0.416106</td>\n",
       "      <td>86.339996</td>\n",
       "      <td>00:05</td>\n",
       "    </tr>\n",
       "    <tr>\n",
       "      <td>75</td>\n",
       "      <td>0.299587</td>\n",
       "      <td>0.414013</td>\n",
       "      <td>86.370003</td>\n",
       "      <td>00:07</td>\n",
       "    </tr>\n",
       "    <tr>\n",
       "      <td>76</td>\n",
       "      <td>0.298673</td>\n",
       "      <td>0.411971</td>\n",
       "      <td>86.470001</td>\n",
       "      <td>00:05</td>\n",
       "    </tr>\n",
       "    <tr>\n",
       "      <td>77</td>\n",
       "      <td>0.297748</td>\n",
       "      <td>0.409977</td>\n",
       "      <td>86.570000</td>\n",
       "      <td>00:11</td>\n",
       "    </tr>\n",
       "    <tr>\n",
       "      <td>78</td>\n",
       "      <td>0.296841</td>\n",
       "      <td>0.407999</td>\n",
       "      <td>86.629997</td>\n",
       "      <td>00:05</td>\n",
       "    </tr>\n",
       "    <tr>\n",
       "      <td>79</td>\n",
       "      <td>0.295964</td>\n",
       "      <td>0.406036</td>\n",
       "      <td>86.750000</td>\n",
       "      <td>00:05</td>\n",
       "    </tr>\n",
       "    <tr>\n",
       "      <td>80</td>\n",
       "      <td>0.295090</td>\n",
       "      <td>0.404103</td>\n",
       "      <td>86.889999</td>\n",
       "      <td>00:06</td>\n",
       "    </tr>\n",
       "    <tr>\n",
       "      <td>81</td>\n",
       "      <td>0.294211</td>\n",
       "      <td>0.402208</td>\n",
       "      <td>86.970001</td>\n",
       "      <td>00:07</td>\n",
       "    </tr>\n",
       "    <tr>\n",
       "      <td>82</td>\n",
       "      <td>0.293342</td>\n",
       "      <td>0.400348</td>\n",
       "      <td>87.059998</td>\n",
       "      <td>00:11</td>\n",
       "    </tr>\n",
       "    <tr>\n",
       "      <td>83</td>\n",
       "      <td>0.292497</td>\n",
       "      <td>0.398527</td>\n",
       "      <td>87.160004</td>\n",
       "      <td>00:07</td>\n",
       "    </tr>\n",
       "    <tr>\n",
       "      <td>84</td>\n",
       "      <td>0.291661</td>\n",
       "      <td>0.396721</td>\n",
       "      <td>87.199997</td>\n",
       "      <td>00:10</td>\n",
       "    </tr>\n",
       "    <tr>\n",
       "      <td>85</td>\n",
       "      <td>0.290825</td>\n",
       "      <td>0.394935</td>\n",
       "      <td>87.250000</td>\n",
       "      <td>00:05</td>\n",
       "    </tr>\n",
       "    <tr>\n",
       "      <td>86</td>\n",
       "      <td>0.289988</td>\n",
       "      <td>0.393174</td>\n",
       "      <td>87.309998</td>\n",
       "      <td>00:05</td>\n",
       "    </tr>\n",
       "    <tr>\n",
       "      <td>87</td>\n",
       "      <td>0.289170</td>\n",
       "      <td>0.391404</td>\n",
       "      <td>87.360001</td>\n",
       "      <td>00:07</td>\n",
       "    </tr>\n",
       "    <tr>\n",
       "      <td>88</td>\n",
       "      <td>0.288363</td>\n",
       "      <td>0.389678</td>\n",
       "      <td>87.400002</td>\n",
       "      <td>00:07</td>\n",
       "    </tr>\n",
       "    <tr>\n",
       "      <td>89</td>\n",
       "      <td>0.287559</td>\n",
       "      <td>0.387958</td>\n",
       "      <td>87.449997</td>\n",
       "      <td>00:05</td>\n",
       "    </tr>\n",
       "    <tr>\n",
       "      <td>90</td>\n",
       "      <td>0.286770</td>\n",
       "      <td>0.386272</td>\n",
       "      <td>87.529999</td>\n",
       "      <td>00:07</td>\n",
       "    </tr>\n",
       "    <tr>\n",
       "      <td>91</td>\n",
       "      <td>0.285985</td>\n",
       "      <td>0.384583</td>\n",
       "      <td>87.550003</td>\n",
       "      <td>00:04</td>\n",
       "    </tr>\n",
       "    <tr>\n",
       "      <td>92</td>\n",
       "      <td>0.285202</td>\n",
       "      <td>0.382913</td>\n",
       "      <td>87.599998</td>\n",
       "      <td>00:04</td>\n",
       "    </tr>\n",
       "    <tr>\n",
       "      <td>93</td>\n",
       "      <td>0.284413</td>\n",
       "      <td>0.381289</td>\n",
       "      <td>87.699997</td>\n",
       "      <td>00:06</td>\n",
       "    </tr>\n",
       "    <tr>\n",
       "      <td>94</td>\n",
       "      <td>0.283646</td>\n",
       "      <td>0.379661</td>\n",
       "      <td>87.739998</td>\n",
       "      <td>00:05</td>\n",
       "    </tr>\n",
       "    <tr>\n",
       "      <td>95</td>\n",
       "      <td>0.282881</td>\n",
       "      <td>0.378050</td>\n",
       "      <td>87.779999</td>\n",
       "      <td>00:07</td>\n",
       "    </tr>\n",
       "    <tr>\n",
       "      <td>96</td>\n",
       "      <td>0.282145</td>\n",
       "      <td>0.376432</td>\n",
       "      <td>87.809998</td>\n",
       "      <td>00:05</td>\n",
       "    </tr>\n",
       "    <tr>\n",
       "      <td>97</td>\n",
       "      <td>0.281396</td>\n",
       "      <td>0.374831</td>\n",
       "      <td>87.860001</td>\n",
       "      <td>00:06</td>\n",
       "    </tr>\n",
       "    <tr>\n",
       "      <td>98</td>\n",
       "      <td>0.280646</td>\n",
       "      <td>0.373255</td>\n",
       "      <td>87.919998</td>\n",
       "      <td>00:04</td>\n",
       "    </tr>\n",
       "    <tr>\n",
       "      <td>99</td>\n",
       "      <td>0.279895</td>\n",
       "      <td>0.371665</td>\n",
       "      <td>87.949997</td>\n",
       "      <td>00:05</td>\n",
       "    </tr>\n",
       "  </tbody>\n",
       "</table>"
      ],
      "text/plain": [
       "<IPython.core.display.HTML object>"
      ]
     },
     "metadata": {},
     "output_type": "display_data"
    }
   ],
   "source": [
    "learn = Learner(dls, net, loss_func=nn.CrossEntropyLoss(), \n",
    "                opt_func=SGD, metrics=acc)\n",
    "learn.fit(100, 0.004)"
   ]
  },
  {
   "cell_type": "markdown",
   "id": "a36295f6",
   "metadata": {},
   "source": [
    "After 100 epochs, we reached over 87% accuracy!"
   ]
  },
  {
   "cell_type": "markdown",
   "id": "152c546d",
   "metadata": {},
   "source": [
    "So, we completed the project. That was very fun. Thanks for reading."
   ]
  }
 ],
 "metadata": {
  "kernelspec": {
   "display_name": "python3",
   "language": "python",
   "name": "python3"
  }
 },
 "nbformat": 4,
 "nbformat_minor": 5
}
