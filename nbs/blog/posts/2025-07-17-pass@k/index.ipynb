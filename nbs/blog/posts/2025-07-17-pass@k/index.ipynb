{
 "cells": [
  {
   "cell_type": "raw",
   "id": "8bddfd4c",
   "metadata": {},
   "source": [
    "---\n",
    "title: \"What is pass@k evaluation metric?\"\n",
    "author: \"galopy\"\n",
    "date: \"July 17, 2025\"\n",
    "toc: true\n",
    "skip_showdoc: true\n",
    "skip_exec: true\n",
    "comments:\n",
    "  utterances:\n",
    "    repo: galopyz/delicious-nbdev\n",
    "---"
   ]
  },
  {
   "cell_type": "markdown",
   "id": "2cb0afb7",
   "metadata": {},
   "source": [
    "# Pass@k"
   ]
  },
  {
   "cell_type": "markdown",
   "id": "01126bc5",
   "metadata": {},
   "source": [
    "## Introduction"
   ]
  },
  {
   "cell_type": "markdown",
   "id": "ecc08bfc",
   "metadata": {},
   "source": [
    "After training large language models (LLMs), we want to know how good it is. Many benchmakrs use pass@k metric. But what does it mean? In this blog, we will learn about what pass@k means. We will focus on evaluting in coding ability.\n",
    "\n",
    "When looking at the benchmarks for coding, we see HumanEval with pass@1 or pass@10. As you can see below, this is an evaluation benchmark from [Tulu3](https://arxiv.org/abs/2411.15124) by Lambert et al. "
   ]
  },
  {
   "cell_type": "markdown",
   "id": "b8053cae",
   "metadata": {},
   "source": [
    "![Table2 of Tulu3 paper with pass@10 HumanEval metrics](tulu3_table2.png)\n",
    "\n",
    "Tulu3 evaluation benchmark with HmanEval using pass@10."
   ]
  },
  {
   "cell_type": "markdown",
   "id": "d8f3dc09",
   "metadata": {},
   "source": [
    "## Intuition behind formula"
   ]
  },
  {
   "cell_type": "markdown",
   "id": "2ccbb399",
   "metadata": {},
   "source": [
    "Let's first think about how how we could evaluate our fresh LLM. We could let our model generate code by providing pseudocode as input and comapre the code with the actual working code we wrote ourselves. However, code can be written many different ways that does the same thing, and this does not account for that. Another way we can evaluate our model is to give our LLM a documentation string as an input and let it generate code. Then, we run tests on the generated code for correctness. This way, as long as the code passes tests, we count them as correct. This is a more robust way to evaluate models, which is how Chen et al. did in [\"Evaluating Large Language Models Trained on Code\"](https://arxiv.org/abs/2107.03374). [HumanEval](https://github.com/openai/human-eval) evaluation set is also from this paper."
   ]
  },
  {
   "cell_type": "markdown",
   "id": "73bf9fb7",
   "metadata": {},
   "source": [
    "Since we have a way to mark code samples as correct, we need a way to calculate the score. There are different ways to do this. [Kulal et al.](https://arxiv.org/abs/1906.04908) suggested using pass@k metric. This generates k code samples per problem. If any sample passes the unit tests, the LLM gets a score. For the total score, it is the percentage of correct problems out of total problems."
   ]
  },
  {
   "cell_type": "markdown",
   "id": "6cc1e8bd",
   "metadata": {},
   "source": [
    "This simple way has a problem as it has a high variance. When k is 1, we generate 1 sample and the model can sometimes get it right, sometimes not because there is randomness when the models generate responses. "
   ]
  },
  {
   "cell_type": "markdown",
   "id": "c63e68b4",
   "metadata": {},
   "source": [
    "[Chen et al.](https://arxiv.org/abs/2107.03374) suggeted another pass@k metric. They generate n samples (where n >= k) per problem. In the paper, they used n=200 and k <= 100. From these samples, they count c, where c is the number of samples that pass unit tests. From this, they calculate the new pass@k defined as the following: \n",
    "\n",
    "$$ \\text{pass@k} := \\underset{\\text{Problems}}{\\mathbb{E}} \\left[ 1 - \\frac{\\binom{n-c}{k}}{\\binom{n}{k}} \\right] \\quad (1) $$\n",
    "\n",
    "This also makrs code samples as correct if any sample passes the unit tests, but calculation is different. Let's take a look at it in more detail."
   ]
  },
  {
   "cell_type": "markdown",
   "id": "643d5ca9",
   "metadata": {},
   "source": [
    "When I first looked at this, I had no idea what it meant. The ${\\mathbb{E}}$ means take the expectation of, which is the same thing as average. So we are taking the average of problems. Inside the bracket applies to each problem. Now let's look at $\\binom{n}{k}$, which is n choose k. This is an expression for combiantions. If it has been a long time since you encountered this, take a brief review from [khan academy](https://www.khanacademy.org/math/statistics-probability/counting-permutations-and-combinations/combinations-lib/v/introduction-to-combinations). If you remember permutations, order matters for permutations, and order does not matter in combinations. And to calculate, we use the following:\n",
    "\n",
    "$$ \\binom{n}{k} = \\frac{n!}{k!(n-k)!} $$"
   ]
  },
  {
   "cell_type": "markdown",
   "id": "0175de99",
   "metadata": {},
   "source": [
    "Intuitively, we can think of the pass@k equation as the following:\n",
    "\n",
    "- ${\\binom{n}{k}}$: From n samples, how many different ways can we choose k samples?\n",
    "- ${\\binom{n-c}{k}}$: Out of all the incorrect samples (n-c), how many ways can we choose k samples?"
   ]
  },
  {
   "cell_type": "markdown",
   "id": "9faec779",
   "metadata": {},
   "source": [
    "Therefore, the following fraction,\n",
    "\n",
    "$$\\frac{\\binom{n-c}{k}}{\\binom{n}{k}}$$\n",
    "\n",
    "represents the probability of choosing all the wrong samples when choosing k samples from n samples."
   ]
  },
  {
   "cell_type": "markdown",
   "id": "35d9820a",
   "metadata": {},
   "source": [
    "By applying `1 - ` in front of the fraction, we are taking the complement of this. Complement of all wrong samples means at least one sample is correct. Therefore the expression,\n",
    "\n",
    "$$\\left[ 1 - \\frac{\\binom{n-c}{k}}{\\binom{n}{k}} \\right]$$\n",
    "\n",
    "represents the probability of choosing at least one sample that is correct. We are using complement of a set to calculate the probability because it is easier to calculate it this way. Remember the part inside of bracket only applies for one problem. And we do this for all the problems and take the average to get pass@k.\n",
    "\n",
    "Therefore, if we increase the number of samples we pick (k), the score increases. "
   ]
  },
  {
   "cell_type": "markdown",
   "id": "b886ce60",
   "metadata": {},
   "source": [
    "## Calculating metric"
   ]
  },
  {
   "cell_type": "markdown",
   "id": "61c660da",
   "metadata": {},
   "source": [
    "Let's do something more hands on. When we have n = 200 and k = 1, how would it look like? Let's use python to calculate it. With Python 3.8+, we can calculate combination with `math.comb`."
   ]
  },
  {
   "cell_type": "code",
   "execution_count": 105,
   "id": "0267133c",
   "metadata": {},
   "outputs": [],
   "source": [
    "from math import comb\n",
    "import numpy as np"
   ]
  },
  {
   "cell_type": "markdown",
   "id": "b2d05777",
   "metadata": {},
   "source": [
    "From 200 samples, there are 200 ways to choose 1 sample."
   ]
  },
  {
   "cell_type": "code",
   "execution_count": 77,
   "id": "d10c053a",
   "metadata": {},
   "outputs": [
    {
     "data": {
      "text/plain": [
       "200"
      ]
     },
     "execution_count": 77,
     "metadata": {},
     "output_type": "execute_result"
    }
   ],
   "source": [
    "comb(200, 1)"
   ]
  },
  {
   "cell_type": "markdown",
   "id": "f324fa9e",
   "metadata": {},
   "source": [
    "If we set k = 2 and choose 2 samples, there are more ways to choose."
   ]
  },
  {
   "cell_type": "code",
   "execution_count": 78,
   "id": "0fd3aa4b",
   "metadata": {},
   "outputs": [
    {
     "data": {
      "text/plain": [
       "19900"
      ]
     },
     "execution_count": 78,
     "metadata": {},
     "output_type": "execute_result"
    }
   ],
   "source": [
    "comb(200, 2)"
   ]
  },
  {
   "cell_type": "markdown",
   "id": "5e817c1f",
   "metadata": {},
   "source": [
    "If we are choosing 100 samples, there are so many ways to do so."
   ]
  },
  {
   "cell_type": "code",
   "execution_count": 80,
   "id": "169878f9",
   "metadata": {},
   "outputs": [
    {
     "data": {
      "text/plain": [
       "90548514656103281165404177077484163874504589675413336841320"
      ]
     },
     "execution_count": 80,
     "metadata": {},
     "output_type": "execute_result"
    }
   ],
   "source": [
    "comb(200, 100)"
   ]
  },
  {
   "cell_type": "markdown",
   "id": "78f3b8bc",
   "metadata": {},
   "source": [
    "And if we want to choose 199, there are 200 ways."
   ]
  },
  {
   "cell_type": "code",
   "execution_count": 82,
   "id": "dc447aef",
   "metadata": {},
   "outputs": [
    {
     "data": {
      "text/plain": [
       "200"
      ]
     },
     "execution_count": 82,
     "metadata": {},
     "output_type": "execute_result"
    }
   ],
   "source": [
    "comb(200, 199)"
   ]
  },
  {
   "cell_type": "markdown",
   "id": "6a5acbe7",
   "metadata": {},
   "source": [
    "And if we want to choose 200 out of 200, there is only one way to do it."
   ]
  },
  {
   "cell_type": "code",
   "execution_count": 79,
   "id": "d1d88fa1",
   "metadata": {},
   "outputs": [
    {
     "data": {
      "text/plain": [
       "1"
      ]
     },
     "execution_count": 79,
     "metadata": {},
     "output_type": "execute_result"
    }
   ],
   "source": [
    "comb(200, 200)"
   ]
  },
  {
   "cell_type": "markdown",
   "id": "8f1d23a7",
   "metadata": {},
   "source": [
    "We can calculate pass@k and see how the evaluation score changes based on number of correct samples, c, and k. "
   ]
  },
  {
   "cell_type": "code",
   "execution_count": 83,
   "id": "163bd931",
   "metadata": {},
   "outputs": [],
   "source": [
    "def pass_at_k(c, k=1, n=200): return 1 - (comb(n-c,k) / comb(n,k)) "
   ]
  },
  {
   "cell_type": "code",
   "execution_count": 84,
   "id": "b9040c2a",
   "metadata": {},
   "outputs": [
    {
     "data": {
      "text/plain": [
       "0.0"
      ]
     },
     "execution_count": 84,
     "metadata": {},
     "output_type": "execute_result"
    }
   ],
   "source": [
    "pass_at_k(0)"
   ]
  },
  {
   "cell_type": "code",
   "execution_count": 85,
   "id": "feb27703",
   "metadata": {},
   "outputs": [
    {
     "data": {
      "text/plain": [
       "0.0050000000000000044"
      ]
     },
     "execution_count": 85,
     "metadata": {},
     "output_type": "execute_result"
    }
   ],
   "source": [
    "pass_at_k(1)"
   ]
  },
  {
   "cell_type": "code",
   "execution_count": 86,
   "id": "2c51380f",
   "metadata": {},
   "outputs": [
    {
     "data": {
      "text/plain": [
       "0.050000000000000044"
      ]
     },
     "execution_count": 86,
     "metadata": {},
     "output_type": "execute_result"
    }
   ],
   "source": [
    "pass_at_k(10)"
   ]
  },
  {
   "cell_type": "code",
   "execution_count": 87,
   "id": "e81eeb76",
   "metadata": {},
   "outputs": [
    {
     "data": {
      "text/plain": [
       "0.5"
      ]
     },
     "execution_count": 87,
     "metadata": {},
     "output_type": "execute_result"
    }
   ],
   "source": [
    "pass_at_k(100)"
   ]
  },
  {
   "cell_type": "code",
   "execution_count": 88,
   "id": "c0d038ca",
   "metadata": {},
   "outputs": [
    {
     "data": {
      "text/plain": [
       "1.0"
      ]
     },
     "execution_count": 88,
     "metadata": {},
     "output_type": "execute_result"
    }
   ],
   "source": [
    "pass_at_k(200)"
   ]
  },
  {
   "cell_type": "markdown",
   "id": "edf582ad",
   "metadata": {},
   "source": [
    "What happens if k is 10?"
   ]
  },
  {
   "cell_type": "code",
   "execution_count": 89,
   "id": "df82fcb3",
   "metadata": {},
   "outputs": [
    {
     "data": {
      "text/plain": [
       "0.0"
      ]
     },
     "execution_count": 89,
     "metadata": {},
     "output_type": "execute_result"
    }
   ],
   "source": [
    "pass_at_k(0, k=10)"
   ]
  },
  {
   "cell_type": "code",
   "execution_count": 90,
   "id": "ac6640f2",
   "metadata": {},
   "outputs": [
    {
     "data": {
      "text/plain": [
       "0.050000000000000044"
      ]
     },
     "execution_count": 90,
     "metadata": {},
     "output_type": "execute_result"
    }
   ],
   "source": [
    "pass_at_k(1, k=10)"
   ]
  },
  {
   "cell_type": "code",
   "execution_count": 91,
   "id": "0de5a9d4",
   "metadata": {},
   "outputs": [
    {
     "data": {
      "text/plain": [
       "0.40854786608141713"
      ]
     },
     "execution_count": 91,
     "metadata": {},
     "output_type": "execute_result"
    }
   ],
   "source": [
    "pass_at_k(10, k=10)"
   ]
  },
  {
   "cell_type": "code",
   "execution_count": 92,
   "id": "fa23da2f",
   "metadata": {},
   "outputs": [
    {
     "data": {
      "text/plain": [
       "0.9992289739372822"
      ]
     },
     "execution_count": 92,
     "metadata": {},
     "output_type": "execute_result"
    }
   ],
   "source": [
    "pass_at_k(100, k=10)"
   ]
  },
  {
   "cell_type": "code",
   "execution_count": 93,
   "id": "a2724661",
   "metadata": {},
   "outputs": [
    {
     "data": {
      "text/plain": [
       "1.0"
      ]
     },
     "execution_count": 93,
     "metadata": {},
     "output_type": "execute_result"
    }
   ],
   "source": [
    "pass_at_k(200, k=10)"
   ]
  },
  {
   "cell_type": "markdown",
   "id": "88e71d7f",
   "metadata": {},
   "source": [
    "The bigger k value yields bigger score for the metric. "
   ]
  },
  {
   "cell_type": "markdown",
   "id": "fb8363c0",
   "metadata": {},
   "source": [
    "How about k is 100?"
   ]
  },
  {
   "cell_type": "code",
   "execution_count": 94,
   "id": "4ef08574",
   "metadata": {},
   "outputs": [
    {
     "data": {
      "text/plain": [
       "0.0"
      ]
     },
     "execution_count": 94,
     "metadata": {},
     "output_type": "execute_result"
    }
   ],
   "source": [
    "pass_at_k(0, k=100)"
   ]
  },
  {
   "cell_type": "code",
   "execution_count": 95,
   "id": "a9d4df97",
   "metadata": {},
   "outputs": [
    {
     "data": {
      "text/plain": [
       "0.5"
      ]
     },
     "execution_count": 95,
     "metadata": {},
     "output_type": "execute_result"
    }
   ],
   "source": [
    "pass_at_k(1, k=100)"
   ]
  },
  {
   "cell_type": "code",
   "execution_count": 96,
   "id": "01b9edb8",
   "metadata": {},
   "outputs": [
    {
     "data": {
      "text/plain": [
       "0.9992289739372822"
      ]
     },
     "execution_count": 96,
     "metadata": {},
     "output_type": "execute_result"
    }
   ],
   "source": [
    "pass_at_k(10, k=100)"
   ]
  },
  {
   "cell_type": "code",
   "execution_count": 97,
   "id": "eb08531e",
   "metadata": {},
   "outputs": [
    {
     "data": {
      "text/plain": [
       "1.0"
      ]
     },
     "execution_count": 97,
     "metadata": {},
     "output_type": "execute_result"
    }
   ],
   "source": [
    "pass_at_k(100, k=100)"
   ]
  },
  {
   "cell_type": "code",
   "execution_count": 98,
   "id": "1ef5f80b",
   "metadata": {},
   "outputs": [
    {
     "data": {
      "text/plain": [
       "1.0"
      ]
     },
     "execution_count": 98,
     "metadata": {},
     "output_type": "execute_result"
    }
   ],
   "source": [
    "pass_at_k(200, k=100)"
   ]
  },
  {
   "cell_type": "markdown",
   "id": "75c58d42",
   "metadata": {},
   "source": [
    "What would happen if we make more samples? Create more samples while leaving k is pretty much same as decreasing k. Therefore, the score gets low."
   ]
  },
  {
   "cell_type": "code",
   "execution_count": 107,
   "id": "74426a5b",
   "metadata": {},
   "outputs": [
    {
     "data": {
      "text/plain": [
       "0.0"
      ]
     },
     "execution_count": 107,
     "metadata": {},
     "output_type": "execute_result"
    }
   ],
   "source": [
    "pass_at_k(0, k=100, n=500)"
   ]
  },
  {
   "cell_type": "code",
   "execution_count": 108,
   "id": "bef86aa1",
   "metadata": {},
   "outputs": [
    {
     "data": {
      "text/plain": [
       "0.19999999999999996"
      ]
     },
     "execution_count": 108,
     "metadata": {},
     "output_type": "execute_result"
    }
   ],
   "source": [
    "pass_at_k(1, k=100, n=500)"
   ]
  },
  {
   "cell_type": "code",
   "execution_count": 109,
   "id": "1ae8ce10",
   "metadata": {},
   "outputs": [
    {
     "data": {
      "text/plain": [
       "0.8950489654316426"
      ]
     },
     "execution_count": 109,
     "metadata": {},
     "output_type": "execute_result"
    }
   ],
   "source": [
    "pass_at_k(10, k=100, n=500)"
   ]
  },
  {
   "cell_type": "code",
   "execution_count": 110,
   "id": "6cd02721",
   "metadata": {},
   "outputs": [
    {
     "data": {
      "text/plain": [
       "0.9999999999890197"
      ]
     },
     "execution_count": 110,
     "metadata": {},
     "output_type": "execute_result"
    }
   ],
   "source": [
    "pass_at_k(100, k=100, n=500)"
   ]
  },
  {
   "cell_type": "code",
   "execution_count": 111,
   "id": "561d0c98",
   "metadata": {},
   "outputs": [
    {
     "data": {
      "text/plain": [
       "1.0"
      ]
     },
     "execution_count": 111,
     "metadata": {},
     "output_type": "execute_result"
    }
   ],
   "source": [
    "pass_at_k(200, k=100, n=500)"
   ]
  },
  {
   "cell_type": "markdown",
   "id": "7ed96a6a",
   "metadata": {},
   "source": [
    "Here is another `pass_at_k` which is more numerically stable. This came from the Chen et al."
   ]
  },
  {
   "cell_type": "code",
   "execution_count": 101,
   "id": "e9ff55b7",
   "metadata": {},
   "outputs": [],
   "source": [
    "def pass_at_k(c, k=1, n=200):\n",
    "    if n - c < k: return 1.0\n",
    "    return 1.0 - np.prod(1.0 - k / np.arange(n - c + 1, n + 1))"
   ]
  },
  {
   "cell_type": "markdown",
   "id": "04dcb9f4",
   "metadata": {},
   "source": [
    "We get the same result."
   ]
  },
  {
   "cell_type": "code",
   "execution_count": 104,
   "id": "3d79c49e",
   "metadata": {},
   "outputs": [
    {
     "data": {
      "text/plain": [
       "0.0050000000000000044"
      ]
     },
     "execution_count": 104,
     "metadata": {},
     "output_type": "execute_result"
    }
   ],
   "source": [
    "pass_at_k(1)"
   ]
  },
  {
   "cell_type": "markdown",
   "id": "25ac8a16",
   "metadata": {},
   "source": [
    "## Conclusion"
   ]
  },
  {
   "cell_type": "markdown",
   "id": "01aae399",
   "metadata": {},
   "source": [
    "In this blog, we looked at how pass@k is calculated using a method provided by Chen et al. This way is less finicky than the method suggested by Kulal et al. \n",
    "\n",
    "To learn more about pass@k, here are the papers:\n",
    "\n",
    "- SPoC: Search-based Pseudocode to Code by Kulal et al.: https://arxiv.org/abs/1906.04908\n",
    "- Evaluating Large Language Models Trained on Code (also HumanEvals) by Chen et al.: https://arxiv.org/abs/2107.03374\n",
    "\n",
    "If you want to learn more about proabaility and statistics:\n",
    "\n",
    "- Stat110 by Joe Blitzstein in Harvard: https://stat110.hsites.harvard.edu/. This goes more in depth into sets, proofs, distributions, etc. It has lecture videos and homeworks. This is math and theory heavy.\n",
    "- A Concrete Introduction to Probability (using Python) by Peter Norvig: https://github.com/norvig/pytudes/blob/main/ipynb/Probability.ipynb. This is more hands on approach using python."
   ]
  }
 ],
 "metadata": {
  "kernelspec": {
   "display_name": "Python 3 (ipykernel)",
   "language": "python",
   "name": "python3"
  },
  "language_info": {
   "codemirror_mode": {
    "name": "ipython",
    "version": 3
   },
   "file_extension": ".py",
   "mimetype": "text/x-python",
   "name": "python",
   "nbconvert_exporter": "python",
   "pygments_lexer": "ipython3",
   "version": "3.11.11"
  }
 },
 "nbformat": 4,
 "nbformat_minor": 5
}
