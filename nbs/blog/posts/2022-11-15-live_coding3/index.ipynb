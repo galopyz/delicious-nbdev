{
 "cells": [
  {
   "cell_type": "raw",
   "id": "58440856",
   "metadata": {},
   "source": [
    "---\n",
    "title: \"Live coding 3\"\n",
    "author: \"galopy\"\n",
    "date: \"November 15, 2022\"\n",
    "toc: true\n",
    "skip_showdoc: true\n",
    "skip_exec: true\n",
    "comments:\n",
    "  utterances:\n",
    "    repo: galopyz/delicious-nbdev\n",
    "---"
   ]
  },
  {
   "cell_type": "markdown",
   "id": "f0c00c09",
   "metadata": {},
   "source": [
    "# Live coding 3"
   ]
  },
  {
   "cell_type": "markdown",
   "id": "17184143",
   "metadata": {},
   "source": [
    "This is a blog based on Jeremy Howard's Youtube video on [Live coding 3](https://www.youtube.com/watch?v=B6BQiIgiEks&ab_channel=JeremyHoward). Here, we will learn about $PATH, how conda/mamba works, how to setup pip and git in [Paperspace](paperspace.com)."
   ]
  },
  {
   "cell_type": "markdown",
   "id": "dcb66d73",
   "metadata": {},
   "source": [
    "## $PATH"
   ]
  },
  {
   "cell_type": "markdown",
   "id": "017d4971",
   "metadata": {},
   "source": [
    "What happens when we type a command in the shell? How does it know if any command exists?"
   ]
  },
  {
   "cell_type": "markdown",
   "id": "84094719",
   "metadata": {},
   "source": [
    "In a shell, there is an environment variable called `$PATH`. This is where our shell looks for a command. To take a close look at it, type `echo $PATH`. "
   ]
  },
  {
   "cell_type": "markdown",
   "id": "4bb7e4b6",
   "metadata": {},
   "source": [
    "![An output to `echo $PATH`](path2.png)"
   ]
  },
  {
   "cell_type": "markdown",
   "id": "96200ce1",
   "metadata": {},
   "source": [
    "This is a string seperated by a colon (:). Pay attention to the first one. This is where mambaforge comes in. Anything related to python that we will use will come from this directory. Try typing `which python` or `which jupyter`. "
   ]
  },
  {
   "cell_type": "markdown",
   "id": "08ecaf6a",
   "metadata": {},
   "source": [
    "::: {.callout-note}\n",
    "\n",
    "Feel free to check out what's in `~/mambaforge/bin` with `ls` command.\n",
    "\n",
    ":::"
   ]
  },
  {
   "cell_type": "markdown",
   "id": "ddec90de",
   "metadata": {},
   "source": [
    "![An output to `which python`](path3.png)"
   ]
  },
  {
   "cell_type": "markdown",
   "id": "91c2612a",
   "metadata": {},
   "source": [
    "It's interesting to see that mambaforge has a `bin` directory that contains binary files or executables, like an operating system. In fact, it is very similar to Unix system. Take a look:\n",
    "\n",
    "![Unix vs. Mambaforge](path4.png)"
   ]
  },
  {
   "cell_type": "markdown",
   "id": "7d4fc883",
   "metadata": {},
   "source": [
    "In Unix system, `/` refers to a root of a file system. This is where everything is stored."
   ]
  },
  {
   "cell_type": "markdown",
   "id": "90397311",
   "metadata": {},
   "source": [
    "## New environment on conda/mamba"
   ]
  },
  {
   "cell_type": "markdown",
   "id": "fc2656b8",
   "metadata": {},
   "source": [
    "Let's try creating a new environment with mamba. This way, we can try different versions of python. To create a new environment called tmp with python version less than 3.10, we type `mamba create -n tmp 'python<3.10' fastcore`. We are also downloading fastcore in here."
   ]
  },
  {
   "cell_type": "markdown",
   "id": "17b674f8",
   "metadata": {},
   "source": [
    "::: {.callout-warning}\n",
    "\n",
    "It's easier to manage projects when everything is simple. Having multiple environments can cause many problems. Create environments with caution. \n",
    "\n",
    ":::"
   ]
  },
  {
   "cell_type": "markdown",
   "id": "c49b6d83",
   "metadata": {},
   "source": [
    "![Installing a new environment](mamba1.png)"
   ]
  },
  {
   "cell_type": "markdown",
   "id": "538dbc1e",
   "metadata": {},
   "source": [
    "After it's done, activate it with `mamba activate tmp`. We can see that our environment is changed from `(base)` to `(tmp)` in the beginning of our prompt. Now, python's path is changed. `mambaforge/envs/` is where environments are stored, and inside of the tmp environment, we have another Unix system here!"
   ]
  },
  {
   "cell_type": "markdown",
   "id": "9d1a979a",
   "metadata": {},
   "source": [
    "![Installing a new environment](mamba2.png)"
   ]
  },
  {
   "cell_type": "markdown",
   "id": "749ce1e2",
   "metadata": {},
   "source": [
    "To go back to our `(base)` environment, we can type `conda activate`."
   ]
  },
  {
   "cell_type": "markdown",
   "id": "484005d1",
   "metadata": {},
   "source": [
    "## Paperspace"
   ]
  },
  {
   "cell_type": "markdown",
   "id": "fa036926",
   "metadata": {},
   "source": [
    "### New notebook (instance)"
   ]
  },
  {
   "cell_type": "markdown",
   "id": "9c292b88",
   "metadata": {},
   "source": [
    "[Paperspace](https://paperspace.com) is a great environment where we can work on use GPU for free. There are other free options as well, such as Kaggle or Google colab. However, in paperspace, we have a storage where we can save our packages, such as ctags. Paperspace instance also lasts up to 6 hours. There is more freedom involved with this one. "
   ]
  },
  {
   "cell_type": "markdown",
   "id": "dbdf6322",
   "metadata": {},
   "source": [
    "On the other hand, it can be very tricky and confusing to setup for those who are not very familiar with using a command line. It is also a great opportunity to learn about different skills, such as creating bash scripts and symbolic links. "
   ]
  },
  {
   "cell_type": "markdown",
   "id": "026909b9",
   "metadata": {},
   "source": [
    "First thing we will do is to create a notebook at [paperspace](https://paperspace.com). After signing in and creating a project, we can create a notebook. Here, we are actually creating an instance or a server. Let's go ahead and create one. On the project screen, you will see the `Create` button on the top right corner."
   ]
  },
  {
   "cell_type": "markdown",
   "id": "48f4e65e",
   "metadata": {},
   "source": [
    "![Create button](paper1.png)"
   ]
  },
  {
   "cell_type": "markdown",
   "id": "5706682e",
   "metadata": {},
   "source": [
    "Now, we choose a template. We will be using fastai, so we choos that one."
   ]
  },
  {
   "cell_type": "markdown",
   "id": "11812008",
   "metadata": {},
   "source": [
    "![Choose a template](paper2.png)"
   ]
  },
  {
   "cell_type": "markdown",
   "id": "c1695ccf",
   "metadata": {},
   "source": [
    "Next, we choose a hardware for a machine. There are many options, but we can choose CPU for now. We can always switch to GPU later if we need to."
   ]
  },
  {
   "cell_type": "markdown",
   "id": "79f588a8",
   "metadata": {},
   "source": [
    "![Choose a hardware](paper3.png)"
   ]
  },
  {
   "cell_type": "markdown",
   "id": "366eb109",
   "metadata": {},
   "source": [
    "We choose 6 hours, but we can also choose less than this."
   ]
  },
  {
   "cell_type": "markdown",
   "id": "898985d0",
   "metadata": {},
   "source": [
    "![Auto shutdown timeout](paper4.png)"
   ]
  },
  {
   "cell_type": "markdown",
   "id": "e7e07810",
   "metadata": {},
   "source": [
    "::: {.callout-note}\n",
    "\n",
    "If you are not using the instance, please shut it down so that other people can access it, instead of letting it sit there until the timer is maxed out. It not only saves energy and the earth, but also helps paperspace cost down.\n",
    "\n",
    ":::"
   ]
  },
  {
   "cell_type": "markdown",
   "id": "ab8c087e",
   "metadata": {},
   "source": [
    "Lastly, we turn the advanced option on and remove Workspace URL. This Workspace URL is a URL for a git that will be installed on this instance. By default, it will install fastbook, but it is easier to setup our machine without anything in it. Then, click *START NOTEBOOK*."
   ]
  },
  {
   "cell_type": "markdown",
   "id": "b790155f",
   "metadata": {},
   "source": [
    "![Advanced options](paper5.png)"
   ]
  },
  {
   "cell_type": "markdown",
   "id": "95722cee",
   "metadata": {},
   "source": [
    "This is paperspace GUI. We can start working in this environment if we wanted to. Let's see what we have here.\n",
    "\n",
    "![Paperspace GUI](paper6.png)"
   ]
  },
  {
   "cell_type": "markdown",
   "id": "74985f2e",
   "metadata": {},
   "source": [
    "One important button is Stop Machine. When we are done, make sure to click this button.\n",
    "![Stop machien button](stop_machine.png)"
   ]
  },
  {
   "cell_type": "markdown",
   "id": "b6c14ca6",
   "metadata": {},
   "source": [
    "Another good thing about paperspace is that we have an option to start working in Jupyterlab. This is great because we are familiar with this environment. On the left panel, the last orange button is the Jupyterlab button. Click it."
   ]
  },
  {
   "cell_type": "markdown",
   "id": "8149a3e0",
   "metadata": {},
   "source": [
    "![Jupyterlab button](paper7.png)"
   ]
  },
  {
   "cell_type": "markdown",
   "id": "c2663eb3",
   "metadata": {},
   "source": [
    "### Persistent pip "
   ]
  },
  {
   "cell_type": "markdown",
   "id": "2db47c1d",
   "metadata": {},
   "source": [
    "On paperspace instance, everything is wiped out upon closing the instance, except for some special directories. those directories are `/storage/` and `/notebooks/`. As long as we save our files in here, we can access them later. However, there's a difference between those two. `/storage/` is shared among all the instances, but `/notebooks/` is unique to this instance. Let's install a package using `pip` and make the package consistent. "
   ]
  },
  {
   "cell_type": "markdown",
   "id": "aa907e37",
   "metadata": {},
   "source": [
    "First thing we have to do is open up a terminal. It's the first option on the bottom."
   ]
  },
  {
   "cell_type": "markdown",
   "id": "b7cbb471",
   "metadata": {},
   "source": [
    "![A terminal](paper8.png)"
   ]
  },
  {
   "cell_type": "markdown",
   "id": "4bb07405",
   "metadata": {},
   "source": [
    "We will install `flask` as an example. You can install whatever you want. It just has to be something that's not installed yet. So, it cannot be fastai."
   ]
  },
  {
   "cell_type": "markdown",
   "id": "c54b9db2",
   "metadata": {},
   "source": [
    "Here are the steps:\n",
    "\n",
    "1. `pip install --user flask`: This installs flask in `~/.local/bin` because of `--user` flag. It's necessary that we install packages in this place. Then, open up python and import flask. It should not raise any error. Exit out of python.\n",
    "2. `cd`: Change directory to home directory.\n",
    "3. `ls -al`: List all the files here. We can see that we have `.local` directory in here. Take a look inside of this directory and find out what's in here.\n",
    "4. `cd /storage`: This is the space allocated to us to keep files persistent. \n",
    "5. `mkdir cfg`: Create a cfg (config) directory in here. We will place all configuration things in here.\n",
    "6. `cd`: Go back to home directory.\n",
    "7. `mv .local /storage/cfg/`: Move `.local` to our config directory in our persistent storage. If we try to import flask now, python raises error because it doesn't exist.\n",
    "8. `ln -s /storage/cfg/.local`: Create a symbolic link from `/storage/cfg/.local` to here (home directory). This link allows us to use `.local` as if it's in this directory.\n",
    "9. `ls -al`: If we look at `.local`, it looks something like `.local -> /storage/cfg/.local/`. Try to go into this directory or list stuff in here.\n",
    "10. Now, import flask, and it works."
   ]
  },
  {
   "cell_type": "markdown",
   "id": "1009cf8d",
   "metadata": {},
   "source": [
    "::: {.callout-tip}\n",
    "\n",
    "#### Shell tips: `!$`\n",
    "\n",
    "When we move a file or directory somewhere like `mv .local /storage/cfg/`, and we want to check what's in `/storage/cfg/` right after, we can do `ls !$`. `!$` refers to the last parameter from the previous command. So, `ls !$` expands into `ls /storage/cfg/`. More tips and features can be found [here](https://unix.stackexchange.com/questions/6/what-are-your-favorite-command-line-features-or-tricks/67)\n",
    "\n",
    ":::"
   ]
  },
  {
   "cell_type": "markdown",
   "id": "a9b4a417",
   "metadata": {},
   "source": [
    "Now, if we restart the instance, we will have .local in our storage. However, there is a problem. We won't have the symbolic links next time. So we have to create a bash script that can help us with this problem."
   ]
  },
  {
   "cell_type": "markdown",
   "id": "8380e033",
   "metadata": {},
   "source": [
    "Head over to `/storage`, and type `vim pre-run.sh`. This will open up vim, which is a text editor. We can press `i` to start typing and press `Escape` to stop typing. We can use arrow keys to move around. After pressing `Escape`, we are in *command mode*, so we can save the file and exit. This is the file I've written. Let's go over what each line does."
   ]
  },
  {
   "cell_type": "markdown",
   "id": "e43c9d4e",
   "metadata": {},
   "source": [
    "![`pre-run.sh`](vi.png)"
   ]
  },
  {
   "cell_type": "markdown",
   "id": "77c54327",
   "metadata": {},
   "source": [
    "::: {.callout-note}\n",
    "\n",
    "#### Using vim\n",
    "\n",
    "For those who have never used vim before, it can be confusing. However, vim is very powerful as we will learn more about its capabilities later on. \n",
    "\n",
    ":::"
   ]
  },
  {
   "cell_type": "markdown",
   "id": "4d68a5d6",
   "metadata": {},
   "source": [
    "`#!/usr/bin/env bash` means this file is a bash script. Commands in this file are just all the commands we've been typing on the shell, such as `cd`, `rm`, and more. Lines starting with `#` are comments, which means these lines are not commands. We can write notes to ourselves so that we can easily understand what's going on. `pushd ~` saves the current location so that we can go back here. You can try this command out. Use this command in current directory, go to somewhere else, and do `popd`. We are back. Next three lines are pretty straight forward. Move to home directory, delete .local directory, and create a symlink."
   ]
  },
  {
   "cell_type": "markdown",
   "id": "a700837b",
   "metadata": {},
   "source": [
    "To save this file, press `Escape` and press `:wq`. Now, the file is saved. `:wq` means write and quit. Now, we have to make this file executable. We can do it with `chmod 744 pre-run.sh`. Find out what `chmod` (change mode) does here by using `man` command or by searching online. To try out the script, we type `./pre-run.sh`."
   ]
  },
  {
   "cell_type": "markdown",
   "id": "ae43854f",
   "metadata": {},
   "source": [
    "When paperspace instance starts, `/run.sh` is run, which contains a line to execute `/storage/pre-run.sh` if it exists. Check out `/run.sh` and find out what it does."
   ]
  },
  {
   "cell_type": "markdown",
   "id": "80a0556c",
   "metadata": {},
   "source": [
    "### Persistent git using ssh"
   ]
  },
  {
   "cell_type": "markdown",
   "id": "be8536bd",
   "metadata": {},
   "source": [
    "Next thing we want to setup on our paperspace is ssh. As we have seen from the previous article, we can use git to commit with ssh."
   ]
  },
  {
   "cell_type": "markdown",
   "id": "b9440924",
   "metadata": {},
   "source": [
    "We can either create a new key pair, or use the one we created from last time. Using a new key pair requires adding the public key into the GitHub, but using the old one can be used right away. However, using a new key can be safer in case someone else takes a control of our machine.\n",
    "\n",
    "I will just use my previous key because I don't like storing many keys on GitHub."
   ]
  },
  {
   "cell_type": "markdown",
   "id": "257f5549",
   "metadata": {},
   "source": [
    "Let's get it started. Let's follow these steps and execute the commands."
   ]
  },
  {
   "cell_type": "markdown",
   "id": "b9926b61",
   "metadata": {},
   "source": [
    "1. `ssh-keygen`: Create `.ssh/` directory in home directory that contains key pairs. If you want to use generated keys, jump to step 8 after adding the key to GitHub.\n",
    "2. Upload github keys if you want to use the old keys. Upload button will be located in the centered button on the left panel. After uploading, the keys are located in `/notebooks/`.\n",
    "\n",
    "![Upload button](upload.png)\n",
    "\n",
    "3. `cd ~/.ssh`: This is where generated keys are stored.\n",
    "4. `ls -al`: Let's take a look at the keys.\n",
    "5. `rm id_*`: Remove the files starting with `id_`.\n",
    "6. `mv /notebooks/id_* .`: Move keys to here.\n",
    "7. Do `chmod 600 id_rsa`, `chmod 700 ~/.ssh`, and `chmod 644 id_rsa.pub`: These commands change the permissions on the files and its directory. \n",
    "8. `ssh git@github.com`: Try using ssh with github. \n",
    "9. `cd`: Move to home directory\n",
    "10. `mv .ssh /storage/cfg`: Move `.ssh` into the storage.\n",
    "11. `ln -s /storage/cfg/.ssh`: Create a symlink.\n",
    "12. Try ssh again."
   ]
  },
  {
   "cell_type": "markdown",
   "id": "0093b331",
   "metadata": {},
   "source": [
    "So, we can connect to GitHub using ssh. But, it won't work after we restart our instance. So, we have to edit `/storage/pre-run.sh` like the following. We just have to add those two lines at the end of the image into the file. The rest remains the same.\n",
    "\n",
    "![`pre-run.sh` after adding ssh](pre-run.png)"
   ]
  },
  {
   "cell_type": "markdown",
   "id": "ab553c5d",
   "metadata": {},
   "source": [
    "That't it. Try reopening your instance. It should work!"
   ]
  },
  {
   "cell_type": "markdown",
   "id": "f1c59155",
   "metadata": {},
   "source": [
    "## Conclusion"
   ]
  },
  {
   "cell_type": "markdown",
   "id": "6637f238",
   "metadata": {},
   "source": [
    "In this article, we covered $PATH, conda/mamba, and setting up paperspace. Setting up paperspace is tricky, and it is easy to get lost in the middle. Do not rush and take your time. If you messed up `pre-run.sh` script, and an instance cannot start, try to create a new instance with something other than fastai template and modify the `pre-run.sh` script that way. `pre-run.sh` is run only in fastai template. "
   ]
  },
  {
   "cell_type": "markdown",
   "id": "2053f182",
   "metadata": {},
   "source": [
    "If your instance works as intended, try to do it from scratch by changing `pre-run.sh` to `pre-run.sh.old` and creating a new instance. It will be a good practice."
   ]
  }
 ],
 "metadata": {
  "kernelspec": {
   "display_name": "Python 3 (ipykernel)",
   "language": "python",
   "name": "python3"
  }
 },
 "nbformat": 4,
 "nbformat_minor": 5
}
