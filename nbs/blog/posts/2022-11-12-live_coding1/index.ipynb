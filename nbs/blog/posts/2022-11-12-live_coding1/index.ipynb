{
 "cells": [
  {
   "cell_type": "raw",
   "id": "78819c07",
   "metadata": {},
   "source": [
    "---\n",
    "title: \"Live coding 1\"\n",
    "author: \"galopy\"\n",
    "date: \"November 12, 2022\"\n",
    "toc: true\n",
    "skip_showdoc: true\n",
    "skip_exec: true\n",
    "comments:\n",
    "  utterances:\n",
    "    repo: galopyz/delicious-nbdev\n",
    "---"
   ]
  },
  {
   "cell_type": "markdown",
   "id": "eabb687c",
   "metadata": {},
   "source": [
    "# Live coding 1"
   ]
  },
  {
   "cell_type": "markdown",
   "id": "f2431899",
   "metadata": {},
   "source": [
    "This is a blog based on Jeremy Howard's Youtube video on [Live coding 1](https://www.youtube.com/watch?v=56sIyFjihEc&ab_channel=JeremyHoward). Here, we will learn how to use terminal, install python the right way, and install packages using conda/mamba."
   ]
  },
  {
   "cell_type": "markdown",
   "id": "6af33f20",
   "metadata": {},
   "source": [
    "::: {.callout-note}\n",
    "\n",
    "### Required knowledge\n",
    "\n",
    "Anybody with basic python knowledge can follow along the [Youtube video](https://www.youtube.com/watch?v=56sIyFjihEc&ab_channel=JeremyHoward) and/or this blog. I recommend you to follow along if you are not familiar with anything in this article. \n",
    "\n",
    ":::"
   ]
  },
  {
   "cell_type": "markdown",
   "id": "c489cb8b",
   "metadata": {},
   "source": [
    "::: {.callout-important}\n",
    "\n",
    "### System requirements\n",
    "\n",
    "- Computers running Windows, Mac, and Linux can follow along. Chromebooks may work, but there may be many problems along the way. \n",
    "- Computers do not have to have GPUs.\n",
    "\n",
    ":::"
   ]
  },
  {
   "cell_type": "markdown",
   "id": "968593c4",
   "metadata": {},
   "source": [
    "## Terminal"
   ]
  },
  {
   "cell_type": "markdown",
   "id": "c8ac5076",
   "metadata": {},
   "source": [
    "What is a [terminal](https://en.wikipedia.org/wiki/Computer_terminal)? A terminal is a device for entering an input to a computer. We type commands here, and the computer will give us output. It looks like this on my computer:"
   ]
  },
  {
   "cell_type": "markdown",
   "id": "141f38f9",
   "metadata": {},
   "source": [
    "![A terminal on my linux.](terminal.png \"terminal on linux\")"
   ]
  },
  {
   "cell_type": "markdown",
   "id": "a6aa0906",
   "metadata": {},
   "source": [
    "How to open a terminal? On Windows, you can download [WSL](https://learn.microsoft.com/en-us/windows/wsl/about) (Windows Subsystem for Linux). This way, you are installing Linux distribution within Windows, and you can open it like any other app. On Mac or on Linux, you can search it on a search engine how to open it. "
   ]
  },
  {
   "cell_type": "markdown",
   "id": "3457eb0c",
   "metadata": {},
   "source": [
    "Once you open it, you will see something close to my terminal. Inside of this terminal, a [shell](https://en.wikipedia.org/wiki/Shell_(computing)) is running. The difference between terminal and shell is not important for us, and we will use these terms interchangeably. "
   ]
  },
  {
   "cell_type": "markdown",
   "id": "dcd654b8",
   "metadata": {},
   "source": [
    "With a terminal, we can open up [directories](https://en.wikipedia.org/wiki/Directory_(computing)) by typing commands, instead of clicking them in explorer or finder. Here, a directory is a container for files and directories. It's also called a folder. "
   ]
  },
  {
   "cell_type": "markdown",
   "id": "4af4a435",
   "metadata": {},
   "source": [
    "Let's try `ls` (list) command. Let's type it in the terminal and press `Enter`."
   ]
  },
  {
   "cell_type": "markdown",
   "id": "28a30665",
   "metadata": {},
   "source": [
    "![an output for ls command](ls1.png)"
   ]
  },
  {
   "cell_type": "markdown",
   "id": "40ae6684",
   "metadata": {},
   "source": [
    "The computer will output directories or files in the current directory. You may have different output because you have different directories or folders. Cool thing about using commands this way is that we can also provide options. Let's try typing `ls -a`."
   ]
  },
  {
   "cell_type": "markdown",
   "id": "c50fd886",
   "metadata": {},
   "source": [
    "![An output for ls -a command](ls-a.png)"
   ]
  },
  {
   "cell_type": "markdown",
   "id": "55514358",
   "metadata": {},
   "source": [
    "What happened? There are more stuff now than before. What does `-a` do? This reveals 'hidden' files. Hidden files are files starting with .(dot). There are many other options associated with commands, which make commands very powerful. However, it also means more things to memorize and learn about! You may be wondering what's the point of learning about all these? As we will find out later, using commands gives us many benefits, such as command history. With history, we can automate commands easily or find out what went wrong."
   ]
  },
  {
   "cell_type": "markdown",
   "id": "de9f007f",
   "metadata": {},
   "source": [
    "Try `ls -ah`. It also lists file/directory sizes. Options can be used together. It could also be executed as `ls -a -h`."
   ]
  },
  {
   "cell_type": "markdown",
   "id": "2671adba",
   "metadata": {},
   "source": [
    "::: {.callout-note}\n",
    "\n",
    "Although terminal has a learning curve, it can be a very useful tool because it can boost productivity. Let's go over some tips.\n",
    "\n",
    ":::"
   ]
  },
  {
   "cell_type": "markdown",
   "id": "793b9bab",
   "metadata": {},
   "source": [
    "### `man` command"
   ]
  },
  {
   "cell_type": "markdown",
   "id": "e87fbb13",
   "metadata": {},
   "source": [
    "How can we learn more about different commands? \n",
    "\n",
    "- Search commands on a search engine: There are many resources online, but it may be a little tricky which one to trust.\n",
    "\n",
    "- Use `man` command: `man` provides a manual for a command. It's a simple and easy way to learn about a command."
   ]
  },
  {
   "cell_type": "markdown",
   "id": "d3b97616",
   "metadata": {},
   "source": [
    "Let's try using `man` itself."
   ]
  },
  {
   "cell_type": "markdown",
   "id": "5f74f778",
   "metadata": {},
   "source": [
    "![Using `man` by itself.](man1.png)"
   ]
  },
  {
   "cell_type": "markdown",
   "id": "8ec79cd1",
   "metadata": {},
   "source": [
    "That's not very interesting because we did not provide what command we want to know about. We can find more about `man` itself!"
   ]
  },
  {
   "cell_type": "markdown",
   "id": "aa110664",
   "metadata": {},
   "source": [
    "![Using `man` on `man`](man2.png)"
   ]
  },
  {
   "cell_type": "markdown",
   "id": "d9d1fbff",
   "metadata": {},
   "source": [
    "![`man man` output](man3.png)"
   ]
  },
  {
   "cell_type": "markdown",
   "id": "e517ec99",
   "metadata": {},
   "source": [
    "It lists name, synopsis, description, examples, and others for the command. We can press `f` (forward) to scroll down, `b` (backward) to scroll up, and `q` (quit) to quit. Try other commands yourself, like `ls` that we just used. "
   ]
  },
  {
   "cell_type": "markdown",
   "id": "ebca933d",
   "metadata": {},
   "source": [
    "You may be overwhelmed by information it provides. Do not try to memorize every single option. There are just too many. You can use this if you forgot about something and quickly look it up. Or you can always search commands online."
   ]
  },
  {
   "cell_type": "markdown",
   "id": "7d31ef12",
   "metadata": {},
   "source": [
    "### `pwd` (print working directory) command"
   ]
  },
  {
   "cell_type": "markdown",
   "id": "8818f9d5",
   "metadata": {},
   "source": [
    "`pwd` (print working directory) command prints out the current location. `/home/kappa` is same as `~`, and we refer it as home directory. `~` right before $ in `kappa@keepo:~$` also shows where I am located. It could have written `kappa@keepo:/home/kappa$`, which means the same thing."
   ]
  },
  {
   "cell_type": "markdown",
   "id": "737982c9",
   "metadata": {},
   "source": [
    "![`pwd` output](pwd.png)"
   ]
  },
  {
   "cell_type": "markdown",
   "id": "7cb1ee94",
   "metadata": {},
   "source": [
    "### `mkdir` (make directory) command"
   ]
  },
  {
   "cell_type": "markdown",
   "id": "6d95cf06",
   "metadata": {},
   "source": [
    "`mkdir` (make directory) command makes a directory. We can execute `mkdir new_directory`, and it will be created. We can check it with `ls` command."
   ]
  },
  {
   "cell_type": "markdown",
   "id": "b101af31",
   "metadata": {},
   "source": [
    "### `cd` (change directory) command"
   ]
  },
  {
   "cell_type": "markdown",
   "id": "d54bc01b",
   "metadata": {},
   "source": [
    "`cd` (change directory) command changes directory. We can execute `cd new_directory` to move into that new_directory. After changing directory, try `pwd`. To move one level up from current directory, do `cd ..`. `..` is a parent directory."
   ]
  },
  {
   "cell_type": "markdown",
   "id": "3926baa3",
   "metadata": {},
   "source": [
    "::: {.callout-tip}\n",
    "\n",
    "#### Using `Tab`\n",
    "\n",
    "Here, instead of typing `cd new_directory`, I can type `cd new_` and press `Tab`. Rest of the directory name is automatically finished. If there are many directories starting with `new_`, it will not automatically complete the directory name because the computer doesn't know which one I want. I can press `Tab` one more time, and the computer outputs with differnt options. I can type more characters and press `Tab` again until it completes. \n",
    "\n",
    ":::"
   ]
  },
  {
   "cell_type": "markdown",
   "id": "53878dad",
   "metadata": {},
   "source": [
    "`cd` can also be called by itself. It will change directory to home directory."
   ]
  },
  {
   "cell_type": "markdown",
   "id": "79ea2c76",
   "metadata": {},
   "source": [
    "### Others useful tips"
   ]
  },
  {
   "cell_type": "markdown",
   "id": "e144874b",
   "metadata": {},
   "source": [
    "There are some other useful shortcuts.\n",
    "\n",
    "- !mk: run command starting with mk from command history.\n",
    "- !!: run last command.\n",
    "- Ctrl-r: reverse-i-search. Try typing commands that were used before. \n",
    "- Ctrl-a: Move the cursor to the beginning.\n",
    "- Ctrl-e: Move the cursor to the end.\n",
    "- Ctrl-left_arrow: Move left word by word.\n",
    "- Ctrl-right_arrow: Move right word by word."
   ]
  },
  {
   "cell_type": "markdown",
   "id": "f1826df2",
   "metadata": {},
   "source": [
    "Make sure to try out the commands rather than just reading them over. Also, practice makes perfect!"
   ]
  },
  {
   "cell_type": "markdown",
   "id": "25b7b712",
   "metadata": {},
   "source": [
    "## Installing python"
   ]
  },
  {
   "cell_type": "markdown",
   "id": "12c9def8",
   "metadata": {},
   "source": [
    "Even on new computers, there is python already installed. However, we do not want to use this because this is for our computers to run programs related to operating system. We want to keep system python from our python because we can debug more easily."
   ]
  },
  {
   "cell_type": "markdown",
   "id": "0a1f0c66",
   "metadata": {},
   "source": [
    "So, let's learn how to install the right python. If you already have installed ipython, jupyter, pytorch, or anything like that, delete them. We will install from the scratch."
   ]
  },
  {
   "cell_type": "markdown",
   "id": "bb4d679e",
   "metadata": {},
   "source": [
    "If you have conda installed, you can remove it by using `rm -rf your_conda`. Then, restart your terminal so that you do not have `(base)` in the beginning of the prompt."
   ]
  },
  {
   "cell_type": "markdown",
   "id": "39f3a673",
   "metadata": {},
   "source": [
    "![Removing conda](remove_conda.png)"
   ]
  },
  {
   "cell_type": "markdown",
   "id": "75bea98e",
   "metadata": {},
   "source": [
    "Also, if you installed ipython or jupyter notebook using `apt` on Ubuntu or `brew` on Mac, uninstall them. When you type `ipython` or `jupyter notebook`, it should not work anymore. "
   ]
  },
  {
   "cell_type": "markdown",
   "id": "7a120563",
   "metadata": {},
   "source": [
    "We will use [miniforge](https://github.com/conda-forge/miniforge) to install conda. In readme, we can find Download section. "
   ]
  },
  {
   "cell_type": "markdown",
   "id": "81d70fbd",
   "metadata": {},
   "source": [
    "![Miniforge download](Miniforge1.png)"
   ]
  },
  {
   "cell_type": "markdown",
   "id": "de12ca9b",
   "metadata": {},
   "source": [
    "Right click on the one that matches with your OS and architecture and right click on it. Then select 'Copy link address'."
   ]
  },
  {
   "cell_type": "markdown",
   "id": "de5634a7",
   "metadata": {},
   "source": [
    "![Right click on Download](Miniforge2.png)"
   ]
  },
  {
   "cell_type": "markdown",
   "id": "fb5d28b5",
   "metadata": {},
   "source": [
    "I am using Linux with amd64 architecture. Next, let's head back into our terminal and type `wget your_link` in my Downloads directory. You can paste your link into terminal with `Ctrl-Shift-V`."
   ]
  },
  {
   "cell_type": "markdown",
   "id": "e294802f",
   "metadata": {},
   "source": [
    "![Using wget](Miniforge3.png)"
   ]
  },
  {
   "cell_type": "markdown",
   "id": "8cc31578",
   "metadata": {},
   "source": [
    "Try using `ls` command. We now see that we have a file starting with Miniforge3-whatever. Pay attention to the end of the file. It ends with `.sh`. This means we can execute it using bash. This file consists of commands we type into the shell, such as `ls` and `pwd`. You can take a peak at the file by using `head Miniforge3-Linux-x86_64.sh`. So, we can execute it to install Miniforge by typing `bash Miniforge3-Linux-x86_64.sh`."
   ]
  },
  {
   "cell_type": "markdown",
   "id": "a4bc8aa8",
   "metadata": {},
   "source": [
    "![Execute the script](Miniforge4.png)"
   ]
  },
  {
   "cell_type": "markdown",
   "id": "6069c25a",
   "metadata": {},
   "source": [
    "It will start a Miniforge installation process. We press `Enter`."
   ]
  },
  {
   "cell_type": "markdown",
   "id": "67d401db",
   "metadata": {},
   "source": [
    "![Miniforge prompt1](Miniforge5.png)"
   ]
  },
  {
   "cell_type": "markdown",
   "id": "eb839d19",
   "metadata": {},
   "source": [
    "Type yes to agree to the license terms."
   ]
  },
  {
   "cell_type": "markdown",
   "id": "4bfb9df4",
   "metadata": {},
   "source": [
    "![Miniforge prompt2](Miniforge6.png)"
   ]
  },
  {
   "cell_type": "markdown",
   "id": "cc965569",
   "metadata": {},
   "source": [
    "Then we press `Enter` to confirm the location."
   ]
  },
  {
   "cell_type": "markdown",
   "id": "02c28d44",
   "metadata": {},
   "source": [
    "![Miniforge prompt3](Miniforge7.png)"
   ]
  },
  {
   "cell_type": "markdown",
   "id": "ca9658c4",
   "metadata": {},
   "source": [
    "Then type yes to initialize conda."
   ]
  },
  {
   "cell_type": "markdown",
   "id": "40a199a9",
   "metadata": {},
   "source": [
    "![Miniforge prompt4](Miniforge8.png)"
   ]
  },
  {
   "cell_type": "markdown",
   "id": "b10542cb",
   "metadata": {},
   "source": [
    "Now, we **restart** our terminal. We see we have '(base)' in front the prompt line. It means we have conda running!"
   ]
  },
  {
   "cell_type": "markdown",
   "id": "e23e41ab",
   "metadata": {},
   "source": [
    "![Conda is running!](Miniforge9.png)"
   ]
  },
  {
   "cell_type": "markdown",
   "id": "5c06baad",
   "metadata": {},
   "source": [
    "Try typing `which python`. It should be python inside of miniforge."
   ]
  },
  {
   "cell_type": "markdown",
   "id": "d228639f",
   "metadata": {},
   "source": [
    "![mamba's python](mamba5.png)"
   ]
  },
  {
   "cell_type": "markdown",
   "id": "6d7daa9b",
   "metadata": {},
   "source": [
    "Type conda, and we see something like a manual page for conda."
   ]
  },
  {
   "cell_type": "markdown",
   "id": "18e251ea",
   "metadata": {},
   "source": [
    "![conda help](conda.png)"
   ]
  },
  {
   "cell_type": "markdown",
   "id": "0c5508bf",
   "metadata": {},
   "source": [
    "Let's type mamba and see what we get. If you get the same output as conda, you are good. If you get this screen, we have some work to do."
   ]
  },
  {
   "cell_type": "markdown",
   "id": "023bdf3f",
   "metadata": {},
   "source": [
    "![mamba not found](mamba1.png)"
   ]
  },
  {
   "cell_type": "markdown",
   "id": "d304e910",
   "metadata": {},
   "source": [
    "::: {.callout-important}\n",
    "\n",
    "### What is conda and mamba vs. pip?\n",
    "\n",
    "We use conda to install python packages such as ipython, Jupyter notebook, and Pytorch. Mamba is just a faster version of conda. We can always replace mamba with conda for anything and get it done more quickly. Pip is also another way of installing packages, but not recommended because it does not install as smart as conda/mamba. It can cause headaches later on. So **always install with conda/mamba**.\n",
    "\n",
    ":::"
   ]
  },
  {
   "cell_type": "markdown",
   "id": "60cd166a",
   "metadata": {},
   "source": [
    "To install mamba, type `conda install mamba -n base -c conda-forge`. If mamba works, you can skip this installation steps."
   ]
  },
  {
   "cell_type": "markdown",
   "id": "27069d3e",
   "metadata": {},
   "source": [
    "![Installing mamba](mamba2.png)"
   ]
  },
  {
   "cell_type": "markdown",
   "id": "228a4b6e",
   "metadata": {},
   "source": [
    "Conda checks for dependencies and figures out what needs to be installed and updated. We proceed with y."
   ]
  },
  {
   "cell_type": "markdown",
   "id": "f6676fee",
   "metadata": {},
   "source": [
    "![Installing mamba 2](mamba3.png)"
   ]
  },
  {
   "cell_type": "markdown",
   "id": "aaf2901e",
   "metadata": {},
   "source": [
    "Try mamba. You should see this screen."
   ]
  },
  {
   "cell_type": "markdown",
   "id": "0ff5e0fb",
   "metadata": {},
   "source": [
    "![Mamba installed](mamba4.png)"
   ]
  },
  {
   "cell_type": "markdown",
   "id": "827619a3",
   "metadata": {},
   "source": [
    "## Installing Jupyterlab"
   ]
  },
  {
   "cell_type": "markdown",
   "id": "5da5bc78",
   "metadata": {},
   "source": [
    "It's time to install Jupyterlab with `mamba install jupyterlab`."
   ]
  },
  {
   "cell_type": "markdown",
   "id": "19127088",
   "metadata": {},
   "source": [
    "![Installing jupyterlab](jupyter1.png)"
   ]
  },
  {
   "cell_type": "markdown",
   "id": "e4b7d735",
   "metadata": {},
   "source": [
    "![Installing jupyterlab](jupyter3.png)"
   ]
  },
  {
   "cell_type": "markdown",
   "id": "ae382b28",
   "metadata": {},
   "source": [
    "![Installing jupyterlab in prompt1](jupyter2.png)"
   ]
  },
  {
   "cell_type": "markdown",
   "id": "d42cd46d",
   "metadata": {},
   "source": [
    "Pretty straight forward steps. mamba looks for dependencies, find out packages to update or install, and we confirm. Now we have Jupyterlab install. Let's see what it does. Let's try it with `jupyter notebook`."
   ]
  },
  {
   "cell_type": "markdown",
   "id": "28198c4e",
   "metadata": {},
   "source": [
    "![Executing Jupyter notebook](jupyter4.png)"
   ]
  },
  {
   "cell_type": "markdown",
   "id": "3044deec",
   "metadata": {},
   "source": [
    "It will automatically open up Jupyter notebook if you are on Mac or Linux. However, if you are on Windows, you have to hold Ctrl key and click on one of the links on the bottom of the output. To close Jupyter notebook, press `Ctrl-C` or `Ctrl-D`."
   ]
  },
  {
   "cell_type": "markdown",
   "id": "673c2d8c",
   "metadata": {},
   "source": [
    "::: {.callout-tip}\n",
    "\n",
    "If you were thinking typing out `jupyter notebook` seems too long, there is a solution. Let's shorten it to `jl`! Type `alias jl=\"jupyter notebook\"`. Then, type `jl`. It is nice, but it will not work if we close the terminal and open it up later. So, we have to save it into `.bashrc` file in the home directory. Open the `~/.bashrc` file and add `alias jl=\"jupyter notebook\"` at the end of the file. Now on, we can use `jl` shortcut even after restarting our terminal.\n",
    "\n",
    ":::"
   ]
  },
  {
   "cell_type": "markdown",
   "id": "76cfa1ce",
   "metadata": {},
   "source": [
    "We see something like this on the browser."
   ]
  },
  {
   "cell_type": "markdown",
   "id": "b676e9e9",
   "metadata": {},
   "source": [
    "![Jupyter notebook on the browser.](jupyter5.png)"
   ]
  },
  {
   "cell_type": "markdown",
   "id": "122141f4",
   "metadata": {},
   "source": [
    "On the top right, we can click New to create a new notebook or a folder. Create a Folder called nbs (for notebooks) and click on it to get inside of it."
   ]
  },
  {
   "cell_type": "markdown",
   "id": "90624538",
   "metadata": {},
   "source": [
    "![Creating a new file or folder in Jupyter](jupyter7.png)"
   ]
  },
  {
   "cell_type": "markdown",
   "id": "8503f877",
   "metadata": {},
   "source": [
    "![Inside of nbs folder](jupyter6.png)"
   ]
  },
  {
   "cell_type": "markdown",
   "id": "fa4c4280",
   "metadata": {},
   "source": [
    " Now, let's create a new notebook. Click 'New' again and click Python 3 this time. "
   ]
  },
  {
   "cell_type": "markdown",
   "id": "abef6d28",
   "metadata": {},
   "source": [
    "![Jupyter notebook](jupyter8.png)"
   ]
  },
  {
   "cell_type": "markdown",
   "id": "b965e172",
   "metadata": {},
   "source": [
    "Click inside of a cell and type `1 + 1`. Then press Shift + Enter. The cell will be executed and show output on the bottom."
   ]
  },
  {
   "cell_type": "markdown",
   "id": "3512518d",
   "metadata": {},
   "source": [
    "![Jupyter notebook 2](jupyter9.png)"
   ]
  },
  {
   "cell_type": "markdown",
   "id": "1e79a0cc",
   "metadata": {},
   "source": [
    "When you are typing in the cell, you are in Edit Mode. You can press `Esc` key to get out of it, and you are in Command Mode. Different mode has different command or shortcut you can use. You can press `h` to learn about them."
   ]
  },
  {
   "cell_type": "markdown",
   "id": "a487c842",
   "metadata": {},
   "source": [
    "## Installing Pytorch"
   ]
  },
  {
   "cell_type": "markdown",
   "id": "c657610d",
   "metadata": {},
   "source": [
    "Last thing we will install is [Pytorch](https://pytorch.org/). On the Pytorch page, we see this:"
   ]
  },
  {
   "cell_type": "markdown",
   "id": "4b0d69d1",
   "metadata": {},
   "source": [
    "![Install Pytorch](pytorch1.png)"
   ]
  },
  {
   "cell_type": "markdown",
   "id": "b908c9db",
   "metadata": {},
   "source": [
    "You can pick and choose your options, such as OS or compute platform. Then, we can copy the command and execute it in our terminal. Remember to use mamba in the place of conda to get it started faster."
   ]
  },
  {
   "cell_type": "markdown",
   "id": "6784b009",
   "metadata": {},
   "source": [
    "![Install Pytorch using mamba](pytorch2.png)"
   ]
  },
  {
   "cell_type": "markdown",
   "id": "73ba7a84",
   "metadata": {},
   "source": [
    "::: {.callout-tip}\n",
    "\n",
    "It takes a little while to install this time. In deep learning, there will be many times when we have to wait for the computer to execute programs, esepcially when training deep learning models. I recommend spending this time wisely. There are many things to do, such as reading ahead or practicing terminal commands. It doesn't seem like a big deal, but it will make a huge difference later on.\n",
    "\n",
    ":::"
   ]
  },
  {
   "cell_type": "markdown",
   "id": "a419057b",
   "metadata": {},
   "source": [
    "## Conclusion"
   ]
  },
  {
   "cell_type": "markdown",
   "id": "9784e7de",
   "metadata": {},
   "source": [
    "We covered lots of materials in this blog. If you haven't already, please watch [Live coding 1](https://www.youtube.com/watch?v=56sIyFjihEc&t=3754s) by Jeremy Howard because it will be very helpful. Also, practice terminal commands. "
   ]
  },
  {
   "cell_type": "markdown",
   "id": "08233726",
   "metadata": {},
   "source": [
    "::: {.callout-tip}\n",
    "\n",
    "When learning something, it is great to learn with different medium or context. For instance, watching videos, reading books, and getting hands on will all boost your skills. Try out all different ways and be creative!\n",
    "\n",
    ":::"
   ]
  }
 ],
 "metadata": {
  "kernelspec": {
   "display_name": "Python 3 (ipykernel)",
   "language": "python",
   "name": "python3"
  }
 },
 "nbformat": 4,
 "nbformat_minor": 5
}
