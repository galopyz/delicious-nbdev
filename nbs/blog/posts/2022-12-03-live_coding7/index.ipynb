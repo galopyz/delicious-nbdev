{
 "cells": [
  {
   "cell_type": "raw",
   "id": "4db54ca1",
   "metadata": {},
   "source": [
    "---\n",
    "title: \"Live coding 7\"\n",
    "author: \"galopy\"\n",
    "date: \"December 03, 2022\"\n",
    "toc: true\n",
    "skip_showdoc: true\n",
    "skip_exec: true\n",
    "comments:\n",
    "  utterances:\n",
    "    repo: galopyz/delicious-nbdev\n",
    "---"
   ]
  },
  {
   "cell_type": "markdown",
   "id": "6e411791",
   "metadata": {},
   "source": [
    "# Live coding 7"
   ]
  },
  {
   "cell_type": "markdown",
   "id": "48fabddd",
   "metadata": {},
   "source": [
    "In this blog, I will cover how to setup [kaggle](https://www.kaggle.com/) on Paperspace. "
   ]
  },
  {
   "cell_type": "markdown",
   "id": "e4d29566",
   "metadata": {},
   "source": [
    "Kaggle is a great place to practice hands on machine learning skills. There are many different competitions anybody can participate. And there are many different types of data available, such as medical images, satellite images, texts, and more. Some competitions are just for fun and learning, but there are also more practical competitions that can help ongoing research or improving products. It's also a great place to discuss strategies with others. "
   ]
  },
  {
   "cell_type": "markdown",
   "id": "46c07ac3",
   "metadata": {},
   "source": [
    "Kaggle has notebooks available with GPUs like Colab, so it is possible to study machine learning on it. However, they do not have persistent storage. Also, Kaggle's auto complete did not really work well for me. So, I would rather write notebooks on paperspace and submit it on Kaggle. Another good thing about using Paperspace is that Kaggle has GPU limits, but Paperspace doesn't. So, let's set up Kaggle on paperspace!"
   ]
  },
  {
   "cell_type": "markdown",
   "id": "cdd2a359",
   "metadata": {},
   "source": [
    "This blog is based on Live coding 7 [Youtube video](https://www.youtube.com/watch?v=-Scs4gbwWXg&feature=youtu.be&ab_channel=JeremyHoward) by Jeremy Howard, so you can watch the video as well."
   ]
  },
  {
   "cell_type": "markdown",
   "id": "3f27c178",
   "metadata": {},
   "source": [
    "## Setting up Kaggle "
   ]
  },
  {
   "cell_type": "markdown",
   "id": "f7a2aa9b",
   "metadata": {},
   "source": [
    "First thing we want to do is install [kaggle API](https://github.com/Kaggle/kaggle-api). Install it by typing `pip install --user kaggle`. I set an alias for `pip install --user` to be `piu`, so I can type `piu kaggle`. If you haven't setup an alias, you can open up `/storage/.bash.local` file and add one like this:\n",
    "\n",
    "![My `/storage/.bash.local` file](bash.png)"
   ]
  },
  {
   "cell_type": "markdown",
   "id": "f3168219",
   "metadata": {},
   "source": [
    "I am also updating `PATH` environment variable to include `~/conda/bin` and `~/.local/bin` so that I can use packages I installed from mamba and pip, such as ctags and pip. There cannot be any space except one after `export` or `alias`."
   ]
  },
  {
   "cell_type": "markdown",
   "id": "f66dbc5f",
   "metadata": {},
   "source": [
    "After installing kaggle, we need `~/.kaggle/kaggle.json` file with username and key in [JSON format](https://en.wikipedia.org/wiki/JSON). You can get the key from [kaggle website](https://www.kaggle.com/) under profile options.\n",
    "\n",
    "![kaggle API](kaggle1.png)"
   ]
  },
  {
   "cell_type": "markdown",
   "id": "7209deef",
   "metadata": {},
   "source": [
    "So, inside of `~/.kaggle/kaggle.json`, you should have something like `{\"username\":\"<your_username>\",\"key\":\"<your_key>\"}`. Make sure to put your username and key. Everything has to be inside of double quotes. Also, change the permission on this file by typing `chmod 600 /storage/.kaggle/kaggle.json`. Now, it is the same deal with other files in `/storage/`. We can just put this file inside of persistent storage and create a symlink. Then, add a line inside of `/storage/pre-run.sh` to create a symlink when the instance starts."
   ]
  },
  {
   "cell_type": "markdown",
   "id": "86d31f29",
   "metadata": {},
   "source": [
    "::: {.callout-warning}\n",
    "\n",
    "### API key\n",
    "\n",
    "Make sure to change the permission of your kaggle API file with `chmod 600`. 600 here means only I can read and write this file.\n",
    "\n",
    ":::"
   ]
  },
  {
   "cell_type": "markdown",
   "id": "9ca5d1ab",
   "metadata": {},
   "source": [
    "There's a good Kaggle competition called [Paddy Doctor: Paddy disease classification](https://www.kaggle.com/competitions/paddy-disease-classification). Even though it's not active, we can still submit late submissions and compare our result with others. Before we can get the data, we have to agree to terms on the competition website. It should be under data looking like this:\n",
    "\n",
    "![Agreeing to terms](kaggle2.png)\n",
    "\n",
    "After that, we can go to `/notebooks/` and create a directory for paddy competition. Go in there and type `kaggle competitions download -c paddy-disease-classification` to download data. And unzip with `unzip -q paddy-disease-classification.zip`. "
   ]
  },
  {
   "cell_type": "markdown",
   "id": "849fb759",
   "metadata": {},
   "source": [
    "::: {.callout-tip}\n",
    "\n",
    "### Time\n",
    "\n",
    "In bash, we can use `time` command to see how long it takes to do finish the command. For instance, when unzipping the file, we could do `time unzip -q paddy-disease-classification.zip` to check how long it takes to unzip.\n",
    "\n",
    ":::"
   ]
  },
  {
   "cell_type": "markdown",
   "id": "2c570423",
   "metadata": {},
   "source": [
    "That's it. We have kaggle setup. This data is only 1GB, which is very small compared to other competitions, but if you want to work on other competitions with bigger data, you could download them and unzip them as the instance starts. Or you can upgrade storage. "
   ]
  },
  {
   "cell_type": "markdown",
   "id": "6823c7fc",
   "metadata": {},
   "source": [
    "## GPU usage"
   ]
  },
  {
   "cell_type": "markdown",
   "id": "4aad0526",
   "metadata": {},
   "source": [
    "When we are training with GPUs on Paperspace, we can type `nvidia-smi dmon` to check the usage. The main thing we care about here is *sm* column. This basically means how busy GPU is. \n",
    "\n",
    "![Using `nvidia-smi dmon`](nvidia.png)"
   ]
  },
  {
   "cell_type": "markdown",
   "id": "fb73786b",
   "metadata": {},
   "source": [
    "## Conclusion"
   ]
  },
  {
   "cell_type": "markdown",
   "id": "8e99fbc2",
   "metadata": {},
   "source": [
    "Up to now, we've been going through live coding videos. In this video and following videos, Jeremy goes over different techniques using paddy data. Starting next blog, rather than following videos, I will create blogs based on notebooks. "
   ]
  }
 ],
 "metadata": {
  "kernelspec": {
   "display_name": "Python 3 (ipykernel)",
   "language": "python",
   "name": "python3"
  },
  "language_info": {
   "codemirror_mode": {
    "name": "ipython",
    "version": 3
   },
   "file_extension": ".py",
   "mimetype": "text/x-python",
   "name": "python",
   "nbconvert_exporter": "python",
   "pygments_lexer": "ipython3",
   "version": "3.10.4"
  }
 },
 "nbformat": 4,
 "nbformat_minor": 5
}
