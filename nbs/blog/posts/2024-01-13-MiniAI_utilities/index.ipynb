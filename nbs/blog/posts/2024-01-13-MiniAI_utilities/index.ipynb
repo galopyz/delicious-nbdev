{
 "cells": [
  {
   "cell_type": "raw",
   "id": "00e81f6f",
   "metadata": {},
   "source": [
    "---\n",
    "title: \"MiniAI Utilities\"\n",
    "author: \"galopy\"\n",
    "date: \"January 13, 2023\"\n",
    "toc: true\n",
    "skip_showdoc: true\n",
    "skip_exec: true\n",
    "comments:\n",
    "  utterances:\n",
    "    repo: galopyz/delicious-nbdev\n",
    "---"
   ]
  },
  {
   "cell_type": "markdown",
   "id": "04e0a553",
   "metadata": {},
   "source": [
    "# MiniAI Utilities"
   ]
  },
  {
   "cell_type": "markdown",
   "id": "6743bdf5",
   "metadata": {},
   "source": [
    "<img src=\"robot.jpg\" alt=\"Data\" width=\"420\">"
   ]
  },
  {
   "cell_type": "markdown",
   "id": "c684e40b",
   "metadata": {},
   "source": [
    "I have been taking [Part 2 of FastAI courses](https://course.fast.ai/Lessons/part2.html), which covers matrix multiplication to stable diffusion. In the course, we built MiniAI from scratch. MiniAI is a small and flexible library that makes building AI tools very easy. I am almost done with the course, and I want to share some utility functions I have built on top of MiniAI. These are very useful to me, and I hope you find it that way as well. Here's a [code](https://github.com/galopyz/course22p2/blob/master/nbs/xtras.ipynb) for this notebook."
   ]
  },
  {
   "cell_type": "markdown",
   "id": "eb60daf9",
   "metadata": {},
   "source": [
    "Some additional functionalities added to miniai. \n",
    "- When training models, output time along with loss and metrics.\n",
    "- Get data from pytorch datasets.\n",
    "- Plot weight statistics after fit using `ActivationStats`.\n",
    "- `MyNorm` is a mixture of `LayerNorm`'s simplicity and `Batchnorm`'s way of taking means/stds."
   ]
  },
  {
   "cell_type": "markdown",
   "id": "2bf0015a",
   "metadata": {},
   "source": [
    "## Import libraries"
   ]
  },
  {
   "cell_type": "markdown",
   "id": "28cebd3a",
   "metadata": {},
   "source": [
    "Let's import some libraries first. Cells that start with `#|export` are exported using [nbdev](https://nbdev.fast.ai/), which turns jupyter notebook into python script."
   ]
  },
  {
   "cell_type": "code",
   "execution_count": 25,
   "id": "3fc49521",
   "metadata": {},
   "outputs": [],
   "source": [
    "#|export\n",
    "from time import time\n",
    "from copy import copy\n",
    "from torcheval.metrics import Mean\n",
    "import torchvision, torch\n",
    "from torch import tensor, nn\n",
    "from torch.utils.data import Dataset, DataLoader\n",
    "from torchvision import datasets\n",
    "from torchvision.transforms import ToTensor\n",
    "import fastcore.all as fc\n",
    "import matplotlib.pyplot as plt\n",
    "from fastprogress import progress_bar,master_bar\n",
    "\n",
    "from miniai.datasets import *\n",
    "from miniai.conv import *\n",
    "from miniai.learner import *\n",
    "from miniai.activations import *"
   ]
  },
  {
   "cell_type": "code",
   "execution_count": 26,
   "id": "1817376c",
   "metadata": {},
   "outputs": [],
   "source": [
    "import torch\n",
    "torch.set_printoptions(precision=2, linewidth=140, sci_mode=False)\n",
    "from torcheval.metrics import MulticlassAccuracy\n",
    "import torch.nn.functional as F"
   ]
  },
  {
   "cell_type": "markdown",
   "id": "b7680b99",
   "metadata": {},
   "source": [
    "## get_dls"
   ]
  },
  {
   "cell_type": "markdown",
   "id": "705badfd",
   "metadata": {},
   "source": [
    "In FastAI's course22 part 2, we use Fashion MNIST datasets from Hugging Face. Hugging Face datasets store images with PyArrow, and we have to convert them into tensors each batch for training. Therefore, we could use `get_dls` to create `DataLoaders` from Pytorch datasets. "
   ]
  },
  {
   "cell_type": "code",
   "execution_count": 27,
   "id": "c9c92227",
   "metadata": {},
   "outputs": [],
   "source": [
    "#|export\n",
    "def batch_tfrm(img): return (ToTensor()(img) - tensor(0.29)) / tensor(0.35)"
   ]
  },
  {
   "cell_type": "code",
   "execution_count": 28,
   "id": "49e6abc0",
   "metadata": {},
   "outputs": [],
   "source": [
    "#|export\n",
    "def get_dls(bs=1024, seed=42, tfrm=batch_tfrm, num_workers=4):\n",
    "    \"\"\"Grab MNIST fasion data using pytorch dataset.\"\"\"\n",
    "    set_seed(seed)\n",
    "    bs = bs\n",
    "    trn_ds = datasets.FashionMNIST(root=\".\", train=True, download=True, transform=tfrm)\n",
    "    val_ds = datasets.FashionMNIST(root=\".\", train=False, download=True, transform=tfrm)\n",
    "    trn_dl = DataLoader(trn_ds, batch_size=bs, shuffle=True, num_workers=num_workers)\n",
    "    val_dl = DataLoader(val_ds, batch_size=bs, shuffle=False, num_workers=num_workers)\n",
    "    return DataLoaders(trn_dl, val_dl)"
   ]
  },
  {
   "cell_type": "code",
   "execution_count": 29,
   "id": "f51bff3e",
   "metadata": {},
   "outputs": [
    {
     "data": {
      "text/plain": [
       "(torch.Size([1024, 1, 28, 28]), tensor([5, 7, 4,  ..., 8, 0, 3]))"
      ]
     },
     "execution_count": 29,
     "metadata": {},
     "output_type": "execute_result"
    }
   ],
   "source": [
    "dls = get_dls()\n",
    "xb, yb = next(iter(dls.train))\n",
    "xb.shape, yb"
   ]
  },
  {
   "cell_type": "markdown",
   "id": "d74b1288",
   "metadata": {},
   "source": [
    "## format_time"
   ]
  },
  {
   "cell_type": "markdown",
   "id": "2032e5da",
   "metadata": {},
   "source": [
    "This is a function from [fastprogress](https://github.com/fastai/fastprogress). It converts seconds to mm:ss and h:mm:ss if there is an hour."
   ]
  },
  {
   "cell_type": "code",
   "execution_count": 30,
   "id": "dd0455bc",
   "metadata": {},
   "outputs": [],
   "source": [
    "#|export\n",
    "# Code from fastcore https://github.com/fastai/fastprogress/blob/master/fastprogress/core.py#L7\n",
    "def format_time(t):\n",
    "    \"Format `t` (in seconds) to (h):mm:ss\"\n",
    "    t = int(t)\n",
    "    h,m,s = t//3600, (t//60)%60, t%60\n",
    "    if h!= 0: return f'{h}:{m:02d}:{s:02d}'\n",
    "    else:     return f'{m:02d}:{s:02d}'"
   ]
  },
  {
   "cell_type": "code",
   "execution_count": 31,
   "id": "0f27ab38",
   "metadata": {},
   "outputs": [
    {
     "data": {
      "text/plain": [
       "'00:03'"
      ]
     },
     "execution_count": 31,
     "metadata": {},
     "output_type": "execute_result"
    }
   ],
   "source": [
    "format_time(3)"
   ]
  },
  {
   "cell_type": "markdown",
   "id": "8ba33dec",
   "metadata": {},
   "source": [
    "It truncates all the decimals. "
   ]
  },
  {
   "cell_type": "code",
   "execution_count": 32,
   "id": "1441ab9a",
   "metadata": {},
   "outputs": [
    {
     "data": {
      "text/plain": [
       "'00:03'"
      ]
     },
     "execution_count": 32,
     "metadata": {},
     "output_type": "execute_result"
    }
   ],
   "source": [
    "format_time(3.999)"
   ]
  },
  {
   "cell_type": "code",
   "execution_count": 33,
   "id": "6c59969c",
   "metadata": {},
   "outputs": [
    {
     "data": {
      "text/plain": [
       "'01:05'"
      ]
     },
     "execution_count": 33,
     "metadata": {},
     "output_type": "execute_result"
    }
   ],
   "source": [
    "format_time(65)"
   ]
  },
  {
   "cell_type": "code",
   "execution_count": 34,
   "id": "3d267387",
   "metadata": {},
   "outputs": [
    {
     "data": {
      "text/plain": [
       "'1:21:28'"
      ]
     },
     "execution_count": 34,
     "metadata": {},
     "output_type": "execute_result"
    }
   ],
   "source": [
    "format_time(4888)"
   ]
  },
  {
   "cell_type": "markdown",
   "id": "d4ef88f6",
   "metadata": {},
   "source": [
    "## MetricsCB"
   ]
  },
  {
   "cell_type": "markdown",
   "id": "5f78f569",
   "metadata": {},
   "source": [
    "We encountered `MetricsCB` in `09_learner.ipynb` notebook. This callback computes loss and metric functions. After epoch, it logs current epoch, whether in training or not, loss and metric values. \n",
    "\n",
    "I thought it would be useful to also add time into the callback, so I used `format_time` for that."
   ]
  },
  {
   "cell_type": "code",
   "execution_count": 35,
   "id": "3211be7d",
   "metadata": {},
   "outputs": [],
   "source": [
    "#|export\n",
    "class MetricsCB(Callback):\n",
    "    \"\"\"Added time for the original.\"\"\"\n",
    "    def __init__(self, *ms, device=def_device, **metrics):\n",
    "        for o in ms: metrics[type(o).__name__] = o\n",
    "        self.metrics = metrics\n",
    "        self.all_metrics = copy(metrics)\n",
    "        self.all_metrics['loss'] = self.loss = Mean()\n",
    "\n",
    "    def _log(self, x): print(x)\n",
    "\n",
    "    def before_fit(self, learn): learn.metrics = self\n",
    "\n",
    "    def before_epoch(self, learn):\n",
    "        for m in self.all_metrics.values(): m.reset()\n",
    "        self.start_time = time()\n",
    "\n",
    "    def after_epoch(self, learn):\n",
    "        log = {k: f'{v.compute():.3f}' for k, v in self.all_metrics.items()}\n",
    "        log['epoch'] = learn.epoch\n",
    "        log['train'] = learn.model.training\n",
    "        t = time() - self.start_time\n",
    "        log['time'] = format_time(t)\n",
    "        self._log(log)\n",
    "\n",
    "    def after_batch(self, learn):\n",
    "        x, y = learn.batch\n",
    "        for m in self.metrics.values():\n",
    "            m.update(to_cpu(learn.preds), to_cpu(y))\n",
    "        self.loss.update(to_cpu(learn.loss), weight=len(x))"
   ]
  },
  {
   "cell_type": "markdown",
   "id": "9e564996",
   "metadata": {},
   "source": [
    "Let's take a look at an example."
   ]
  },
  {
   "cell_type": "code",
   "execution_count": 36,
   "id": "f27f62cf",
   "metadata": {},
   "outputs": [],
   "source": [
    "def conv(ni, nf, ks=3, act=True):\n",
    "    res = nn.Conv2d(ni, nf, stride=2, kernel_size=ks, padding=ks//2)\n",
    "    if act: res = nn.Sequential(res, nn.ReLU())\n",
    "    return res\n",
    "\n",
    "def cnn_layers():\n",
    "    return [\n",
    "        conv(1 ,8, ks=5),        #14x14\n",
    "        conv(8 ,16),             #7x7\n",
    "        conv(16,32),             #4x4\n",
    "        conv(32,64),             #2x2\n",
    "        conv(64,10, act=False),  #1x1\n",
    "        nn.Flatten()]"
   ]
  },
  {
   "cell_type": "code",
   "execution_count": 37,
   "id": "6fd97d01",
   "metadata": {
    "scrolled": false
   },
   "outputs": [
    {
     "name": "stdout",
     "output_type": "stream",
     "text": [
      "{'accuracy': '0.298', 'loss': '2.076', 'epoch': 0, 'train': True, 'time': '00:01'}\n",
      "{'accuracy': '0.370', 'loss': '1.962', 'epoch': 0, 'train': False, 'time': '00:00'}\n",
      "{'accuracy': '0.636', 'loss': '0.972', 'epoch': 1, 'train': True, 'time': '00:01'}\n",
      "{'accuracy': '0.740', 'loss': '0.692', 'epoch': 1, 'train': False, 'time': '00:00'}\n"
     ]
    }
   ],
   "source": [
    "metrics = MetricsCB(accuracy=MulticlassAccuracy())\n",
    "cbs = [TrainCB(), DeviceCB(), metrics]\n",
    "learn = Learner(nn.Sequential(*cnn_layers()), dls, F.cross_entropy, lr=0.2, cbs=cbs)\n",
    "learn.fit(2)"
   ]
  },
  {
   "cell_type": "markdown",
   "id": "e32fe832",
   "metadata": {},
   "source": [
    "## ProgressCB"
   ]
  },
  {
   "cell_type": "markdown",
   "id": "abcfa9f7",
   "metadata": {},
   "source": [
    "Let's take a look at `ProgressCB`, which we also encountered in `09_learner.ipynb` notebook. This callback adds nice progress bar, which we can visualize the progress. It can also plot train and valid losses in different frequencies. When plot is True, `update_freq` can be `batch`, `epoch`, or `fit`. Since updating each batch is too frequent, I wanted to add some options. "
   ]
  },
  {
   "cell_type": "code",
   "execution_count": 38,
   "id": "0c522769",
   "metadata": {},
   "outputs": [],
   "source": [
    "# |export\n",
    "class ProgressCB(Callback):\n",
    "    \"\"\"\n",
    "    Plot frequency options:\n",
    "    batch: every batch\n",
    "    epoch: every epoch\n",
    "    fit: first two epochs and after fit\n",
    "    \"\"\"\n",
    "    order = MetricsCB.order+1\n",
    "    def __init__(self, plot=False, update_freq='fit', epoch_nums=2): fc.store_attr()\n",
    "    def before_fit(self, learn):\n",
    "        learn.epochs = self.mbar = master_bar(learn.epochs)\n",
    "        self.first = True\n",
    "        if hasattr(learn, 'metrics'): learn.metrics._log = self._log\n",
    "        self.losses = []\n",
    "        self.val_losses = []\n",
    "\n",
    "    def _log(self, d):\n",
    "        if self.first:\n",
    "            self.mbar.write(list(d), table=True)\n",
    "            self.first = False\n",
    "        self.mbar.write(list(d.values()), table=True)\n",
    "        \n",
    "    def _update_graph(self, learn, valid):\n",
    "        n = int(valid)\n",
    "        self.mbar.update_graph(\n",
    "            [[fc.L.range(self.losses), self.losses],\n",
    "            [fc.L.range(learn.epoch+n).map(lambda x: (x+1)*len(learn.dls.train)), self.val_losses]])\n",
    "\n",
    "    def before_epoch(self, learn): learn.dl = progress_bar(learn.dl, leave=False, parent=self.mbar)\n",
    "    def after_batch(self, learn):\n",
    "        learn.dl.comment = f'{learn.loss:.3f}'\n",
    "        if self.plot and hasattr(learn, 'metrics') and learn.training:\n",
    "            self.losses.append(learn.loss.item())\n",
    "            if self.val_losses and self.update_freq=='batch': self._update_graph(learn, valid=False)\n",
    "    \n",
    "    def after_epoch(self, learn): \n",
    "        if not learn.training:\n",
    "            if self.plot and hasattr(learn, 'metrics'): \n",
    "                self.val_losses.append(learn.metrics.all_metrics['loss'].compute())\n",
    "                if self.update_freq=='epoch' or (self.update_freq=='fit' and learn.epoch<self.epoch_nums): \n",
    "                    self._update_graph(learn, valid=True)\n",
    "\n",
    "    def after_fit(self, learn):\n",
    "        if self.plot and self.update_freq == 'fit': self._update_graph(learn, valid=True)"
   ]
  },
  {
   "cell_type": "code",
   "execution_count": 39,
   "id": "4843b15a",
   "metadata": {},
   "outputs": [
    {
     "data": {
      "text/html": [
       "\n",
       "<style>\n",
       "    /* Turns off some styling */\n",
       "    progress {\n",
       "        /* gets rid of default border in Firefox and Opera. */\n",
       "        border: none;\n",
       "        /* Needs to be in here for Safari polyfill so background images work as expected. */\n",
       "        background-size: auto;\n",
       "    }\n",
       "    progress:not([value]), progress:not([value])::-webkit-progress-bar {\n",
       "        background: repeating-linear-gradient(45deg, #7e7e7e, #7e7e7e 10px, #5c5c5c 10px, #5c5c5c 20px);\n",
       "    }\n",
       "    .progress-bar-interrupted, .progress-bar-interrupted::-webkit-progress-bar {\n",
       "        background: #F44336;\n",
       "    }\n",
       "</style>\n"
      ],
      "text/plain": [
       "<IPython.core.display.HTML object>"
      ]
     },
     "metadata": {},
     "output_type": "display_data"
    },
    {
     "data": {
      "text/html": [
       "<table border=\"1\" class=\"dataframe\">\n",
       "  <thead>\n",
       "    <tr style=\"text-align: left;\">\n",
       "      <th>accuracy</th>\n",
       "      <th>loss</th>\n",
       "      <th>epoch</th>\n",
       "      <th>train</th>\n",
       "      <th>time</th>\n",
       "    </tr>\n",
       "  </thead>\n",
       "  <tbody>\n",
       "    <tr>\n",
       "      <td>0.286</td>\n",
       "      <td>2.120</td>\n",
       "      <td>0</td>\n",
       "      <td>True</td>\n",
       "      <td>00:01</td>\n",
       "    </tr>\n",
       "    <tr>\n",
       "      <td>0.571</td>\n",
       "      <td>1.095</td>\n",
       "      <td>0</td>\n",
       "      <td>False</td>\n",
       "      <td>00:00</td>\n",
       "    </tr>\n",
       "    <tr>\n",
       "      <td>0.663</td>\n",
       "      <td>0.907</td>\n",
       "      <td>1</td>\n",
       "      <td>True</td>\n",
       "      <td>00:01</td>\n",
       "    </tr>\n",
       "    <tr>\n",
       "      <td>0.672</td>\n",
       "      <td>0.817</td>\n",
       "      <td>1</td>\n",
       "      <td>False</td>\n",
       "      <td>00:00</td>\n",
       "    </tr>\n",
       "    <tr>\n",
       "      <td>0.741</td>\n",
       "      <td>0.676</td>\n",
       "      <td>2</td>\n",
       "      <td>True</td>\n",
       "      <td>00:01</td>\n",
       "    </tr>\n",
       "    <tr>\n",
       "      <td>0.763</td>\n",
       "      <td>0.629</td>\n",
       "      <td>2</td>\n",
       "      <td>False</td>\n",
       "      <td>00:00</td>\n",
       "    </tr>\n",
       "    <tr>\n",
       "      <td>0.777</td>\n",
       "      <td>0.589</td>\n",
       "      <td>3</td>\n",
       "      <td>True</td>\n",
       "      <td>00:01</td>\n",
       "    </tr>\n",
       "    <tr>\n",
       "      <td>0.794</td>\n",
       "      <td>0.556</td>\n",
       "      <td>3</td>\n",
       "      <td>False</td>\n",
       "      <td>00:00</td>\n",
       "    </tr>\n",
       "    <tr>\n",
       "      <td>0.804</td>\n",
       "      <td>0.522</td>\n",
       "      <td>4</td>\n",
       "      <td>True</td>\n",
       "      <td>00:01</td>\n",
       "    </tr>\n",
       "    <tr>\n",
       "      <td>0.805</td>\n",
       "      <td>0.507</td>\n",
       "      <td>4</td>\n",
       "      <td>False</td>\n",
       "      <td>00:00</td>\n",
       "    </tr>\n",
       "  </tbody>\n",
       "</table>"
      ],
      "text/plain": [
       "<IPython.core.display.HTML object>"
      ]
     },
     "metadata": {},
     "output_type": "display_data"
    },
    {
     "data": {
      "image/png": "[encoded data removed]",
      "text/plain": [
       "<Figure size 600x400 with 1 Axes>"
      ]
     },
     "metadata": {},
     "output_type": "display_data"
    }
   ],
   "source": [
    "metrics = MetricsCB(accuracy=MulticlassAccuracy())\n",
    "cbs = [TrainCB(), DeviceCB(), metrics, ProgressCB(plot=True)]\n",
    "learn = Learner(nn.Sequential(*cnn_layers()), dls, F.cross_entropy, lr=0.2, cbs=cbs)\n",
    "learn.fit(5)"
   ]
  },
  {
   "cell_type": "markdown",
   "id": "f655c413",
   "metadata": {},
   "source": [
    "## ActivationStats"
   ]
  },
  {
   "cell_type": "markdown",
   "id": "cf143589",
   "metadata": {},
   "source": [
    "I only added `after_fit` to `ActivationStats`, which simply plots parameter statistics after fitting. It just saves typing."
   ]
  },
  {
   "cell_type": "code",
   "execution_count": 40,
   "id": "726c7a5b",
   "metadata": {},
   "outputs": [],
   "source": [
    "#|export\n",
    "class ActivationStats(HooksCallback):\n",
    "    \"\"\"Add after fit to plot statistics.\"\"\"\n",
    "    def __init__(self, mod_filter=fc.noop, plot=False):\n",
    "        super().__init__(append_stats, mod_filter)\n",
    "        self.plot = plot\n",
    "\n",
    "    def color_dim(self, figsize=(11,5)):\n",
    "        fig,axes = get_grid(len(self), figsize=figsize)\n",
    "        for ax,h in zip(axes.flat, self):\n",
    "            show_image(get_hist(h), ax, origin='lower')\n",
    "\n",
    "    def dead_chart(self, figsize=(11,5)):\n",
    "        fig,axes = get_grid(len(self), figsize=figsize)\n",
    "        for ax,h in zip(axes.flatten(), self):\n",
    "            ax.plot(get_min(h))\n",
    "            ax.set_ylim(0,1)\n",
    "\n",
    "    def plot_stats(self, figsize=(10,4)):\n",
    "        fig,axs = plt.subplots(1,2, figsize=figsize)\n",
    "        for h in self:\n",
    "            for i in 0,1: axs[i].plot(h.stats[i])\n",
    "        axs[0].set_title('Means')\n",
    "        axs[1].set_title('Stdevs')\n",
    "        plt.legend(fc.L.range(self))\n",
    "\n",
    "    def after_fit(self, learn):\n",
    "        if self.plot: self.plot_stats(figsize=(8, 3))\n",
    "        super().after_fit(learn)"
   ]
  },
  {
   "cell_type": "markdown",
   "id": "f1ad1e3b",
   "metadata": {},
   "source": [
    "## MyNorm"
   ]
  },
  {
   "cell_type": "markdown",
   "id": "bd0f94b9",
   "metadata": {},
   "source": [
    "`MyNorm` is a normalization technique which combines the simplicity of `LayerNorm` and calculation of mean and standard deviation like `BatchNorm`. Normalization techniquea re covered in (11_initializing.ipynb)[https://github.com/galopyz/course22p2/blob/master/nbs/11_initializing.ipynb] I tested on `14_augment.ipynb` notebook, and `MyNorm` performs as good as `nn.BatchNorm2d`. In [14_augment-Copy1](https://github.com/galopyz/course22p2/blob/master/nbs/14_augment-Copy1.ipynb), I used `BatchNorm`, `LayerNorm`, and `MyNorm` without momentum. In [14_augment-Copy2](https://github.com/galopyz/course22p2/blob/master/nbs/14_augment-Copy2.ipynb), I used `MyNorm` with momentum. In these notebooks, total time spent is not very accurate. Simply adding time for each epochs gave me much higher value."
   ]
  },
  {
   "cell_type": "code",
   "execution_count": 41,
   "id": "aee74c1b",
   "metadata": {},
   "outputs": [],
   "source": [
    "#|export\n",
    "class MyNorm(nn.Module):\n",
    "    \"\"\"Simple like layernorm but taking mean/std like batch norm.\"\"\"\n",
    "    def __init__(self, dummy, eps = 1e-4):\n",
    "        super().__init__()\n",
    "        self.eps = eps\n",
    "        self.mult = nn.Parameter(tensor(1.))\n",
    "        self.add = nn.Parameter(tensor(0.))\n",
    "    \n",
    "    def forward(self, x):\n",
    "        m = x.mean((0,2,3), keepdim=True)\n",
    "        v = x.var ((0,2,3), keepdim=True)\n",
    "        x = (x-m) / ((v+self.eps).sqrt())\n",
    "        return x*self.mult + self.add"
   ]
  },
  {
   "cell_type": "markdown",
   "id": "4d4681fc",
   "metadata": {},
   "source": [
    "This `MyNorm` has momentum like `BatchNorm`. It does not necessarily train better than one without momentum. If we do a momentum with 1, it is same as having no momentum."
   ]
  },
  {
   "cell_type": "code",
   "execution_count": 42,
   "id": "bd737fcc",
   "metadata": {},
   "outputs": [],
   "source": [
    "#|export\n",
    "class MyNorm(nn.Module):\n",
    "    \"\"\"Simple like layernorm but taking mean/std like batch norm.\n",
    "    With momentum.\"\"\"\n",
    "    def __init__(self, nf, mom=0.1, eps = 1e-4):\n",
    "        super().__init__()\n",
    "        self.mom, self.eps = mom, eps\n",
    "        self.mult = nn.Parameter(tensor(1.))\n",
    "        self.add = nn.Parameter(tensor(0.))\n",
    "        self.register_buffer('var',  torch.ones(1,nf,1,1))\n",
    "        self.register_buffer('mean', torch.zeros(1,nf,1,1))\n",
    "    \n",
    "    def update_stats(self, x):\n",
    "        m = x.mean((0,2,3), keepdim=True)\n",
    "        v = x.var ((0,2,3), keepdim=True)\n",
    "        self.mean.lerp_(m, self.mom)\n",
    "        self.var.lerp_ (v, self.mom)\n",
    "        return m,v\n",
    "\n",
    "    def forward(self, x):\n",
    "        if self.training:\n",
    "            with torch.no_grad(): m,v = self.update_stats(x)\n",
    "        else: m,v = self.mean,self.var\n",
    "        x = (x-m) / (v+self.eps).sqrt()\n",
    "        return x*self.mult + self.add"
   ]
  },
  {
   "cell_type": "markdown",
   "id": "53d7be0a",
   "metadata": {},
   "source": [
    "## Conclusion"
   ]
  },
  {
   "cell_type": "markdown",
   "id": "74ebfe35",
   "metadata": {},
   "source": [
    "We looked at some utility functions, and I found them to be very useful when I was studying the course. For instance, finding out roughly how long it took to train an epoch was helpful. `MyNorm` was fun to try out in different models. I found out that when training for 50 epochs with data augmentation, it really didn't matter which normalization technique I used. They were about the same. Therefore, it was better to use optimized Pytorch's `nn.BatchNorm2d` for speed. I hope you found these useful as well."
   ]
  },
  {
   "cell_type": "markdown",
   "id": "7700eeb0",
   "metadata": {},
   "source": []
  }
 ],
 "metadata": {
  "kernelspec": {
   "display_name": "Python 3 (ipykernel)",
   "language": "python",
   "name": "python3"
  },
  "language_info": {
   "codemirror_mode": {
    "name": "ipython",
    "version": 3
   },
   "file_extension": ".py",
   "mimetype": "text/x-python",
   "name": "python",
   "nbconvert_exporter": "python",
   "pygments_lexer": "ipython3",
   "version": "3.10.12"
  },
  "toc": {
   "base_numbering": 1,
   "nav_menu": {},
   "number_sections": true,
   "sideBar": true,
   "skip_h1_title": false,
   "title_cell": "Table of Contents",
   "title_sidebar": "Contents",
   "toc_cell": false,
   "toc_position": {},
   "toc_section_display": true,
   "toc_window_display": false
  }
 },
 "nbformat": 4,
 "nbformat_minor": 5
}
